{
 "cells": [
  {
   "cell_type": "markdown",
   "metadata": {},
   "source": [
    "**Loan Status Classification**\n",
    "Here in this notebook we take a look at the data from a bank/financial organization of all their loans. We explore various features about the borrowers like credit score, mortgage, annual income, years of employment and try to train our classifer to predict if the loan would be paid or not."
   ]
  },
  {
   "cell_type": "code",
   "execution_count": 1,
   "metadata": {},
   "outputs": [],
   "source": [
    "import pycalib\n",
    "from pycalib import metrics\n",
    "from sklearn.calibration import calibration_curve"
   ]
  },
  {
   "cell_type": "code",
   "execution_count": 2,
   "metadata": {
    "_cell_guid": "b1076dfc-b9ad-4769-8c92-a6c4dae69d19",
    "_uuid": "8f2839f25d086af736a60e9eeb907d3b93b6e0e5"
   },
   "outputs": [
    {
     "name": "stdout",
     "output_type": "stream",
     "text": [
      "['credit_test.csv', 'credit_train.csv']\n"
     ]
    }
   ],
   "source": [
    "# This Python 3 environment comes with many helpful analytics libraries installed\n",
    "# It is defined by the kaggle/python docker image: https://github.com/kaggle/docker-python\n",
    "# For example, here's several helpful packages to load in \n",
    "\n",
    "import numpy as np # linear algebra\n",
    "import pandas as pd # data processing, CSV file I/O (e.g. pd.read_csv)\n",
    "\n",
    "# Input data files are available in the \"../input/\" directory.\n",
    "# For example, running this (by clicking run or pressing Shift+Enter) will list the files in the input directory\n",
    "\n",
    "import os\n",
    "print(os.listdir(\"input\"))\n",
    "from sklearn import preprocessing\n",
    "pd.set_option('display.float_format', lambda x: '%.2f' % x)\n",
    "import matplotlib.pyplot as plt\n",
    "import seaborn as sns\n",
    "from sklearn.model_selection import train_test_split\n",
    "from sklearn.linear_model import LogisticRegression\n",
    "from sklearn.neighbors import KNeighborsClassifier\n",
    "from sklearn.metrics import accuracy_score\n",
    "from sklearn.metrics import confusion_matrix\n",
    "from xgboost import XGBClassifier\n",
    "from sklearn.linear_model import SGDClassifier\n",
    "\n",
    "# Any results you write to the current directory are saved as output."
   ]
  },
  {
   "cell_type": "code",
   "execution_count": 3,
   "metadata": {
    "_cell_guid": "79c7e3d0-c299-4dcb-8224-4455121ee9b0",
    "_uuid": "d629ff2d2480ee46fbb7e2d37f6b5fab8052498a"
   },
   "outputs": [],
   "source": [
    "dataframe = pd.read_csv('input/credit_train.csv')"
   ]
  },
  {
   "cell_type": "markdown",
   "metadata": {
    "_uuid": "3134bbf5e18d96b3d5d64ded75be3b226f901f2e"
   },
   "source": [
    "**Before starting with any analysis, we take a small peek at our data and some of the values.**"
   ]
  },
  {
   "cell_type": "code",
   "execution_count": 4,
   "metadata": {
    "_uuid": "d2a9c043caf18b354798f562f501ec87ba4ccca9"
   },
   "outputs": [
    {
     "name": "stdout",
     "output_type": "stream",
     "text": [
      "Number of rows: 100514\n",
      "Number of columns: 19\n"
     ]
    }
   ],
   "source": [
    "print(\"Number of rows:\", dataframe.shape[0])\n",
    "print(\"Number of columns:\", dataframe.shape[1])"
   ]
  },
  {
   "cell_type": "code",
   "execution_count": 5,
   "metadata": {
    "_uuid": "7e2e952aff941104ee25710e397a5249fe945f28",
    "scrolled": true
   },
   "outputs": [
    {
     "data": {
      "text/html": [
       "<div>\n",
       "<style scoped>\n",
       "    .dataframe tbody tr th:only-of-type {\n",
       "        vertical-align: middle;\n",
       "    }\n",
       "\n",
       "    .dataframe tbody tr th {\n",
       "        vertical-align: top;\n",
       "    }\n",
       "\n",
       "    .dataframe thead th {\n",
       "        text-align: right;\n",
       "    }\n",
       "</style>\n",
       "<table border=\"1\" class=\"dataframe\">\n",
       "  <thead>\n",
       "    <tr style=\"text-align: right;\">\n",
       "      <th></th>\n",
       "      <th>Loan ID</th>\n",
       "      <th>Customer ID</th>\n",
       "      <th>Loan Status</th>\n",
       "      <th>Current Loan Amount</th>\n",
       "      <th>Term</th>\n",
       "      <th>Credit Score</th>\n",
       "      <th>Annual Income</th>\n",
       "      <th>Years in current job</th>\n",
       "      <th>Home Ownership</th>\n",
       "      <th>Purpose</th>\n",
       "      <th>Monthly Debt</th>\n",
       "      <th>Years of Credit History</th>\n",
       "      <th>Months since last delinquent</th>\n",
       "      <th>Number of Open Accounts</th>\n",
       "      <th>Number of Credit Problems</th>\n",
       "      <th>Current Credit Balance</th>\n",
       "      <th>Maximum Open Credit</th>\n",
       "      <th>Bankruptcies</th>\n",
       "      <th>Tax Liens</th>\n",
       "    </tr>\n",
       "  </thead>\n",
       "  <tbody>\n",
       "    <tr>\n",
       "      <th>0</th>\n",
       "      <td>14dd8831-6af5-400b-83ec-68e61888a048</td>\n",
       "      <td>981165ec-3274-42f5-a3b4-d104041a9ca9</td>\n",
       "      <td>Fully Paid</td>\n",
       "      <td>445412.00</td>\n",
       "      <td>Short Term</td>\n",
       "      <td>709.00</td>\n",
       "      <td>1167493.00</td>\n",
       "      <td>8 years</td>\n",
       "      <td>Home Mortgage</td>\n",
       "      <td>Home Improvements</td>\n",
       "      <td>5214.74</td>\n",
       "      <td>17.20</td>\n",
       "      <td>NaN</td>\n",
       "      <td>6.00</td>\n",
       "      <td>1.00</td>\n",
       "      <td>228190.00</td>\n",
       "      <td>416746.00</td>\n",
       "      <td>1.00</td>\n",
       "      <td>0.00</td>\n",
       "    </tr>\n",
       "    <tr>\n",
       "      <th>1</th>\n",
       "      <td>4771cc26-131a-45db-b5aa-537ea4ba5342</td>\n",
       "      <td>2de017a3-2e01-49cb-a581-08169e83be29</td>\n",
       "      <td>Fully Paid</td>\n",
       "      <td>262328.00</td>\n",
       "      <td>Short Term</td>\n",
       "      <td>NaN</td>\n",
       "      <td>NaN</td>\n",
       "      <td>10+ years</td>\n",
       "      <td>Home Mortgage</td>\n",
       "      <td>Debt Consolidation</td>\n",
       "      <td>33295.98</td>\n",
       "      <td>21.10</td>\n",
       "      <td>8.00</td>\n",
       "      <td>35.00</td>\n",
       "      <td>0.00</td>\n",
       "      <td>229976.00</td>\n",
       "      <td>850784.00</td>\n",
       "      <td>0.00</td>\n",
       "      <td>0.00</td>\n",
       "    </tr>\n",
       "    <tr>\n",
       "      <th>2</th>\n",
       "      <td>4eed4e6a-aa2f-4c91-8651-ce984ee8fb26</td>\n",
       "      <td>5efb2b2b-bf11-4dfd-a572-3761a2694725</td>\n",
       "      <td>Fully Paid</td>\n",
       "      <td>99999999.00</td>\n",
       "      <td>Short Term</td>\n",
       "      <td>741.00</td>\n",
       "      <td>2231892.00</td>\n",
       "      <td>8 years</td>\n",
       "      <td>Own Home</td>\n",
       "      <td>Debt Consolidation</td>\n",
       "      <td>29200.53</td>\n",
       "      <td>14.90</td>\n",
       "      <td>29.00</td>\n",
       "      <td>18.00</td>\n",
       "      <td>1.00</td>\n",
       "      <td>297996.00</td>\n",
       "      <td>750090.00</td>\n",
       "      <td>0.00</td>\n",
       "      <td>0.00</td>\n",
       "    </tr>\n",
       "    <tr>\n",
       "      <th>3</th>\n",
       "      <td>77598f7b-32e7-4e3b-a6e5-06ba0d98fe8a</td>\n",
       "      <td>e777faab-98ae-45af-9a86-7ce5b33b1011</td>\n",
       "      <td>Fully Paid</td>\n",
       "      <td>347666.00</td>\n",
       "      <td>Long Term</td>\n",
       "      <td>721.00</td>\n",
       "      <td>806949.00</td>\n",
       "      <td>3 years</td>\n",
       "      <td>Own Home</td>\n",
       "      <td>Debt Consolidation</td>\n",
       "      <td>8741.90</td>\n",
       "      <td>12.00</td>\n",
       "      <td>NaN</td>\n",
       "      <td>9.00</td>\n",
       "      <td>0.00</td>\n",
       "      <td>256329.00</td>\n",
       "      <td>386958.00</td>\n",
       "      <td>0.00</td>\n",
       "      <td>0.00</td>\n",
       "    </tr>\n",
       "    <tr>\n",
       "      <th>4</th>\n",
       "      <td>d4062e70-befa-4995-8643-a0de73938182</td>\n",
       "      <td>81536ad9-5ccf-4eb8-befb-47a4d608658e</td>\n",
       "      <td>Fully Paid</td>\n",
       "      <td>176220.00</td>\n",
       "      <td>Short Term</td>\n",
       "      <td>NaN</td>\n",
       "      <td>NaN</td>\n",
       "      <td>5 years</td>\n",
       "      <td>Rent</td>\n",
       "      <td>Debt Consolidation</td>\n",
       "      <td>20639.70</td>\n",
       "      <td>6.10</td>\n",
       "      <td>NaN</td>\n",
       "      <td>15.00</td>\n",
       "      <td>0.00</td>\n",
       "      <td>253460.00</td>\n",
       "      <td>427174.00</td>\n",
       "      <td>0.00</td>\n",
       "      <td>0.00</td>\n",
       "    </tr>\n",
       "  </tbody>\n",
       "</table>\n",
       "</div>"
      ],
      "text/plain": [
       "                                Loan ID                           Customer ID  \\\n",
       "0  14dd8831-6af5-400b-83ec-68e61888a048  981165ec-3274-42f5-a3b4-d104041a9ca9   \n",
       "1  4771cc26-131a-45db-b5aa-537ea4ba5342  2de017a3-2e01-49cb-a581-08169e83be29   \n",
       "2  4eed4e6a-aa2f-4c91-8651-ce984ee8fb26  5efb2b2b-bf11-4dfd-a572-3761a2694725   \n",
       "3  77598f7b-32e7-4e3b-a6e5-06ba0d98fe8a  e777faab-98ae-45af-9a86-7ce5b33b1011   \n",
       "4  d4062e70-befa-4995-8643-a0de73938182  81536ad9-5ccf-4eb8-befb-47a4d608658e   \n",
       "\n",
       "  Loan Status  Current Loan Amount        Term  Credit Score  Annual Income  \\\n",
       "0  Fully Paid            445412.00  Short Term        709.00     1167493.00   \n",
       "1  Fully Paid            262328.00  Short Term           NaN            NaN   \n",
       "2  Fully Paid          99999999.00  Short Term        741.00     2231892.00   \n",
       "3  Fully Paid            347666.00   Long Term        721.00      806949.00   \n",
       "4  Fully Paid            176220.00  Short Term           NaN            NaN   \n",
       "\n",
       "  Years in current job Home Ownership             Purpose  Monthly Debt  \\\n",
       "0              8 years  Home Mortgage   Home Improvements       5214.74   \n",
       "1            10+ years  Home Mortgage  Debt Consolidation      33295.98   \n",
       "2              8 years       Own Home  Debt Consolidation      29200.53   \n",
       "3              3 years       Own Home  Debt Consolidation       8741.90   \n",
       "4              5 years           Rent  Debt Consolidation      20639.70   \n",
       "\n",
       "   Years of Credit History  Months since last delinquent  \\\n",
       "0                    17.20                           NaN   \n",
       "1                    21.10                          8.00   \n",
       "2                    14.90                         29.00   \n",
       "3                    12.00                           NaN   \n",
       "4                     6.10                           NaN   \n",
       "\n",
       "   Number of Open Accounts  Number of Credit Problems  Current Credit Balance  \\\n",
       "0                     6.00                       1.00               228190.00   \n",
       "1                    35.00                       0.00               229976.00   \n",
       "2                    18.00                       1.00               297996.00   \n",
       "3                     9.00                       0.00               256329.00   \n",
       "4                    15.00                       0.00               253460.00   \n",
       "\n",
       "   Maximum Open Credit  Bankruptcies  Tax Liens  \n",
       "0            416746.00          1.00       0.00  \n",
       "1            850784.00          0.00       0.00  \n",
       "2            750090.00          0.00       0.00  \n",
       "3            386958.00          0.00       0.00  \n",
       "4            427174.00          0.00       0.00  "
      ]
     },
     "execution_count": 5,
     "metadata": {},
     "output_type": "execute_result"
    }
   ],
   "source": [
    "dataframe.head()"
   ]
  },
  {
   "cell_type": "code",
   "execution_count": 6,
   "metadata": {},
   "outputs": [
    {
     "data": {
      "text/plain": [
       "100514"
      ]
     },
     "execution_count": 6,
     "metadata": {},
     "output_type": "execute_result"
    }
   ],
   "source": [
    "len(dataframe)"
   ]
  },
  {
   "cell_type": "code",
   "execution_count": 7,
   "metadata": {
    "_uuid": "4298fda175e9aa7bf9b7eb12dee3aed3d87324eb",
    "scrolled": true
   },
   "outputs": [
    {
     "data": {
      "text/html": [
       "<div>\n",
       "<style scoped>\n",
       "    .dataframe tbody tr th:only-of-type {\n",
       "        vertical-align: middle;\n",
       "    }\n",
       "\n",
       "    .dataframe tbody tr th {\n",
       "        vertical-align: top;\n",
       "    }\n",
       "\n",
       "    .dataframe thead th {\n",
       "        text-align: right;\n",
       "    }\n",
       "</style>\n",
       "<table border=\"1\" class=\"dataframe\">\n",
       "  <thead>\n",
       "    <tr style=\"text-align: right;\">\n",
       "      <th></th>\n",
       "      <th>Current Loan Amount</th>\n",
       "      <th>Credit Score</th>\n",
       "      <th>Annual Income</th>\n",
       "      <th>Monthly Debt</th>\n",
       "      <th>Years of Credit History</th>\n",
       "      <th>Months since last delinquent</th>\n",
       "      <th>Number of Open Accounts</th>\n",
       "      <th>Number of Credit Problems</th>\n",
       "      <th>Current Credit Balance</th>\n",
       "      <th>Maximum Open Credit</th>\n",
       "      <th>Bankruptcies</th>\n",
       "      <th>Tax Liens</th>\n",
       "    </tr>\n",
       "  </thead>\n",
       "  <tbody>\n",
       "    <tr>\n",
       "      <th>count</th>\n",
       "      <td>100000.00</td>\n",
       "      <td>80846.00</td>\n",
       "      <td>80846.00</td>\n",
       "      <td>100000.00</td>\n",
       "      <td>100000.00</td>\n",
       "      <td>46859.00</td>\n",
       "      <td>100000.00</td>\n",
       "      <td>100000.00</td>\n",
       "      <td>100000.00</td>\n",
       "      <td>99998.00</td>\n",
       "      <td>99796.00</td>\n",
       "      <td>99990.00</td>\n",
       "    </tr>\n",
       "    <tr>\n",
       "      <th>mean</th>\n",
       "      <td>11760447.39</td>\n",
       "      <td>1076.46</td>\n",
       "      <td>1378276.56</td>\n",
       "      <td>18472.41</td>\n",
       "      <td>18.20</td>\n",
       "      <td>34.90</td>\n",
       "      <td>11.13</td>\n",
       "      <td>0.17</td>\n",
       "      <td>294637.38</td>\n",
       "      <td>760798.38</td>\n",
       "      <td>0.12</td>\n",
       "      <td>0.03</td>\n",
       "    </tr>\n",
       "    <tr>\n",
       "      <th>std</th>\n",
       "      <td>31783942.55</td>\n",
       "      <td>1475.40</td>\n",
       "      <td>1081360.20</td>\n",
       "      <td>12174.99</td>\n",
       "      <td>7.02</td>\n",
       "      <td>22.00</td>\n",
       "      <td>5.01</td>\n",
       "      <td>0.48</td>\n",
       "      <td>376170.93</td>\n",
       "      <td>8384503.47</td>\n",
       "      <td>0.35</td>\n",
       "      <td>0.26</td>\n",
       "    </tr>\n",
       "    <tr>\n",
       "      <th>min</th>\n",
       "      <td>10802.00</td>\n",
       "      <td>585.00</td>\n",
       "      <td>76627.00</td>\n",
       "      <td>0.00</td>\n",
       "      <td>3.60</td>\n",
       "      <td>0.00</td>\n",
       "      <td>0.00</td>\n",
       "      <td>0.00</td>\n",
       "      <td>0.00</td>\n",
       "      <td>0.00</td>\n",
       "      <td>0.00</td>\n",
       "      <td>0.00</td>\n",
       "    </tr>\n",
       "    <tr>\n",
       "      <th>25%</th>\n",
       "      <td>179652.00</td>\n",
       "      <td>705.00</td>\n",
       "      <td>848844.00</td>\n",
       "      <td>10214.16</td>\n",
       "      <td>13.50</td>\n",
       "      <td>16.00</td>\n",
       "      <td>8.00</td>\n",
       "      <td>0.00</td>\n",
       "      <td>112670.00</td>\n",
       "      <td>273438.00</td>\n",
       "      <td>0.00</td>\n",
       "      <td>0.00</td>\n",
       "    </tr>\n",
       "    <tr>\n",
       "      <th>50%</th>\n",
       "      <td>312246.00</td>\n",
       "      <td>724.00</td>\n",
       "      <td>1174162.00</td>\n",
       "      <td>16220.30</td>\n",
       "      <td>16.90</td>\n",
       "      <td>32.00</td>\n",
       "      <td>10.00</td>\n",
       "      <td>0.00</td>\n",
       "      <td>209817.00</td>\n",
       "      <td>467874.00</td>\n",
       "      <td>0.00</td>\n",
       "      <td>0.00</td>\n",
       "    </tr>\n",
       "    <tr>\n",
       "      <th>75%</th>\n",
       "      <td>524942.00</td>\n",
       "      <td>741.00</td>\n",
       "      <td>1650663.00</td>\n",
       "      <td>24012.06</td>\n",
       "      <td>21.70</td>\n",
       "      <td>51.00</td>\n",
       "      <td>14.00</td>\n",
       "      <td>0.00</td>\n",
       "      <td>367958.75</td>\n",
       "      <td>782958.00</td>\n",
       "      <td>0.00</td>\n",
       "      <td>0.00</td>\n",
       "    </tr>\n",
       "    <tr>\n",
       "      <th>max</th>\n",
       "      <td>99999999.00</td>\n",
       "      <td>7510.00</td>\n",
       "      <td>165557393.00</td>\n",
       "      <td>435843.28</td>\n",
       "      <td>70.50</td>\n",
       "      <td>176.00</td>\n",
       "      <td>76.00</td>\n",
       "      <td>15.00</td>\n",
       "      <td>32878968.00</td>\n",
       "      <td>1539737892.00</td>\n",
       "      <td>7.00</td>\n",
       "      <td>15.00</td>\n",
       "    </tr>\n",
       "  </tbody>\n",
       "</table>\n",
       "</div>"
      ],
      "text/plain": [
       "       Current Loan Amount  Credit Score  Annual Income  Monthly Debt  \\\n",
       "count            100000.00      80846.00       80846.00     100000.00   \n",
       "mean           11760447.39       1076.46     1378276.56      18472.41   \n",
       "std            31783942.55       1475.40     1081360.20      12174.99   \n",
       "min               10802.00        585.00       76627.00          0.00   \n",
       "25%              179652.00        705.00      848844.00      10214.16   \n",
       "50%              312246.00        724.00     1174162.00      16220.30   \n",
       "75%              524942.00        741.00     1650663.00      24012.06   \n",
       "max            99999999.00       7510.00   165557393.00     435843.28   \n",
       "\n",
       "       Years of Credit History  Months since last delinquent  \\\n",
       "count                100000.00                      46859.00   \n",
       "mean                     18.20                         34.90   \n",
       "std                       7.02                         22.00   \n",
       "min                       3.60                          0.00   \n",
       "25%                      13.50                         16.00   \n",
       "50%                      16.90                         32.00   \n",
       "75%                      21.70                         51.00   \n",
       "max                      70.50                        176.00   \n",
       "\n",
       "       Number of Open Accounts  Number of Credit Problems  \\\n",
       "count                100000.00                  100000.00   \n",
       "mean                     11.13                       0.17   \n",
       "std                       5.01                       0.48   \n",
       "min                       0.00                       0.00   \n",
       "25%                       8.00                       0.00   \n",
       "50%                      10.00                       0.00   \n",
       "75%                      14.00                       0.00   \n",
       "max                      76.00                      15.00   \n",
       "\n",
       "       Current Credit Balance  Maximum Open Credit  Bankruptcies  Tax Liens  \n",
       "count               100000.00             99998.00      99796.00   99990.00  \n",
       "mean                294637.38            760798.38          0.12       0.03  \n",
       "std                 376170.93           8384503.47          0.35       0.26  \n",
       "min                      0.00                 0.00          0.00       0.00  \n",
       "25%                 112670.00            273438.00          0.00       0.00  \n",
       "50%                 209817.00            467874.00          0.00       0.00  \n",
       "75%                 367958.75            782958.00          0.00       0.00  \n",
       "max               32878968.00        1539737892.00          7.00      15.00  "
      ]
     },
     "execution_count": 7,
     "metadata": {},
     "output_type": "execute_result"
    }
   ],
   "source": [
    "dataframe.describe()"
   ]
  },
  {
   "cell_type": "markdown",
   "metadata": {
    "_uuid": "b105901886ffc4ef4b319db83beef03baac1f97d"
   },
   "source": [
    "Here, we see something strange. If you notice the average credit scoe is 1076+ which is strange considering the credit score are within th range of 300-850. Let's take a look and try to find sense of the credit score data and check if there are any score that are greater than 800."
   ]
  },
  {
   "cell_type": "code",
   "execution_count": 8,
   "metadata": {
    "_uuid": "c9ce9c889b5c047e4b3817e4102bb04e23a580ba",
    "scrolled": true
   },
   "outputs": [
    {
     "data": {
      "text/html": [
       "<div>\n",
       "<style scoped>\n",
       "    .dataframe tbody tr th:only-of-type {\n",
       "        vertical-align: middle;\n",
       "    }\n",
       "\n",
       "    .dataframe tbody tr th {\n",
       "        vertical-align: top;\n",
       "    }\n",
       "\n",
       "    .dataframe thead th {\n",
       "        text-align: right;\n",
       "    }\n",
       "</style>\n",
       "<table border=\"1\" class=\"dataframe\">\n",
       "  <thead>\n",
       "    <tr style=\"text-align: right;\">\n",
       "      <th></th>\n",
       "      <th>Loan ID</th>\n",
       "      <th>Customer ID</th>\n",
       "      <th>Loan Status</th>\n",
       "      <th>Current Loan Amount</th>\n",
       "      <th>Term</th>\n",
       "      <th>Credit Score</th>\n",
       "      <th>Annual Income</th>\n",
       "      <th>Years in current job</th>\n",
       "      <th>Home Ownership</th>\n",
       "      <th>Purpose</th>\n",
       "      <th>Monthly Debt</th>\n",
       "      <th>Years of Credit History</th>\n",
       "      <th>Months since last delinquent</th>\n",
       "      <th>Number of Open Accounts</th>\n",
       "      <th>Number of Credit Problems</th>\n",
       "      <th>Current Credit Balance</th>\n",
       "      <th>Maximum Open Credit</th>\n",
       "      <th>Bankruptcies</th>\n",
       "      <th>Tax Liens</th>\n",
       "    </tr>\n",
       "  </thead>\n",
       "  <tbody>\n",
       "    <tr>\n",
       "      <th>5</th>\n",
       "      <td>89d8cb0c-e5c2-4f54-b056-48a645c543dd</td>\n",
       "      <td>4ffe99d3-7f2a-44db-afc1-40943f1f9750</td>\n",
       "      <td>Charged Off</td>\n",
       "      <td>206602.00</td>\n",
       "      <td>Short Term</td>\n",
       "      <td>7290.00</td>\n",
       "      <td>896857.00</td>\n",
       "      <td>10+ years</td>\n",
       "      <td>Home Mortgage</td>\n",
       "      <td>Debt Consolidation</td>\n",
       "      <td>16367.74</td>\n",
       "      <td>17.30</td>\n",
       "      <td>NaN</td>\n",
       "      <td>6.00</td>\n",
       "      <td>0.00</td>\n",
       "      <td>215308.00</td>\n",
       "      <td>272448.00</td>\n",
       "      <td>0.00</td>\n",
       "      <td>0.00</td>\n",
       "    </tr>\n",
       "    <tr>\n",
       "      <th>43</th>\n",
       "      <td>0c84b81a-e5a9-4a92-8dc8-fb179add03a4</td>\n",
       "      <td>628b0914-b1d7-4028-b590-b50f5da53d06</td>\n",
       "      <td>Charged Off</td>\n",
       "      <td>288948.00</td>\n",
       "      <td>Short Term</td>\n",
       "      <td>7120.00</td>\n",
       "      <td>537472.00</td>\n",
       "      <td>10+ years</td>\n",
       "      <td>Rent</td>\n",
       "      <td>Debt Consolidation</td>\n",
       "      <td>5777.90</td>\n",
       "      <td>14.80</td>\n",
       "      <td>NaN</td>\n",
       "      <td>4.00</td>\n",
       "      <td>0.00</td>\n",
       "      <td>132468.00</td>\n",
       "      <td>164406.00</td>\n",
       "      <td>0.00</td>\n",
       "      <td>0.00</td>\n",
       "    </tr>\n",
       "    <tr>\n",
       "      <th>51</th>\n",
       "      <td>0daecc08-0354-4753-b282-52124b2420df</td>\n",
       "      <td>2884d362-391a-4941-af69-c825cae18002</td>\n",
       "      <td>Charged Off</td>\n",
       "      <td>219692.00</td>\n",
       "      <td>Long Term</td>\n",
       "      <td>6610.00</td>\n",
       "      <td>527839.00</td>\n",
       "      <td>10+ years</td>\n",
       "      <td>Rent</td>\n",
       "      <td>Debt Consolidation</td>\n",
       "      <td>14207.63</td>\n",
       "      <td>17.00</td>\n",
       "      <td>48.00</td>\n",
       "      <td>9.00</td>\n",
       "      <td>0.00</td>\n",
       "      <td>254277.00</td>\n",
       "      <td>379918.00</td>\n",
       "      <td>0.00</td>\n",
       "      <td>0.00</td>\n",
       "    </tr>\n",
       "    <tr>\n",
       "      <th>56</th>\n",
       "      <td>a5ada080-a058-4ad2-8953-002b7ec1ae31</td>\n",
       "      <td>9966e08c-04a6-41ab-86d0-e4062c64bd41</td>\n",
       "      <td>Charged Off</td>\n",
       "      <td>78012.00</td>\n",
       "      <td>Short Term</td>\n",
       "      <td>7380.00</td>\n",
       "      <td>728726.00</td>\n",
       "      <td>4 years</td>\n",
       "      <td>Rent</td>\n",
       "      <td>major_purchase</td>\n",
       "      <td>10135.36</td>\n",
       "      <td>11.40</td>\n",
       "      <td>NaN</td>\n",
       "      <td>8.00</td>\n",
       "      <td>0.00</td>\n",
       "      <td>104633.00</td>\n",
       "      <td>199936.00</td>\n",
       "      <td>0.00</td>\n",
       "      <td>0.00</td>\n",
       "    </tr>\n",
       "    <tr>\n",
       "      <th>65</th>\n",
       "      <td>1704367e-1d71-4551-8d33-49aa15cab4b1</td>\n",
       "      <td>88f97adf-070a-47b1-9657-38276eef7d19</td>\n",
       "      <td>Charged Off</td>\n",
       "      <td>523908.00</td>\n",
       "      <td>Long Term</td>\n",
       "      <td>7370.00</td>\n",
       "      <td>1028774.00</td>\n",
       "      <td>6 years</td>\n",
       "      <td>Home Mortgage</td>\n",
       "      <td>Debt Consolidation</td>\n",
       "      <td>22632.99</td>\n",
       "      <td>19.30</td>\n",
       "      <td>NaN</td>\n",
       "      <td>5.00</td>\n",
       "      <td>0.00</td>\n",
       "      <td>474658.00</td>\n",
       "      <td>742720.00</td>\n",
       "      <td>0.00</td>\n",
       "      <td>0.00</td>\n",
       "    </tr>\n",
       "  </tbody>\n",
       "</table>\n",
       "</div>"
      ],
      "text/plain": [
       "                                 Loan ID  \\\n",
       "5   89d8cb0c-e5c2-4f54-b056-48a645c543dd   \n",
       "43  0c84b81a-e5a9-4a92-8dc8-fb179add03a4   \n",
       "51  0daecc08-0354-4753-b282-52124b2420df   \n",
       "56  a5ada080-a058-4ad2-8953-002b7ec1ae31   \n",
       "65  1704367e-1d71-4551-8d33-49aa15cab4b1   \n",
       "\n",
       "                             Customer ID  Loan Status  Current Loan Amount  \\\n",
       "5   4ffe99d3-7f2a-44db-afc1-40943f1f9750  Charged Off            206602.00   \n",
       "43  628b0914-b1d7-4028-b590-b50f5da53d06  Charged Off            288948.00   \n",
       "51  2884d362-391a-4941-af69-c825cae18002  Charged Off            219692.00   \n",
       "56  9966e08c-04a6-41ab-86d0-e4062c64bd41  Charged Off             78012.00   \n",
       "65  88f97adf-070a-47b1-9657-38276eef7d19  Charged Off            523908.00   \n",
       "\n",
       "          Term  Credit Score  Annual Income Years in current job  \\\n",
       "5   Short Term       7290.00      896857.00            10+ years   \n",
       "43  Short Term       7120.00      537472.00            10+ years   \n",
       "51   Long Term       6610.00      527839.00            10+ years   \n",
       "56  Short Term       7380.00      728726.00              4 years   \n",
       "65   Long Term       7370.00     1028774.00              6 years   \n",
       "\n",
       "   Home Ownership             Purpose  Monthly Debt  Years of Credit History  \\\n",
       "5   Home Mortgage  Debt Consolidation      16367.74                    17.30   \n",
       "43           Rent  Debt Consolidation       5777.90                    14.80   \n",
       "51           Rent  Debt Consolidation      14207.63                    17.00   \n",
       "56           Rent      major_purchase      10135.36                    11.40   \n",
       "65  Home Mortgage  Debt Consolidation      22632.99                    19.30   \n",
       "\n",
       "    Months since last delinquent  Number of Open Accounts  \\\n",
       "5                            NaN                     6.00   \n",
       "43                           NaN                     4.00   \n",
       "51                         48.00                     9.00   \n",
       "56                           NaN                     8.00   \n",
       "65                           NaN                     5.00   \n",
       "\n",
       "    Number of Credit Problems  Current Credit Balance  Maximum Open Credit  \\\n",
       "5                        0.00               215308.00            272448.00   \n",
       "43                       0.00               132468.00            164406.00   \n",
       "51                       0.00               254277.00            379918.00   \n",
       "56                       0.00               104633.00            199936.00   \n",
       "65                       0.00               474658.00            742720.00   \n",
       "\n",
       "    Bankruptcies  Tax Liens  \n",
       "5           0.00       0.00  \n",
       "43          0.00       0.00  \n",
       "51          0.00       0.00  \n",
       "56          0.00       0.00  \n",
       "65          0.00       0.00  "
      ]
     },
     "execution_count": 8,
     "metadata": {},
     "output_type": "execute_result"
    }
   ],
   "source": [
    "df = dataframe[dataframe['Credit Score']>800]\n",
    "df.head()"
   ]
  },
  {
   "cell_type": "markdown",
   "metadata": {
    "_uuid": "b62aafe077e20a00f68fcee8a32062cda5a01eae"
   },
   "source": [
    "As we can see, it looks like some of the credit score are just scaled up by 10. For the ease of our calculation we can consider, scaling them back is accurate."
   ]
  },
  {
   "cell_type": "code",
   "execution_count": 9,
   "metadata": {
    "_uuid": "9e576d1dabe086a33d1650acf2431b3d9e384f1e"
   },
   "outputs": [],
   "source": [
    "dataframe['Credit Score'] = dataframe['Credit Score'].apply(lambda val: (val /10) if val>850 else val)"
   ]
  },
  {
   "cell_type": "code",
   "execution_count": 10,
   "metadata": {
    "_uuid": "493e7e09df577bfb5183d3c6f0a8898e2b581781"
   },
   "outputs": [
    {
     "data": {
      "text/html": [
       "<div>\n",
       "<style scoped>\n",
       "    .dataframe tbody tr th:only-of-type {\n",
       "        vertical-align: middle;\n",
       "    }\n",
       "\n",
       "    .dataframe tbody tr th {\n",
       "        vertical-align: top;\n",
       "    }\n",
       "\n",
       "    .dataframe thead th {\n",
       "        text-align: right;\n",
       "    }\n",
       "</style>\n",
       "<table border=\"1\" class=\"dataframe\">\n",
       "  <thead>\n",
       "    <tr style=\"text-align: right;\">\n",
       "      <th></th>\n",
       "      <th>Current Loan Amount</th>\n",
       "      <th>Credit Score</th>\n",
       "      <th>Annual Income</th>\n",
       "      <th>Monthly Debt</th>\n",
       "      <th>Years of Credit History</th>\n",
       "      <th>Months since last delinquent</th>\n",
       "      <th>Number of Open Accounts</th>\n",
       "      <th>Number of Credit Problems</th>\n",
       "      <th>Current Credit Balance</th>\n",
       "      <th>Maximum Open Credit</th>\n",
       "      <th>Bankruptcies</th>\n",
       "      <th>Tax Liens</th>\n",
       "    </tr>\n",
       "  </thead>\n",
       "  <tbody>\n",
       "    <tr>\n",
       "      <th>count</th>\n",
       "      <td>100000.00</td>\n",
       "      <td>80846.00</td>\n",
       "      <td>80846.00</td>\n",
       "      <td>100000.00</td>\n",
       "      <td>100000.00</td>\n",
       "      <td>46859.00</td>\n",
       "      <td>100000.00</td>\n",
       "      <td>100000.00</td>\n",
       "      <td>100000.00</td>\n",
       "      <td>99998.00</td>\n",
       "      <td>99796.00</td>\n",
       "      <td>99990.00</td>\n",
       "    </tr>\n",
       "    <tr>\n",
       "      <th>mean</th>\n",
       "      <td>11760447.39</td>\n",
       "      <td>716.29</td>\n",
       "      <td>1378276.56</td>\n",
       "      <td>18472.41</td>\n",
       "      <td>18.20</td>\n",
       "      <td>34.90</td>\n",
       "      <td>11.13</td>\n",
       "      <td>0.17</td>\n",
       "      <td>294637.38</td>\n",
       "      <td>760798.38</td>\n",
       "      <td>0.12</td>\n",
       "      <td>0.03</td>\n",
       "    </tr>\n",
       "    <tr>\n",
       "      <th>std</th>\n",
       "      <td>31783942.55</td>\n",
       "      <td>28.30</td>\n",
       "      <td>1081360.20</td>\n",
       "      <td>12174.99</td>\n",
       "      <td>7.02</td>\n",
       "      <td>22.00</td>\n",
       "      <td>5.01</td>\n",
       "      <td>0.48</td>\n",
       "      <td>376170.93</td>\n",
       "      <td>8384503.47</td>\n",
       "      <td>0.35</td>\n",
       "      <td>0.26</td>\n",
       "    </tr>\n",
       "    <tr>\n",
       "      <th>min</th>\n",
       "      <td>10802.00</td>\n",
       "      <td>585.00</td>\n",
       "      <td>76627.00</td>\n",
       "      <td>0.00</td>\n",
       "      <td>3.60</td>\n",
       "      <td>0.00</td>\n",
       "      <td>0.00</td>\n",
       "      <td>0.00</td>\n",
       "      <td>0.00</td>\n",
       "      <td>0.00</td>\n",
       "      <td>0.00</td>\n",
       "      <td>0.00</td>\n",
       "    </tr>\n",
       "    <tr>\n",
       "      <th>25%</th>\n",
       "      <td>179652.00</td>\n",
       "      <td>703.00</td>\n",
       "      <td>848844.00</td>\n",
       "      <td>10214.16</td>\n",
       "      <td>13.50</td>\n",
       "      <td>16.00</td>\n",
       "      <td>8.00</td>\n",
       "      <td>0.00</td>\n",
       "      <td>112670.00</td>\n",
       "      <td>273438.00</td>\n",
       "      <td>0.00</td>\n",
       "      <td>0.00</td>\n",
       "    </tr>\n",
       "    <tr>\n",
       "      <th>50%</th>\n",
       "      <td>312246.00</td>\n",
       "      <td>722.00</td>\n",
       "      <td>1174162.00</td>\n",
       "      <td>16220.30</td>\n",
       "      <td>16.90</td>\n",
       "      <td>32.00</td>\n",
       "      <td>10.00</td>\n",
       "      <td>0.00</td>\n",
       "      <td>209817.00</td>\n",
       "      <td>467874.00</td>\n",
       "      <td>0.00</td>\n",
       "      <td>0.00</td>\n",
       "    </tr>\n",
       "    <tr>\n",
       "      <th>75%</th>\n",
       "      <td>524942.00</td>\n",
       "      <td>738.00</td>\n",
       "      <td>1650663.00</td>\n",
       "      <td>24012.06</td>\n",
       "      <td>21.70</td>\n",
       "      <td>51.00</td>\n",
       "      <td>14.00</td>\n",
       "      <td>0.00</td>\n",
       "      <td>367958.75</td>\n",
       "      <td>782958.00</td>\n",
       "      <td>0.00</td>\n",
       "      <td>0.00</td>\n",
       "    </tr>\n",
       "    <tr>\n",
       "      <th>max</th>\n",
       "      <td>99999999.00</td>\n",
       "      <td>751.00</td>\n",
       "      <td>165557393.00</td>\n",
       "      <td>435843.28</td>\n",
       "      <td>70.50</td>\n",
       "      <td>176.00</td>\n",
       "      <td>76.00</td>\n",
       "      <td>15.00</td>\n",
       "      <td>32878968.00</td>\n",
       "      <td>1539737892.00</td>\n",
       "      <td>7.00</td>\n",
       "      <td>15.00</td>\n",
       "    </tr>\n",
       "  </tbody>\n",
       "</table>\n",
       "</div>"
      ],
      "text/plain": [
       "       Current Loan Amount  Credit Score  Annual Income  Monthly Debt  \\\n",
       "count            100000.00      80846.00       80846.00     100000.00   \n",
       "mean           11760447.39        716.29     1378276.56      18472.41   \n",
       "std            31783942.55         28.30     1081360.20      12174.99   \n",
       "min               10802.00        585.00       76627.00          0.00   \n",
       "25%              179652.00        703.00      848844.00      10214.16   \n",
       "50%              312246.00        722.00     1174162.00      16220.30   \n",
       "75%              524942.00        738.00     1650663.00      24012.06   \n",
       "max            99999999.00        751.00   165557393.00     435843.28   \n",
       "\n",
       "       Years of Credit History  Months since last delinquent  \\\n",
       "count                100000.00                      46859.00   \n",
       "mean                     18.20                         34.90   \n",
       "std                       7.02                         22.00   \n",
       "min                       3.60                          0.00   \n",
       "25%                      13.50                         16.00   \n",
       "50%                      16.90                         32.00   \n",
       "75%                      21.70                         51.00   \n",
       "max                      70.50                        176.00   \n",
       "\n",
       "       Number of Open Accounts  Number of Credit Problems  \\\n",
       "count                100000.00                  100000.00   \n",
       "mean                     11.13                       0.17   \n",
       "std                       5.01                       0.48   \n",
       "min                       0.00                       0.00   \n",
       "25%                       8.00                       0.00   \n",
       "50%                      10.00                       0.00   \n",
       "75%                      14.00                       0.00   \n",
       "max                      76.00                      15.00   \n",
       "\n",
       "       Current Credit Balance  Maximum Open Credit  Bankruptcies  Tax Liens  \n",
       "count               100000.00             99998.00      99796.00   99990.00  \n",
       "mean                294637.38            760798.38          0.12       0.03  \n",
       "std                 376170.93           8384503.47          0.35       0.26  \n",
       "min                      0.00                 0.00          0.00       0.00  \n",
       "25%                 112670.00            273438.00          0.00       0.00  \n",
       "50%                 209817.00            467874.00          0.00       0.00  \n",
       "75%                 367958.75            782958.00          0.00       0.00  \n",
       "max               32878968.00        1539737892.00          7.00      15.00  "
      ]
     },
     "execution_count": 10,
     "metadata": {},
     "output_type": "execute_result"
    }
   ],
   "source": [
    "dataframe.describe()"
   ]
  },
  {
   "cell_type": "markdown",
   "metadata": {
    "_uuid": "bfc9b5d3f5684d886cd8103811d66bc251ae96f4"
   },
   "source": [
    "Now we can see our average credit score is within a normal credit score range so we can go further with our preprocessing."
   ]
  },
  {
   "cell_type": "code",
   "execution_count": 11,
   "metadata": {
    "_uuid": "f330fdc8b22de1dd8e295c0b40c3ddb5aeab8c11"
   },
   "outputs": [
    {
     "data": {
      "text/html": [
       "<div>\n",
       "<style scoped>\n",
       "    .dataframe tbody tr th:only-of-type {\n",
       "        vertical-align: middle;\n",
       "    }\n",
       "\n",
       "    .dataframe tbody tr th {\n",
       "        vertical-align: top;\n",
       "    }\n",
       "\n",
       "    .dataframe thead th {\n",
       "        text-align: right;\n",
       "    }\n",
       "</style>\n",
       "<table border=\"1\" class=\"dataframe\">\n",
       "  <thead>\n",
       "    <tr style=\"text-align: right;\">\n",
       "      <th></th>\n",
       "      <th>Loan ID</th>\n",
       "      <th>Customer ID</th>\n",
       "      <th>Loan Status</th>\n",
       "      <th>Current Loan Amount</th>\n",
       "      <th>Term</th>\n",
       "      <th>Credit Score</th>\n",
       "      <th>Annual Income</th>\n",
       "      <th>Years in current job</th>\n",
       "      <th>Home Ownership</th>\n",
       "      <th>Purpose</th>\n",
       "      <th>Monthly Debt</th>\n",
       "      <th>Years of Credit History</th>\n",
       "      <th>Months since last delinquent</th>\n",
       "      <th>Number of Open Accounts</th>\n",
       "      <th>Number of Credit Problems</th>\n",
       "      <th>Current Credit Balance</th>\n",
       "      <th>Maximum Open Credit</th>\n",
       "      <th>Bankruptcies</th>\n",
       "      <th>Tax Liens</th>\n",
       "    </tr>\n",
       "  </thead>\n",
       "  <tbody>\n",
       "    <tr>\n",
       "      <th>0</th>\n",
       "      <td>14dd8831-6af5-400b-83ec-68e61888a048</td>\n",
       "      <td>981165ec-3274-42f5-a3b4-d104041a9ca9</td>\n",
       "      <td>Fully Paid</td>\n",
       "      <td>445412.00</td>\n",
       "      <td>Short Term</td>\n",
       "      <td>709.00</td>\n",
       "      <td>1167493.00</td>\n",
       "      <td>8 years</td>\n",
       "      <td>Home Mortgage</td>\n",
       "      <td>Home Improvements</td>\n",
       "      <td>5214.74</td>\n",
       "      <td>17.20</td>\n",
       "      <td>NaN</td>\n",
       "      <td>6.00</td>\n",
       "      <td>1.00</td>\n",
       "      <td>228190.00</td>\n",
       "      <td>416746.00</td>\n",
       "      <td>1.00</td>\n",
       "      <td>0.00</td>\n",
       "    </tr>\n",
       "    <tr>\n",
       "      <th>1</th>\n",
       "      <td>4771cc26-131a-45db-b5aa-537ea4ba5342</td>\n",
       "      <td>2de017a3-2e01-49cb-a581-08169e83be29</td>\n",
       "      <td>Fully Paid</td>\n",
       "      <td>262328.00</td>\n",
       "      <td>Short Term</td>\n",
       "      <td>NaN</td>\n",
       "      <td>NaN</td>\n",
       "      <td>10+ years</td>\n",
       "      <td>Home Mortgage</td>\n",
       "      <td>Debt Consolidation</td>\n",
       "      <td>33295.98</td>\n",
       "      <td>21.10</td>\n",
       "      <td>8.00</td>\n",
       "      <td>35.00</td>\n",
       "      <td>0.00</td>\n",
       "      <td>229976.00</td>\n",
       "      <td>850784.00</td>\n",
       "      <td>0.00</td>\n",
       "      <td>0.00</td>\n",
       "    </tr>\n",
       "    <tr>\n",
       "      <th>2</th>\n",
       "      <td>4eed4e6a-aa2f-4c91-8651-ce984ee8fb26</td>\n",
       "      <td>5efb2b2b-bf11-4dfd-a572-3761a2694725</td>\n",
       "      <td>Fully Paid</td>\n",
       "      <td>99999999.00</td>\n",
       "      <td>Short Term</td>\n",
       "      <td>741.00</td>\n",
       "      <td>2231892.00</td>\n",
       "      <td>8 years</td>\n",
       "      <td>Own Home</td>\n",
       "      <td>Debt Consolidation</td>\n",
       "      <td>29200.53</td>\n",
       "      <td>14.90</td>\n",
       "      <td>29.00</td>\n",
       "      <td>18.00</td>\n",
       "      <td>1.00</td>\n",
       "      <td>297996.00</td>\n",
       "      <td>750090.00</td>\n",
       "      <td>0.00</td>\n",
       "      <td>0.00</td>\n",
       "    </tr>\n",
       "    <tr>\n",
       "      <th>3</th>\n",
       "      <td>77598f7b-32e7-4e3b-a6e5-06ba0d98fe8a</td>\n",
       "      <td>e777faab-98ae-45af-9a86-7ce5b33b1011</td>\n",
       "      <td>Fully Paid</td>\n",
       "      <td>347666.00</td>\n",
       "      <td>Long Term</td>\n",
       "      <td>721.00</td>\n",
       "      <td>806949.00</td>\n",
       "      <td>3 years</td>\n",
       "      <td>Own Home</td>\n",
       "      <td>Debt Consolidation</td>\n",
       "      <td>8741.90</td>\n",
       "      <td>12.00</td>\n",
       "      <td>NaN</td>\n",
       "      <td>9.00</td>\n",
       "      <td>0.00</td>\n",
       "      <td>256329.00</td>\n",
       "      <td>386958.00</td>\n",
       "      <td>0.00</td>\n",
       "      <td>0.00</td>\n",
       "    </tr>\n",
       "    <tr>\n",
       "      <th>4</th>\n",
       "      <td>d4062e70-befa-4995-8643-a0de73938182</td>\n",
       "      <td>81536ad9-5ccf-4eb8-befb-47a4d608658e</td>\n",
       "      <td>Fully Paid</td>\n",
       "      <td>176220.00</td>\n",
       "      <td>Short Term</td>\n",
       "      <td>NaN</td>\n",
       "      <td>NaN</td>\n",
       "      <td>5 years</td>\n",
       "      <td>Rent</td>\n",
       "      <td>Debt Consolidation</td>\n",
       "      <td>20639.70</td>\n",
       "      <td>6.10</td>\n",
       "      <td>NaN</td>\n",
       "      <td>15.00</td>\n",
       "      <td>0.00</td>\n",
       "      <td>253460.00</td>\n",
       "      <td>427174.00</td>\n",
       "      <td>0.00</td>\n",
       "      <td>0.00</td>\n",
       "    </tr>\n",
       "  </tbody>\n",
       "</table>\n",
       "</div>"
      ],
      "text/plain": [
       "                                Loan ID                           Customer ID  \\\n",
       "0  14dd8831-6af5-400b-83ec-68e61888a048  981165ec-3274-42f5-a3b4-d104041a9ca9   \n",
       "1  4771cc26-131a-45db-b5aa-537ea4ba5342  2de017a3-2e01-49cb-a581-08169e83be29   \n",
       "2  4eed4e6a-aa2f-4c91-8651-ce984ee8fb26  5efb2b2b-bf11-4dfd-a572-3761a2694725   \n",
       "3  77598f7b-32e7-4e3b-a6e5-06ba0d98fe8a  e777faab-98ae-45af-9a86-7ce5b33b1011   \n",
       "4  d4062e70-befa-4995-8643-a0de73938182  81536ad9-5ccf-4eb8-befb-47a4d608658e   \n",
       "\n",
       "  Loan Status  Current Loan Amount        Term  Credit Score  Annual Income  \\\n",
       "0  Fully Paid            445412.00  Short Term        709.00     1167493.00   \n",
       "1  Fully Paid            262328.00  Short Term           NaN            NaN   \n",
       "2  Fully Paid          99999999.00  Short Term        741.00     2231892.00   \n",
       "3  Fully Paid            347666.00   Long Term        721.00      806949.00   \n",
       "4  Fully Paid            176220.00  Short Term           NaN            NaN   \n",
       "\n",
       "  Years in current job Home Ownership             Purpose  Monthly Debt  \\\n",
       "0              8 years  Home Mortgage   Home Improvements       5214.74   \n",
       "1            10+ years  Home Mortgage  Debt Consolidation      33295.98   \n",
       "2              8 years       Own Home  Debt Consolidation      29200.53   \n",
       "3              3 years       Own Home  Debt Consolidation       8741.90   \n",
       "4              5 years           Rent  Debt Consolidation      20639.70   \n",
       "\n",
       "   Years of Credit History  Months since last delinquent  \\\n",
       "0                    17.20                           NaN   \n",
       "1                    21.10                          8.00   \n",
       "2                    14.90                         29.00   \n",
       "3                    12.00                           NaN   \n",
       "4                     6.10                           NaN   \n",
       "\n",
       "   Number of Open Accounts  Number of Credit Problems  Current Credit Balance  \\\n",
       "0                     6.00                       1.00               228190.00   \n",
       "1                    35.00                       0.00               229976.00   \n",
       "2                    18.00                       1.00               297996.00   \n",
       "3                     9.00                       0.00               256329.00   \n",
       "4                    15.00                       0.00               253460.00   \n",
       "\n",
       "   Maximum Open Credit  Bankruptcies  Tax Liens  \n",
       "0            416746.00          1.00       0.00  \n",
       "1            850784.00          0.00       0.00  \n",
       "2            750090.00          0.00       0.00  \n",
       "3            386958.00          0.00       0.00  \n",
       "4            427174.00          0.00       0.00  "
      ]
     },
     "execution_count": 11,
     "metadata": {},
     "output_type": "execute_result"
    }
   ],
   "source": [
    "dataframe.head()"
   ]
  },
  {
   "cell_type": "code",
   "execution_count": 12,
   "metadata": {
    "_uuid": "cda2f8b285b1647ec306b94d28085ca03f0e4641"
   },
   "outputs": [],
   "source": [
    "dataframe.dropna(subset=['Loan Status'], inplace = True)"
   ]
  },
  {
   "cell_type": "code",
   "execution_count": 13,
   "metadata": {
    "_uuid": "a329fdffd479d87ce218a41e37bdd3ee2a44464f"
   },
   "outputs": [],
   "source": [
    "le = preprocessing.LabelEncoder()\n",
    "dataframe['Loan Status'] = le.fit_transform(dataframe['Loan Status'])"
   ]
  },
  {
   "cell_type": "code",
   "execution_count": 14,
   "metadata": {
    "_uuid": "42c6669bc450a45dd5947c722e321a2380bf7a2c",
    "scrolled": false
   },
   "outputs": [
    {
     "data": {
      "text/html": [
       "<div>\n",
       "<style scoped>\n",
       "    .dataframe tbody tr th:only-of-type {\n",
       "        vertical-align: middle;\n",
       "    }\n",
       "\n",
       "    .dataframe tbody tr th {\n",
       "        vertical-align: top;\n",
       "    }\n",
       "\n",
       "    .dataframe thead th {\n",
       "        text-align: right;\n",
       "    }\n",
       "</style>\n",
       "<table border=\"1\" class=\"dataframe\">\n",
       "  <thead>\n",
       "    <tr style=\"text-align: right;\">\n",
       "      <th></th>\n",
       "      <th>Loan ID</th>\n",
       "      <th>Customer ID</th>\n",
       "      <th>Loan Status</th>\n",
       "      <th>Current Loan Amount</th>\n",
       "      <th>Term</th>\n",
       "      <th>Credit Score</th>\n",
       "      <th>Annual Income</th>\n",
       "      <th>Years in current job</th>\n",
       "      <th>Home Ownership</th>\n",
       "      <th>Purpose</th>\n",
       "      <th>Monthly Debt</th>\n",
       "      <th>Years of Credit History</th>\n",
       "      <th>Months since last delinquent</th>\n",
       "      <th>Number of Open Accounts</th>\n",
       "      <th>Number of Credit Problems</th>\n",
       "      <th>Current Credit Balance</th>\n",
       "      <th>Maximum Open Credit</th>\n",
       "      <th>Bankruptcies</th>\n",
       "      <th>Tax Liens</th>\n",
       "    </tr>\n",
       "  </thead>\n",
       "  <tbody>\n",
       "    <tr>\n",
       "      <th>0</th>\n",
       "      <td>14dd8831-6af5-400b-83ec-68e61888a048</td>\n",
       "      <td>981165ec-3274-42f5-a3b4-d104041a9ca9</td>\n",
       "      <td>1</td>\n",
       "      <td>445412.00</td>\n",
       "      <td>Short Term</td>\n",
       "      <td>709.00</td>\n",
       "      <td>1167493.00</td>\n",
       "      <td>8 years</td>\n",
       "      <td>Home Mortgage</td>\n",
       "      <td>Home Improvements</td>\n",
       "      <td>5214.74</td>\n",
       "      <td>17.20</td>\n",
       "      <td>NaN</td>\n",
       "      <td>6.00</td>\n",
       "      <td>1.00</td>\n",
       "      <td>228190.00</td>\n",
       "      <td>416746.00</td>\n",
       "      <td>1.00</td>\n",
       "      <td>0.00</td>\n",
       "    </tr>\n",
       "    <tr>\n",
       "      <th>1</th>\n",
       "      <td>4771cc26-131a-45db-b5aa-537ea4ba5342</td>\n",
       "      <td>2de017a3-2e01-49cb-a581-08169e83be29</td>\n",
       "      <td>1</td>\n",
       "      <td>262328.00</td>\n",
       "      <td>Short Term</td>\n",
       "      <td>NaN</td>\n",
       "      <td>NaN</td>\n",
       "      <td>10+ years</td>\n",
       "      <td>Home Mortgage</td>\n",
       "      <td>Debt Consolidation</td>\n",
       "      <td>33295.98</td>\n",
       "      <td>21.10</td>\n",
       "      <td>8.00</td>\n",
       "      <td>35.00</td>\n",
       "      <td>0.00</td>\n",
       "      <td>229976.00</td>\n",
       "      <td>850784.00</td>\n",
       "      <td>0.00</td>\n",
       "      <td>0.00</td>\n",
       "    </tr>\n",
       "    <tr>\n",
       "      <th>2</th>\n",
       "      <td>4eed4e6a-aa2f-4c91-8651-ce984ee8fb26</td>\n",
       "      <td>5efb2b2b-bf11-4dfd-a572-3761a2694725</td>\n",
       "      <td>1</td>\n",
       "      <td>99999999.00</td>\n",
       "      <td>Short Term</td>\n",
       "      <td>741.00</td>\n",
       "      <td>2231892.00</td>\n",
       "      <td>8 years</td>\n",
       "      <td>Own Home</td>\n",
       "      <td>Debt Consolidation</td>\n",
       "      <td>29200.53</td>\n",
       "      <td>14.90</td>\n",
       "      <td>29.00</td>\n",
       "      <td>18.00</td>\n",
       "      <td>1.00</td>\n",
       "      <td>297996.00</td>\n",
       "      <td>750090.00</td>\n",
       "      <td>0.00</td>\n",
       "      <td>0.00</td>\n",
       "    </tr>\n",
       "    <tr>\n",
       "      <th>3</th>\n",
       "      <td>77598f7b-32e7-4e3b-a6e5-06ba0d98fe8a</td>\n",
       "      <td>e777faab-98ae-45af-9a86-7ce5b33b1011</td>\n",
       "      <td>1</td>\n",
       "      <td>347666.00</td>\n",
       "      <td>Long Term</td>\n",
       "      <td>721.00</td>\n",
       "      <td>806949.00</td>\n",
       "      <td>3 years</td>\n",
       "      <td>Own Home</td>\n",
       "      <td>Debt Consolidation</td>\n",
       "      <td>8741.90</td>\n",
       "      <td>12.00</td>\n",
       "      <td>NaN</td>\n",
       "      <td>9.00</td>\n",
       "      <td>0.00</td>\n",
       "      <td>256329.00</td>\n",
       "      <td>386958.00</td>\n",
       "      <td>0.00</td>\n",
       "      <td>0.00</td>\n",
       "    </tr>\n",
       "    <tr>\n",
       "      <th>4</th>\n",
       "      <td>d4062e70-befa-4995-8643-a0de73938182</td>\n",
       "      <td>81536ad9-5ccf-4eb8-befb-47a4d608658e</td>\n",
       "      <td>1</td>\n",
       "      <td>176220.00</td>\n",
       "      <td>Short Term</td>\n",
       "      <td>NaN</td>\n",
       "      <td>NaN</td>\n",
       "      <td>5 years</td>\n",
       "      <td>Rent</td>\n",
       "      <td>Debt Consolidation</td>\n",
       "      <td>20639.70</td>\n",
       "      <td>6.10</td>\n",
       "      <td>NaN</td>\n",
       "      <td>15.00</td>\n",
       "      <td>0.00</td>\n",
       "      <td>253460.00</td>\n",
       "      <td>427174.00</td>\n",
       "      <td>0.00</td>\n",
       "      <td>0.00</td>\n",
       "    </tr>\n",
       "  </tbody>\n",
       "</table>\n",
       "</div>"
      ],
      "text/plain": [
       "                                Loan ID                           Customer ID  \\\n",
       "0  14dd8831-6af5-400b-83ec-68e61888a048  981165ec-3274-42f5-a3b4-d104041a9ca9   \n",
       "1  4771cc26-131a-45db-b5aa-537ea4ba5342  2de017a3-2e01-49cb-a581-08169e83be29   \n",
       "2  4eed4e6a-aa2f-4c91-8651-ce984ee8fb26  5efb2b2b-bf11-4dfd-a572-3761a2694725   \n",
       "3  77598f7b-32e7-4e3b-a6e5-06ba0d98fe8a  e777faab-98ae-45af-9a86-7ce5b33b1011   \n",
       "4  d4062e70-befa-4995-8643-a0de73938182  81536ad9-5ccf-4eb8-befb-47a4d608658e   \n",
       "\n",
       "   Loan Status  Current Loan Amount        Term  Credit Score  Annual Income  \\\n",
       "0            1            445412.00  Short Term        709.00     1167493.00   \n",
       "1            1            262328.00  Short Term           NaN            NaN   \n",
       "2            1          99999999.00  Short Term        741.00     2231892.00   \n",
       "3            1            347666.00   Long Term        721.00      806949.00   \n",
       "4            1            176220.00  Short Term           NaN            NaN   \n",
       "\n",
       "  Years in current job Home Ownership             Purpose  Monthly Debt  \\\n",
       "0              8 years  Home Mortgage   Home Improvements       5214.74   \n",
       "1            10+ years  Home Mortgage  Debt Consolidation      33295.98   \n",
       "2              8 years       Own Home  Debt Consolidation      29200.53   \n",
       "3              3 years       Own Home  Debt Consolidation       8741.90   \n",
       "4              5 years           Rent  Debt Consolidation      20639.70   \n",
       "\n",
       "   Years of Credit History  Months since last delinquent  \\\n",
       "0                    17.20                           NaN   \n",
       "1                    21.10                          8.00   \n",
       "2                    14.90                         29.00   \n",
       "3                    12.00                           NaN   \n",
       "4                     6.10                           NaN   \n",
       "\n",
       "   Number of Open Accounts  Number of Credit Problems  Current Credit Balance  \\\n",
       "0                     6.00                       1.00               228190.00   \n",
       "1                    35.00                       0.00               229976.00   \n",
       "2                    18.00                       1.00               297996.00   \n",
       "3                     9.00                       0.00               256329.00   \n",
       "4                    15.00                       0.00               253460.00   \n",
       "\n",
       "   Maximum Open Credit  Bankruptcies  Tax Liens  \n",
       "0            416746.00          1.00       0.00  \n",
       "1            850784.00          0.00       0.00  \n",
       "2            750090.00          0.00       0.00  \n",
       "3            386958.00          0.00       0.00  \n",
       "4            427174.00          0.00       0.00  "
      ]
     },
     "execution_count": 14,
     "metadata": {},
     "output_type": "execute_result"
    }
   ],
   "source": [
    "dataframe.head()"
   ]
  },
  {
   "cell_type": "markdown",
   "metadata": {
    "_uuid": "4839dec6671e39e0b3d3a0342e74045d68898b94"
   },
   "source": [
    "# Loan Status is the categorical variable here denoting if the certain variable is paid off or not. In this notebook, we aim to predict that as our final output."
   ]
  },
  {
   "cell_type": "code",
   "execution_count": 15,
   "metadata": {
    "_uuid": "74db5ec2717e3a20311387530263a002ae562813"
   },
   "outputs": [
    {
     "data": {
      "text/plain": [
       "<AxesSubplot:title={'center':'Status of the Loan'}>"
      ]
     },
     "execution_count": 15,
     "metadata": {},
     "output_type": "execute_result"
    },
    {
     "data": {
      "image/png": "[encoded data removed]",
      "text/plain": [
       "<Figure size 432x288 with 1 Axes>"
      ]
     },
     "metadata": {
      "needs_background": "light"
     },
     "output_type": "display_data"
    }
   ],
   "source": [
    "coffvalue = dataframe[dataframe['Loan Status'] == 0]['Loan Status'].count()\n",
    "fpaidvalue = dataframe[dataframe['Loan Status'] == 1]['Loan Status'].count()\n",
    "data = {\"Counts\":[coffvalue, fpaidvalue] }\n",
    "statusDF = pd.DataFrame(data, index=[\"Charged Off\", \"Fully Paid\"])\n",
    "# statusDF.head()\n",
    "statusDF.plot(kind='bar', title=\"Status of the Loan\")"
   ]
  },
  {
   "cell_type": "code",
   "execution_count": 16,
   "metadata": {
    "_uuid": "a7af3e5a9de201e536f34b7d2a84b9c7af8b1aab",
    "scrolled": true
   },
   "outputs": [
    {
     "name": "stdout",
     "output_type": "stream",
     "text": [
      "Value counts for each term: \n",
      " Short Term    72208\n",
      "Long Term     27792\n",
      "Name: Term, dtype: int64\n",
      "Missing data in loan term: 0\n"
     ]
    }
   ],
   "source": [
    "print(\"Value counts for each term: \\n\",dataframe['Term'].value_counts())\n",
    "print(\"Missing data in loan term:\",dataframe['Term'].isna().sum())"
   ]
  },
  {
   "cell_type": "code",
   "execution_count": 17,
   "metadata": {
    "_uuid": "a5ac31f8977e51ce150d3702f09e773e98411682"
   },
   "outputs": [
    {
     "data": {
      "text/html": [
       "<div>\n",
       "<style scoped>\n",
       "    .dataframe tbody tr th:only-of-type {\n",
       "        vertical-align: middle;\n",
       "    }\n",
       "\n",
       "    .dataframe tbody tr th {\n",
       "        vertical-align: top;\n",
       "    }\n",
       "\n",
       "    .dataframe thead th {\n",
       "        text-align: right;\n",
       "    }\n",
       "</style>\n",
       "<table border=\"1\" class=\"dataframe\">\n",
       "  <thead>\n",
       "    <tr style=\"text-align: right;\">\n",
       "      <th></th>\n",
       "      <th>Loan ID</th>\n",
       "      <th>Customer ID</th>\n",
       "      <th>Loan Status</th>\n",
       "      <th>Current Loan Amount</th>\n",
       "      <th>Term</th>\n",
       "      <th>Credit Score</th>\n",
       "      <th>Annual Income</th>\n",
       "      <th>Years in current job</th>\n",
       "      <th>Home Ownership</th>\n",
       "      <th>Purpose</th>\n",
       "      <th>Monthly Debt</th>\n",
       "      <th>Years of Credit History</th>\n",
       "      <th>Months since last delinquent</th>\n",
       "      <th>Number of Open Accounts</th>\n",
       "      <th>Number of Credit Problems</th>\n",
       "      <th>Current Credit Balance</th>\n",
       "      <th>Maximum Open Credit</th>\n",
       "      <th>Bankruptcies</th>\n",
       "      <th>Tax Liens</th>\n",
       "    </tr>\n",
       "  </thead>\n",
       "  <tbody>\n",
       "    <tr>\n",
       "      <th>0</th>\n",
       "      <td>14dd8831-6af5-400b-83ec-68e61888a048</td>\n",
       "      <td>981165ec-3274-42f5-a3b4-d104041a9ca9</td>\n",
       "      <td>1</td>\n",
       "      <td>445412.00</td>\n",
       "      <td>0</td>\n",
       "      <td>709.00</td>\n",
       "      <td>1167493.00</td>\n",
       "      <td>8 years</td>\n",
       "      <td>Home Mortgage</td>\n",
       "      <td>Home Improvements</td>\n",
       "      <td>5214.74</td>\n",
       "      <td>17.20</td>\n",
       "      <td>NaN</td>\n",
       "      <td>6.00</td>\n",
       "      <td>1.00</td>\n",
       "      <td>228190.00</td>\n",
       "      <td>416746.00</td>\n",
       "      <td>1.00</td>\n",
       "      <td>0.00</td>\n",
       "    </tr>\n",
       "    <tr>\n",
       "      <th>1</th>\n",
       "      <td>4771cc26-131a-45db-b5aa-537ea4ba5342</td>\n",
       "      <td>2de017a3-2e01-49cb-a581-08169e83be29</td>\n",
       "      <td>1</td>\n",
       "      <td>262328.00</td>\n",
       "      <td>0</td>\n",
       "      <td>NaN</td>\n",
       "      <td>NaN</td>\n",
       "      <td>10+ years</td>\n",
       "      <td>Home Mortgage</td>\n",
       "      <td>Debt Consolidation</td>\n",
       "      <td>33295.98</td>\n",
       "      <td>21.10</td>\n",
       "      <td>8.00</td>\n",
       "      <td>35.00</td>\n",
       "      <td>0.00</td>\n",
       "      <td>229976.00</td>\n",
       "      <td>850784.00</td>\n",
       "      <td>0.00</td>\n",
       "      <td>0.00</td>\n",
       "    </tr>\n",
       "    <tr>\n",
       "      <th>2</th>\n",
       "      <td>4eed4e6a-aa2f-4c91-8651-ce984ee8fb26</td>\n",
       "      <td>5efb2b2b-bf11-4dfd-a572-3761a2694725</td>\n",
       "      <td>1</td>\n",
       "      <td>99999999.00</td>\n",
       "      <td>0</td>\n",
       "      <td>741.00</td>\n",
       "      <td>2231892.00</td>\n",
       "      <td>8 years</td>\n",
       "      <td>Own Home</td>\n",
       "      <td>Debt Consolidation</td>\n",
       "      <td>29200.53</td>\n",
       "      <td>14.90</td>\n",
       "      <td>29.00</td>\n",
       "      <td>18.00</td>\n",
       "      <td>1.00</td>\n",
       "      <td>297996.00</td>\n",
       "      <td>750090.00</td>\n",
       "      <td>0.00</td>\n",
       "      <td>0.00</td>\n",
       "    </tr>\n",
       "    <tr>\n",
       "      <th>3</th>\n",
       "      <td>77598f7b-32e7-4e3b-a6e5-06ba0d98fe8a</td>\n",
       "      <td>e777faab-98ae-45af-9a86-7ce5b33b1011</td>\n",
       "      <td>1</td>\n",
       "      <td>347666.00</td>\n",
       "      <td>1</td>\n",
       "      <td>721.00</td>\n",
       "      <td>806949.00</td>\n",
       "      <td>3 years</td>\n",
       "      <td>Own Home</td>\n",
       "      <td>Debt Consolidation</td>\n",
       "      <td>8741.90</td>\n",
       "      <td>12.00</td>\n",
       "      <td>NaN</td>\n",
       "      <td>9.00</td>\n",
       "      <td>0.00</td>\n",
       "      <td>256329.00</td>\n",
       "      <td>386958.00</td>\n",
       "      <td>0.00</td>\n",
       "      <td>0.00</td>\n",
       "    </tr>\n",
       "    <tr>\n",
       "      <th>4</th>\n",
       "      <td>d4062e70-befa-4995-8643-a0de73938182</td>\n",
       "      <td>81536ad9-5ccf-4eb8-befb-47a4d608658e</td>\n",
       "      <td>1</td>\n",
       "      <td>176220.00</td>\n",
       "      <td>0</td>\n",
       "      <td>NaN</td>\n",
       "      <td>NaN</td>\n",
       "      <td>5 years</td>\n",
       "      <td>Rent</td>\n",
       "      <td>Debt Consolidation</td>\n",
       "      <td>20639.70</td>\n",
       "      <td>6.10</td>\n",
       "      <td>NaN</td>\n",
       "      <td>15.00</td>\n",
       "      <td>0.00</td>\n",
       "      <td>253460.00</td>\n",
       "      <td>427174.00</td>\n",
       "      <td>0.00</td>\n",
       "      <td>0.00</td>\n",
       "    </tr>\n",
       "  </tbody>\n",
       "</table>\n",
       "</div>"
      ],
      "text/plain": [
       "                                Loan ID                           Customer ID  \\\n",
       "0  14dd8831-6af5-400b-83ec-68e61888a048  981165ec-3274-42f5-a3b4-d104041a9ca9   \n",
       "1  4771cc26-131a-45db-b5aa-537ea4ba5342  2de017a3-2e01-49cb-a581-08169e83be29   \n",
       "2  4eed4e6a-aa2f-4c91-8651-ce984ee8fb26  5efb2b2b-bf11-4dfd-a572-3761a2694725   \n",
       "3  77598f7b-32e7-4e3b-a6e5-06ba0d98fe8a  e777faab-98ae-45af-9a86-7ce5b33b1011   \n",
       "4  d4062e70-befa-4995-8643-a0de73938182  81536ad9-5ccf-4eb8-befb-47a4d608658e   \n",
       "\n",
       "   Loan Status  Current Loan Amount  Term  Credit Score  Annual Income  \\\n",
       "0            1            445412.00     0        709.00     1167493.00   \n",
       "1            1            262328.00     0           NaN            NaN   \n",
       "2            1          99999999.00     0        741.00     2231892.00   \n",
       "3            1            347666.00     1        721.00      806949.00   \n",
       "4            1            176220.00     0           NaN            NaN   \n",
       "\n",
       "  Years in current job Home Ownership             Purpose  Monthly Debt  \\\n",
       "0              8 years  Home Mortgage   Home Improvements       5214.74   \n",
       "1            10+ years  Home Mortgage  Debt Consolidation      33295.98   \n",
       "2              8 years       Own Home  Debt Consolidation      29200.53   \n",
       "3              3 years       Own Home  Debt Consolidation       8741.90   \n",
       "4              5 years           Rent  Debt Consolidation      20639.70   \n",
       "\n",
       "   Years of Credit History  Months since last delinquent  \\\n",
       "0                    17.20                           NaN   \n",
       "1                    21.10                          8.00   \n",
       "2                    14.90                         29.00   \n",
       "3                    12.00                           NaN   \n",
       "4                     6.10                           NaN   \n",
       "\n",
       "   Number of Open Accounts  Number of Credit Problems  Current Credit Balance  \\\n",
       "0                     6.00                       1.00               228190.00   \n",
       "1                    35.00                       0.00               229976.00   \n",
       "2                    18.00                       1.00               297996.00   \n",
       "3                     9.00                       0.00               256329.00   \n",
       "4                    15.00                       0.00               253460.00   \n",
       "\n",
       "   Maximum Open Credit  Bankruptcies  Tax Liens  \n",
       "0            416746.00          1.00       0.00  \n",
       "1            850784.00          0.00       0.00  \n",
       "2            750090.00          0.00       0.00  \n",
       "3            386958.00          0.00       0.00  \n",
       "4            427174.00          0.00       0.00  "
      ]
     },
     "execution_count": 17,
     "metadata": {},
     "output_type": "execute_result"
    }
   ],
   "source": [
    "dataframe['Term'].replace((\"Short Term\",\"Long Term\"),(0,1), inplace=True)\n",
    "dataframe.head()"
   ]
  },
  {
   "cell_type": "code",
   "execution_count": 18,
   "metadata": {
    "_uuid": "042d8a438af56edd4c4537538ad5fcb9e6ddb557"
   },
   "outputs": [
    {
     "data": {
      "text/html": [
       "<div>\n",
       "<style scoped>\n",
       "    .dataframe tbody tr th:only-of-type {\n",
       "        vertical-align: middle;\n",
       "    }\n",
       "\n",
       "    .dataframe tbody tr th {\n",
       "        vertical-align: top;\n",
       "    }\n",
       "\n",
       "    .dataframe thead th {\n",
       "        text-align: right;\n",
       "    }\n",
       "</style>\n",
       "<table border=\"1\" class=\"dataframe\">\n",
       "  <thead>\n",
       "    <tr style=\"text-align: right;\">\n",
       "      <th></th>\n",
       "      <th>Counts</th>\n",
       "    </tr>\n",
       "  </thead>\n",
       "  <tbody>\n",
       "    <tr>\n",
       "      <th>Short Term</th>\n",
       "      <td>72208</td>\n",
       "    </tr>\n",
       "    <tr>\n",
       "      <th>Long Term</th>\n",
       "      <td>27792</td>\n",
       "    </tr>\n",
       "  </tbody>\n",
       "</table>\n",
       "</div>"
      ],
      "text/plain": [
       "            Counts\n",
       "Short Term   72208\n",
       "Long Term    27792"
      ]
     },
     "execution_count": 18,
     "metadata": {},
     "output_type": "execute_result"
    }
   ],
   "source": [
    "scount = dataframe[dataframe['Term'] == 0]['Term'].count()\n",
    "lcount = dataframe[dataframe['Term'] ==1]['Term'].count()\n",
    "\n",
    "data = {\"Counts\":[scount, lcount]}\n",
    "termDF = pd.DataFrame(data, index=[\"Short Term\", \"Long Term\"])\n",
    "termDF.head()"
   ]
  },
  {
   "cell_type": "code",
   "execution_count": 19,
   "metadata": {
    "_uuid": "6073f82d4389722e61fde9afbd04f2ff3e831af5"
   },
   "outputs": [
    {
     "data": {
      "text/plain": [
       "<AxesSubplot:title={'center':'Term of Loans'}>"
      ]
     },
     "execution_count": 19,
     "metadata": {},
     "output_type": "execute_result"
    },
    {
     "data": {
      "image/png": "[encoded data removed]",
      "text/plain": [
       "<Figure size 432x288 with 1 Axes>"
      ]
     },
     "metadata": {
      "needs_background": "light"
     },
     "output_type": "display_data"
    }
   ],
   "source": [
    "termDF.plot(kind=\"barh\", title=\"Term of Loans\")"
   ]
  },
  {
   "cell_type": "markdown",
   "metadata": {
    "_uuid": "61a4b1049c5e4134045b628503b74c5540181a23"
   },
   "source": [
    "Since credit score is one of the important part of our analysis, we first try to explore and handle our missing data before processing further with anything."
   ]
  },
  {
   "cell_type": "code",
   "execution_count": 20,
   "metadata": {
    "_uuid": "b557c24aeadbea9b47a8f399aaa1fe0518e863f0",
    "scrolled": true
   },
   "outputs": [
    {
     "name": "stdout",
     "output_type": "stream",
     "text": [
      "There are  19154 null values for Credit score.\n"
     ]
    }
   ],
   "source": [
    "print(\"There are \", dataframe['Credit Score'].isna().sum(), \"null values for Credit score.\")"
   ]
  },
  {
   "cell_type": "markdown",
   "metadata": {
    "_uuid": "38718d3562127d84ef6d33343fa4134963712378"
   },
   "source": [
    "***Since there are multiple ways to handle the missing data, one of which is to fill in the average of the column in the place of missing data. Here we follow the same concept but with a small tweak. We asume that the credit score of people having short term loan wouldn't be the same as credit score of people having long term loans. Hence we take separate average of credit score of people with short term loan and separate average of people with long term loan and then fill the missing credit score looking up at the term of the loan.***"
   ]
  },
  {
   "cell_type": "code",
   "execution_count": 21,
   "metadata": {
    "_uuid": "547c0ebb6e12f5b617923cc2fa1fb0ab72025908"
   },
   "outputs": [
    {
     "name": "stdout",
     "output_type": "stream",
     "text": [
      "724.6209386906824\n"
     ]
    }
   ],
   "source": [
    "cscoredf = dataframe[dataframe['Term']==0]\n",
    "stermAVG = cscoredf['Credit Score'].mean()\n",
    "print(stermAVG)"
   ]
  },
  {
   "cell_type": "code",
   "execution_count": 22,
   "metadata": {
    "_uuid": "c0e5501c8352e0806f4af3bcd4a7b9f7299f8aae"
   },
   "outputs": [
    {
     "name": "stdout",
     "output_type": "stream",
     "text": [
      "695.483727170432\n"
     ]
    }
   ],
   "source": [
    "lscoredf = dataframe[dataframe['Term']==1]\n",
    "ltermAVG = lscoredf['Credit Score'].mean()\n",
    "print(ltermAVG)"
   ]
  },
  {
   "cell_type": "code",
   "execution_count": 23,
   "metadata": {
    "_uuid": "3736dabd2aa43595d7f767de9b3e30212a450c33"
   },
   "outputs": [
    {
     "data": {
      "text/html": [
       "<div>\n",
       "<style scoped>\n",
       "    .dataframe tbody tr th:only-of-type {\n",
       "        vertical-align: middle;\n",
       "    }\n",
       "\n",
       "    .dataframe tbody tr th {\n",
       "        vertical-align: top;\n",
       "    }\n",
       "\n",
       "    .dataframe thead th {\n",
       "        text-align: right;\n",
       "    }\n",
       "</style>\n",
       "<table border=\"1\" class=\"dataframe\">\n",
       "  <thead>\n",
       "    <tr style=\"text-align: right;\">\n",
       "      <th></th>\n",
       "      <th>Loan ID</th>\n",
       "      <th>Customer ID</th>\n",
       "      <th>Loan Status</th>\n",
       "      <th>Current Loan Amount</th>\n",
       "      <th>Term</th>\n",
       "      <th>Credit Score</th>\n",
       "      <th>Annual Income</th>\n",
       "      <th>Years in current job</th>\n",
       "      <th>Home Ownership</th>\n",
       "      <th>Purpose</th>\n",
       "      <th>Monthly Debt</th>\n",
       "      <th>Years of Credit History</th>\n",
       "      <th>Months since last delinquent</th>\n",
       "      <th>Number of Open Accounts</th>\n",
       "      <th>Number of Credit Problems</th>\n",
       "      <th>Current Credit Balance</th>\n",
       "      <th>Maximum Open Credit</th>\n",
       "      <th>Bankruptcies</th>\n",
       "      <th>Tax Liens</th>\n",
       "    </tr>\n",
       "  </thead>\n",
       "  <tbody>\n",
       "    <tr>\n",
       "      <th>0</th>\n",
       "      <td>14dd8831-6af5-400b-83ec-68e61888a048</td>\n",
       "      <td>981165ec-3274-42f5-a3b4-d104041a9ca9</td>\n",
       "      <td>1</td>\n",
       "      <td>445412.00</td>\n",
       "      <td>0</td>\n",
       "      <td>709.00</td>\n",
       "      <td>1167493.00</td>\n",
       "      <td>8 years</td>\n",
       "      <td>Home Mortgage</td>\n",
       "      <td>Home Improvements</td>\n",
       "      <td>5214.74</td>\n",
       "      <td>17.20</td>\n",
       "      <td>NaN</td>\n",
       "      <td>6.00</td>\n",
       "      <td>1.00</td>\n",
       "      <td>228190.00</td>\n",
       "      <td>416746.00</td>\n",
       "      <td>1.00</td>\n",
       "      <td>0.00</td>\n",
       "    </tr>\n",
       "    <tr>\n",
       "      <th>1</th>\n",
       "      <td>4771cc26-131a-45db-b5aa-537ea4ba5342</td>\n",
       "      <td>2de017a3-2e01-49cb-a581-08169e83be29</td>\n",
       "      <td>1</td>\n",
       "      <td>262328.00</td>\n",
       "      <td>0</td>\n",
       "      <td>NaN</td>\n",
       "      <td>NaN</td>\n",
       "      <td>10+ years</td>\n",
       "      <td>Home Mortgage</td>\n",
       "      <td>Debt Consolidation</td>\n",
       "      <td>33295.98</td>\n",
       "      <td>21.10</td>\n",
       "      <td>8.00</td>\n",
       "      <td>35.00</td>\n",
       "      <td>0.00</td>\n",
       "      <td>229976.00</td>\n",
       "      <td>850784.00</td>\n",
       "      <td>0.00</td>\n",
       "      <td>0.00</td>\n",
       "    </tr>\n",
       "    <tr>\n",
       "      <th>2</th>\n",
       "      <td>4eed4e6a-aa2f-4c91-8651-ce984ee8fb26</td>\n",
       "      <td>5efb2b2b-bf11-4dfd-a572-3761a2694725</td>\n",
       "      <td>1</td>\n",
       "      <td>99999999.00</td>\n",
       "      <td>0</td>\n",
       "      <td>741.00</td>\n",
       "      <td>2231892.00</td>\n",
       "      <td>8 years</td>\n",
       "      <td>Own Home</td>\n",
       "      <td>Debt Consolidation</td>\n",
       "      <td>29200.53</td>\n",
       "      <td>14.90</td>\n",
       "      <td>29.00</td>\n",
       "      <td>18.00</td>\n",
       "      <td>1.00</td>\n",
       "      <td>297996.00</td>\n",
       "      <td>750090.00</td>\n",
       "      <td>0.00</td>\n",
       "      <td>0.00</td>\n",
       "    </tr>\n",
       "    <tr>\n",
       "      <th>3</th>\n",
       "      <td>77598f7b-32e7-4e3b-a6e5-06ba0d98fe8a</td>\n",
       "      <td>e777faab-98ae-45af-9a86-7ce5b33b1011</td>\n",
       "      <td>1</td>\n",
       "      <td>347666.00</td>\n",
       "      <td>1</td>\n",
       "      <td>721.00</td>\n",
       "      <td>806949.00</td>\n",
       "      <td>3 years</td>\n",
       "      <td>Own Home</td>\n",
       "      <td>Debt Consolidation</td>\n",
       "      <td>8741.90</td>\n",
       "      <td>12.00</td>\n",
       "      <td>NaN</td>\n",
       "      <td>9.00</td>\n",
       "      <td>0.00</td>\n",
       "      <td>256329.00</td>\n",
       "      <td>386958.00</td>\n",
       "      <td>0.00</td>\n",
       "      <td>0.00</td>\n",
       "    </tr>\n",
       "    <tr>\n",
       "      <th>4</th>\n",
       "      <td>d4062e70-befa-4995-8643-a0de73938182</td>\n",
       "      <td>81536ad9-5ccf-4eb8-befb-47a4d608658e</td>\n",
       "      <td>1</td>\n",
       "      <td>176220.00</td>\n",
       "      <td>0</td>\n",
       "      <td>NaN</td>\n",
       "      <td>NaN</td>\n",
       "      <td>5 years</td>\n",
       "      <td>Rent</td>\n",
       "      <td>Debt Consolidation</td>\n",
       "      <td>20639.70</td>\n",
       "      <td>6.10</td>\n",
       "      <td>NaN</td>\n",
       "      <td>15.00</td>\n",
       "      <td>0.00</td>\n",
       "      <td>253460.00</td>\n",
       "      <td>427174.00</td>\n",
       "      <td>0.00</td>\n",
       "      <td>0.00</td>\n",
       "    </tr>\n",
       "  </tbody>\n",
       "</table>\n",
       "</div>"
      ],
      "text/plain": [
       "                                Loan ID                           Customer ID  \\\n",
       "0  14dd8831-6af5-400b-83ec-68e61888a048  981165ec-3274-42f5-a3b4-d104041a9ca9   \n",
       "1  4771cc26-131a-45db-b5aa-537ea4ba5342  2de017a3-2e01-49cb-a581-08169e83be29   \n",
       "2  4eed4e6a-aa2f-4c91-8651-ce984ee8fb26  5efb2b2b-bf11-4dfd-a572-3761a2694725   \n",
       "3  77598f7b-32e7-4e3b-a6e5-06ba0d98fe8a  e777faab-98ae-45af-9a86-7ce5b33b1011   \n",
       "4  d4062e70-befa-4995-8643-a0de73938182  81536ad9-5ccf-4eb8-befb-47a4d608658e   \n",
       "\n",
       "   Loan Status  Current Loan Amount  Term  Credit Score  Annual Income  \\\n",
       "0            1            445412.00     0        709.00     1167493.00   \n",
       "1            1            262328.00     0           NaN            NaN   \n",
       "2            1          99999999.00     0        741.00     2231892.00   \n",
       "3            1            347666.00     1        721.00      806949.00   \n",
       "4            1            176220.00     0           NaN            NaN   \n",
       "\n",
       "  Years in current job Home Ownership             Purpose  Monthly Debt  \\\n",
       "0              8 years  Home Mortgage   Home Improvements       5214.74   \n",
       "1            10+ years  Home Mortgage  Debt Consolidation      33295.98   \n",
       "2              8 years       Own Home  Debt Consolidation      29200.53   \n",
       "3              3 years       Own Home  Debt Consolidation       8741.90   \n",
       "4              5 years           Rent  Debt Consolidation      20639.70   \n",
       "\n",
       "   Years of Credit History  Months since last delinquent  \\\n",
       "0                    17.20                           NaN   \n",
       "1                    21.10                          8.00   \n",
       "2                    14.90                         29.00   \n",
       "3                    12.00                           NaN   \n",
       "4                     6.10                           NaN   \n",
       "\n",
       "   Number of Open Accounts  Number of Credit Problems  Current Credit Balance  \\\n",
       "0                     6.00                       1.00               228190.00   \n",
       "1                    35.00                       0.00               229976.00   \n",
       "2                    18.00                       1.00               297996.00   \n",
       "3                     9.00                       0.00               256329.00   \n",
       "4                    15.00                       0.00               253460.00   \n",
       "\n",
       "   Maximum Open Credit  Bankruptcies  Tax Liens  \n",
       "0            416746.00          1.00       0.00  \n",
       "1            850784.00          0.00       0.00  \n",
       "2            750090.00          0.00       0.00  \n",
       "3            386958.00          0.00       0.00  \n",
       "4            427174.00          0.00       0.00  "
      ]
     },
     "execution_count": 23,
     "metadata": {},
     "output_type": "execute_result"
    }
   ],
   "source": [
    "dataframe.head()"
   ]
  },
  {
   "cell_type": "markdown",
   "metadata": {},
   "source": [
    "# Preprocessing"
   ]
  },
  {
   "cell_type": "code",
   "execution_count": 24,
   "metadata": {
    "_uuid": "9091dbd6db20eb511154f3865da3795aefc7d31b"
   },
   "outputs": [],
   "source": [
    "do_nothing = lambda: None"
   ]
  },
  {
   "cell_type": "code",
   "execution_count": 25,
   "metadata": {
    "_uuid": "05821907822c224948fd764e66c6f12cb5451aa4"
   },
   "outputs": [],
   "source": [
    "dataframe.loc[(dataframe.Term ==0) & (dataframe['Credit Score'].isnull()),'Credit Score'] = stermAVG"
   ]
  },
  {
   "cell_type": "code",
   "execution_count": 26,
   "metadata": {
    "_uuid": "44715aadbdeba3f96f5d3f260e3817b33e5a14d9"
   },
   "outputs": [],
   "source": [
    "dataframe.loc[(dataframe.Term ==1) & (dataframe['Credit Score'].isnull()),'Credit Score'] = ltermAVG"
   ]
  },
  {
   "cell_type": "markdown",
   "metadata": {
    "_uuid": "e6ca53f17922753a58feb905a3d1460028cf9661"
   },
   "source": [
    "Since our problem is a classification problem, we can't have continuos variables in our dataframe. After the calculation of the missing variables we give our credit scores a range based on **Experian's Credit Score Range**."
   ]
  },
  {
   "cell_type": "code",
   "execution_count": 27,
   "metadata": {
    "_uuid": "2fc91c4225f356d7a3649773554836ba1e76d5b0"
   },
   "outputs": [],
   "source": [
    "dataframe['Credit Score'] = dataframe['Credit Score'].apply(lambda val: \"Poor\" if np.isreal(val) and val < 580 else val)\n",
    "dataframe['Credit Score'] = dataframe['Credit Score'].apply(lambda val: \"Average\" if np.isreal(val) and (val >= 580 and val < 670) else val)\n",
    "dataframe['Credit Score'] = dataframe['Credit Score'].apply(lambda val: \"Good\" if np.isreal(val) and (val >= 670 and val < 740) else val)\n",
    "dataframe['Credit Score'] = dataframe['Credit Score'].apply(lambda val: \"Very Good\" if np.isreal(val) and (val >= 740 and val < 800) else val)\n",
    "dataframe['Credit Score'] = dataframe['Credit Score'].apply(lambda val: \"Exceptional\" if np.isreal(val) and (val >= 800 and val <= 850) else val)"
   ]
  },
  {
   "cell_type": "code",
   "execution_count": 28,
   "metadata": {
    "_uuid": "b186efbf008c7e939562b91dbe1ffb8b4ef90044"
   },
   "outputs": [
    {
     "data": {
      "text/plain": [
       "<AxesSubplot:title={'center':'Number of loans in terms of Credit Score category'}>"
      ]
     },
     "execution_count": 28,
     "metadata": {},
     "output_type": "execute_result"
    },
    {
     "data": {
      "image/png": "[encoded data removed]",
      "text/plain": [
       "<Figure size 432x288 with 1 Axes>"
      ]
     },
     "metadata": {
      "needs_background": "light"
     },
     "output_type": "display_data"
    }
   ],
   "source": [
    "dataframe['Credit Score'].value_counts().sort_values(ascending = True).plot(kind='bar', title ='Number of loans in terms of Credit Score category')"
   ]
  },
  {
   "cell_type": "markdown",
   "metadata": {
    "_uuid": "275b87ab776b22901fc0d274e0daaa0e5d3d5927"
   },
   "source": [
    "Next up we look at our annual income column and fill up the missing values with the average of the column."
   ]
  },
  {
   "cell_type": "code",
   "execution_count": 29,
   "metadata": {
    "_uuid": "f14d65e631a97403024a4339aeebecbf1c50ba0a"
   },
   "outputs": [
    {
     "name": "stdout",
     "output_type": "stream",
     "text": [
      "There are 19154 Missing Annual Income Values.\n"
     ]
    }
   ],
   "source": [
    "print(\"There are\",dataframe['Annual Income'].isna().sum(), \"Missing Annual Income Values.\")"
   ]
  },
  {
   "cell_type": "code",
   "execution_count": 30,
   "metadata": {
    "_uuid": "19b262564620e832841230885ba930410fc0c13f"
   },
   "outputs": [],
   "source": [
    "dataframe['Annual Income'].fillna(dataframe['Annual Income'].mean(), inplace=True)"
   ]
  },
  {
   "cell_type": "code",
   "execution_count": 31,
   "metadata": {
    "_uuid": "64ebdf9b49a1777eb3d26226c596c9de214a7045"
   },
   "outputs": [
    {
     "data": {
      "text/html": [
       "<div>\n",
       "<style scoped>\n",
       "    .dataframe tbody tr th:only-of-type {\n",
       "        vertical-align: middle;\n",
       "    }\n",
       "\n",
       "    .dataframe tbody tr th {\n",
       "        vertical-align: top;\n",
       "    }\n",
       "\n",
       "    .dataframe thead th {\n",
       "        text-align: right;\n",
       "    }\n",
       "</style>\n",
       "<table border=\"1\" class=\"dataframe\">\n",
       "  <thead>\n",
       "    <tr style=\"text-align: right;\">\n",
       "      <th></th>\n",
       "      <th>Loan ID</th>\n",
       "      <th>Customer ID</th>\n",
       "      <th>Loan Status</th>\n",
       "      <th>Current Loan Amount</th>\n",
       "      <th>Term</th>\n",
       "      <th>Credit Score</th>\n",
       "      <th>Annual Income</th>\n",
       "      <th>Years in current job</th>\n",
       "      <th>Home Ownership</th>\n",
       "      <th>Purpose</th>\n",
       "      <th>Monthly Debt</th>\n",
       "      <th>Years of Credit History</th>\n",
       "      <th>Months since last delinquent</th>\n",
       "      <th>Number of Open Accounts</th>\n",
       "      <th>Number of Credit Problems</th>\n",
       "      <th>Current Credit Balance</th>\n",
       "      <th>Maximum Open Credit</th>\n",
       "      <th>Bankruptcies</th>\n",
       "      <th>Tax Liens</th>\n",
       "    </tr>\n",
       "  </thead>\n",
       "  <tbody>\n",
       "    <tr>\n",
       "      <th>0</th>\n",
       "      <td>14dd8831-6af5-400b-83ec-68e61888a048</td>\n",
       "      <td>981165ec-3274-42f5-a3b4-d104041a9ca9</td>\n",
       "      <td>1</td>\n",
       "      <td>445412.00</td>\n",
       "      <td>0</td>\n",
       "      <td>Good</td>\n",
       "      <td>1167493.00</td>\n",
       "      <td>8 years</td>\n",
       "      <td>Home Mortgage</td>\n",
       "      <td>Home Improvements</td>\n",
       "      <td>5214.74</td>\n",
       "      <td>17.20</td>\n",
       "      <td>NaN</td>\n",
       "      <td>6.00</td>\n",
       "      <td>1.00</td>\n",
       "      <td>228190.00</td>\n",
       "      <td>416746.00</td>\n",
       "      <td>1.00</td>\n",
       "      <td>0.00</td>\n",
       "    </tr>\n",
       "    <tr>\n",
       "      <th>1</th>\n",
       "      <td>4771cc26-131a-45db-b5aa-537ea4ba5342</td>\n",
       "      <td>2de017a3-2e01-49cb-a581-08169e83be29</td>\n",
       "      <td>1</td>\n",
       "      <td>262328.00</td>\n",
       "      <td>0</td>\n",
       "      <td>Good</td>\n",
       "      <td>1378276.56</td>\n",
       "      <td>10+ years</td>\n",
       "      <td>Home Mortgage</td>\n",
       "      <td>Debt Consolidation</td>\n",
       "      <td>33295.98</td>\n",
       "      <td>21.10</td>\n",
       "      <td>8.00</td>\n",
       "      <td>35.00</td>\n",
       "      <td>0.00</td>\n",
       "      <td>229976.00</td>\n",
       "      <td>850784.00</td>\n",
       "      <td>0.00</td>\n",
       "      <td>0.00</td>\n",
       "    </tr>\n",
       "    <tr>\n",
       "      <th>2</th>\n",
       "      <td>4eed4e6a-aa2f-4c91-8651-ce984ee8fb26</td>\n",
       "      <td>5efb2b2b-bf11-4dfd-a572-3761a2694725</td>\n",
       "      <td>1</td>\n",
       "      <td>99999999.00</td>\n",
       "      <td>0</td>\n",
       "      <td>Very Good</td>\n",
       "      <td>2231892.00</td>\n",
       "      <td>8 years</td>\n",
       "      <td>Own Home</td>\n",
       "      <td>Debt Consolidation</td>\n",
       "      <td>29200.53</td>\n",
       "      <td>14.90</td>\n",
       "      <td>29.00</td>\n",
       "      <td>18.00</td>\n",
       "      <td>1.00</td>\n",
       "      <td>297996.00</td>\n",
       "      <td>750090.00</td>\n",
       "      <td>0.00</td>\n",
       "      <td>0.00</td>\n",
       "    </tr>\n",
       "    <tr>\n",
       "      <th>3</th>\n",
       "      <td>77598f7b-32e7-4e3b-a6e5-06ba0d98fe8a</td>\n",
       "      <td>e777faab-98ae-45af-9a86-7ce5b33b1011</td>\n",
       "      <td>1</td>\n",
       "      <td>347666.00</td>\n",
       "      <td>1</td>\n",
       "      <td>Good</td>\n",
       "      <td>806949.00</td>\n",
       "      <td>3 years</td>\n",
       "      <td>Own Home</td>\n",
       "      <td>Debt Consolidation</td>\n",
       "      <td>8741.90</td>\n",
       "      <td>12.00</td>\n",
       "      <td>NaN</td>\n",
       "      <td>9.00</td>\n",
       "      <td>0.00</td>\n",
       "      <td>256329.00</td>\n",
       "      <td>386958.00</td>\n",
       "      <td>0.00</td>\n",
       "      <td>0.00</td>\n",
       "    </tr>\n",
       "    <tr>\n",
       "      <th>4</th>\n",
       "      <td>d4062e70-befa-4995-8643-a0de73938182</td>\n",
       "      <td>81536ad9-5ccf-4eb8-befb-47a4d608658e</td>\n",
       "      <td>1</td>\n",
       "      <td>176220.00</td>\n",
       "      <td>0</td>\n",
       "      <td>Good</td>\n",
       "      <td>1378276.56</td>\n",
       "      <td>5 years</td>\n",
       "      <td>Rent</td>\n",
       "      <td>Debt Consolidation</td>\n",
       "      <td>20639.70</td>\n",
       "      <td>6.10</td>\n",
       "      <td>NaN</td>\n",
       "      <td>15.00</td>\n",
       "      <td>0.00</td>\n",
       "      <td>253460.00</td>\n",
       "      <td>427174.00</td>\n",
       "      <td>0.00</td>\n",
       "      <td>0.00</td>\n",
       "    </tr>\n",
       "  </tbody>\n",
       "</table>\n",
       "</div>"
      ],
      "text/plain": [
       "                                Loan ID                           Customer ID  \\\n",
       "0  14dd8831-6af5-400b-83ec-68e61888a048  981165ec-3274-42f5-a3b4-d104041a9ca9   \n",
       "1  4771cc26-131a-45db-b5aa-537ea4ba5342  2de017a3-2e01-49cb-a581-08169e83be29   \n",
       "2  4eed4e6a-aa2f-4c91-8651-ce984ee8fb26  5efb2b2b-bf11-4dfd-a572-3761a2694725   \n",
       "3  77598f7b-32e7-4e3b-a6e5-06ba0d98fe8a  e777faab-98ae-45af-9a86-7ce5b33b1011   \n",
       "4  d4062e70-befa-4995-8643-a0de73938182  81536ad9-5ccf-4eb8-befb-47a4d608658e   \n",
       "\n",
       "   Loan Status  Current Loan Amount  Term Credit Score  Annual Income  \\\n",
       "0            1            445412.00     0         Good     1167493.00   \n",
       "1            1            262328.00     0         Good     1378276.56   \n",
       "2            1          99999999.00     0    Very Good     2231892.00   \n",
       "3            1            347666.00     1         Good      806949.00   \n",
       "4            1            176220.00     0         Good     1378276.56   \n",
       "\n",
       "  Years in current job Home Ownership             Purpose  Monthly Debt  \\\n",
       "0              8 years  Home Mortgage   Home Improvements       5214.74   \n",
       "1            10+ years  Home Mortgage  Debt Consolidation      33295.98   \n",
       "2              8 years       Own Home  Debt Consolidation      29200.53   \n",
       "3              3 years       Own Home  Debt Consolidation       8741.90   \n",
       "4              5 years           Rent  Debt Consolidation      20639.70   \n",
       "\n",
       "   Years of Credit History  Months since last delinquent  \\\n",
       "0                    17.20                           NaN   \n",
       "1                    21.10                          8.00   \n",
       "2                    14.90                         29.00   \n",
       "3                    12.00                           NaN   \n",
       "4                     6.10                           NaN   \n",
       "\n",
       "   Number of Open Accounts  Number of Credit Problems  Current Credit Balance  \\\n",
       "0                     6.00                       1.00               228190.00   \n",
       "1                    35.00                       0.00               229976.00   \n",
       "2                    18.00                       1.00               297996.00   \n",
       "3                     9.00                       0.00               256329.00   \n",
       "4                    15.00                       0.00               253460.00   \n",
       "\n",
       "   Maximum Open Credit  Bankruptcies  Tax Liens  \n",
       "0            416746.00          1.00       0.00  \n",
       "1            850784.00          0.00       0.00  \n",
       "2            750090.00          0.00       0.00  \n",
       "3            386958.00          0.00       0.00  \n",
       "4            427174.00          0.00       0.00  "
      ]
     },
     "execution_count": 31,
     "metadata": {},
     "output_type": "execute_result"
    }
   ],
   "source": [
    "dataframe.head()"
   ]
  },
  {
   "cell_type": "markdown",
   "metadata": {
    "_uuid": "05710746861cd8a8f19b8f86af60b5acbd7cd590"
   },
   "source": [
    "Following up on our step with Credit Score, we now try to change it to a discrete value, but since it has multiple class, we use one hot encoding to make sure we dont increase the dimension of our data. We also look out for potential multi-colinearity as we drop one variable of the encoding, which is easily calculated given the other four variables. This is consistent through out the notebook, with the use of one hot encoding."
   ]
  },
  {
   "cell_type": "code",
   "execution_count": 32,
   "metadata": {
    "_uuid": "74a02a7b4471d579027ec2b008475b060d1228d3"
   },
   "outputs": [],
   "source": [
    "dataframe = dataframe.join(pd.get_dummies(dataframe['Credit Score'], drop_first = True))"
   ]
  },
  {
   "cell_type": "markdown",
   "metadata": {
    "_uuid": "02ac01f4747d22b518333b754e0723dd379feb42"
   },
   "source": [
    "Since our values were only adjectives, we give it new names to make it more clear."
   ]
  },
  {
   "cell_type": "code",
   "execution_count": 33,
   "metadata": {
    "_uuid": "63d97da64f2dd8dfd3252c8e966b540847901d36"
   },
   "outputs": [
    {
     "data": {
      "text/html": [
       "<div>\n",
       "<style scoped>\n",
       "    .dataframe tbody tr th:only-of-type {\n",
       "        vertical-align: middle;\n",
       "    }\n",
       "\n",
       "    .dataframe tbody tr th {\n",
       "        vertical-align: top;\n",
       "    }\n",
       "\n",
       "    .dataframe thead th {\n",
       "        text-align: right;\n",
       "    }\n",
       "</style>\n",
       "<table border=\"1\" class=\"dataframe\">\n",
       "  <thead>\n",
       "    <tr style=\"text-align: right;\">\n",
       "      <th></th>\n",
       "      <th>Loan ID</th>\n",
       "      <th>Customer ID</th>\n",
       "      <th>Loan Status</th>\n",
       "      <th>Current Loan Amount</th>\n",
       "      <th>Term</th>\n",
       "      <th>Credit Score</th>\n",
       "      <th>Annual Income</th>\n",
       "      <th>Years in current job</th>\n",
       "      <th>Home Ownership</th>\n",
       "      <th>Purpose</th>\n",
       "      <th>...</th>\n",
       "      <th>Years of Credit History</th>\n",
       "      <th>Months since last delinquent</th>\n",
       "      <th>Number of Open Accounts</th>\n",
       "      <th>Number of Credit Problems</th>\n",
       "      <th>Current Credit Balance</th>\n",
       "      <th>Maximum Open Credit</th>\n",
       "      <th>Bankruptcies</th>\n",
       "      <th>Tax Liens</th>\n",
       "      <th>Credit Good</th>\n",
       "      <th>Credit Very Good</th>\n",
       "    </tr>\n",
       "  </thead>\n",
       "  <tbody>\n",
       "    <tr>\n",
       "      <th>0</th>\n",
       "      <td>14dd8831-6af5-400b-83ec-68e61888a048</td>\n",
       "      <td>981165ec-3274-42f5-a3b4-d104041a9ca9</td>\n",
       "      <td>1</td>\n",
       "      <td>445412.00</td>\n",
       "      <td>0</td>\n",
       "      <td>Good</td>\n",
       "      <td>1167493.00</td>\n",
       "      <td>8 years</td>\n",
       "      <td>Home Mortgage</td>\n",
       "      <td>Home Improvements</td>\n",
       "      <td>...</td>\n",
       "      <td>17.20</td>\n",
       "      <td>NaN</td>\n",
       "      <td>6.00</td>\n",
       "      <td>1.00</td>\n",
       "      <td>228190.00</td>\n",
       "      <td>416746.00</td>\n",
       "      <td>1.00</td>\n",
       "      <td>0.00</td>\n",
       "      <td>1</td>\n",
       "      <td>0</td>\n",
       "    </tr>\n",
       "    <tr>\n",
       "      <th>1</th>\n",
       "      <td>4771cc26-131a-45db-b5aa-537ea4ba5342</td>\n",
       "      <td>2de017a3-2e01-49cb-a581-08169e83be29</td>\n",
       "      <td>1</td>\n",
       "      <td>262328.00</td>\n",
       "      <td>0</td>\n",
       "      <td>Good</td>\n",
       "      <td>1378276.56</td>\n",
       "      <td>10+ years</td>\n",
       "      <td>Home Mortgage</td>\n",
       "      <td>Debt Consolidation</td>\n",
       "      <td>...</td>\n",
       "      <td>21.10</td>\n",
       "      <td>8.00</td>\n",
       "      <td>35.00</td>\n",
       "      <td>0.00</td>\n",
       "      <td>229976.00</td>\n",
       "      <td>850784.00</td>\n",
       "      <td>0.00</td>\n",
       "      <td>0.00</td>\n",
       "      <td>1</td>\n",
       "      <td>0</td>\n",
       "    </tr>\n",
       "    <tr>\n",
       "      <th>2</th>\n",
       "      <td>4eed4e6a-aa2f-4c91-8651-ce984ee8fb26</td>\n",
       "      <td>5efb2b2b-bf11-4dfd-a572-3761a2694725</td>\n",
       "      <td>1</td>\n",
       "      <td>99999999.00</td>\n",
       "      <td>0</td>\n",
       "      <td>Very Good</td>\n",
       "      <td>2231892.00</td>\n",
       "      <td>8 years</td>\n",
       "      <td>Own Home</td>\n",
       "      <td>Debt Consolidation</td>\n",
       "      <td>...</td>\n",
       "      <td>14.90</td>\n",
       "      <td>29.00</td>\n",
       "      <td>18.00</td>\n",
       "      <td>1.00</td>\n",
       "      <td>297996.00</td>\n",
       "      <td>750090.00</td>\n",
       "      <td>0.00</td>\n",
       "      <td>0.00</td>\n",
       "      <td>0</td>\n",
       "      <td>1</td>\n",
       "    </tr>\n",
       "    <tr>\n",
       "      <th>3</th>\n",
       "      <td>77598f7b-32e7-4e3b-a6e5-06ba0d98fe8a</td>\n",
       "      <td>e777faab-98ae-45af-9a86-7ce5b33b1011</td>\n",
       "      <td>1</td>\n",
       "      <td>347666.00</td>\n",
       "      <td>1</td>\n",
       "      <td>Good</td>\n",
       "      <td>806949.00</td>\n",
       "      <td>3 years</td>\n",
       "      <td>Own Home</td>\n",
       "      <td>Debt Consolidation</td>\n",
       "      <td>...</td>\n",
       "      <td>12.00</td>\n",
       "      <td>NaN</td>\n",
       "      <td>9.00</td>\n",
       "      <td>0.00</td>\n",
       "      <td>256329.00</td>\n",
       "      <td>386958.00</td>\n",
       "      <td>0.00</td>\n",
       "      <td>0.00</td>\n",
       "      <td>1</td>\n",
       "      <td>0</td>\n",
       "    </tr>\n",
       "    <tr>\n",
       "      <th>4</th>\n",
       "      <td>d4062e70-befa-4995-8643-a0de73938182</td>\n",
       "      <td>81536ad9-5ccf-4eb8-befb-47a4d608658e</td>\n",
       "      <td>1</td>\n",
       "      <td>176220.00</td>\n",
       "      <td>0</td>\n",
       "      <td>Good</td>\n",
       "      <td>1378276.56</td>\n",
       "      <td>5 years</td>\n",
       "      <td>Rent</td>\n",
       "      <td>Debt Consolidation</td>\n",
       "      <td>...</td>\n",
       "      <td>6.10</td>\n",
       "      <td>NaN</td>\n",
       "      <td>15.00</td>\n",
       "      <td>0.00</td>\n",
       "      <td>253460.00</td>\n",
       "      <td>427174.00</td>\n",
       "      <td>0.00</td>\n",
       "      <td>0.00</td>\n",
       "      <td>1</td>\n",
       "      <td>0</td>\n",
       "    </tr>\n",
       "    <tr>\n",
       "      <th>...</th>\n",
       "      <td>...</td>\n",
       "      <td>...</td>\n",
       "      <td>...</td>\n",
       "      <td>...</td>\n",
       "      <td>...</td>\n",
       "      <td>...</td>\n",
       "      <td>...</td>\n",
       "      <td>...</td>\n",
       "      <td>...</td>\n",
       "      <td>...</td>\n",
       "      <td>...</td>\n",
       "      <td>...</td>\n",
       "      <td>...</td>\n",
       "      <td>...</td>\n",
       "      <td>...</td>\n",
       "      <td>...</td>\n",
       "      <td>...</td>\n",
       "      <td>...</td>\n",
       "      <td>...</td>\n",
       "      <td>...</td>\n",
       "      <td>...</td>\n",
       "    </tr>\n",
       "    <tr>\n",
       "      <th>99995</th>\n",
       "      <td>3f94c18c-ba8f-45d0-8610-88a684a410a9</td>\n",
       "      <td>2da51983-cfef-4b8f-a733-5dfaf69e9281</td>\n",
       "      <td>1</td>\n",
       "      <td>147070.00</td>\n",
       "      <td>0</td>\n",
       "      <td>Good</td>\n",
       "      <td>475437.00</td>\n",
       "      <td>7 years</td>\n",
       "      <td>Own Home</td>\n",
       "      <td>other</td>\n",
       "      <td>...</td>\n",
       "      <td>22.30</td>\n",
       "      <td>NaN</td>\n",
       "      <td>5.00</td>\n",
       "      <td>0.00</td>\n",
       "      <td>47766.00</td>\n",
       "      <td>658548.00</td>\n",
       "      <td>0.00</td>\n",
       "      <td>0.00</td>\n",
       "      <td>1</td>\n",
       "      <td>0</td>\n",
       "    </tr>\n",
       "    <tr>\n",
       "      <th>99996</th>\n",
       "      <td>06eba04f-58fc-424a-b666-ed72aa008900</td>\n",
       "      <td>77f2252a-b7d1-4b07-a746-1202a8304290</td>\n",
       "      <td>1</td>\n",
       "      <td>99999999.00</td>\n",
       "      <td>0</td>\n",
       "      <td>Good</td>\n",
       "      <td>1289416.00</td>\n",
       "      <td>1 year</td>\n",
       "      <td>Rent</td>\n",
       "      <td>Debt Consolidation</td>\n",
       "      <td>...</td>\n",
       "      <td>9.40</td>\n",
       "      <td>21.00</td>\n",
       "      <td>22.00</td>\n",
       "      <td>0.00</td>\n",
       "      <td>153045.00</td>\n",
       "      <td>509234.00</td>\n",
       "      <td>0.00</td>\n",
       "      <td>0.00</td>\n",
       "      <td>1</td>\n",
       "      <td>0</td>\n",
       "    </tr>\n",
       "    <tr>\n",
       "      <th>99997</th>\n",
       "      <td>e1cb4050-eff5-4bdb-a1b0-aabd3f7eaac7</td>\n",
       "      <td>2ced5f10-bd60-4a11-9134-cadce4e7b0a3</td>\n",
       "      <td>1</td>\n",
       "      <td>103136.00</td>\n",
       "      <td>0</td>\n",
       "      <td>Very Good</td>\n",
       "      <td>1150545.00</td>\n",
       "      <td>6 years</td>\n",
       "      <td>Rent</td>\n",
       "      <td>Debt Consolidation</td>\n",
       "      <td>...</td>\n",
       "      <td>18.80</td>\n",
       "      <td>18.00</td>\n",
       "      <td>12.00</td>\n",
       "      <td>1.00</td>\n",
       "      <td>109554.00</td>\n",
       "      <td>537548.00</td>\n",
       "      <td>1.00</td>\n",
       "      <td>0.00</td>\n",
       "      <td>0</td>\n",
       "      <td>1</td>\n",
       "    </tr>\n",
       "    <tr>\n",
       "      <th>99998</th>\n",
       "      <td>81ab928b-d1a5-4523-9a3c-271ebb01b4fb</td>\n",
       "      <td>3e45ffda-99fd-4cfc-b8b8-446f4a505f36</td>\n",
       "      <td>1</td>\n",
       "      <td>530332.00</td>\n",
       "      <td>0</td>\n",
       "      <td>Very Good</td>\n",
       "      <td>1717524.00</td>\n",
       "      <td>9 years</td>\n",
       "      <td>Rent</td>\n",
       "      <td>Debt Consolidation</td>\n",
       "      <td>...</td>\n",
       "      <td>15.00</td>\n",
       "      <td>NaN</td>\n",
       "      <td>8.00</td>\n",
       "      <td>0.00</td>\n",
       "      <td>404225.00</td>\n",
       "      <td>738254.00</td>\n",
       "      <td>0.00</td>\n",
       "      <td>0.00</td>\n",
       "      <td>0</td>\n",
       "      <td>1</td>\n",
       "    </tr>\n",
       "    <tr>\n",
       "      <th>99999</th>\n",
       "      <td>c63916c6-6d46-47a9-949a-51d09af4414f</td>\n",
       "      <td>1b3014be-5c07-4d41-abe7-44573c375886</td>\n",
       "      <td>1</td>\n",
       "      <td>99999999.00</td>\n",
       "      <td>0</td>\n",
       "      <td>Very Good</td>\n",
       "      <td>935180.00</td>\n",
       "      <td>NaN</td>\n",
       "      <td>Own Home</td>\n",
       "      <td>Debt Consolidation</td>\n",
       "      <td>...</td>\n",
       "      <td>13.00</td>\n",
       "      <td>NaN</td>\n",
       "      <td>4.00</td>\n",
       "      <td>1.00</td>\n",
       "      <td>45600.00</td>\n",
       "      <td>91014.00</td>\n",
       "      <td>1.00</td>\n",
       "      <td>0.00</td>\n",
       "      <td>0</td>\n",
       "      <td>1</td>\n",
       "    </tr>\n",
       "  </tbody>\n",
       "</table>\n",
       "<p>100000 rows × 21 columns</p>\n",
       "</div>"
      ],
      "text/plain": [
       "                                    Loan ID  \\\n",
       "0      14dd8831-6af5-400b-83ec-68e61888a048   \n",
       "1      4771cc26-131a-45db-b5aa-537ea4ba5342   \n",
       "2      4eed4e6a-aa2f-4c91-8651-ce984ee8fb26   \n",
       "3      77598f7b-32e7-4e3b-a6e5-06ba0d98fe8a   \n",
       "4      d4062e70-befa-4995-8643-a0de73938182   \n",
       "...                                     ...   \n",
       "99995  3f94c18c-ba8f-45d0-8610-88a684a410a9   \n",
       "99996  06eba04f-58fc-424a-b666-ed72aa008900   \n",
       "99997  e1cb4050-eff5-4bdb-a1b0-aabd3f7eaac7   \n",
       "99998  81ab928b-d1a5-4523-9a3c-271ebb01b4fb   \n",
       "99999  c63916c6-6d46-47a9-949a-51d09af4414f   \n",
       "\n",
       "                                Customer ID  Loan Status  Current Loan Amount  \\\n",
       "0      981165ec-3274-42f5-a3b4-d104041a9ca9            1            445412.00   \n",
       "1      2de017a3-2e01-49cb-a581-08169e83be29            1            262328.00   \n",
       "2      5efb2b2b-bf11-4dfd-a572-3761a2694725            1          99999999.00   \n",
       "3      e777faab-98ae-45af-9a86-7ce5b33b1011            1            347666.00   \n",
       "4      81536ad9-5ccf-4eb8-befb-47a4d608658e            1            176220.00   \n",
       "...                                     ...          ...                  ...   \n",
       "99995  2da51983-cfef-4b8f-a733-5dfaf69e9281            1            147070.00   \n",
       "99996  77f2252a-b7d1-4b07-a746-1202a8304290            1          99999999.00   \n",
       "99997  2ced5f10-bd60-4a11-9134-cadce4e7b0a3            1            103136.00   \n",
       "99998  3e45ffda-99fd-4cfc-b8b8-446f4a505f36            1            530332.00   \n",
       "99999  1b3014be-5c07-4d41-abe7-44573c375886            1          99999999.00   \n",
       "\n",
       "       Term Credit Score  Annual Income Years in current job Home Ownership  \\\n",
       "0         0         Good     1167493.00              8 years  Home Mortgage   \n",
       "1         0         Good     1378276.56            10+ years  Home Mortgage   \n",
       "2         0    Very Good     2231892.00              8 years       Own Home   \n",
       "3         1         Good      806949.00              3 years       Own Home   \n",
       "4         0         Good     1378276.56              5 years           Rent   \n",
       "...     ...          ...            ...                  ...            ...   \n",
       "99995     0         Good      475437.00              7 years       Own Home   \n",
       "99996     0         Good     1289416.00               1 year           Rent   \n",
       "99997     0    Very Good     1150545.00              6 years           Rent   \n",
       "99998     0    Very Good     1717524.00              9 years           Rent   \n",
       "99999     0    Very Good      935180.00                  NaN       Own Home   \n",
       "\n",
       "                  Purpose  ...  Years of Credit History  \\\n",
       "0       Home Improvements  ...                    17.20   \n",
       "1      Debt Consolidation  ...                    21.10   \n",
       "2      Debt Consolidation  ...                    14.90   \n",
       "3      Debt Consolidation  ...                    12.00   \n",
       "4      Debt Consolidation  ...                     6.10   \n",
       "...                   ...  ...                      ...   \n",
       "99995               other  ...                    22.30   \n",
       "99996  Debt Consolidation  ...                     9.40   \n",
       "99997  Debt Consolidation  ...                    18.80   \n",
       "99998  Debt Consolidation  ...                    15.00   \n",
       "99999  Debt Consolidation  ...                    13.00   \n",
       "\n",
       "       Months since last delinquent  Number of Open Accounts  \\\n",
       "0                               NaN                     6.00   \n",
       "1                              8.00                    35.00   \n",
       "2                             29.00                    18.00   \n",
       "3                               NaN                     9.00   \n",
       "4                               NaN                    15.00   \n",
       "...                             ...                      ...   \n",
       "99995                           NaN                     5.00   \n",
       "99996                         21.00                    22.00   \n",
       "99997                         18.00                    12.00   \n",
       "99998                           NaN                     8.00   \n",
       "99999                           NaN                     4.00   \n",
       "\n",
       "       Number of Credit Problems  Current Credit Balance  Maximum Open Credit  \\\n",
       "0                           1.00               228190.00            416746.00   \n",
       "1                           0.00               229976.00            850784.00   \n",
       "2                           1.00               297996.00            750090.00   \n",
       "3                           0.00               256329.00            386958.00   \n",
       "4                           0.00               253460.00            427174.00   \n",
       "...                          ...                     ...                  ...   \n",
       "99995                       0.00                47766.00            658548.00   \n",
       "99996                       0.00               153045.00            509234.00   \n",
       "99997                       1.00               109554.00            537548.00   \n",
       "99998                       0.00               404225.00            738254.00   \n",
       "99999                       1.00                45600.00             91014.00   \n",
       "\n",
       "       Bankruptcies  Tax Liens  Credit Good  Credit Very Good  \n",
       "0              1.00       0.00            1                 0  \n",
       "1              0.00       0.00            1                 0  \n",
       "2              0.00       0.00            0                 1  \n",
       "3              0.00       0.00            1                 0  \n",
       "4              0.00       0.00            1                 0  \n",
       "...             ...        ...          ...               ...  \n",
       "99995          0.00       0.00            1                 0  \n",
       "99996          0.00       0.00            1                 0  \n",
       "99997          1.00       0.00            0                 1  \n",
       "99998          0.00       0.00            0                 1  \n",
       "99999          1.00       0.00            0                 1  \n",
       "\n",
       "[100000 rows x 21 columns]"
      ]
     },
     "execution_count": 33,
     "metadata": {},
     "output_type": "execute_result"
    }
   ],
   "source": [
    "dataframe.rename(index = str, columns={'Good':'Credit Good', 'Very Good':'Credit Very Good'})"
   ]
  },
  {
   "cell_type": "code",
   "execution_count": 34,
   "metadata": {
    "_uuid": "c2a81a6185009837596734a01364e4c4e31dacce",
    "scrolled": false
   },
   "outputs": [],
   "source": [
    "dataframe = dataframe.drop(['Credit Score'], axis=1)"
   ]
  },
  {
   "cell_type": "code",
   "execution_count": 35,
   "metadata": {
    "_uuid": "bccb08b504a593b89b9547b17d2d9ea6075876bd"
   },
   "outputs": [
    {
     "data": {
      "text/plain": [
       "<AxesSubplot:title={'center':'Purpose for Loans'}>"
      ]
     },
     "execution_count": 35,
     "metadata": {},
     "output_type": "execute_result"
    },
    {
     "data": {
      "image/png": "[encoded data removed]",
      "text/plain": [
       "<Figure size 1080x720 with 1 Axes>"
      ]
     },
     "metadata": {
      "needs_background": "light"
     },
     "output_type": "display_data"
    }
   ],
   "source": [
    "dataframe['Purpose'].value_counts().sort_values(ascending=True).plot(kind='barh', title=\"Purpose for Loans\", figsize=(15,10))"
   ]
  },
  {
   "cell_type": "code",
   "execution_count": 36,
   "metadata": {
    "_uuid": "c87b91b56ef5914ee547758236b5e546cde777bf"
   },
   "outputs": [
    {
     "data": {
      "text/html": [
       "<div>\n",
       "<style scoped>\n",
       "    .dataframe tbody tr th:only-of-type {\n",
       "        vertical-align: middle;\n",
       "    }\n",
       "\n",
       "    .dataframe tbody tr th {\n",
       "        vertical-align: top;\n",
       "    }\n",
       "\n",
       "    .dataframe thead th {\n",
       "        text-align: right;\n",
       "    }\n",
       "</style>\n",
       "<table border=\"1\" class=\"dataframe\">\n",
       "  <thead>\n",
       "    <tr style=\"text-align: right;\">\n",
       "      <th></th>\n",
       "      <th>Purpose</th>\n",
       "      <th>Loan Status</th>\n",
       "    </tr>\n",
       "  </thead>\n",
       "  <tbody>\n",
       "    <tr>\n",
       "      <th>0</th>\n",
       "      <td>Home Improvements</td>\n",
       "      <td>1</td>\n",
       "    </tr>\n",
       "    <tr>\n",
       "      <th>1</th>\n",
       "      <td>Debt Consolidation</td>\n",
       "      <td>1</td>\n",
       "    </tr>\n",
       "    <tr>\n",
       "      <th>2</th>\n",
       "      <td>Debt Consolidation</td>\n",
       "      <td>1</td>\n",
       "    </tr>\n",
       "    <tr>\n",
       "      <th>3</th>\n",
       "      <td>Debt Consolidation</td>\n",
       "      <td>1</td>\n",
       "    </tr>\n",
       "    <tr>\n",
       "      <th>4</th>\n",
       "      <td>Debt Consolidation</td>\n",
       "      <td>1</td>\n",
       "    </tr>\n",
       "  </tbody>\n",
       "</table>\n",
       "</div>"
      ],
      "text/plain": [
       "              Purpose  Loan Status\n",
       "0   Home Improvements            1\n",
       "1  Debt Consolidation            1\n",
       "2  Debt Consolidation            1\n",
       "3  Debt Consolidation            1\n",
       "4  Debt Consolidation            1"
      ]
     },
     "execution_count": 36,
     "metadata": {},
     "output_type": "execute_result"
    }
   ],
   "source": [
    "purposeloanstatus = dataframe[['Purpose','Loan Status']]\n",
    "purposeloanstatus.head()"
   ]
  },
  {
   "cell_type": "code",
   "execution_count": 37,
   "metadata": {
    "_uuid": "f28984864a4e7007a365ca6c88b6ac556fb27a0f"
   },
   "outputs": [
    {
     "data": {
      "text/plain": [
       "<AxesSubplot:title={'center':'Purpose of Loan Vs Loan Payment Status'}, xlabel='Purpose'>"
      ]
     },
     "execution_count": 37,
     "metadata": {},
     "output_type": "execute_result"
    },
    {
     "data": {
      "image/png": "[encoded data removed]",
      "text/plain": [
       "<Figure size 1440x720 with 1 Axes>"
      ]
     },
     "metadata": {
      "needs_background": "light"
     },
     "output_type": "display_data"
    }
   ],
   "source": [
    "pd.crosstab(purposeloanstatus['Purpose'], purposeloanstatus['Loan Status']).plot(kind='bar', stacked=True, figsize=(20,10), title=\"Purpose of Loan Vs Loan Payment Status\", )"
   ]
  },
  {
   "cell_type": "markdown",
   "metadata": {
    "_uuid": "297f5e2afed92f1ffbbf20dd0c641c126e840f12"
   },
   "source": [
    "Next up, we take a look at the Home ownership status of the people who have taken loan and try to visualize it."
   ]
  },
  {
   "cell_type": "code",
   "execution_count": 38,
   "metadata": {
    "_uuid": "964630ed098bdb92ad06bdb59a77398565595d29"
   },
   "outputs": [
    {
     "data": {
      "text/plain": [
       "<AxesSubplot:title={'center':'Number of Loan based on Home ownership'}>"
      ]
     },
     "execution_count": 38,
     "metadata": {},
     "output_type": "execute_result"
    },
    {
     "data": {
      "image/png": "[encoded data removed]",
      "text/plain": [
       "<Figure size 432x288 with 1 Axes>"
      ]
     },
     "metadata": {
      "needs_background": "light"
     },
     "output_type": "display_data"
    }
   ],
   "source": [
    "dataframe['Home Ownership'].value_counts().sort_values(ascending = True).plot(kind='bar', title=\"Number of Loan based on Home ownership\")"
   ]
  },
  {
   "cell_type": "markdown",
   "metadata": {
    "_uuid": "598086921cb7c664ec890d4a67e5f866653e81e6"
   },
   "source": [
    "As we can see most of the loans have been either by the people have mortgage on their home or by people who are in rent."
   ]
  },
  {
   "cell_type": "code",
   "execution_count": 39,
   "metadata": {
    "_uuid": "8587bfb61231e0a708ef6c9f810540a16cae97f1"
   },
   "outputs": [],
   "source": [
    "dataframe = dataframe.join(pd.get_dummies(dataframe['Home Ownership'],drop_first = True))"
   ]
  },
  {
   "cell_type": "code",
   "execution_count": 40,
   "metadata": {
    "_uuid": "432d8c86fcdddbafce9d80156d9393525ce032cf"
   },
   "outputs": [],
   "source": [
    "dataframe = dataframe.drop(['Home Ownership'], axis=1)"
   ]
  },
  {
   "cell_type": "markdown",
   "metadata": {
    "_uuid": "302d7648e7c76a2430fb87196dc136154386ea29"
   },
   "source": [
    "Moving forward, age of employment is one of the major factor in deciding the person's financial stability and secure income sources.  Here our data was a String with non uniform spread. first we need to extract the given numbers from our data and then give it a unform range to convert it into a categorical variable"
   ]
  },
  {
   "cell_type": "code",
   "execution_count": 41,
   "metadata": {
    "_uuid": "90f5e01333d817a5f68d5fdbc3c17b55718a9504",
    "scrolled": true
   },
   "outputs": [],
   "source": [
    "dataframe['Years in current job']=dataframe['Years in current job'].str.extract(r\"(\\d+)\")\n",
    "dataframe['Years in current job'] = dataframe['Years in current job'].astype(float)\n",
    "# dataframe['Years in current job'].fillna(dataframe['Years in current job'].mean(), inplace = True)\n"
   ]
  },
  {
   "cell_type": "code",
   "execution_count": 42,
   "metadata": {
    "_uuid": "fc7dfec8d49f63ab26db11be0ae93029e3eccec2"
   },
   "outputs": [],
   "source": [
    "expmean = dataframe['Years in current job'].mean()"
   ]
  },
  {
   "cell_type": "code",
   "execution_count": 43,
   "metadata": {
    "_uuid": "488928986868e2569410b20bb8fc464202cfbf40"
   },
   "outputs": [],
   "source": [
    "dataframe['Years in current job'].fillna(expmean, inplace=True)"
   ]
  },
  {
   "cell_type": "markdown",
   "metadata": {
    "_uuid": "8c08f7f5768a3a6a9ad2a906106a37afe16c9da5"
   },
   "source": [
    "Now That we have a numerical value for our Employment Age, we use a uniform range to convert it into categories."
   ]
  },
  {
   "cell_type": "code",
   "execution_count": 44,
   "metadata": {
    "_uuid": "a70c44193d758c77926e182eed5082a66b6e9ca9"
   },
   "outputs": [],
   "source": [
    "dataframe['Employment History'] = dataframe['Years in current job'].apply(lambda x: \"Emp Level Jr.\" if x<4 else (\"Emp Level Mid\" if x>4 and x<8 else \"Emp Senior\"))"
   ]
  },
  {
   "cell_type": "code",
   "execution_count": 45,
   "metadata": {
    "_uuid": "b3224acf6d04d1334368e2c5a904340e99552d7f",
    "scrolled": true
   },
   "outputs": [
    {
     "data": {
      "text/html": [
       "<div>\n",
       "<style scoped>\n",
       "    .dataframe tbody tr th:only-of-type {\n",
       "        vertical-align: middle;\n",
       "    }\n",
       "\n",
       "    .dataframe tbody tr th {\n",
       "        vertical-align: top;\n",
       "    }\n",
       "\n",
       "    .dataframe thead th {\n",
       "        text-align: right;\n",
       "    }\n",
       "</style>\n",
       "<table border=\"1\" class=\"dataframe\">\n",
       "  <thead>\n",
       "    <tr style=\"text-align: right;\">\n",
       "      <th></th>\n",
       "      <th>Loan ID</th>\n",
       "      <th>Customer ID</th>\n",
       "      <th>Loan Status</th>\n",
       "      <th>Current Loan Amount</th>\n",
       "      <th>Term</th>\n",
       "      <th>Annual Income</th>\n",
       "      <th>Years in current job</th>\n",
       "      <th>Purpose</th>\n",
       "      <th>Monthly Debt</th>\n",
       "      <th>Years of Credit History</th>\n",
       "      <th>...</th>\n",
       "      <th>Current Credit Balance</th>\n",
       "      <th>Maximum Open Credit</th>\n",
       "      <th>Bankruptcies</th>\n",
       "      <th>Tax Liens</th>\n",
       "      <th>Good</th>\n",
       "      <th>Very Good</th>\n",
       "      <th>Home Mortgage</th>\n",
       "      <th>Own Home</th>\n",
       "      <th>Rent</th>\n",
       "      <th>Employment History</th>\n",
       "    </tr>\n",
       "  </thead>\n",
       "  <tbody>\n",
       "    <tr>\n",
       "      <th>0</th>\n",
       "      <td>14dd8831-6af5-400b-83ec-68e61888a048</td>\n",
       "      <td>981165ec-3274-42f5-a3b4-d104041a9ca9</td>\n",
       "      <td>1</td>\n",
       "      <td>445412.00</td>\n",
       "      <td>0</td>\n",
       "      <td>1167493.00</td>\n",
       "      <td>8.00</td>\n",
       "      <td>Home Improvements</td>\n",
       "      <td>5214.74</td>\n",
       "      <td>17.20</td>\n",
       "      <td>...</td>\n",
       "      <td>228190.00</td>\n",
       "      <td>416746.00</td>\n",
       "      <td>1.00</td>\n",
       "      <td>0.00</td>\n",
       "      <td>1</td>\n",
       "      <td>0</td>\n",
       "      <td>1</td>\n",
       "      <td>0</td>\n",
       "      <td>0</td>\n",
       "      <td>Emp Senior</td>\n",
       "    </tr>\n",
       "    <tr>\n",
       "      <th>1</th>\n",
       "      <td>4771cc26-131a-45db-b5aa-537ea4ba5342</td>\n",
       "      <td>2de017a3-2e01-49cb-a581-08169e83be29</td>\n",
       "      <td>1</td>\n",
       "      <td>262328.00</td>\n",
       "      <td>0</td>\n",
       "      <td>1378276.56</td>\n",
       "      <td>10.00</td>\n",
       "      <td>Debt Consolidation</td>\n",
       "      <td>33295.98</td>\n",
       "      <td>21.10</td>\n",
       "      <td>...</td>\n",
       "      <td>229976.00</td>\n",
       "      <td>850784.00</td>\n",
       "      <td>0.00</td>\n",
       "      <td>0.00</td>\n",
       "      <td>1</td>\n",
       "      <td>0</td>\n",
       "      <td>1</td>\n",
       "      <td>0</td>\n",
       "      <td>0</td>\n",
       "      <td>Emp Senior</td>\n",
       "    </tr>\n",
       "    <tr>\n",
       "      <th>2</th>\n",
       "      <td>4eed4e6a-aa2f-4c91-8651-ce984ee8fb26</td>\n",
       "      <td>5efb2b2b-bf11-4dfd-a572-3761a2694725</td>\n",
       "      <td>1</td>\n",
       "      <td>99999999.00</td>\n",
       "      <td>0</td>\n",
       "      <td>2231892.00</td>\n",
       "      <td>8.00</td>\n",
       "      <td>Debt Consolidation</td>\n",
       "      <td>29200.53</td>\n",
       "      <td>14.90</td>\n",
       "      <td>...</td>\n",
       "      <td>297996.00</td>\n",
       "      <td>750090.00</td>\n",
       "      <td>0.00</td>\n",
       "      <td>0.00</td>\n",
       "      <td>0</td>\n",
       "      <td>1</td>\n",
       "      <td>0</td>\n",
       "      <td>1</td>\n",
       "      <td>0</td>\n",
       "      <td>Emp Senior</td>\n",
       "    </tr>\n",
       "    <tr>\n",
       "      <th>3</th>\n",
       "      <td>77598f7b-32e7-4e3b-a6e5-06ba0d98fe8a</td>\n",
       "      <td>e777faab-98ae-45af-9a86-7ce5b33b1011</td>\n",
       "      <td>1</td>\n",
       "      <td>347666.00</td>\n",
       "      <td>1</td>\n",
       "      <td>806949.00</td>\n",
       "      <td>3.00</td>\n",
       "      <td>Debt Consolidation</td>\n",
       "      <td>8741.90</td>\n",
       "      <td>12.00</td>\n",
       "      <td>...</td>\n",
       "      <td>256329.00</td>\n",
       "      <td>386958.00</td>\n",
       "      <td>0.00</td>\n",
       "      <td>0.00</td>\n",
       "      <td>1</td>\n",
       "      <td>0</td>\n",
       "      <td>0</td>\n",
       "      <td>1</td>\n",
       "      <td>0</td>\n",
       "      <td>Emp Level Jr.</td>\n",
       "    </tr>\n",
       "    <tr>\n",
       "      <th>4</th>\n",
       "      <td>d4062e70-befa-4995-8643-a0de73938182</td>\n",
       "      <td>81536ad9-5ccf-4eb8-befb-47a4d608658e</td>\n",
       "      <td>1</td>\n",
       "      <td>176220.00</td>\n",
       "      <td>0</td>\n",
       "      <td>1378276.56</td>\n",
       "      <td>5.00</td>\n",
       "      <td>Debt Consolidation</td>\n",
       "      <td>20639.70</td>\n",
       "      <td>6.10</td>\n",
       "      <td>...</td>\n",
       "      <td>253460.00</td>\n",
       "      <td>427174.00</td>\n",
       "      <td>0.00</td>\n",
       "      <td>0.00</td>\n",
       "      <td>1</td>\n",
       "      <td>0</td>\n",
       "      <td>0</td>\n",
       "      <td>0</td>\n",
       "      <td>1</td>\n",
       "      <td>Emp Level Mid</td>\n",
       "    </tr>\n",
       "  </tbody>\n",
       "</table>\n",
       "<p>5 rows × 23 columns</p>\n",
       "</div>"
      ],
      "text/plain": [
       "                                Loan ID                           Customer ID  \\\n",
       "0  14dd8831-6af5-400b-83ec-68e61888a048  981165ec-3274-42f5-a3b4-d104041a9ca9   \n",
       "1  4771cc26-131a-45db-b5aa-537ea4ba5342  2de017a3-2e01-49cb-a581-08169e83be29   \n",
       "2  4eed4e6a-aa2f-4c91-8651-ce984ee8fb26  5efb2b2b-bf11-4dfd-a572-3761a2694725   \n",
       "3  77598f7b-32e7-4e3b-a6e5-06ba0d98fe8a  e777faab-98ae-45af-9a86-7ce5b33b1011   \n",
       "4  d4062e70-befa-4995-8643-a0de73938182  81536ad9-5ccf-4eb8-befb-47a4d608658e   \n",
       "\n",
       "   Loan Status  Current Loan Amount  Term  Annual Income  \\\n",
       "0            1            445412.00     0     1167493.00   \n",
       "1            1            262328.00     0     1378276.56   \n",
       "2            1          99999999.00     0     2231892.00   \n",
       "3            1            347666.00     1      806949.00   \n",
       "4            1            176220.00     0     1378276.56   \n",
       "\n",
       "   Years in current job             Purpose  Monthly Debt  \\\n",
       "0                  8.00   Home Improvements       5214.74   \n",
       "1                 10.00  Debt Consolidation      33295.98   \n",
       "2                  8.00  Debt Consolidation      29200.53   \n",
       "3                  3.00  Debt Consolidation       8741.90   \n",
       "4                  5.00  Debt Consolidation      20639.70   \n",
       "\n",
       "   Years of Credit History  ...  Current Credit Balance  Maximum Open Credit  \\\n",
       "0                    17.20  ...               228190.00            416746.00   \n",
       "1                    21.10  ...               229976.00            850784.00   \n",
       "2                    14.90  ...               297996.00            750090.00   \n",
       "3                    12.00  ...               256329.00            386958.00   \n",
       "4                     6.10  ...               253460.00            427174.00   \n",
       "\n",
       "   Bankruptcies  Tax Liens  Good  Very Good  Home Mortgage  Own Home  Rent  \\\n",
       "0          1.00       0.00     1          0              1         0     0   \n",
       "1          0.00       0.00     1          0              1         0     0   \n",
       "2          0.00       0.00     0          1              0         1     0   \n",
       "3          0.00       0.00     1          0              0         1     0   \n",
       "4          0.00       0.00     1          0              0         0     1   \n",
       "\n",
       "   Employment History  \n",
       "0          Emp Senior  \n",
       "1          Emp Senior  \n",
       "2          Emp Senior  \n",
       "3       Emp Level Jr.  \n",
       "4       Emp Level Mid  \n",
       "\n",
       "[5 rows x 23 columns]"
      ]
     },
     "execution_count": 45,
     "metadata": {},
     "output_type": "execute_result"
    }
   ],
   "source": [
    "dataframe.head()"
   ]
  },
  {
   "cell_type": "code",
   "execution_count": 46,
   "metadata": {
    "_uuid": "64fefa0f53d4e51d08f1dffca52c59ac9c73f3aa"
   },
   "outputs": [],
   "source": [
    "dataframe = dataframe.drop(['Years in current job'], axis=1)"
   ]
  },
  {
   "cell_type": "markdown",
   "metadata": {
    "_uuid": "bcee63261ab0a08f62aab4194327e44eee7dfd68"
   },
   "source": [
    "Now that we have the categories for our employment history, we use one hot encoding on the column."
   ]
  },
  {
   "cell_type": "code",
   "execution_count": 47,
   "metadata": {
    "_uuid": "4a059135821e8060a321cfc403eaa4cde91a00e1"
   },
   "outputs": [],
   "source": [
    "dataframe = dataframe.join(pd.get_dummies(dataframe['Employment History'],drop_first = True))"
   ]
  },
  {
   "cell_type": "markdown",
   "metadata": {
    "_uuid": "4cfb54e3255d9a24d1fe46e4520f3f76f0f3e322"
   },
   "source": [
    "we then drop the Employment History column."
   ]
  },
  {
   "cell_type": "code",
   "execution_count": 48,
   "metadata": {
    "_uuid": "6ea9f3ceae11dba00d0a95d31c687a9f5ba87198"
   },
   "outputs": [],
   "source": [
    "dataframe = dataframe.drop(['Employment History'], axis=1)"
   ]
  },
  {
   "cell_type": "markdown",
   "metadata": {
    "_uuid": "26e01f11f915946e3f06a44c8f8ce3d317bd0276"
   },
   "source": [
    "If we take a look at our data, there are columns like Loan ID, Customer ID which isn't important for our analysis. While we can argue   in some cases  purpose of loan could be one deciding factor but here we consider it to be unimportant and drop that as well."
   ]
  },
  {
   "cell_type": "code",
   "execution_count": 49,
   "metadata": {
    "_uuid": "85a61492874a683f6131946be3067c18efdcf6b0"
   },
   "outputs": [],
   "source": [
    "dataframe = dataframe.drop(['Loan ID','Customer ID','Purpose'], axis=1)"
   ]
  },
  {
   "cell_type": "code",
   "execution_count": 50,
   "metadata": {
    "_uuid": "bb32f55daf46b6acd569d77e67df689e0441afcb"
   },
   "outputs": [
    {
     "data": {
      "text/html": [
       "<div>\n",
       "<style scoped>\n",
       "    .dataframe tbody tr th:only-of-type {\n",
       "        vertical-align: middle;\n",
       "    }\n",
       "\n",
       "    .dataframe tbody tr th {\n",
       "        vertical-align: top;\n",
       "    }\n",
       "\n",
       "    .dataframe thead th {\n",
       "        text-align: right;\n",
       "    }\n",
       "</style>\n",
       "<table border=\"1\" class=\"dataframe\">\n",
       "  <thead>\n",
       "    <tr style=\"text-align: right;\">\n",
       "      <th></th>\n",
       "      <th>Loan Status</th>\n",
       "      <th>Current Loan Amount</th>\n",
       "      <th>Term</th>\n",
       "      <th>Annual Income</th>\n",
       "      <th>Monthly Debt</th>\n",
       "      <th>Years of Credit History</th>\n",
       "      <th>Months since last delinquent</th>\n",
       "      <th>Number of Open Accounts</th>\n",
       "      <th>Number of Credit Problems</th>\n",
       "      <th>Current Credit Balance</th>\n",
       "      <th>Maximum Open Credit</th>\n",
       "      <th>Bankruptcies</th>\n",
       "      <th>Tax Liens</th>\n",
       "      <th>Good</th>\n",
       "      <th>Very Good</th>\n",
       "      <th>Home Mortgage</th>\n",
       "      <th>Own Home</th>\n",
       "      <th>Rent</th>\n",
       "      <th>Emp Level Mid</th>\n",
       "      <th>Emp Senior</th>\n",
       "    </tr>\n",
       "  </thead>\n",
       "  <tbody>\n",
       "    <tr>\n",
       "      <th>0</th>\n",
       "      <td>1</td>\n",
       "      <td>445412.00</td>\n",
       "      <td>0</td>\n",
       "      <td>1167493.00</td>\n",
       "      <td>5214.74</td>\n",
       "      <td>17.20</td>\n",
       "      <td>NaN</td>\n",
       "      <td>6.00</td>\n",
       "      <td>1.00</td>\n",
       "      <td>228190.00</td>\n",
       "      <td>416746.00</td>\n",
       "      <td>1.00</td>\n",
       "      <td>0.00</td>\n",
       "      <td>1</td>\n",
       "      <td>0</td>\n",
       "      <td>1</td>\n",
       "      <td>0</td>\n",
       "      <td>0</td>\n",
       "      <td>0</td>\n",
       "      <td>1</td>\n",
       "    </tr>\n",
       "    <tr>\n",
       "      <th>1</th>\n",
       "      <td>1</td>\n",
       "      <td>262328.00</td>\n",
       "      <td>0</td>\n",
       "      <td>1378276.56</td>\n",
       "      <td>33295.98</td>\n",
       "      <td>21.10</td>\n",
       "      <td>8.00</td>\n",
       "      <td>35.00</td>\n",
       "      <td>0.00</td>\n",
       "      <td>229976.00</td>\n",
       "      <td>850784.00</td>\n",
       "      <td>0.00</td>\n",
       "      <td>0.00</td>\n",
       "      <td>1</td>\n",
       "      <td>0</td>\n",
       "      <td>1</td>\n",
       "      <td>0</td>\n",
       "      <td>0</td>\n",
       "      <td>0</td>\n",
       "      <td>1</td>\n",
       "    </tr>\n",
       "    <tr>\n",
       "      <th>2</th>\n",
       "      <td>1</td>\n",
       "      <td>99999999.00</td>\n",
       "      <td>0</td>\n",
       "      <td>2231892.00</td>\n",
       "      <td>29200.53</td>\n",
       "      <td>14.90</td>\n",
       "      <td>29.00</td>\n",
       "      <td>18.00</td>\n",
       "      <td>1.00</td>\n",
       "      <td>297996.00</td>\n",
       "      <td>750090.00</td>\n",
       "      <td>0.00</td>\n",
       "      <td>0.00</td>\n",
       "      <td>0</td>\n",
       "      <td>1</td>\n",
       "      <td>0</td>\n",
       "      <td>1</td>\n",
       "      <td>0</td>\n",
       "      <td>0</td>\n",
       "      <td>1</td>\n",
       "    </tr>\n",
       "    <tr>\n",
       "      <th>3</th>\n",
       "      <td>1</td>\n",
       "      <td>347666.00</td>\n",
       "      <td>1</td>\n",
       "      <td>806949.00</td>\n",
       "      <td>8741.90</td>\n",
       "      <td>12.00</td>\n",
       "      <td>NaN</td>\n",
       "      <td>9.00</td>\n",
       "      <td>0.00</td>\n",
       "      <td>256329.00</td>\n",
       "      <td>386958.00</td>\n",
       "      <td>0.00</td>\n",
       "      <td>0.00</td>\n",
       "      <td>1</td>\n",
       "      <td>0</td>\n",
       "      <td>0</td>\n",
       "      <td>1</td>\n",
       "      <td>0</td>\n",
       "      <td>0</td>\n",
       "      <td>0</td>\n",
       "    </tr>\n",
       "    <tr>\n",
       "      <th>4</th>\n",
       "      <td>1</td>\n",
       "      <td>176220.00</td>\n",
       "      <td>0</td>\n",
       "      <td>1378276.56</td>\n",
       "      <td>20639.70</td>\n",
       "      <td>6.10</td>\n",
       "      <td>NaN</td>\n",
       "      <td>15.00</td>\n",
       "      <td>0.00</td>\n",
       "      <td>253460.00</td>\n",
       "      <td>427174.00</td>\n",
       "      <td>0.00</td>\n",
       "      <td>0.00</td>\n",
       "      <td>1</td>\n",
       "      <td>0</td>\n",
       "      <td>0</td>\n",
       "      <td>0</td>\n",
       "      <td>1</td>\n",
       "      <td>1</td>\n",
       "      <td>0</td>\n",
       "    </tr>\n",
       "  </tbody>\n",
       "</table>\n",
       "</div>"
      ],
      "text/plain": [
       "   Loan Status  Current Loan Amount  Term  Annual Income  Monthly Debt  \\\n",
       "0            1            445412.00     0     1167493.00       5214.74   \n",
       "1            1            262328.00     0     1378276.56      33295.98   \n",
       "2            1          99999999.00     0     2231892.00      29200.53   \n",
       "3            1            347666.00     1      806949.00       8741.90   \n",
       "4            1            176220.00     0     1378276.56      20639.70   \n",
       "\n",
       "   Years of Credit History  Months since last delinquent  \\\n",
       "0                    17.20                           NaN   \n",
       "1                    21.10                          8.00   \n",
       "2                    14.90                         29.00   \n",
       "3                    12.00                           NaN   \n",
       "4                     6.10                           NaN   \n",
       "\n",
       "   Number of Open Accounts  Number of Credit Problems  Current Credit Balance  \\\n",
       "0                     6.00                       1.00               228190.00   \n",
       "1                    35.00                       0.00               229976.00   \n",
       "2                    18.00                       1.00               297996.00   \n",
       "3                     9.00                       0.00               256329.00   \n",
       "4                    15.00                       0.00               253460.00   \n",
       "\n",
       "   Maximum Open Credit  Bankruptcies  Tax Liens  Good  Very Good  \\\n",
       "0            416746.00          1.00       0.00     1          0   \n",
       "1            850784.00          0.00       0.00     1          0   \n",
       "2            750090.00          0.00       0.00     0          1   \n",
       "3            386958.00          0.00       0.00     1          0   \n",
       "4            427174.00          0.00       0.00     1          0   \n",
       "\n",
       "   Home Mortgage  Own Home  Rent  Emp Level Mid  Emp Senior  \n",
       "0              1         0     0              0           1  \n",
       "1              1         0     0              0           1  \n",
       "2              0         1     0              0           1  \n",
       "3              0         1     0              0           0  \n",
       "4              0         0     1              1           0  "
      ]
     },
     "execution_count": 50,
     "metadata": {},
     "output_type": "execute_result"
    }
   ],
   "source": [
    "dataframe.head()"
   ]
  },
  {
   "cell_type": "markdown",
   "metadata": {
    "_uuid": "bbe80e3a06e5f1fa34a95c7f553e3e208e9bdc06"
   },
   "source": [
    "Next up is number of credit problems reported for each individual loanee. We split that into three categories with 0 being None, 1-5 as Some and more than 5 to be major credit problems."
   ]
  },
  {
   "cell_type": "code",
   "execution_count": 51,
   "metadata": {
    "_uuid": "f541a24a12738959995a54fb46db09dca8a95fe5"
   },
   "outputs": [],
   "source": [
    "dataframe['Credit Problems'] = dataframe['Number of Credit Problems'].apply(lambda x: \"No Credit Problem\" if x==0 else (\"Some Credit promblem\" if x>0 and x<5 else \"Major Credit Problems\"))"
   ]
  },
  {
   "cell_type": "code",
   "execution_count": 52,
   "metadata": {
    "_uuid": "a56d642f75a1a70a1d5db3eb54999cce6d71af5e"
   },
   "outputs": [
    {
     "data": {
      "text/plain": [
       "No Credit Problem        86035\n",
       "Some Credit promblem     13879\n",
       "Major Credit Problems       86\n",
       "Name: Credit Problems, dtype: int64"
      ]
     },
     "execution_count": 52,
     "metadata": {},
     "output_type": "execute_result"
    }
   ],
   "source": [
    "dataframe['Credit Problems'].value_counts()"
   ]
  },
  {
   "cell_type": "code",
   "execution_count": 53,
   "metadata": {
    "_uuid": "0968720f1aa6c0f68bc8a9c3155ec73def378665",
    "scrolled": false
   },
   "outputs": [
    {
     "data": {
      "text/plain": [
       "<AxesSubplot:title={'center':'Loans vs Credit problems of Loanee'}>"
      ]
     },
     "execution_count": 53,
     "metadata": {},
     "output_type": "execute_result"
    },
    {
     "data": {
      "image/png": "[encoded data removed]",
      "text/plain": [
       "<Figure size 432x288 with 1 Axes>"
      ]
     },
     "metadata": {
      "needs_background": "light"
     },
     "output_type": "display_data"
    }
   ],
   "source": [
    "dataframe['Credit Problems'].value_counts().sort_values(ascending=True).plot(kind='barh', title=\"Loans vs Credit problems of Loanee\")"
   ]
  },
  {
   "cell_type": "markdown",
   "metadata": {
    "_uuid": "af30caceb65e1d2c8413f5985900484f23f869cb"
   },
   "source": [
    "Looking at the graph above, we establish a common asumption that loans are generally not given to people having credit problems. Next up, we convert Credit Problems into discrete variables. "
   ]
  },
  {
   "cell_type": "code",
   "execution_count": 54,
   "metadata": {
    "_uuid": "d1b8725eb324863521b0e7be2c8e3a3660356a98"
   },
   "outputs": [],
   "source": [
    "dataframe = dataframe.join(pd.get_dummies(dataframe['Credit Problems'],drop_first = True))"
   ]
  },
  {
   "cell_type": "code",
   "execution_count": 55,
   "metadata": {
    "_uuid": "a8493e95aa9eafe07030306cc083f1e5e4584960"
   },
   "outputs": [],
   "source": [
    "dataframe = dataframe.drop(['Credit Problems','Number of Credit Problems'], axis=1)"
   ]
  },
  {
   "cell_type": "code",
   "execution_count": 56,
   "metadata": {
    "_uuid": "118b10e2a9d1ac08e6c931882f17ef97d32b536d"
   },
   "outputs": [
    {
     "data": {
      "text/html": [
       "<div>\n",
       "<style scoped>\n",
       "    .dataframe tbody tr th:only-of-type {\n",
       "        vertical-align: middle;\n",
       "    }\n",
       "\n",
       "    .dataframe tbody tr th {\n",
       "        vertical-align: top;\n",
       "    }\n",
       "\n",
       "    .dataframe thead th {\n",
       "        text-align: right;\n",
       "    }\n",
       "</style>\n",
       "<table border=\"1\" class=\"dataframe\">\n",
       "  <thead>\n",
       "    <tr style=\"text-align: right;\">\n",
       "      <th></th>\n",
       "      <th>Loan Status</th>\n",
       "      <th>Current Loan Amount</th>\n",
       "      <th>Term</th>\n",
       "      <th>Annual Income</th>\n",
       "      <th>Monthly Debt</th>\n",
       "      <th>Years of Credit History</th>\n",
       "      <th>Months since last delinquent</th>\n",
       "      <th>Number of Open Accounts</th>\n",
       "      <th>Current Credit Balance</th>\n",
       "      <th>Maximum Open Credit</th>\n",
       "      <th>...</th>\n",
       "      <th>Tax Liens</th>\n",
       "      <th>Good</th>\n",
       "      <th>Very Good</th>\n",
       "      <th>Home Mortgage</th>\n",
       "      <th>Own Home</th>\n",
       "      <th>Rent</th>\n",
       "      <th>Emp Level Mid</th>\n",
       "      <th>Emp Senior</th>\n",
       "      <th>No Credit Problem</th>\n",
       "      <th>Some Credit promblem</th>\n",
       "    </tr>\n",
       "  </thead>\n",
       "  <tbody>\n",
       "    <tr>\n",
       "      <th>0</th>\n",
       "      <td>1</td>\n",
       "      <td>445412.00</td>\n",
       "      <td>0</td>\n",
       "      <td>1167493.00</td>\n",
       "      <td>5214.74</td>\n",
       "      <td>17.20</td>\n",
       "      <td>NaN</td>\n",
       "      <td>6.00</td>\n",
       "      <td>228190.00</td>\n",
       "      <td>416746.00</td>\n",
       "      <td>...</td>\n",
       "      <td>0.00</td>\n",
       "      <td>1</td>\n",
       "      <td>0</td>\n",
       "      <td>1</td>\n",
       "      <td>0</td>\n",
       "      <td>0</td>\n",
       "      <td>0</td>\n",
       "      <td>1</td>\n",
       "      <td>0</td>\n",
       "      <td>1</td>\n",
       "    </tr>\n",
       "    <tr>\n",
       "      <th>1</th>\n",
       "      <td>1</td>\n",
       "      <td>262328.00</td>\n",
       "      <td>0</td>\n",
       "      <td>1378276.56</td>\n",
       "      <td>33295.98</td>\n",
       "      <td>21.10</td>\n",
       "      <td>8.00</td>\n",
       "      <td>35.00</td>\n",
       "      <td>229976.00</td>\n",
       "      <td>850784.00</td>\n",
       "      <td>...</td>\n",
       "      <td>0.00</td>\n",
       "      <td>1</td>\n",
       "      <td>0</td>\n",
       "      <td>1</td>\n",
       "      <td>0</td>\n",
       "      <td>0</td>\n",
       "      <td>0</td>\n",
       "      <td>1</td>\n",
       "      <td>1</td>\n",
       "      <td>0</td>\n",
       "    </tr>\n",
       "    <tr>\n",
       "      <th>2</th>\n",
       "      <td>1</td>\n",
       "      <td>99999999.00</td>\n",
       "      <td>0</td>\n",
       "      <td>2231892.00</td>\n",
       "      <td>29200.53</td>\n",
       "      <td>14.90</td>\n",
       "      <td>29.00</td>\n",
       "      <td>18.00</td>\n",
       "      <td>297996.00</td>\n",
       "      <td>750090.00</td>\n",
       "      <td>...</td>\n",
       "      <td>0.00</td>\n",
       "      <td>0</td>\n",
       "      <td>1</td>\n",
       "      <td>0</td>\n",
       "      <td>1</td>\n",
       "      <td>0</td>\n",
       "      <td>0</td>\n",
       "      <td>1</td>\n",
       "      <td>0</td>\n",
       "      <td>1</td>\n",
       "    </tr>\n",
       "    <tr>\n",
       "      <th>3</th>\n",
       "      <td>1</td>\n",
       "      <td>347666.00</td>\n",
       "      <td>1</td>\n",
       "      <td>806949.00</td>\n",
       "      <td>8741.90</td>\n",
       "      <td>12.00</td>\n",
       "      <td>NaN</td>\n",
       "      <td>9.00</td>\n",
       "      <td>256329.00</td>\n",
       "      <td>386958.00</td>\n",
       "      <td>...</td>\n",
       "      <td>0.00</td>\n",
       "      <td>1</td>\n",
       "      <td>0</td>\n",
       "      <td>0</td>\n",
       "      <td>1</td>\n",
       "      <td>0</td>\n",
       "      <td>0</td>\n",
       "      <td>0</td>\n",
       "      <td>1</td>\n",
       "      <td>0</td>\n",
       "    </tr>\n",
       "    <tr>\n",
       "      <th>4</th>\n",
       "      <td>1</td>\n",
       "      <td>176220.00</td>\n",
       "      <td>0</td>\n",
       "      <td>1378276.56</td>\n",
       "      <td>20639.70</td>\n",
       "      <td>6.10</td>\n",
       "      <td>NaN</td>\n",
       "      <td>15.00</td>\n",
       "      <td>253460.00</td>\n",
       "      <td>427174.00</td>\n",
       "      <td>...</td>\n",
       "      <td>0.00</td>\n",
       "      <td>1</td>\n",
       "      <td>0</td>\n",
       "      <td>0</td>\n",
       "      <td>0</td>\n",
       "      <td>1</td>\n",
       "      <td>1</td>\n",
       "      <td>0</td>\n",
       "      <td>1</td>\n",
       "      <td>0</td>\n",
       "    </tr>\n",
       "  </tbody>\n",
       "</table>\n",
       "<p>5 rows × 21 columns</p>\n",
       "</div>"
      ],
      "text/plain": [
       "   Loan Status  Current Loan Amount  Term  Annual Income  Monthly Debt  \\\n",
       "0            1            445412.00     0     1167493.00       5214.74   \n",
       "1            1            262328.00     0     1378276.56      33295.98   \n",
       "2            1          99999999.00     0     2231892.00      29200.53   \n",
       "3            1            347666.00     1      806949.00       8741.90   \n",
       "4            1            176220.00     0     1378276.56      20639.70   \n",
       "\n",
       "   Years of Credit History  Months since last delinquent  \\\n",
       "0                    17.20                           NaN   \n",
       "1                    21.10                          8.00   \n",
       "2                    14.90                         29.00   \n",
       "3                    12.00                           NaN   \n",
       "4                     6.10                           NaN   \n",
       "\n",
       "   Number of Open Accounts  Current Credit Balance  Maximum Open Credit  ...  \\\n",
       "0                     6.00               228190.00            416746.00  ...   \n",
       "1                    35.00               229976.00            850784.00  ...   \n",
       "2                    18.00               297996.00            750090.00  ...   \n",
       "3                     9.00               256329.00            386958.00  ...   \n",
       "4                    15.00               253460.00            427174.00  ...   \n",
       "\n",
       "   Tax Liens  Good  Very Good  Home Mortgage  Own Home  Rent  Emp Level Mid  \\\n",
       "0       0.00     1          0              1         0     0              0   \n",
       "1       0.00     1          0              1         0     0              0   \n",
       "2       0.00     0          1              0         1     0              0   \n",
       "3       0.00     1          0              0         1     0              0   \n",
       "4       0.00     1          0              0         0     1              1   \n",
       "\n",
       "   Emp Senior  No Credit Problem  Some Credit promblem  \n",
       "0           1                  0                     1  \n",
       "1           1                  1                     0  \n",
       "2           1                  0                     1  \n",
       "3           0                  1                     0  \n",
       "4           0                  1                     0  \n",
       "\n",
       "[5 rows x 21 columns]"
      ]
     },
     "execution_count": 56,
     "metadata": {},
     "output_type": "execute_result"
    }
   ],
   "source": [
    "dataframe.head()"
   ]
  },
  {
   "cell_type": "markdown",
   "metadata": {
    "_uuid": "d76ac07036dedbb5cb51f4e4547b0b038e19adfd"
   },
   "source": [
    "Another important feature for financial stability identification is the years of credit history. We look at the given credit age of individuals and categorize them using one hot encoding."
   ]
  },
  {
   "cell_type": "code",
   "execution_count": 57,
   "metadata": {
    "_uuid": "4df80ffff4ea02a575cef287da5760cc4fc8b658"
   },
   "outputs": [],
   "source": [
    "dataframe['Credit Age'] = dataframe['Years of Credit History'].apply(lambda x: \"Short Credit Age\" if x<5 else (\"Good Credit Age\" if x>5 and x<17 else \"Exceptional Credit Age\"))"
   ]
  },
  {
   "cell_type": "code",
   "execution_count": 58,
   "metadata": {
    "_uuid": "e1d9c1bb9a0ee04d18854831e28a84ad14f2c77f"
   },
   "outputs": [],
   "source": [
    "dataframe = dataframe.join(pd.get_dummies(dataframe['Credit Age'],drop_first = True))"
   ]
  },
  {
   "cell_type": "code",
   "execution_count": 59,
   "metadata": {
    "_uuid": "8e6536d2ef581379998f6cb4a7376bd91bb1151c",
    "scrolled": true
   },
   "outputs": [
    {
     "data": {
      "text/html": [
       "<div>\n",
       "<style scoped>\n",
       "    .dataframe tbody tr th:only-of-type {\n",
       "        vertical-align: middle;\n",
       "    }\n",
       "\n",
       "    .dataframe tbody tr th {\n",
       "        vertical-align: top;\n",
       "    }\n",
       "\n",
       "    .dataframe thead th {\n",
       "        text-align: right;\n",
       "    }\n",
       "</style>\n",
       "<table border=\"1\" class=\"dataframe\">\n",
       "  <thead>\n",
       "    <tr style=\"text-align: right;\">\n",
       "      <th></th>\n",
       "      <th>Loan Status</th>\n",
       "      <th>Current Loan Amount</th>\n",
       "      <th>Term</th>\n",
       "      <th>Annual Income</th>\n",
       "      <th>Monthly Debt</th>\n",
       "      <th>Months since last delinquent</th>\n",
       "      <th>Number of Open Accounts</th>\n",
       "      <th>Current Credit Balance</th>\n",
       "      <th>Maximum Open Credit</th>\n",
       "      <th>Bankruptcies</th>\n",
       "      <th>...</th>\n",
       "      <th>Very Good</th>\n",
       "      <th>Home Mortgage</th>\n",
       "      <th>Own Home</th>\n",
       "      <th>Rent</th>\n",
       "      <th>Emp Level Mid</th>\n",
       "      <th>Emp Senior</th>\n",
       "      <th>No Credit Problem</th>\n",
       "      <th>Some Credit promblem</th>\n",
       "      <th>Good Credit Age</th>\n",
       "      <th>Short Credit Age</th>\n",
       "    </tr>\n",
       "  </thead>\n",
       "  <tbody>\n",
       "    <tr>\n",
       "      <th>0</th>\n",
       "      <td>1</td>\n",
       "      <td>445412.00</td>\n",
       "      <td>0</td>\n",
       "      <td>1167493.00</td>\n",
       "      <td>5214.74</td>\n",
       "      <td>NaN</td>\n",
       "      <td>6.00</td>\n",
       "      <td>228190.00</td>\n",
       "      <td>416746.00</td>\n",
       "      <td>1.00</td>\n",
       "      <td>...</td>\n",
       "      <td>0</td>\n",
       "      <td>1</td>\n",
       "      <td>0</td>\n",
       "      <td>0</td>\n",
       "      <td>0</td>\n",
       "      <td>1</td>\n",
       "      <td>0</td>\n",
       "      <td>1</td>\n",
       "      <td>0</td>\n",
       "      <td>0</td>\n",
       "    </tr>\n",
       "    <tr>\n",
       "      <th>1</th>\n",
       "      <td>1</td>\n",
       "      <td>262328.00</td>\n",
       "      <td>0</td>\n",
       "      <td>1378276.56</td>\n",
       "      <td>33295.98</td>\n",
       "      <td>8.00</td>\n",
       "      <td>35.00</td>\n",
       "      <td>229976.00</td>\n",
       "      <td>850784.00</td>\n",
       "      <td>0.00</td>\n",
       "      <td>...</td>\n",
       "      <td>0</td>\n",
       "      <td>1</td>\n",
       "      <td>0</td>\n",
       "      <td>0</td>\n",
       "      <td>0</td>\n",
       "      <td>1</td>\n",
       "      <td>1</td>\n",
       "      <td>0</td>\n",
       "      <td>0</td>\n",
       "      <td>0</td>\n",
       "    </tr>\n",
       "    <tr>\n",
       "      <th>2</th>\n",
       "      <td>1</td>\n",
       "      <td>99999999.00</td>\n",
       "      <td>0</td>\n",
       "      <td>2231892.00</td>\n",
       "      <td>29200.53</td>\n",
       "      <td>29.00</td>\n",
       "      <td>18.00</td>\n",
       "      <td>297996.00</td>\n",
       "      <td>750090.00</td>\n",
       "      <td>0.00</td>\n",
       "      <td>...</td>\n",
       "      <td>1</td>\n",
       "      <td>0</td>\n",
       "      <td>1</td>\n",
       "      <td>0</td>\n",
       "      <td>0</td>\n",
       "      <td>1</td>\n",
       "      <td>0</td>\n",
       "      <td>1</td>\n",
       "      <td>1</td>\n",
       "      <td>0</td>\n",
       "    </tr>\n",
       "    <tr>\n",
       "      <th>3</th>\n",
       "      <td>1</td>\n",
       "      <td>347666.00</td>\n",
       "      <td>1</td>\n",
       "      <td>806949.00</td>\n",
       "      <td>8741.90</td>\n",
       "      <td>NaN</td>\n",
       "      <td>9.00</td>\n",
       "      <td>256329.00</td>\n",
       "      <td>386958.00</td>\n",
       "      <td>0.00</td>\n",
       "      <td>...</td>\n",
       "      <td>0</td>\n",
       "      <td>0</td>\n",
       "      <td>1</td>\n",
       "      <td>0</td>\n",
       "      <td>0</td>\n",
       "      <td>0</td>\n",
       "      <td>1</td>\n",
       "      <td>0</td>\n",
       "      <td>1</td>\n",
       "      <td>0</td>\n",
       "    </tr>\n",
       "    <tr>\n",
       "      <th>4</th>\n",
       "      <td>1</td>\n",
       "      <td>176220.00</td>\n",
       "      <td>0</td>\n",
       "      <td>1378276.56</td>\n",
       "      <td>20639.70</td>\n",
       "      <td>NaN</td>\n",
       "      <td>15.00</td>\n",
       "      <td>253460.00</td>\n",
       "      <td>427174.00</td>\n",
       "      <td>0.00</td>\n",
       "      <td>...</td>\n",
       "      <td>0</td>\n",
       "      <td>0</td>\n",
       "      <td>0</td>\n",
       "      <td>1</td>\n",
       "      <td>1</td>\n",
       "      <td>0</td>\n",
       "      <td>1</td>\n",
       "      <td>0</td>\n",
       "      <td>1</td>\n",
       "      <td>0</td>\n",
       "    </tr>\n",
       "  </tbody>\n",
       "</table>\n",
       "<p>5 rows × 22 columns</p>\n",
       "</div>"
      ],
      "text/plain": [
       "   Loan Status  Current Loan Amount  Term  Annual Income  Monthly Debt  \\\n",
       "0            1            445412.00     0     1167493.00       5214.74   \n",
       "1            1            262328.00     0     1378276.56      33295.98   \n",
       "2            1          99999999.00     0     2231892.00      29200.53   \n",
       "3            1            347666.00     1      806949.00       8741.90   \n",
       "4            1            176220.00     0     1378276.56      20639.70   \n",
       "\n",
       "   Months since last delinquent  Number of Open Accounts  \\\n",
       "0                           NaN                     6.00   \n",
       "1                          8.00                    35.00   \n",
       "2                         29.00                    18.00   \n",
       "3                           NaN                     9.00   \n",
       "4                           NaN                    15.00   \n",
       "\n",
       "   Current Credit Balance  Maximum Open Credit  Bankruptcies  ...  Very Good  \\\n",
       "0               228190.00            416746.00          1.00  ...          0   \n",
       "1               229976.00            850784.00          0.00  ...          0   \n",
       "2               297996.00            750090.00          0.00  ...          1   \n",
       "3               256329.00            386958.00          0.00  ...          0   \n",
       "4               253460.00            427174.00          0.00  ...          0   \n",
       "\n",
       "   Home Mortgage  Own Home  Rent  Emp Level Mid  Emp Senior  \\\n",
       "0              1         0     0              0           1   \n",
       "1              1         0     0              0           1   \n",
       "2              0         1     0              0           1   \n",
       "3              0         1     0              0           0   \n",
       "4              0         0     1              1           0   \n",
       "\n",
       "   No Credit Problem  Some Credit promblem  Good Credit Age  Short Credit Age  \n",
       "0                  0                     1                0                 0  \n",
       "1                  1                     0                0                 0  \n",
       "2                  0                     1                1                 0  \n",
       "3                  1                     0                1                 0  \n",
       "4                  1                     0                1                 0  \n",
       "\n",
       "[5 rows x 22 columns]"
      ]
     },
     "execution_count": 59,
     "metadata": {},
     "output_type": "execute_result"
    }
   ],
   "source": [
    "dataframe = dataframe.drop(['Credit Age','Years of Credit History'], axis =1)\n",
    "dataframe.head()"
   ]
  },
  {
   "cell_type": "markdown",
   "metadata": {
    "_uuid": "7ebdeec6a53d4aaa766ebebfa7dfbd0c834573c6"
   },
   "source": [
    "We move forward with the asumption that some of the columns are correlated with the others and hence we try to reduce the number of features. For example, we have credit score and credit problems which can is calculated using features like maximum open credit, current credit balance etc. So we drop some of the columns that we asume are already covered by features we have on our dataframe."
   ]
  },
  {
   "cell_type": "code",
   "execution_count": 60,
   "metadata": {
    "_uuid": "b56498fce651f51ccf0c7319715dcfa1cc0c8537"
   },
   "outputs": [],
   "source": [
    "dataframe = dataframe.drop(['Months since last delinquent','Number of Open Accounts','Maximum Open Credit','Current Credit Balance','Monthly Debt'],axis=1)"
   ]
  },
  {
   "cell_type": "code",
   "execution_count": 61,
   "metadata": {
    "_uuid": "823b4f603796c2f348c192bd2297537dcdb3ec8c"
   },
   "outputs": [
    {
     "data": {
      "text/html": [
       "<div>\n",
       "<style scoped>\n",
       "    .dataframe tbody tr th:only-of-type {\n",
       "        vertical-align: middle;\n",
       "    }\n",
       "\n",
       "    .dataframe tbody tr th {\n",
       "        vertical-align: top;\n",
       "    }\n",
       "\n",
       "    .dataframe thead th {\n",
       "        text-align: right;\n",
       "    }\n",
       "</style>\n",
       "<table border=\"1\" class=\"dataframe\">\n",
       "  <thead>\n",
       "    <tr style=\"text-align: right;\">\n",
       "      <th></th>\n",
       "      <th>Loan Status</th>\n",
       "      <th>Current Loan Amount</th>\n",
       "      <th>Term</th>\n",
       "      <th>Annual Income</th>\n",
       "      <th>Bankruptcies</th>\n",
       "      <th>Tax Liens</th>\n",
       "      <th>Good</th>\n",
       "      <th>Very Good</th>\n",
       "      <th>Home Mortgage</th>\n",
       "      <th>Own Home</th>\n",
       "      <th>Rent</th>\n",
       "      <th>Emp Level Mid</th>\n",
       "      <th>Emp Senior</th>\n",
       "      <th>No Credit Problem</th>\n",
       "      <th>Some Credit promblem</th>\n",
       "      <th>Good Credit Age</th>\n",
       "      <th>Short Credit Age</th>\n",
       "    </tr>\n",
       "  </thead>\n",
       "  <tbody>\n",
       "    <tr>\n",
       "      <th>0</th>\n",
       "      <td>1</td>\n",
       "      <td>445412.00</td>\n",
       "      <td>0</td>\n",
       "      <td>1167493.00</td>\n",
       "      <td>1.00</td>\n",
       "      <td>0.00</td>\n",
       "      <td>1</td>\n",
       "      <td>0</td>\n",
       "      <td>1</td>\n",
       "      <td>0</td>\n",
       "      <td>0</td>\n",
       "      <td>0</td>\n",
       "      <td>1</td>\n",
       "      <td>0</td>\n",
       "      <td>1</td>\n",
       "      <td>0</td>\n",
       "      <td>0</td>\n",
       "    </tr>\n",
       "    <tr>\n",
       "      <th>1</th>\n",
       "      <td>1</td>\n",
       "      <td>262328.00</td>\n",
       "      <td>0</td>\n",
       "      <td>1378276.56</td>\n",
       "      <td>0.00</td>\n",
       "      <td>0.00</td>\n",
       "      <td>1</td>\n",
       "      <td>0</td>\n",
       "      <td>1</td>\n",
       "      <td>0</td>\n",
       "      <td>0</td>\n",
       "      <td>0</td>\n",
       "      <td>1</td>\n",
       "      <td>1</td>\n",
       "      <td>0</td>\n",
       "      <td>0</td>\n",
       "      <td>0</td>\n",
       "    </tr>\n",
       "    <tr>\n",
       "      <th>2</th>\n",
       "      <td>1</td>\n",
       "      <td>99999999.00</td>\n",
       "      <td>0</td>\n",
       "      <td>2231892.00</td>\n",
       "      <td>0.00</td>\n",
       "      <td>0.00</td>\n",
       "      <td>0</td>\n",
       "      <td>1</td>\n",
       "      <td>0</td>\n",
       "      <td>1</td>\n",
       "      <td>0</td>\n",
       "      <td>0</td>\n",
       "      <td>1</td>\n",
       "      <td>0</td>\n",
       "      <td>1</td>\n",
       "      <td>1</td>\n",
       "      <td>0</td>\n",
       "    </tr>\n",
       "    <tr>\n",
       "      <th>3</th>\n",
       "      <td>1</td>\n",
       "      <td>347666.00</td>\n",
       "      <td>1</td>\n",
       "      <td>806949.00</td>\n",
       "      <td>0.00</td>\n",
       "      <td>0.00</td>\n",
       "      <td>1</td>\n",
       "      <td>0</td>\n",
       "      <td>0</td>\n",
       "      <td>1</td>\n",
       "      <td>0</td>\n",
       "      <td>0</td>\n",
       "      <td>0</td>\n",
       "      <td>1</td>\n",
       "      <td>0</td>\n",
       "      <td>1</td>\n",
       "      <td>0</td>\n",
       "    </tr>\n",
       "    <tr>\n",
       "      <th>4</th>\n",
       "      <td>1</td>\n",
       "      <td>176220.00</td>\n",
       "      <td>0</td>\n",
       "      <td>1378276.56</td>\n",
       "      <td>0.00</td>\n",
       "      <td>0.00</td>\n",
       "      <td>1</td>\n",
       "      <td>0</td>\n",
       "      <td>0</td>\n",
       "      <td>0</td>\n",
       "      <td>1</td>\n",
       "      <td>1</td>\n",
       "      <td>0</td>\n",
       "      <td>1</td>\n",
       "      <td>0</td>\n",
       "      <td>1</td>\n",
       "      <td>0</td>\n",
       "    </tr>\n",
       "  </tbody>\n",
       "</table>\n",
       "</div>"
      ],
      "text/plain": [
       "   Loan Status  Current Loan Amount  Term  Annual Income  Bankruptcies  \\\n",
       "0            1            445412.00     0     1167493.00          1.00   \n",
       "1            1            262328.00     0     1378276.56          0.00   \n",
       "2            1          99999999.00     0     2231892.00          0.00   \n",
       "3            1            347666.00     1      806949.00          0.00   \n",
       "4            1            176220.00     0     1378276.56          0.00   \n",
       "\n",
       "   Tax Liens  Good  Very Good  Home Mortgage  Own Home  Rent  Emp Level Mid  \\\n",
       "0       0.00     1          0              1         0     0              0   \n",
       "1       0.00     1          0              1         0     0              0   \n",
       "2       0.00     0          1              0         1     0              0   \n",
       "3       0.00     1          0              0         1     0              0   \n",
       "4       0.00     1          0              0         0     1              1   \n",
       "\n",
       "   Emp Senior  No Credit Problem  Some Credit promblem  Good Credit Age  \\\n",
       "0           1                  0                     1                0   \n",
       "1           1                  1                     0                0   \n",
       "2           1                  0                     1                1   \n",
       "3           0                  1                     0                1   \n",
       "4           0                  1                     0                1   \n",
       "\n",
       "   Short Credit Age  \n",
       "0                 0  \n",
       "1                 0  \n",
       "2                 0  \n",
       "3                 0  \n",
       "4                 0  "
      ]
     },
     "execution_count": 61,
     "metadata": {},
     "output_type": "execute_result"
    }
   ],
   "source": [
    "dataframe.head()"
   ]
  },
  {
   "cell_type": "markdown",
   "metadata": {
    "_uuid": "b269734f9b3e12ed2f3914dfb574b5cc0d760df2"
   },
   "source": [
    "Further exploring the financial stability of each loanee, we take the look at number of liens on their property by court which would give us information about their previous commitments."
   ]
  },
  {
   "cell_type": "code",
   "execution_count": 62,
   "metadata": {
    "_uuid": "98f7df3c20c47b67178bb974ceee8b0036c6c061"
   },
   "outputs": [],
   "source": [
    "dataframe['Tax Liens'] = dataframe['Tax Liens'].apply(lambda x: \"No Tax Lien\" if x==0 else (\"Some Tax Liens\" if x>0 and x<3 else \"Many Tax Liens\"))"
   ]
  },
  {
   "cell_type": "code",
   "execution_count": 63,
   "metadata": {
    "_uuid": "e1c717119f806bf411d9c33dfc198f5722ee4ace"
   },
   "outputs": [],
   "source": [
    "dataframe = dataframe.join(pd.get_dummies(dataframe['Tax Liens'],drop_first = True))"
   ]
  },
  {
   "cell_type": "code",
   "execution_count": 64,
   "metadata": {
    "_uuid": "824964ce1ab20b5c8c65189c27e0556c573e092e"
   },
   "outputs": [
    {
     "data": {
      "text/html": [
       "<div>\n",
       "<style scoped>\n",
       "    .dataframe tbody tr th:only-of-type {\n",
       "        vertical-align: middle;\n",
       "    }\n",
       "\n",
       "    .dataframe tbody tr th {\n",
       "        vertical-align: top;\n",
       "    }\n",
       "\n",
       "    .dataframe thead th {\n",
       "        text-align: right;\n",
       "    }\n",
       "</style>\n",
       "<table border=\"1\" class=\"dataframe\">\n",
       "  <thead>\n",
       "    <tr style=\"text-align: right;\">\n",
       "      <th></th>\n",
       "      <th>Loan Status</th>\n",
       "      <th>Current Loan Amount</th>\n",
       "      <th>Term</th>\n",
       "      <th>Annual Income</th>\n",
       "      <th>Bankruptcies</th>\n",
       "      <th>Good</th>\n",
       "      <th>Very Good</th>\n",
       "      <th>Home Mortgage</th>\n",
       "      <th>Own Home</th>\n",
       "      <th>Rent</th>\n",
       "      <th>Emp Level Mid</th>\n",
       "      <th>Emp Senior</th>\n",
       "      <th>No Credit Problem</th>\n",
       "      <th>Some Credit promblem</th>\n",
       "      <th>Good Credit Age</th>\n",
       "      <th>Short Credit Age</th>\n",
       "      <th>No Tax Lien</th>\n",
       "      <th>Some Tax Liens</th>\n",
       "    </tr>\n",
       "  </thead>\n",
       "  <tbody>\n",
       "    <tr>\n",
       "      <th>0</th>\n",
       "      <td>1</td>\n",
       "      <td>445412.00</td>\n",
       "      <td>0</td>\n",
       "      <td>1167493.00</td>\n",
       "      <td>1.00</td>\n",
       "      <td>1</td>\n",
       "      <td>0</td>\n",
       "      <td>1</td>\n",
       "      <td>0</td>\n",
       "      <td>0</td>\n",
       "      <td>0</td>\n",
       "      <td>1</td>\n",
       "      <td>0</td>\n",
       "      <td>1</td>\n",
       "      <td>0</td>\n",
       "      <td>0</td>\n",
       "      <td>1</td>\n",
       "      <td>0</td>\n",
       "    </tr>\n",
       "    <tr>\n",
       "      <th>1</th>\n",
       "      <td>1</td>\n",
       "      <td>262328.00</td>\n",
       "      <td>0</td>\n",
       "      <td>1378276.56</td>\n",
       "      <td>0.00</td>\n",
       "      <td>1</td>\n",
       "      <td>0</td>\n",
       "      <td>1</td>\n",
       "      <td>0</td>\n",
       "      <td>0</td>\n",
       "      <td>0</td>\n",
       "      <td>1</td>\n",
       "      <td>1</td>\n",
       "      <td>0</td>\n",
       "      <td>0</td>\n",
       "      <td>0</td>\n",
       "      <td>1</td>\n",
       "      <td>0</td>\n",
       "    </tr>\n",
       "    <tr>\n",
       "      <th>2</th>\n",
       "      <td>1</td>\n",
       "      <td>99999999.00</td>\n",
       "      <td>0</td>\n",
       "      <td>2231892.00</td>\n",
       "      <td>0.00</td>\n",
       "      <td>0</td>\n",
       "      <td>1</td>\n",
       "      <td>0</td>\n",
       "      <td>1</td>\n",
       "      <td>0</td>\n",
       "      <td>0</td>\n",
       "      <td>1</td>\n",
       "      <td>0</td>\n",
       "      <td>1</td>\n",
       "      <td>1</td>\n",
       "      <td>0</td>\n",
       "      <td>1</td>\n",
       "      <td>0</td>\n",
       "    </tr>\n",
       "    <tr>\n",
       "      <th>3</th>\n",
       "      <td>1</td>\n",
       "      <td>347666.00</td>\n",
       "      <td>1</td>\n",
       "      <td>806949.00</td>\n",
       "      <td>0.00</td>\n",
       "      <td>1</td>\n",
       "      <td>0</td>\n",
       "      <td>0</td>\n",
       "      <td>1</td>\n",
       "      <td>0</td>\n",
       "      <td>0</td>\n",
       "      <td>0</td>\n",
       "      <td>1</td>\n",
       "      <td>0</td>\n",
       "      <td>1</td>\n",
       "      <td>0</td>\n",
       "      <td>1</td>\n",
       "      <td>0</td>\n",
       "    </tr>\n",
       "    <tr>\n",
       "      <th>4</th>\n",
       "      <td>1</td>\n",
       "      <td>176220.00</td>\n",
       "      <td>0</td>\n",
       "      <td>1378276.56</td>\n",
       "      <td>0.00</td>\n",
       "      <td>1</td>\n",
       "      <td>0</td>\n",
       "      <td>0</td>\n",
       "      <td>0</td>\n",
       "      <td>1</td>\n",
       "      <td>1</td>\n",
       "      <td>0</td>\n",
       "      <td>1</td>\n",
       "      <td>0</td>\n",
       "      <td>1</td>\n",
       "      <td>0</td>\n",
       "      <td>1</td>\n",
       "      <td>0</td>\n",
       "    </tr>\n",
       "  </tbody>\n",
       "</table>\n",
       "</div>"
      ],
      "text/plain": [
       "   Loan Status  Current Loan Amount  Term  Annual Income  Bankruptcies  Good  \\\n",
       "0            1            445412.00     0     1167493.00          1.00     1   \n",
       "1            1            262328.00     0     1378276.56          0.00     1   \n",
       "2            1          99999999.00     0     2231892.00          0.00     0   \n",
       "3            1            347666.00     1      806949.00          0.00     1   \n",
       "4            1            176220.00     0     1378276.56          0.00     1   \n",
       "\n",
       "   Very Good  Home Mortgage  Own Home  Rent  Emp Level Mid  Emp Senior  \\\n",
       "0          0              1         0     0              0           1   \n",
       "1          0              1         0     0              0           1   \n",
       "2          1              0         1     0              0           1   \n",
       "3          0              0         1     0              0           0   \n",
       "4          0              0         0     1              1           0   \n",
       "\n",
       "   No Credit Problem  Some Credit promblem  Good Credit Age  Short Credit Age  \\\n",
       "0                  0                     1                0                 0   \n",
       "1                  1                     0                0                 0   \n",
       "2                  0                     1                1                 0   \n",
       "3                  1                     0                1                 0   \n",
       "4                  1                     0                1                 0   \n",
       "\n",
       "   No Tax Lien  Some Tax Liens  \n",
       "0            1               0  \n",
       "1            1               0  \n",
       "2            1               0  \n",
       "3            1               0  \n",
       "4            1               0  "
      ]
     },
     "execution_count": 64,
     "metadata": {},
     "output_type": "execute_result"
    }
   ],
   "source": [
    "dataframe = dataframe.drop(['Tax Liens'],axis=1)\n",
    "dataframe.head()"
   ]
  },
  {
   "cell_type": "markdown",
   "metadata": {
    "_uuid": "536a5a66a74216b099242879819326ab986fa5e7"
   },
   "source": [
    "Furthermore, we take a look at nuber of bankruptcies filed by people and categorize them."
   ]
  },
  {
   "cell_type": "code",
   "execution_count": 65,
   "metadata": {
    "_uuid": "56ae8646343e85dd5c67be9897d5afe87f95d6a8"
   },
   "outputs": [],
   "source": [
    "dataframe['Bankruptcies'] = dataframe['Bankruptcies'].apply(lambda x: \"No bankruptcies\" if x==0 else (\"Some Bankruptcies\" if x>0 and x<3 else \"Many Bankruptcies\"))"
   ]
  },
  {
   "cell_type": "code",
   "execution_count": 66,
   "metadata": {
    "_uuid": "1a35a84664feb84cca1afc2aa638de0d692ac9d8"
   },
   "outputs": [],
   "source": [
    "dataframe = dataframe.join(pd.get_dummies(dataframe['Bankruptcies'],drop_first = True))"
   ]
  },
  {
   "cell_type": "code",
   "execution_count": 67,
   "metadata": {
    "_uuid": "0a69e3ca7164362ce0fc6e832c81eb7014647876",
    "scrolled": true
   },
   "outputs": [
    {
     "data": {
      "text/html": [
       "<div>\n",
       "<style scoped>\n",
       "    .dataframe tbody tr th:only-of-type {\n",
       "        vertical-align: middle;\n",
       "    }\n",
       "\n",
       "    .dataframe tbody tr th {\n",
       "        vertical-align: top;\n",
       "    }\n",
       "\n",
       "    .dataframe thead th {\n",
       "        text-align: right;\n",
       "    }\n",
       "</style>\n",
       "<table border=\"1\" class=\"dataframe\">\n",
       "  <thead>\n",
       "    <tr style=\"text-align: right;\">\n",
       "      <th></th>\n",
       "      <th>Loan Status</th>\n",
       "      <th>Current Loan Amount</th>\n",
       "      <th>Term</th>\n",
       "      <th>Annual Income</th>\n",
       "      <th>Good</th>\n",
       "      <th>Very Good</th>\n",
       "      <th>Home Mortgage</th>\n",
       "      <th>Own Home</th>\n",
       "      <th>Rent</th>\n",
       "      <th>Emp Level Mid</th>\n",
       "      <th>Emp Senior</th>\n",
       "      <th>No Credit Problem</th>\n",
       "      <th>Some Credit promblem</th>\n",
       "      <th>Good Credit Age</th>\n",
       "      <th>Short Credit Age</th>\n",
       "      <th>No Tax Lien</th>\n",
       "      <th>Some Tax Liens</th>\n",
       "      <th>No bankruptcies</th>\n",
       "      <th>Some Bankruptcies</th>\n",
       "    </tr>\n",
       "  </thead>\n",
       "  <tbody>\n",
       "    <tr>\n",
       "      <th>0</th>\n",
       "      <td>1</td>\n",
       "      <td>445412.00</td>\n",
       "      <td>0</td>\n",
       "      <td>1167493.00</td>\n",
       "      <td>1</td>\n",
       "      <td>0</td>\n",
       "      <td>1</td>\n",
       "      <td>0</td>\n",
       "      <td>0</td>\n",
       "      <td>0</td>\n",
       "      <td>1</td>\n",
       "      <td>0</td>\n",
       "      <td>1</td>\n",
       "      <td>0</td>\n",
       "      <td>0</td>\n",
       "      <td>1</td>\n",
       "      <td>0</td>\n",
       "      <td>0</td>\n",
       "      <td>1</td>\n",
       "    </tr>\n",
       "    <tr>\n",
       "      <th>1</th>\n",
       "      <td>1</td>\n",
       "      <td>262328.00</td>\n",
       "      <td>0</td>\n",
       "      <td>1378276.56</td>\n",
       "      <td>1</td>\n",
       "      <td>0</td>\n",
       "      <td>1</td>\n",
       "      <td>0</td>\n",
       "      <td>0</td>\n",
       "      <td>0</td>\n",
       "      <td>1</td>\n",
       "      <td>1</td>\n",
       "      <td>0</td>\n",
       "      <td>0</td>\n",
       "      <td>0</td>\n",
       "      <td>1</td>\n",
       "      <td>0</td>\n",
       "      <td>1</td>\n",
       "      <td>0</td>\n",
       "    </tr>\n",
       "    <tr>\n",
       "      <th>2</th>\n",
       "      <td>1</td>\n",
       "      <td>99999999.00</td>\n",
       "      <td>0</td>\n",
       "      <td>2231892.00</td>\n",
       "      <td>0</td>\n",
       "      <td>1</td>\n",
       "      <td>0</td>\n",
       "      <td>1</td>\n",
       "      <td>0</td>\n",
       "      <td>0</td>\n",
       "      <td>1</td>\n",
       "      <td>0</td>\n",
       "      <td>1</td>\n",
       "      <td>1</td>\n",
       "      <td>0</td>\n",
       "      <td>1</td>\n",
       "      <td>0</td>\n",
       "      <td>1</td>\n",
       "      <td>0</td>\n",
       "    </tr>\n",
       "    <tr>\n",
       "      <th>3</th>\n",
       "      <td>1</td>\n",
       "      <td>347666.00</td>\n",
       "      <td>1</td>\n",
       "      <td>806949.00</td>\n",
       "      <td>1</td>\n",
       "      <td>0</td>\n",
       "      <td>0</td>\n",
       "      <td>1</td>\n",
       "      <td>0</td>\n",
       "      <td>0</td>\n",
       "      <td>0</td>\n",
       "      <td>1</td>\n",
       "      <td>0</td>\n",
       "      <td>1</td>\n",
       "      <td>0</td>\n",
       "      <td>1</td>\n",
       "      <td>0</td>\n",
       "      <td>1</td>\n",
       "      <td>0</td>\n",
       "    </tr>\n",
       "    <tr>\n",
       "      <th>4</th>\n",
       "      <td>1</td>\n",
       "      <td>176220.00</td>\n",
       "      <td>0</td>\n",
       "      <td>1378276.56</td>\n",
       "      <td>1</td>\n",
       "      <td>0</td>\n",
       "      <td>0</td>\n",
       "      <td>0</td>\n",
       "      <td>1</td>\n",
       "      <td>1</td>\n",
       "      <td>0</td>\n",
       "      <td>1</td>\n",
       "      <td>0</td>\n",
       "      <td>1</td>\n",
       "      <td>0</td>\n",
       "      <td>1</td>\n",
       "      <td>0</td>\n",
       "      <td>1</td>\n",
       "      <td>0</td>\n",
       "    </tr>\n",
       "  </tbody>\n",
       "</table>\n",
       "</div>"
      ],
      "text/plain": [
       "   Loan Status  Current Loan Amount  Term  Annual Income  Good  Very Good  \\\n",
       "0            1            445412.00     0     1167493.00     1          0   \n",
       "1            1            262328.00     0     1378276.56     1          0   \n",
       "2            1          99999999.00     0     2231892.00     0          1   \n",
       "3            1            347666.00     1      806949.00     1          0   \n",
       "4            1            176220.00     0     1378276.56     1          0   \n",
       "\n",
       "   Home Mortgage  Own Home  Rent  Emp Level Mid  Emp Senior  \\\n",
       "0              1         0     0              0           1   \n",
       "1              1         0     0              0           1   \n",
       "2              0         1     0              0           1   \n",
       "3              0         1     0              0           0   \n",
       "4              0         0     1              1           0   \n",
       "\n",
       "   No Credit Problem  Some Credit promblem  Good Credit Age  Short Credit Age  \\\n",
       "0                  0                     1                0                 0   \n",
       "1                  1                     0                0                 0   \n",
       "2                  0                     1                1                 0   \n",
       "3                  1                     0                1                 0   \n",
       "4                  1                     0                1                 0   \n",
       "\n",
       "   No Tax Lien  Some Tax Liens  No bankruptcies  Some Bankruptcies  \n",
       "0            1               0                0                  1  \n",
       "1            1               0                1                  0  \n",
       "2            1               0                1                  0  \n",
       "3            1               0                1                  0  \n",
       "4            1               0                1                  0  "
      ]
     },
     "execution_count": 67,
     "metadata": {},
     "output_type": "execute_result"
    }
   ],
   "source": [
    "dataframe = dataframe.drop(['Bankruptcies'],axis=1)\n",
    "dataframe.head()"
   ]
  },
  {
   "cell_type": "code",
   "execution_count": 68,
   "metadata": {
    "_uuid": "ca1e9f5464e6d44262075d7a9b806fdffcf4a2fd"
   },
   "outputs": [
    {
     "data": {
      "text/html": [
       "<div>\n",
       "<style scoped>\n",
       "    .dataframe tbody tr th:only-of-type {\n",
       "        vertical-align: middle;\n",
       "    }\n",
       "\n",
       "    .dataframe tbody tr th {\n",
       "        vertical-align: top;\n",
       "    }\n",
       "\n",
       "    .dataframe thead th {\n",
       "        text-align: right;\n",
       "    }\n",
       "</style>\n",
       "<table border=\"1\" class=\"dataframe\">\n",
       "  <thead>\n",
       "    <tr style=\"text-align: right;\">\n",
       "      <th></th>\n",
       "      <th>Loan Status</th>\n",
       "      <th>Current Loan Amount</th>\n",
       "      <th>Term</th>\n",
       "      <th>Annual Income</th>\n",
       "      <th>Good</th>\n",
       "      <th>Very Good</th>\n",
       "      <th>Home Mortgage</th>\n",
       "      <th>Own Home</th>\n",
       "      <th>Rent</th>\n",
       "      <th>Emp Level Mid</th>\n",
       "      <th>Emp Senior</th>\n",
       "      <th>No Credit Problem</th>\n",
       "      <th>Some Credit promblem</th>\n",
       "      <th>Good Credit Age</th>\n",
       "      <th>Short Credit Age</th>\n",
       "      <th>No Tax Lien</th>\n",
       "      <th>Some Tax Liens</th>\n",
       "      <th>No bankruptcies</th>\n",
       "      <th>Some Bankruptcies</th>\n",
       "    </tr>\n",
       "  </thead>\n",
       "  <tbody>\n",
       "    <tr>\n",
       "      <th>count</th>\n",
       "      <td>100000.00</td>\n",
       "      <td>100000.00</td>\n",
       "      <td>100000.00</td>\n",
       "      <td>100000.00</td>\n",
       "      <td>100000.00</td>\n",
       "      <td>100000.00</td>\n",
       "      <td>100000.00</td>\n",
       "      <td>100000.00</td>\n",
       "      <td>100000.00</td>\n",
       "      <td>100000.00</td>\n",
       "      <td>100000.00</td>\n",
       "      <td>100000.00</td>\n",
       "      <td>100000.00</td>\n",
       "      <td>100000.00</td>\n",
       "      <td>100000.00</td>\n",
       "      <td>100000.00</td>\n",
       "      <td>100000.00</td>\n",
       "      <td>100000.00</td>\n",
       "      <td>100000.00</td>\n",
       "    </tr>\n",
       "    <tr>\n",
       "      <th>mean</th>\n",
       "      <td>0.77</td>\n",
       "      <td>11760447.39</td>\n",
       "      <td>0.28</td>\n",
       "      <td>1378276.56</td>\n",
       "      <td>0.76</td>\n",
       "      <td>0.18</td>\n",
       "      <td>0.48</td>\n",
       "      <td>0.09</td>\n",
       "      <td>0.42</td>\n",
       "      <td>0.22</td>\n",
       "      <td>0.46</td>\n",
       "      <td>0.86</td>\n",
       "      <td>0.14</td>\n",
       "      <td>0.50</td>\n",
       "      <td>0.00</td>\n",
       "      <td>0.98</td>\n",
       "      <td>0.02</td>\n",
       "      <td>0.89</td>\n",
       "      <td>0.11</td>\n",
       "    </tr>\n",
       "    <tr>\n",
       "      <th>std</th>\n",
       "      <td>0.42</td>\n",
       "      <td>31783942.55</td>\n",
       "      <td>0.45</td>\n",
       "      <td>972297.42</td>\n",
       "      <td>0.43</td>\n",
       "      <td>0.39</td>\n",
       "      <td>0.50</td>\n",
       "      <td>0.29</td>\n",
       "      <td>0.49</td>\n",
       "      <td>0.42</td>\n",
       "      <td>0.50</td>\n",
       "      <td>0.35</td>\n",
       "      <td>0.35</td>\n",
       "      <td>0.50</td>\n",
       "      <td>0.04</td>\n",
       "      <td>0.14</td>\n",
       "      <td>0.13</td>\n",
       "      <td>0.32</td>\n",
       "      <td>0.31</td>\n",
       "    </tr>\n",
       "    <tr>\n",
       "      <th>min</th>\n",
       "      <td>0.00</td>\n",
       "      <td>10802.00</td>\n",
       "      <td>0.00</td>\n",
       "      <td>76627.00</td>\n",
       "      <td>0.00</td>\n",
       "      <td>0.00</td>\n",
       "      <td>0.00</td>\n",
       "      <td>0.00</td>\n",
       "      <td>0.00</td>\n",
       "      <td>0.00</td>\n",
       "      <td>0.00</td>\n",
       "      <td>0.00</td>\n",
       "      <td>0.00</td>\n",
       "      <td>0.00</td>\n",
       "      <td>0.00</td>\n",
       "      <td>0.00</td>\n",
       "      <td>0.00</td>\n",
       "      <td>0.00</td>\n",
       "      <td>0.00</td>\n",
       "    </tr>\n",
       "    <tr>\n",
       "      <th>25%</th>\n",
       "      <td>1.00</td>\n",
       "      <td>179652.00</td>\n",
       "      <td>0.00</td>\n",
       "      <td>931180.50</td>\n",
       "      <td>1.00</td>\n",
       "      <td>0.00</td>\n",
       "      <td>0.00</td>\n",
       "      <td>0.00</td>\n",
       "      <td>0.00</td>\n",
       "      <td>0.00</td>\n",
       "      <td>0.00</td>\n",
       "      <td>1.00</td>\n",
       "      <td>0.00</td>\n",
       "      <td>0.00</td>\n",
       "      <td>0.00</td>\n",
       "      <td>1.00</td>\n",
       "      <td>0.00</td>\n",
       "      <td>1.00</td>\n",
       "      <td>0.00</td>\n",
       "    </tr>\n",
       "    <tr>\n",
       "      <th>50%</th>\n",
       "      <td>1.00</td>\n",
       "      <td>312246.00</td>\n",
       "      <td>0.00</td>\n",
       "      <td>1369919.00</td>\n",
       "      <td>1.00</td>\n",
       "      <td>0.00</td>\n",
       "      <td>0.00</td>\n",
       "      <td>0.00</td>\n",
       "      <td>0.00</td>\n",
       "      <td>0.00</td>\n",
       "      <td>0.00</td>\n",
       "      <td>1.00</td>\n",
       "      <td>0.00</td>\n",
       "      <td>0.00</td>\n",
       "      <td>0.00</td>\n",
       "      <td>1.00</td>\n",
       "      <td>0.00</td>\n",
       "      <td>1.00</td>\n",
       "      <td>0.00</td>\n",
       "    </tr>\n",
       "    <tr>\n",
       "      <th>75%</th>\n",
       "      <td>1.00</td>\n",
       "      <td>524942.00</td>\n",
       "      <td>1.00</td>\n",
       "      <td>1512704.00</td>\n",
       "      <td>1.00</td>\n",
       "      <td>0.00</td>\n",
       "      <td>1.00</td>\n",
       "      <td>0.00</td>\n",
       "      <td>1.00</td>\n",
       "      <td>0.00</td>\n",
       "      <td>1.00</td>\n",
       "      <td>1.00</td>\n",
       "      <td>0.00</td>\n",
       "      <td>1.00</td>\n",
       "      <td>0.00</td>\n",
       "      <td>1.00</td>\n",
       "      <td>0.00</td>\n",
       "      <td>1.00</td>\n",
       "      <td>0.00</td>\n",
       "    </tr>\n",
       "    <tr>\n",
       "      <th>max</th>\n",
       "      <td>1.00</td>\n",
       "      <td>99999999.00</td>\n",
       "      <td>1.00</td>\n",
       "      <td>165557393.00</td>\n",
       "      <td>1.00</td>\n",
       "      <td>1.00</td>\n",
       "      <td>1.00</td>\n",
       "      <td>1.00</td>\n",
       "      <td>1.00</td>\n",
       "      <td>1.00</td>\n",
       "      <td>1.00</td>\n",
       "      <td>1.00</td>\n",
       "      <td>1.00</td>\n",
       "      <td>1.00</td>\n",
       "      <td>1.00</td>\n",
       "      <td>1.00</td>\n",
       "      <td>1.00</td>\n",
       "      <td>1.00</td>\n",
       "      <td>1.00</td>\n",
       "    </tr>\n",
       "  </tbody>\n",
       "</table>\n",
       "</div>"
      ],
      "text/plain": [
       "       Loan Status  Current Loan Amount      Term  Annual Income      Good  \\\n",
       "count    100000.00            100000.00 100000.00      100000.00 100000.00   \n",
       "mean          0.77          11760447.39      0.28     1378276.56      0.76   \n",
       "std           0.42          31783942.55      0.45      972297.42      0.43   \n",
       "min           0.00             10802.00      0.00       76627.00      0.00   \n",
       "25%           1.00            179652.00      0.00      931180.50      1.00   \n",
       "50%           1.00            312246.00      0.00     1369919.00      1.00   \n",
       "75%           1.00            524942.00      1.00     1512704.00      1.00   \n",
       "max           1.00          99999999.00      1.00   165557393.00      1.00   \n",
       "\n",
       "       Very Good  Home Mortgage  Own Home      Rent  Emp Level Mid  \\\n",
       "count  100000.00      100000.00 100000.00 100000.00      100000.00   \n",
       "mean        0.18           0.48      0.09      0.42           0.22   \n",
       "std         0.39           0.50      0.29      0.49           0.42   \n",
       "min         0.00           0.00      0.00      0.00           0.00   \n",
       "25%         0.00           0.00      0.00      0.00           0.00   \n",
       "50%         0.00           0.00      0.00      0.00           0.00   \n",
       "75%         0.00           1.00      0.00      1.00           0.00   \n",
       "max         1.00           1.00      1.00      1.00           1.00   \n",
       "\n",
       "       Emp Senior  No Credit Problem  Some Credit promblem  Good Credit Age  \\\n",
       "count   100000.00          100000.00             100000.00        100000.00   \n",
       "mean         0.46               0.86                  0.14             0.50   \n",
       "std          0.50               0.35                  0.35             0.50   \n",
       "min          0.00               0.00                  0.00             0.00   \n",
       "25%          0.00               1.00                  0.00             0.00   \n",
       "50%          0.00               1.00                  0.00             0.00   \n",
       "75%          1.00               1.00                  0.00             1.00   \n",
       "max          1.00               1.00                  1.00             1.00   \n",
       "\n",
       "       Short Credit Age  No Tax Lien  Some Tax Liens  No bankruptcies  \\\n",
       "count         100000.00    100000.00       100000.00        100000.00   \n",
       "mean               0.00         0.98            0.02             0.89   \n",
       "std                0.04         0.14            0.13             0.32   \n",
       "min                0.00         0.00            0.00             0.00   \n",
       "25%                0.00         1.00            0.00             1.00   \n",
       "50%                0.00         1.00            0.00             1.00   \n",
       "75%                0.00         1.00            0.00             1.00   \n",
       "max                1.00         1.00            1.00             1.00   \n",
       "\n",
       "       Some Bankruptcies  \n",
       "count          100000.00  \n",
       "mean                0.11  \n",
       "std                 0.31  \n",
       "min                 0.00  \n",
       "25%                 0.00  \n",
       "50%                 0.00  \n",
       "75%                 0.00  \n",
       "max                 1.00  "
      ]
     },
     "execution_count": 68,
     "metadata": {},
     "output_type": "execute_result"
    }
   ],
   "source": [
    "dataframe.describe()"
   ]
  },
  {
   "cell_type": "markdown",
   "metadata": {
    "_uuid": "2d32ae2817e390f3d53dac9d84594ee0a6fce155"
   },
   "source": [
    "**We already know we're predicting categorical variables hence we have to convert our cateorical variables into discrete. Next up we try to convert annual income and total loan amount into discrete variables. \n",
    "There are some calculation we do before deciding a range from the categories. If we take a look, we have some data that are outliers and are way off the other loan amounts. so we try to calculate the average and standard deviation without the outlier. \n",
    "We asume : Mean - 1 standard deviation = low income line\n",
    "                    Mean + 1 standard deviation = high income line\n",
    "  and similar for the loan amount as well.\n",
    "**"
   ]
  },
  {
   "cell_type": "code",
   "execution_count": 69,
   "metadata": {
    "_uuid": "eefbaeb4613a448c3b708c8d9cd17c199c9634f9"
   },
   "outputs": [],
   "source": [
    "meanxoutlier = dataframe[dataframe['Annual Income'] < 99999999.00 ]['Annual Income'].mean()\n",
    "stddevxoutlier = dataframe[dataframe['Annual Income'] < 99999999.00 ]['Annual Income'].std()\n",
    "poorline = meanxoutlier -  stddevxoutlier\n",
    "richline = meanxoutlier + stddevxoutlier"
   ]
  },
  {
   "cell_type": "code",
   "execution_count": 70,
   "metadata": {
    "_uuid": "b1a9656c1d737cb27c8b368aeb457b4d25f5d782"
   },
   "outputs": [],
   "source": [
    "dataframe['Annual Income'] = dataframe['Annual Income'].apply(lambda x: \"Low Income\" if x<=poorline else (\"Average Income\" if x>poorline and x<richline else \"High Income\"))"
   ]
  },
  {
   "cell_type": "code",
   "execution_count": 71,
   "metadata": {
    "_uuid": "1be46aa1175df0e814a365988be1fcdf5920cb7d"
   },
   "outputs": [],
   "source": [
    "dataframe = dataframe.join(pd.get_dummies(dataframe['Annual Income'],drop_first = True))"
   ]
  },
  {
   "cell_type": "code",
   "execution_count": 72,
   "metadata": {
    "_uuid": "ff6c517dcfb729d8e75641db2ba0405c6f209e75"
   },
   "outputs": [
    {
     "data": {
      "text/html": [
       "<div>\n",
       "<style scoped>\n",
       "    .dataframe tbody tr th:only-of-type {\n",
       "        vertical-align: middle;\n",
       "    }\n",
       "\n",
       "    .dataframe tbody tr th {\n",
       "        vertical-align: top;\n",
       "    }\n",
       "\n",
       "    .dataframe thead th {\n",
       "        text-align: right;\n",
       "    }\n",
       "</style>\n",
       "<table border=\"1\" class=\"dataframe\">\n",
       "  <thead>\n",
       "    <tr style=\"text-align: right;\">\n",
       "      <th></th>\n",
       "      <th>Loan Status</th>\n",
       "      <th>Current Loan Amount</th>\n",
       "      <th>Term</th>\n",
       "      <th>Good</th>\n",
       "      <th>Very Good</th>\n",
       "      <th>Home Mortgage</th>\n",
       "      <th>Own Home</th>\n",
       "      <th>Rent</th>\n",
       "      <th>Emp Level Mid</th>\n",
       "      <th>Emp Senior</th>\n",
       "      <th>No Credit Problem</th>\n",
       "      <th>Some Credit promblem</th>\n",
       "      <th>Good Credit Age</th>\n",
       "      <th>Short Credit Age</th>\n",
       "      <th>No Tax Lien</th>\n",
       "      <th>Some Tax Liens</th>\n",
       "      <th>No bankruptcies</th>\n",
       "      <th>Some Bankruptcies</th>\n",
       "      <th>High Income</th>\n",
       "      <th>Low Income</th>\n",
       "    </tr>\n",
       "  </thead>\n",
       "  <tbody>\n",
       "    <tr>\n",
       "      <th>0</th>\n",
       "      <td>1</td>\n",
       "      <td>445412.00</td>\n",
       "      <td>0</td>\n",
       "      <td>1</td>\n",
       "      <td>0</td>\n",
       "      <td>1</td>\n",
       "      <td>0</td>\n",
       "      <td>0</td>\n",
       "      <td>0</td>\n",
       "      <td>1</td>\n",
       "      <td>0</td>\n",
       "      <td>1</td>\n",
       "      <td>0</td>\n",
       "      <td>0</td>\n",
       "      <td>1</td>\n",
       "      <td>0</td>\n",
       "      <td>0</td>\n",
       "      <td>1</td>\n",
       "      <td>0</td>\n",
       "      <td>0</td>\n",
       "    </tr>\n",
       "    <tr>\n",
       "      <th>1</th>\n",
       "      <td>1</td>\n",
       "      <td>262328.00</td>\n",
       "      <td>0</td>\n",
       "      <td>1</td>\n",
       "      <td>0</td>\n",
       "      <td>1</td>\n",
       "      <td>0</td>\n",
       "      <td>0</td>\n",
       "      <td>0</td>\n",
       "      <td>1</td>\n",
       "      <td>1</td>\n",
       "      <td>0</td>\n",
       "      <td>0</td>\n",
       "      <td>0</td>\n",
       "      <td>1</td>\n",
       "      <td>0</td>\n",
       "      <td>1</td>\n",
       "      <td>0</td>\n",
       "      <td>0</td>\n",
       "      <td>0</td>\n",
       "    </tr>\n",
       "    <tr>\n",
       "      <th>2</th>\n",
       "      <td>1</td>\n",
       "      <td>99999999.00</td>\n",
       "      <td>0</td>\n",
       "      <td>0</td>\n",
       "      <td>1</td>\n",
       "      <td>0</td>\n",
       "      <td>1</td>\n",
       "      <td>0</td>\n",
       "      <td>0</td>\n",
       "      <td>1</td>\n",
       "      <td>0</td>\n",
       "      <td>1</td>\n",
       "      <td>1</td>\n",
       "      <td>0</td>\n",
       "      <td>1</td>\n",
       "      <td>0</td>\n",
       "      <td>1</td>\n",
       "      <td>0</td>\n",
       "      <td>1</td>\n",
       "      <td>0</td>\n",
       "    </tr>\n",
       "    <tr>\n",
       "      <th>3</th>\n",
       "      <td>1</td>\n",
       "      <td>347666.00</td>\n",
       "      <td>1</td>\n",
       "      <td>1</td>\n",
       "      <td>0</td>\n",
       "      <td>0</td>\n",
       "      <td>1</td>\n",
       "      <td>0</td>\n",
       "      <td>0</td>\n",
       "      <td>0</td>\n",
       "      <td>1</td>\n",
       "      <td>0</td>\n",
       "      <td>1</td>\n",
       "      <td>0</td>\n",
       "      <td>1</td>\n",
       "      <td>0</td>\n",
       "      <td>1</td>\n",
       "      <td>0</td>\n",
       "      <td>0</td>\n",
       "      <td>0</td>\n",
       "    </tr>\n",
       "    <tr>\n",
       "      <th>4</th>\n",
       "      <td>1</td>\n",
       "      <td>176220.00</td>\n",
       "      <td>0</td>\n",
       "      <td>1</td>\n",
       "      <td>0</td>\n",
       "      <td>0</td>\n",
       "      <td>0</td>\n",
       "      <td>1</td>\n",
       "      <td>1</td>\n",
       "      <td>0</td>\n",
       "      <td>1</td>\n",
       "      <td>0</td>\n",
       "      <td>1</td>\n",
       "      <td>0</td>\n",
       "      <td>1</td>\n",
       "      <td>0</td>\n",
       "      <td>1</td>\n",
       "      <td>0</td>\n",
       "      <td>0</td>\n",
       "      <td>0</td>\n",
       "    </tr>\n",
       "  </tbody>\n",
       "</table>\n",
       "</div>"
      ],
      "text/plain": [
       "   Loan Status  Current Loan Amount  Term  Good  Very Good  Home Mortgage  \\\n",
       "0            1            445412.00     0     1          0              1   \n",
       "1            1            262328.00     0     1          0              1   \n",
       "2            1          99999999.00     0     0          1              0   \n",
       "3            1            347666.00     1     1          0              0   \n",
       "4            1            176220.00     0     1          0              0   \n",
       "\n",
       "   Own Home  Rent  Emp Level Mid  Emp Senior  No Credit Problem  \\\n",
       "0         0     0              0           1                  0   \n",
       "1         0     0              0           1                  1   \n",
       "2         1     0              0           1                  0   \n",
       "3         1     0              0           0                  1   \n",
       "4         0     1              1           0                  1   \n",
       "\n",
       "   Some Credit promblem  Good Credit Age  Short Credit Age  No Tax Lien  \\\n",
       "0                     1                0                 0            1   \n",
       "1                     0                0                 0            1   \n",
       "2                     1                1                 0            1   \n",
       "3                     0                1                 0            1   \n",
       "4                     0                1                 0            1   \n",
       "\n",
       "   Some Tax Liens  No bankruptcies  Some Bankruptcies  High Income  Low Income  \n",
       "0               0                0                  1            0           0  \n",
       "1               0                1                  0            0           0  \n",
       "2               0                1                  0            1           0  \n",
       "3               0                1                  0            0           0  \n",
       "4               0                1                  0            0           0  "
      ]
     },
     "execution_count": 72,
     "metadata": {},
     "output_type": "execute_result"
    }
   ],
   "source": [
    "dataframe = dataframe.drop(['Annual Income'], axis=1)\n",
    "dataframe.head()"
   ]
  },
  {
   "cell_type": "code",
   "execution_count": 73,
   "metadata": {
    "_uuid": "7f370b24769cf18741ba8088dfa3c065b73e02db"
   },
   "outputs": [
    {
     "name": "stdout",
     "output_type": "stream",
     "text": [
      "126051.43019084871 498575.7655703696\n"
     ]
    }
   ],
   "source": [
    "lmeanxoutlier = dataframe[dataframe['Current Loan Amount'] < 99999999.00 ]['Current Loan Amount'].mean()\n",
    "lstddevxoutlier = dataframe[dataframe['Current Loan Amount'] < 99999999.00 ]['Current Loan Amount'].std()\n",
    "lowrange = lmeanxoutlier - lstddevxoutlier\n",
    "highrange = lmeanxoutlier + lstddevxoutlier\n",
    "print(lowrange, highrange)"
   ]
  },
  {
   "cell_type": "code",
   "execution_count": 74,
   "metadata": {
    "_uuid": "0fa305e3dc9f4303f3e707125bb711bdf5b31a7d"
   },
   "outputs": [],
   "source": [
    "dataframe['Current Loan Amount'] = dataframe['Current Loan Amount'].apply(lambda x: \"Small Loan\" if x<=lowrange else (\"Medium Loan\" if x>lowrange and x<highrange else \"Big Loan\"))"
   ]
  },
  {
   "cell_type": "code",
   "execution_count": 75,
   "metadata": {
    "_uuid": "d60384464b2d14f8b036074624375e9dc1b35d2a"
   },
   "outputs": [],
   "source": [
    "dataframe = dataframe.join(pd.get_dummies(dataframe['Current Loan Amount'],drop_first = True))"
   ]
  },
  {
   "cell_type": "code",
   "execution_count": 76,
   "metadata": {
    "_uuid": "880278002ae0e4d67c358e77d91ee741ae4359d9"
   },
   "outputs": [],
   "source": [
    "dataframe = dataframe.drop(['Current Loan Amount'], axis=1)"
   ]
  },
  {
   "cell_type": "code",
   "execution_count": 77,
   "metadata": {
    "_uuid": "b16f3bb4cf06741631c47bc69672dfd9f556f2b3"
   },
   "outputs": [
    {
     "data": {
      "text/html": [
       "<div>\n",
       "<style scoped>\n",
       "    .dataframe tbody tr th:only-of-type {\n",
       "        vertical-align: middle;\n",
       "    }\n",
       "\n",
       "    .dataframe tbody tr th {\n",
       "        vertical-align: top;\n",
       "    }\n",
       "\n",
       "    .dataframe thead th {\n",
       "        text-align: right;\n",
       "    }\n",
       "</style>\n",
       "<table border=\"1\" class=\"dataframe\">\n",
       "  <thead>\n",
       "    <tr style=\"text-align: right;\">\n",
       "      <th></th>\n",
       "      <th>Loan Status</th>\n",
       "      <th>Term</th>\n",
       "      <th>Good</th>\n",
       "      <th>Very Good</th>\n",
       "      <th>Home Mortgage</th>\n",
       "      <th>Own Home</th>\n",
       "      <th>Rent</th>\n",
       "      <th>Emp Level Mid</th>\n",
       "      <th>Emp Senior</th>\n",
       "      <th>No Credit Problem</th>\n",
       "      <th>...</th>\n",
       "      <th>Good Credit Age</th>\n",
       "      <th>Short Credit Age</th>\n",
       "      <th>No Tax Lien</th>\n",
       "      <th>Some Tax Liens</th>\n",
       "      <th>No bankruptcies</th>\n",
       "      <th>Some Bankruptcies</th>\n",
       "      <th>High Income</th>\n",
       "      <th>Low Income</th>\n",
       "      <th>Medium Loan</th>\n",
       "      <th>Small Loan</th>\n",
       "    </tr>\n",
       "  </thead>\n",
       "  <tbody>\n",
       "    <tr>\n",
       "      <th>0</th>\n",
       "      <td>1</td>\n",
       "      <td>0</td>\n",
       "      <td>1</td>\n",
       "      <td>0</td>\n",
       "      <td>1</td>\n",
       "      <td>0</td>\n",
       "      <td>0</td>\n",
       "      <td>0</td>\n",
       "      <td>1</td>\n",
       "      <td>0</td>\n",
       "      <td>...</td>\n",
       "      <td>0</td>\n",
       "      <td>0</td>\n",
       "      <td>1</td>\n",
       "      <td>0</td>\n",
       "      <td>0</td>\n",
       "      <td>1</td>\n",
       "      <td>0</td>\n",
       "      <td>0</td>\n",
       "      <td>1</td>\n",
       "      <td>0</td>\n",
       "    </tr>\n",
       "    <tr>\n",
       "      <th>1</th>\n",
       "      <td>1</td>\n",
       "      <td>0</td>\n",
       "      <td>1</td>\n",
       "      <td>0</td>\n",
       "      <td>1</td>\n",
       "      <td>0</td>\n",
       "      <td>0</td>\n",
       "      <td>0</td>\n",
       "      <td>1</td>\n",
       "      <td>1</td>\n",
       "      <td>...</td>\n",
       "      <td>0</td>\n",
       "      <td>0</td>\n",
       "      <td>1</td>\n",
       "      <td>0</td>\n",
       "      <td>1</td>\n",
       "      <td>0</td>\n",
       "      <td>0</td>\n",
       "      <td>0</td>\n",
       "      <td>1</td>\n",
       "      <td>0</td>\n",
       "    </tr>\n",
       "    <tr>\n",
       "      <th>2</th>\n",
       "      <td>1</td>\n",
       "      <td>0</td>\n",
       "      <td>0</td>\n",
       "      <td>1</td>\n",
       "      <td>0</td>\n",
       "      <td>1</td>\n",
       "      <td>0</td>\n",
       "      <td>0</td>\n",
       "      <td>1</td>\n",
       "      <td>0</td>\n",
       "      <td>...</td>\n",
       "      <td>1</td>\n",
       "      <td>0</td>\n",
       "      <td>1</td>\n",
       "      <td>0</td>\n",
       "      <td>1</td>\n",
       "      <td>0</td>\n",
       "      <td>1</td>\n",
       "      <td>0</td>\n",
       "      <td>0</td>\n",
       "      <td>0</td>\n",
       "    </tr>\n",
       "    <tr>\n",
       "      <th>3</th>\n",
       "      <td>1</td>\n",
       "      <td>1</td>\n",
       "      <td>1</td>\n",
       "      <td>0</td>\n",
       "      <td>0</td>\n",
       "      <td>1</td>\n",
       "      <td>0</td>\n",
       "      <td>0</td>\n",
       "      <td>0</td>\n",
       "      <td>1</td>\n",
       "      <td>...</td>\n",
       "      <td>1</td>\n",
       "      <td>0</td>\n",
       "      <td>1</td>\n",
       "      <td>0</td>\n",
       "      <td>1</td>\n",
       "      <td>0</td>\n",
       "      <td>0</td>\n",
       "      <td>0</td>\n",
       "      <td>1</td>\n",
       "      <td>0</td>\n",
       "    </tr>\n",
       "    <tr>\n",
       "      <th>4</th>\n",
       "      <td>1</td>\n",
       "      <td>0</td>\n",
       "      <td>1</td>\n",
       "      <td>0</td>\n",
       "      <td>0</td>\n",
       "      <td>0</td>\n",
       "      <td>1</td>\n",
       "      <td>1</td>\n",
       "      <td>0</td>\n",
       "      <td>1</td>\n",
       "      <td>...</td>\n",
       "      <td>1</td>\n",
       "      <td>0</td>\n",
       "      <td>1</td>\n",
       "      <td>0</td>\n",
       "      <td>1</td>\n",
       "      <td>0</td>\n",
       "      <td>0</td>\n",
       "      <td>0</td>\n",
       "      <td>1</td>\n",
       "      <td>0</td>\n",
       "    </tr>\n",
       "  </tbody>\n",
       "</table>\n",
       "<p>5 rows × 21 columns</p>\n",
       "</div>"
      ],
      "text/plain": [
       "   Loan Status  Term  Good  Very Good  Home Mortgage  Own Home  Rent  \\\n",
       "0            1     0     1          0              1         0     0   \n",
       "1            1     0     1          0              1         0     0   \n",
       "2            1     0     0          1              0         1     0   \n",
       "3            1     1     1          0              0         1     0   \n",
       "4            1     0     1          0              0         0     1   \n",
       "\n",
       "   Emp Level Mid  Emp Senior  No Credit Problem  ...  Good Credit Age  \\\n",
       "0              0           1                  0  ...                0   \n",
       "1              0           1                  1  ...                0   \n",
       "2              0           1                  0  ...                1   \n",
       "3              0           0                  1  ...                1   \n",
       "4              1           0                  1  ...                1   \n",
       "\n",
       "   Short Credit Age  No Tax Lien  Some Tax Liens  No bankruptcies  \\\n",
       "0                 0            1               0                0   \n",
       "1                 0            1               0                1   \n",
       "2                 0            1               0                1   \n",
       "3                 0            1               0                1   \n",
       "4                 0            1               0                1   \n",
       "\n",
       "   Some Bankruptcies  High Income  Low Income  Medium Loan  Small Loan  \n",
       "0                  1            0           0            1           0  \n",
       "1                  0            0           0            1           0  \n",
       "2                  0            1           0            0           0  \n",
       "3                  0            0           0            1           0  \n",
       "4                  0            0           0            1           0  \n",
       "\n",
       "[5 rows x 21 columns]"
      ]
     },
     "execution_count": 77,
     "metadata": {},
     "output_type": "execute_result"
    }
   ],
   "source": [
    "dataframe.head()"
   ]
  },
  {
   "cell_type": "markdown",
   "metadata": {
    "_uuid": "9db10694aaf253d6b86f018a621fb2eac1ac0d2f"
   },
   "source": [
    "Now we can see that we have all categorical values for our dataframe we can divide it into training and test set and plug into some classification algorithm."
   ]
  },
  {
   "cell_type": "code",
   "execution_count": 78,
   "metadata": {
    "_uuid": "b1252d79379b7dac26e081a1dc2989eefc447da3"
   },
   "outputs": [],
   "source": [
    "y = dataframe['Loan Status']\n",
    "X = dataframe.drop(['Loan Status'],axis=1)"
   ]
  },
  {
   "cell_type": "code",
   "execution_count": 79,
   "metadata": {
    "_uuid": "1b22ada0926fae9daa70ed222415012c8751e8a9"
   },
   "outputs": [],
   "source": [
    "X_train, X_test, y_train, y_test = train_test_split(X, y, test_size=0.33, random_state=42)"
   ]
  },
  {
   "cell_type": "markdown",
   "metadata": {},
   "source": [
    "# KNN"
   ]
  },
  {
   "cell_type": "code",
   "execution_count": 80,
   "metadata": {
    "_uuid": "6d40805c7bd10fa483da12057b3fbd98f476869e"
   },
   "outputs": [
    {
     "name": "stdout",
     "output_type": "stream",
     "text": [
      "Accuracy Score:  0.7507575757575757\n"
     ]
    }
   ],
   "source": [
    "knnclassifier = KNeighborsClassifier(n_neighbors = int(X.shape[1]/2))\n",
    "knnclassifier.fit(X_train, y_train)\n",
    "prediction = knnclassifier.predict(X_test)\n",
    "print(\"Accuracy Score: \", accuracy_score(y_test, prediction))\n",
    "# y_true = y_test\n"
   ]
  },
  {
   "cell_type": "code",
   "execution_count": 81,
   "metadata": {},
   "outputs": [
    {
     "data": {
      "text/plain": [
       "75721    1\n",
       "80184    0\n",
       "19864    0\n",
       "76699    1\n",
       "92991    1\n",
       "        ..\n",
       "97545    1\n",
       "15490    1\n",
       "62384    0\n",
       "54594    1\n",
       "64709    1\n",
       "Name: Loan Status, Length: 33000, dtype: int64"
      ]
     },
     "execution_count": 81,
     "metadata": {},
     "output_type": "execute_result"
    }
   ],
   "source": [
    "y_test"
   ]
  },
  {
   "cell_type": "code",
   "execution_count": 82,
   "metadata": {},
   "outputs": [
    {
     "data": {
      "text/plain": [
       "75721    0\n",
       "80184    1\n",
       "19864    0\n",
       "76699    1\n",
       "92991    1\n",
       "        ..\n",
       "97545    1\n",
       "15490    1\n",
       "62384    1\n",
       "54594    1\n",
       "64709    1\n",
       "Name: Loan Status, Length: 33000, dtype: int64"
      ]
     },
     "execution_count": 82,
     "metadata": {},
     "output_type": "execute_result"
    }
   ],
   "source": [
    "pred = y_test.copy(deep=True)\n",
    "for i in range(len(pred)):\n",
    "    pred.values[i] = prediction[i]\n",
    "pred"
   ]
  },
  {
   "cell_type": "code",
   "execution_count": 83,
   "metadata": {},
   "outputs": [
    {
     "data": {
      "text/plain": [
       "array([0, 1, 0, ..., 1, 1, 1])"
      ]
     },
     "execution_count": 83,
     "metadata": {},
     "output_type": "execute_result"
    }
   ],
   "source": [
    "prediction"
   ]
  },
  {
   "cell_type": "code",
   "execution_count": 84,
   "metadata": {},
   "outputs": [],
   "source": [
    "indexes = y_test.index.values\n",
    "indexes = indexes.tolist()"
   ]
  },
  {
   "cell_type": "code",
   "execution_count": 85,
   "metadata": {},
   "outputs": [],
   "source": [
    "# y_true = y_test.tolist()\n",
    "# pred = pred.tolist()"
   ]
  },
  {
   "cell_type": "code",
   "execution_count": 86,
   "metadata": {},
   "outputs": [],
   "source": [
    "y_true = [[] for i in range(len(indexes))]\n",
    "pred = [[] for i in range(len(indexes))]\n",
    "for i in range(len(indexes)):\n",
    "    y_true[i] = (indexes[i], y_test.values[i])\n",
    "    pred[i] = (indexes[i], prediction[i])\n",
    "# y_true\n",
    "# pred"
   ]
  },
  {
   "cell_type": "code",
   "execution_count": 87,
   "metadata": {},
   "outputs": [
    {
     "data": {
      "text/plain": [
       "array([[0.5, 0.5],\n",
       "       [0.1, 0.9],\n",
       "       [0.5, 0.5],\n",
       "       ...,\n",
       "       [0.2, 0.8],\n",
       "       [0.4, 0.6],\n",
       "       [0.2, 0.8]])"
      ]
     },
     "execution_count": 87,
     "metadata": {},
     "output_type": "execute_result"
    }
   ],
   "source": [
    "scores_knn = knnclassifier.predict_proba(X_test)\n",
    "scores_knn"
   ]
  },
  {
   "cell_type": "markdown",
   "metadata": {},
   "source": [
    "# binary_ECE"
   ]
  },
  {
   "cell_type": "code",
   "execution_count": 88,
   "metadata": {},
   "outputs": [
    {
     "data": {
      "text/plain": [
       "0.0841909090909092"
      ]
     },
     "execution_count": 88,
     "metadata": {},
     "output_type": "execute_result"
    }
   ],
   "source": [
    "# Calculate the ECE value of knnclassifier\n",
    "pycalib.metrics.binary_ECE(y_test.values, scores_knn[:,1], bins=15)"
   ]
  },
  {
   "cell_type": "code",
   "execution_count": 89,
   "metadata": {},
   "outputs": [
    {
     "data": {
      "text/plain": [
       "1.0"
      ]
     },
     "execution_count": 89,
     "metadata": {},
     "output_type": "execute_result"
    }
   ],
   "source": [
    "# accuracy of knnclassifier\n",
    "pycalib.metrics.accuracy(y_true, pred)"
   ]
  },
  {
   "cell_type": "code",
   "execution_count": 90,
   "metadata": {},
   "outputs": [
    {
     "data": {
      "text/plain": [
       "0.24924242424242424"
      ]
     },
     "execution_count": 90,
     "metadata": {},
     "output_type": "execute_result"
    }
   ],
   "source": [
    "# brier score\n",
    "pycalib.metrics.brier_score(y_test.values, prediction)"
   ]
  },
  {
   "cell_type": "code",
   "execution_count": 91,
   "metadata": {},
   "outputs": [
    {
     "data": {
      "text/plain": [
       "8.608694675300038"
      ]
     },
     "execution_count": 91,
     "metadata": {},
     "output_type": "execute_result"
    }
   ],
   "source": [
    "# cross-entropy (log loss)\n",
    "pycalib.metrics.cross_entropy(y_test.values, prediction)"
   ]
  },
  {
   "cell_type": "code",
   "execution_count": 92,
   "metadata": {},
   "outputs": [
    {
     "name": "stdout",
     "output_type": "stream",
     "text": [
      "670 6864 1361 24105\n"
     ]
    }
   ],
   "source": [
    "tneg, fpos, fneg, tpos = confusion_matrix(y_test, prediction).ravel()\n",
    "print(tneg,fpos,fneg,tpos)"
   ]
  },
  {
   "cell_type": "code",
   "execution_count": 93,
   "metadata": {},
   "outputs": [],
   "source": [
    "# y_test.values\n",
    "# prediction"
   ]
  },
  {
   "cell_type": "code",
   "execution_count": 94,
   "metadata": {},
   "outputs": [
    {
     "data": {
      "text/plain": [
       "array([0.67011324, 0.778359  ])"
      ]
     },
     "execution_count": 94,
     "metadata": {},
     "output_type": "execute_result"
    }
   ],
   "source": [
    "knn_true, knn_pred = calibration_curve(y_test.values, prediction, n_bins = 10)\n",
    "knn_true"
   ]
  },
  {
   "cell_type": "code",
   "execution_count": 95,
   "metadata": {},
   "outputs": [
    {
     "data": {
      "text/plain": [
       "array([0., 1.])"
      ]
     },
     "execution_count": 95,
     "metadata": {},
     "output_type": "execute_result"
    }
   ],
   "source": [
    "knn_pred"
   ]
  },
  {
   "cell_type": "code",
   "execution_count": 96,
   "metadata": {},
   "outputs": [
    {
     "data": {
      "text/plain": [
       "array([1, 0, 0, ..., 0, 1, 1])"
      ]
     },
     "execution_count": 96,
     "metadata": {},
     "output_type": "execute_result"
    }
   ],
   "source": [
    "y_test.values"
   ]
  },
  {
   "cell_type": "code",
   "execution_count": 97,
   "metadata": {},
   "outputs": [
    {
     "data": {
      "text/plain": [
       "array([[0.5, 0.5],\n",
       "       [0.1, 0.9],\n",
       "       [0.5, 0.5],\n",
       "       ...,\n",
       "       [0.2, 0.8],\n",
       "       [0.4, 0.6],\n",
       "       [0.2, 0.8]])"
      ]
     },
     "execution_count": 97,
     "metadata": {},
     "output_type": "execute_result"
    }
   ],
   "source": [
    "scores_knn"
   ]
  },
  {
   "cell_type": "code",
   "execution_count": 98,
   "metadata": {},
   "outputs": [
    {
     "data": {
      "text/plain": [
       "array([0.5, 0.9, 0.5, ..., 0.8, 0.6, 0.8])"
      ]
     },
     "execution_count": 98,
     "metadata": {},
     "output_type": "execute_result"
    }
   ],
   "source": [
    "scores_knn[:,1]"
   ]
  },
  {
   "cell_type": "code",
   "execution_count": 99,
   "metadata": {},
   "outputs": [
    {
     "data": {
      "image/png": "[encoded data removed]",
      "text/plain": [
       "<Figure size 288x288 with 2 Axes>"
      ]
     },
     "metadata": {
      "needs_background": "light"
     },
     "output_type": "display_data"
    }
   ],
   "source": [
    "from pycalib.visualisations import plot_reliability_diagram\n",
    "\n",
    "fig = pycalib.visualisations.plot_reliability_diagram(y_test.values,\n",
    "                                                [scores_knn, ],\n",
    "                                                legend=None,\n",
    "                                                show_histogram=True,\n",
    "                                                bins=10,\n",
    "                                                class_names=[\"0\",\"1\"],\n",
    "                                                fig=None,\n",
    "                                                show_counts=False,\n",
    "                                                errorbar_interval=None,\n",
    "                                                interval_method='beta',\n",
    "                                                fmt='s-',\n",
    "                                                show_correction=False,\n",
    "                                                show_gaps=True,\n",
    "                                                sample_proportion=0,\n",
    "                                                hist_per_class=False,\n",
    "                                                color_list=None,\n",
    "                                                show_bars=True,\n",
    "                                                invert_histogram=False,\n",
    "                                                color_gaps='lightcoral',\n",
    "                                                confidence=False)\n"
   ]
  },
  {
   "cell_type": "markdown",
   "metadata": {},
   "source": [
    "# Logistic Regression"
   ]
  },
  {
   "cell_type": "code",
   "execution_count": 100,
   "metadata": {
    "_uuid": "875bcc8a291fe8124eb756dbca0c59dfa7788649"
   },
   "outputs": [
    {
     "name": "stdout",
     "output_type": "stream",
     "text": [
      "Score:  0.7717575757575758\n"
     ]
    }
   ],
   "source": [
    "lregclassifier = LogisticRegression(max_iter=1000)\n",
    "lregclassifier.fit(X_train,y_train)\n",
    "lregprediction = lregclassifier.predict(X_test)\n",
    "print(\"Score: \",lregclassifier.score(X_test, y_test))"
   ]
  },
  {
   "cell_type": "code",
   "execution_count": 101,
   "metadata": {},
   "outputs": [],
   "source": [
    "lregpred = [[] for i in range(len(indexes))]\n",
    "for i in range(len(indexes)):\n",
    "    lregpred[i] = (indexes[i], lregprediction[i])\n",
    "# lregpred"
   ]
  },
  {
   "cell_type": "code",
   "execution_count": 102,
   "metadata": {},
   "outputs": [
    {
     "data": {
      "text/plain": [
       "0.24996969696969698"
      ]
     },
     "execution_count": 102,
     "metadata": {},
     "output_type": "execute_result"
    }
   ],
   "source": [
    "# Calculate the ECE value of lregclassifier\n",
    "pycalib.metrics.ECE(y_true, lregpred, normalize=False, bins=15, ece_full=True)"
   ]
  },
  {
   "cell_type": "code",
   "execution_count": 103,
   "metadata": {},
   "outputs": [
    {
     "data": {
      "text/plain": [
       "1.0"
      ]
     },
     "execution_count": 103,
     "metadata": {},
     "output_type": "execute_result"
    }
   ],
   "source": [
    "# accuracy of lregclassifier\n",
    "pycalib.metrics.accuracy(y_true, lregpred)"
   ]
  },
  {
   "cell_type": "code",
   "execution_count": 104,
   "metadata": {},
   "outputs": [
    {
     "data": {
      "text/plain": [
       "0.22824242424242425"
      ]
     },
     "execution_count": 104,
     "metadata": {},
     "output_type": "execute_result"
    }
   ],
   "source": [
    "# brier score\n",
    "pycalib.metrics.brier_score(y_test.values, lregprediction)"
   ]
  },
  {
   "cell_type": "code",
   "execution_count": 105,
   "metadata": {},
   "outputs": [
    {
     "data": {
      "text/plain": [
       "7.883396484106643"
      ]
     },
     "execution_count": 105,
     "metadata": {},
     "output_type": "execute_result"
    }
   ],
   "source": [
    "# cross-entropy (log loss)\n",
    "pycalib.metrics.cross_entropy(y_test.values, lregprediction)"
   ]
  },
  {
   "cell_type": "code",
   "execution_count": 106,
   "metadata": {},
   "outputs": [
    {
     "name": "stdout",
     "output_type": "stream",
     "text": [
      "5 7529 3 25463\n"
     ]
    }
   ],
   "source": [
    "tneg, fpos, fneg, tpos = confusion_matrix(y_test, lregprediction).ravel()\n",
    "print(tneg,fpos,fneg,tpos)"
   ]
  },
  {
   "cell_type": "code",
   "execution_count": 107,
   "metadata": {},
   "outputs": [
    {
     "data": {
      "text/plain": [
       "array([0.375     , 0.77179316])"
      ]
     },
     "execution_count": 107,
     "metadata": {},
     "output_type": "execute_result"
    }
   ],
   "source": [
    "lreg_true, lreg_pred = calibration_curve(y_test.values, lregprediction, n_bins = 10)\n",
    "lreg_true"
   ]
  },
  {
   "cell_type": "code",
   "execution_count": 108,
   "metadata": {},
   "outputs": [
    {
     "data": {
      "text/plain": [
       "array([0., 1.])"
      ]
     },
     "execution_count": 108,
     "metadata": {},
     "output_type": "execute_result"
    }
   ],
   "source": [
    "lreg_pred"
   ]
  },
  {
   "cell_type": "code",
   "execution_count": 109,
   "metadata": {},
   "outputs": [],
   "source": [
    "scores_lreg = lregclassifier.predict_proba(X_test)"
   ]
  },
  {
   "cell_type": "code",
   "execution_count": 110,
   "metadata": {},
   "outputs": [
    {
     "data": {
      "image/png": "[encoded data removed]",
      "text/plain": [
       "<Figure size 288x288 with 2 Axes>"
      ]
     },
     "metadata": {
      "needs_background": "light"
     },
     "output_type": "display_data"
    }
   ],
   "source": [
    "fig2 = pycalib.visualisations.plot_reliability_diagram(y_test,\n",
    "                                                [scores_lreg, ],\n",
    "                                                legend=None,\n",
    "                                                show_histogram=True,\n",
    "                                                bins=10,\n",
    "                                                class_names=[\"0\",\"1\"],\n",
    "                                                fig=None,\n",
    "                                                show_counts=False,\n",
    "                                                errorbar_interval=None,\n",
    "                                                interval_method='beta',\n",
    "                                                fmt='s-',\n",
    "                                                show_correction=False,\n",
    "                                                show_gaps=True,\n",
    "                                                sample_proportion=0,\n",
    "                                                hist_per_class=False,\n",
    "                                                color_list=None,\n",
    "                                                show_bars=False,\n",
    "                                                invert_histogram=False,\n",
    "                                                color_gaps='lightcoral',\n",
    "                                                confidence=False)"
   ]
  },
  {
   "cell_type": "markdown",
   "metadata": {},
   "source": [
    "# SVC"
   ]
  },
  {
   "cell_type": "code",
   "execution_count": 111,
   "metadata": {},
   "outputs": [
    {
     "name": "stdout",
     "output_type": "stream",
     "text": [
      "Accuracy Score:  0.7716969696969697\n"
     ]
    }
   ],
   "source": [
    "from sklearn.svm import SVC\n",
    "# modify probability=True\n",
    "svc = SVC(gamma='auto', kernel ='linear', probability=True)\n",
    "# svc = SVC(gamma='auto', kernel ='linear')\n",
    "svc.fit(X_train, y_train)\n",
    "svcprediction = svc.predict(X_test)\n",
    "print(\"Accuracy Score: \", accuracy_score(y_test, svcprediction))"
   ]
  },
  {
   "cell_type": "code",
   "execution_count": 112,
   "metadata": {},
   "outputs": [],
   "source": [
    "svcpred = [[] for i in range(len(indexes))]\n",
    "for i in range(len(indexes)):\n",
    "    svcpred[i] = (indexes[i], svcprediction[i])\n",
    "# svcpred"
   ]
  },
  {
   "cell_type": "code",
   "execution_count": 113,
   "metadata": {},
   "outputs": [
    {
     "data": {
      "text/plain": [
       "0.25"
      ]
     },
     "execution_count": 113,
     "metadata": {},
     "output_type": "execute_result"
    }
   ],
   "source": [
    "# Calculate the ECE value of svc classifier\n",
    "pycalib.metrics.ECE(y_true, svcpred, normalize=False, bins=15, ece_full=True)"
   ]
  },
  {
   "cell_type": "code",
   "execution_count": 114,
   "metadata": {},
   "outputs": [
    {
     "data": {
      "text/plain": [
       "1.0"
      ]
     },
     "execution_count": 114,
     "metadata": {},
     "output_type": "execute_result"
    }
   ],
   "source": [
    "# accuracy of svc classifier\n",
    "pycalib.metrics.accuracy(y_true, svcpred)"
   ]
  },
  {
   "cell_type": "code",
   "execution_count": 115,
   "metadata": {},
   "outputs": [
    {
     "data": {
      "text/plain": [
       "0.2283030303030303"
      ]
     },
     "execution_count": 115,
     "metadata": {},
     "output_type": "execute_result"
    }
   ],
   "source": [
    "# brier score\n",
    "pycalib.metrics.brier_score(y_test.values, svcprediction)"
   ]
  },
  {
   "cell_type": "code",
   "execution_count": 116,
   "metadata": {},
   "outputs": [
    {
     "data": {
      "text/plain": [
       "7.885489864433218"
      ]
     },
     "execution_count": 116,
     "metadata": {},
     "output_type": "execute_result"
    }
   ],
   "source": [
    "# cross-entropy (log loss)\n",
    "pycalib.metrics.cross_entropy(y_test.values, svcprediction)"
   ]
  },
  {
   "cell_type": "code",
   "execution_count": 117,
   "metadata": {},
   "outputs": [
    {
     "name": "stdout",
     "output_type": "stream",
     "text": [
      "0 7534 0 25466\n"
     ]
    }
   ],
   "source": [
    "tneg, fpos, fneg, tpos = confusion_matrix(y_test, svcprediction).ravel()\n",
    "print(tneg,fpos,fneg,tpos)"
   ]
  },
  {
   "cell_type": "code",
   "execution_count": 118,
   "metadata": {},
   "outputs": [
    {
     "data": {
      "text/plain": [
       "array([0.77169697])"
      ]
     },
     "execution_count": 118,
     "metadata": {},
     "output_type": "execute_result"
    }
   ],
   "source": [
    "svc_true, svc_pred = calibration_curve(y_test.values, svcprediction)\n",
    "svc_true"
   ]
  },
  {
   "cell_type": "code",
   "execution_count": 119,
   "metadata": {},
   "outputs": [
    {
     "data": {
      "text/plain": [
       "array([1.])"
      ]
     },
     "execution_count": 119,
     "metadata": {},
     "output_type": "execute_result"
    }
   ],
   "source": [
    "svc_pred"
   ]
  },
  {
   "cell_type": "code",
   "execution_count": 120,
   "metadata": {},
   "outputs": [],
   "source": [
    "scores_svc = svc.predict_proba(X_test)"
   ]
  },
  {
   "cell_type": "code",
   "execution_count": 121,
   "metadata": {},
   "outputs": [
    {
     "data": {
      "image/png": "[encoded data removed]",
      "text/plain": [
       "<Figure size 288x288 with 2 Axes>"
      ]
     },
     "metadata": {
      "needs_background": "light"
     },
     "output_type": "display_data"
    }
   ],
   "source": [
    "fig3 = pycalib.visualisations.plot_reliability_diagram(y_test,\n",
    "                                                [scores_svc, ],\n",
    "                                                legend=None,\n",
    "                                                show_histogram=True,\n",
    "                                                bins=10,\n",
    "                                                class_names=[\"0\",\"1\"],\n",
    "                                                fig=None,\n",
    "                                                show_counts=False,\n",
    "                                                errorbar_interval=None,\n",
    "                                                interval_method='beta',\n",
    "                                                fmt='s-',\n",
    "                                                show_correction=False,\n",
    "                                                show_gaps=True,\n",
    "                                                sample_proportion=0,\n",
    "                                                hist_per_class=False,\n",
    "                                                color_list=None,\n",
    "                                                show_bars=False,\n",
    "                                                invert_histogram=False,\n",
    "                                                color_gaps='lightcoral',\n",
    "                                                confidence=False)"
   ]
  },
  {
   "cell_type": "markdown",
   "metadata": {},
   "source": [
    "# XGB"
   ]
  },
  {
   "cell_type": "code",
   "execution_count": 122,
   "metadata": {},
   "outputs": [
    {
     "data": {
      "text/html": [
       "<style>#sk-container-id-1 {color: black;background-color: white;}#sk-container-id-1 pre{padding: 0;}#sk-container-id-1 div.sk-toggleable {background-color: white;}#sk-container-id-1 label.sk-toggleable__label {cursor: pointer;display: block;width: 100%;margin-bottom: 0;padding: 0.3em;box-sizing: border-box;text-align: center;}#sk-container-id-1 label.sk-toggleable__label-arrow:before {content: \"▸\";float: left;margin-right: 0.25em;color: #696969;}#sk-container-id-1 label.sk-toggleable__label-arrow:hover:before {color: black;}#sk-container-id-1 div.sk-estimator:hover label.sk-toggleable__label-arrow:before {color: black;}#sk-container-id-1 div.sk-toggleable__content {max-height: 0;max-width: 0;overflow: hidden;text-align: left;background-color: #f0f8ff;}#sk-container-id-1 div.sk-toggleable__content pre {margin: 0.2em;color: black;border-radius: 0.25em;background-color: #f0f8ff;}#sk-container-id-1 input.sk-toggleable__control:checked~div.sk-toggleable__content {max-height: 200px;max-width: 100%;overflow: auto;}#sk-container-id-1 input.sk-toggleable__control:checked~label.sk-toggleable__label-arrow:before {content: \"▾\";}#sk-container-id-1 div.sk-estimator input.sk-toggleable__control:checked~label.sk-toggleable__label {background-color: #d4ebff;}#sk-container-id-1 div.sk-label input.sk-toggleable__control:checked~label.sk-toggleable__label {background-color: #d4ebff;}#sk-container-id-1 input.sk-hidden--visually {border: 0;clip: rect(1px 1px 1px 1px);clip: rect(1px, 1px, 1px, 1px);height: 1px;margin: -1px;overflow: hidden;padding: 0;position: absolute;width: 1px;}#sk-container-id-1 div.sk-estimator {font-family: monospace;background-color: #f0f8ff;border: 1px dotted black;border-radius: 0.25em;box-sizing: border-box;margin-bottom: 0.5em;}#sk-container-id-1 div.sk-estimator:hover {background-color: #d4ebff;}#sk-container-id-1 div.sk-parallel-item::after {content: \"\";width: 100%;border-bottom: 1px solid gray;flex-grow: 1;}#sk-container-id-1 div.sk-label:hover label.sk-toggleable__label {background-color: #d4ebff;}#sk-container-id-1 div.sk-serial::before {content: \"\";position: absolute;border-left: 1px solid gray;box-sizing: border-box;top: 0;bottom: 0;left: 50%;z-index: 0;}#sk-container-id-1 div.sk-serial {display: flex;flex-direction: column;align-items: center;background-color: white;padding-right: 0.2em;padding-left: 0.2em;position: relative;}#sk-container-id-1 div.sk-item {position: relative;z-index: 1;}#sk-container-id-1 div.sk-parallel {display: flex;align-items: stretch;justify-content: center;background-color: white;position: relative;}#sk-container-id-1 div.sk-item::before, #sk-container-id-1 div.sk-parallel-item::before {content: \"\";position: absolute;border-left: 1px solid gray;box-sizing: border-box;top: 0;bottom: 0;left: 50%;z-index: -1;}#sk-container-id-1 div.sk-parallel-item {display: flex;flex-direction: column;z-index: 1;position: relative;background-color: white;}#sk-container-id-1 div.sk-parallel-item:first-child::after {align-self: flex-end;width: 50%;}#sk-container-id-1 div.sk-parallel-item:last-child::after {align-self: flex-start;width: 50%;}#sk-container-id-1 div.sk-parallel-item:only-child::after {width: 0;}#sk-container-id-1 div.sk-dashed-wrapped {border: 1px dashed gray;margin: 0 0.4em 0.5em 0.4em;box-sizing: border-box;padding-bottom: 0.4em;background-color: white;}#sk-container-id-1 div.sk-label label {font-family: monospace;font-weight: bold;display: inline-block;line-height: 1.2em;}#sk-container-id-1 div.sk-label-container {text-align: center;}#sk-container-id-1 div.sk-container {/* jupyter's `normalize.less` sets `[hidden] { display: none; }` but bootstrap.min.css set `[hidden] { display: none !important; }` so we also need the `!important` here to be able to override the default hidden behavior on the sphinx rendered scikit-learn.org. See: https://github.com/scikit-learn/scikit-learn/issues/21755 */display: inline-block !important;position: relative;}#sk-container-id-1 div.sk-text-repr-fallback {display: none;}</style><div id=\"sk-container-id-1\" class=\"sk-top-container\"><div class=\"sk-text-repr-fallback\"><pre>XGBClassifier(base_score=0.5, booster=&#x27;gbtree&#x27;, callbacks=None,\n",
       "              colsample_bylevel=1, colsample_bynode=1, colsample_bytree=1,\n",
       "              early_stopping_rounds=None, enable_categorical=False,\n",
       "              eval_metric=None, gamma=0, gpu_id=-1, grow_policy=&#x27;depthwise&#x27;,\n",
       "              importance_type=None, interaction_constraints=&#x27;&#x27;,\n",
       "              learning_rate=0.300000012, max_bin=256, max_cat_to_onehot=4,\n",
       "              max_delta_step=0, max_depth=6, max_leaves=0, min_child_weight=1,\n",
       "              missing=nan, monotone_constraints=&#x27;()&#x27;, n_estimators=100,\n",
       "              n_jobs=0, num_parallel_tree=1, predictor=&#x27;auto&#x27;, random_state=0,\n",
       "              reg_alpha=0, reg_lambda=1, ...)</pre><b>In a Jupyter environment, please rerun this cell to show the HTML representation or trust the notebook. <br />On GitHub, the HTML representation is unable to render, please try loading this page with nbviewer.org.</b></div><div class=\"sk-container\" hidden><div class=\"sk-item\"><div class=\"sk-estimator sk-toggleable\"><input class=\"sk-toggleable__control sk-hidden--visually\" id=\"sk-estimator-id-1\" type=\"checkbox\" checked><label for=\"sk-estimator-id-1\" class=\"sk-toggleable__label sk-toggleable__label-arrow\">XGBClassifier</label><div class=\"sk-toggleable__content\"><pre>XGBClassifier(base_score=0.5, booster=&#x27;gbtree&#x27;, callbacks=None,\n",
       "              colsample_bylevel=1, colsample_bynode=1, colsample_bytree=1,\n",
       "              early_stopping_rounds=None, enable_categorical=False,\n",
       "              eval_metric=None, gamma=0, gpu_id=-1, grow_policy=&#x27;depthwise&#x27;,\n",
       "              importance_type=None, interaction_constraints=&#x27;&#x27;,\n",
       "              learning_rate=0.300000012, max_bin=256, max_cat_to_onehot=4,\n",
       "              max_delta_step=0, max_depth=6, max_leaves=0, min_child_weight=1,\n",
       "              missing=nan, monotone_constraints=&#x27;()&#x27;, n_estimators=100,\n",
       "              n_jobs=0, num_parallel_tree=1, predictor=&#x27;auto&#x27;, random_state=0,\n",
       "              reg_alpha=0, reg_lambda=1, ...)</pre></div></div></div></div></div>"
      ],
      "text/plain": [
       "XGBClassifier(base_score=0.5, booster='gbtree', callbacks=None,\n",
       "              colsample_bylevel=1, colsample_bynode=1, colsample_bytree=1,\n",
       "              early_stopping_rounds=None, enable_categorical=False,\n",
       "              eval_metric=None, gamma=0, gpu_id=-1, grow_policy='depthwise',\n",
       "              importance_type=None, interaction_constraints='',\n",
       "              learning_rate=0.300000012, max_bin=256, max_cat_to_onehot=4,\n",
       "              max_delta_step=0, max_depth=6, max_leaves=0, min_child_weight=1,\n",
       "              missing=nan, monotone_constraints='()', n_estimators=100,\n",
       "              n_jobs=0, num_parallel_tree=1, predictor='auto', random_state=0,\n",
       "              reg_alpha=0, reg_lambda=1, ...)"
      ]
     },
     "execution_count": 122,
     "metadata": {},
     "output_type": "execute_result"
    }
   ],
   "source": [
    "XGBclf = XGBClassifier()\n",
    "XGBclf.fit(X_train,y_train)"
   ]
  },
  {
   "cell_type": "code",
   "execution_count": 123,
   "metadata": {},
   "outputs": [
    {
     "name": "stdout",
     "output_type": "stream",
     "text": [
      "Accuracy Score:  0.7701212121212121\n"
     ]
    }
   ],
   "source": [
    "XGBpred = XGBclf.predict(X_test)\n",
    "print(\"Accuracy Score: \", accuracy_score(y_test, XGBpred))"
   ]
  },
  {
   "cell_type": "code",
   "execution_count": 124,
   "metadata": {},
   "outputs": [],
   "source": [
    "XGB = [[] for i in range(len(indexes))]\n",
    "for i in range(len(indexes)):\n",
    "    XGB[i] = (indexes[i], XGBpred[i])"
   ]
  },
  {
   "cell_type": "code",
   "execution_count": 125,
   "metadata": {},
   "outputs": [
    {
     "data": {
      "text/plain": [
       "0.24831818181818183"
      ]
     },
     "execution_count": 125,
     "metadata": {},
     "output_type": "execute_result"
    }
   ],
   "source": [
    "# Calculate the ECE value of XGB classifier\n",
    "pycalib.metrics.ECE(y_true, XGB, normalize=False, bins=15, ece_full=True)"
   ]
  },
  {
   "cell_type": "code",
   "execution_count": 126,
   "metadata": {},
   "outputs": [
    {
     "data": {
      "text/plain": [
       "0.22987878787878788"
      ]
     },
     "execution_count": 126,
     "metadata": {},
     "output_type": "execute_result"
    }
   ],
   "source": [
    "# brier score\n",
    "pycalib.metrics.brier_score(y_test.values, XGBpred)"
   ]
  },
  {
   "cell_type": "code",
   "execution_count": 127,
   "metadata": {},
   "outputs": [
    {
     "data": {
      "text/plain": [
       "7.939912640346658"
      ]
     },
     "execution_count": 127,
     "metadata": {},
     "output_type": "execute_result"
    }
   ],
   "source": [
    "# cross-entropy (log loss)\n",
    "pycalib.metrics.cross_entropy(y_test.values, XGBpred)"
   ]
  },
  {
   "cell_type": "code",
   "execution_count": 128,
   "metadata": {},
   "outputs": [
    {
     "name": "stdout",
     "output_type": "stream",
     "text": [
      "81 7453 133 25333\n"
     ]
    }
   ],
   "source": [
    "tneg, fpos, fneg, tpos = confusion_matrix(y_test, XGBpred).ravel()\n",
    "print(tneg,fpos,fneg,tpos)"
   ]
  },
  {
   "cell_type": "code",
   "execution_count": 129,
   "metadata": {},
   "outputs": [
    {
     "data": {
      "text/plain": [
       "array([0.62149533, 0.77267736])"
      ]
     },
     "execution_count": 129,
     "metadata": {},
     "output_type": "execute_result"
    }
   ],
   "source": [
    "xgb_true, xgb_pred = calibration_curve(y_test.values, XGBpred)\n",
    "xgb_true"
   ]
  },
  {
   "cell_type": "code",
   "execution_count": 130,
   "metadata": {},
   "outputs": [
    {
     "data": {
      "text/plain": [
       "array([0., 1.])"
      ]
     },
     "execution_count": 130,
     "metadata": {},
     "output_type": "execute_result"
    }
   ],
   "source": [
    "xgb_pred"
   ]
  },
  {
   "cell_type": "code",
   "execution_count": 131,
   "metadata": {},
   "outputs": [],
   "source": [
    "scores_xgb = XGBclf.predict_proba(X_test)"
   ]
  },
  {
   "cell_type": "code",
   "execution_count": 132,
   "metadata": {},
   "outputs": [
    {
     "data": {
      "text/plain": [
       "array([[0.30756724, 0.69243276],\n",
       "       [0.1933369 , 0.8066631 ],\n",
       "       [0.40488076, 0.59511924],\n",
       "       ...,\n",
       "       [0.29498088, 0.7050191 ],\n",
       "       [0.2476492 , 0.7523508 ],\n",
       "       [0.19527346, 0.80472654]], dtype=float32)"
      ]
     },
     "execution_count": 132,
     "metadata": {},
     "output_type": "execute_result"
    }
   ],
   "source": [
    "scores_xgb"
   ]
  },
  {
   "cell_type": "code",
   "execution_count": 133,
   "metadata": {},
   "outputs": [
    {
     "data": {
      "image/png": "[encoded data removed]",
      "text/plain": [
       "<Figure size 288x288 with 2 Axes>"
      ]
     },
     "metadata": {
      "needs_background": "light"
     },
     "output_type": "display_data"
    }
   ],
   "source": [
    "fig4 = pycalib.visualisations.plot_reliability_diagram(y_test,\n",
    "                                                [scores_xgb, ],\n",
    "                                                legend=None,\n",
    "                                                show_histogram=True,\n",
    "                                                bins=10,\n",
    "                                                class_names=[\"0\",\"1\"],\n",
    "                                                fig=None,\n",
    "                                                show_counts=False,\n",
    "                                                errorbar_interval=None,\n",
    "                                                interval_method='beta',\n",
    "                                                fmt='s-',\n",
    "                                                show_correction=False,\n",
    "                                                show_gaps=True,\n",
    "                                                sample_proportion=0,\n",
    "                                                hist_per_class=False,\n",
    "                                                color_list=None,\n",
    "                                                show_bars=False,\n",
    "                                                invert_histogram=False,\n",
    "                                                color_gaps='lightcoral',\n",
    "                                                confidence=False)"
   ]
  },
  {
   "cell_type": "markdown",
   "metadata": {},
   "source": [
    "# SGD"
   ]
  },
  {
   "cell_type": "code",
   "execution_count": 134,
   "metadata": {},
   "outputs": [
    {
     "data": {
      "text/html": [
       "<style>#sk-container-id-2 {color: black;background-color: white;}#sk-container-id-2 pre{padding: 0;}#sk-container-id-2 div.sk-toggleable {background-color: white;}#sk-container-id-2 label.sk-toggleable__label {cursor: pointer;display: block;width: 100%;margin-bottom: 0;padding: 0.3em;box-sizing: border-box;text-align: center;}#sk-container-id-2 label.sk-toggleable__label-arrow:before {content: \"▸\";float: left;margin-right: 0.25em;color: #696969;}#sk-container-id-2 label.sk-toggleable__label-arrow:hover:before {color: black;}#sk-container-id-2 div.sk-estimator:hover label.sk-toggleable__label-arrow:before {color: black;}#sk-container-id-2 div.sk-toggleable__content {max-height: 0;max-width: 0;overflow: hidden;text-align: left;background-color: #f0f8ff;}#sk-container-id-2 div.sk-toggleable__content pre {margin: 0.2em;color: black;border-radius: 0.25em;background-color: #f0f8ff;}#sk-container-id-2 input.sk-toggleable__control:checked~div.sk-toggleable__content {max-height: 200px;max-width: 100%;overflow: auto;}#sk-container-id-2 input.sk-toggleable__control:checked~label.sk-toggleable__label-arrow:before {content: \"▾\";}#sk-container-id-2 div.sk-estimator input.sk-toggleable__control:checked~label.sk-toggleable__label {background-color: #d4ebff;}#sk-container-id-2 div.sk-label input.sk-toggleable__control:checked~label.sk-toggleable__label {background-color: #d4ebff;}#sk-container-id-2 input.sk-hidden--visually {border: 0;clip: rect(1px 1px 1px 1px);clip: rect(1px, 1px, 1px, 1px);height: 1px;margin: -1px;overflow: hidden;padding: 0;position: absolute;width: 1px;}#sk-container-id-2 div.sk-estimator {font-family: monospace;background-color: #f0f8ff;border: 1px dotted black;border-radius: 0.25em;box-sizing: border-box;margin-bottom: 0.5em;}#sk-container-id-2 div.sk-estimator:hover {background-color: #d4ebff;}#sk-container-id-2 div.sk-parallel-item::after {content: \"\";width: 100%;border-bottom: 1px solid gray;flex-grow: 1;}#sk-container-id-2 div.sk-label:hover label.sk-toggleable__label {background-color: #d4ebff;}#sk-container-id-2 div.sk-serial::before {content: \"\";position: absolute;border-left: 1px solid gray;box-sizing: border-box;top: 0;bottom: 0;left: 50%;z-index: 0;}#sk-container-id-2 div.sk-serial {display: flex;flex-direction: column;align-items: center;background-color: white;padding-right: 0.2em;padding-left: 0.2em;position: relative;}#sk-container-id-2 div.sk-item {position: relative;z-index: 1;}#sk-container-id-2 div.sk-parallel {display: flex;align-items: stretch;justify-content: center;background-color: white;position: relative;}#sk-container-id-2 div.sk-item::before, #sk-container-id-2 div.sk-parallel-item::before {content: \"\";position: absolute;border-left: 1px solid gray;box-sizing: border-box;top: 0;bottom: 0;left: 50%;z-index: -1;}#sk-container-id-2 div.sk-parallel-item {display: flex;flex-direction: column;z-index: 1;position: relative;background-color: white;}#sk-container-id-2 div.sk-parallel-item:first-child::after {align-self: flex-end;width: 50%;}#sk-container-id-2 div.sk-parallel-item:last-child::after {align-self: flex-start;width: 50%;}#sk-container-id-2 div.sk-parallel-item:only-child::after {width: 0;}#sk-container-id-2 div.sk-dashed-wrapped {border: 1px dashed gray;margin: 0 0.4em 0.5em 0.4em;box-sizing: border-box;padding-bottom: 0.4em;background-color: white;}#sk-container-id-2 div.sk-label label {font-family: monospace;font-weight: bold;display: inline-block;line-height: 1.2em;}#sk-container-id-2 div.sk-label-container {text-align: center;}#sk-container-id-2 div.sk-container {/* jupyter's `normalize.less` sets `[hidden] { display: none; }` but bootstrap.min.css set `[hidden] { display: none !important; }` so we also need the `!important` here to be able to override the default hidden behavior on the sphinx rendered scikit-learn.org. See: https://github.com/scikit-learn/scikit-learn/issues/21755 */display: inline-block !important;position: relative;}#sk-container-id-2 div.sk-text-repr-fallback {display: none;}</style><div id=\"sk-container-id-2\" class=\"sk-top-container\"><div class=\"sk-text-repr-fallback\"><pre>SGDClassifier(loss=&#x27;modified_huber&#x27;)</pre><b>In a Jupyter environment, please rerun this cell to show the HTML representation or trust the notebook. <br />On GitHub, the HTML representation is unable to render, please try loading this page with nbviewer.org.</b></div><div class=\"sk-container\" hidden><div class=\"sk-item\"><div class=\"sk-estimator sk-toggleable\"><input class=\"sk-toggleable__control sk-hidden--visually\" id=\"sk-estimator-id-2\" type=\"checkbox\" checked><label for=\"sk-estimator-id-2\" class=\"sk-toggleable__label sk-toggleable__label-arrow\">SGDClassifier</label><div class=\"sk-toggleable__content\"><pre>SGDClassifier(loss=&#x27;modified_huber&#x27;)</pre></div></div></div></div></div>"
      ],
      "text/plain": [
       "SGDClassifier(loss='modified_huber')"
      ]
     },
     "execution_count": 134,
     "metadata": {},
     "output_type": "execute_result"
    }
   ],
   "source": [
    "# SGDclf = SGDClassifier(loss='modified_huber',shuffle=True)\n",
    "SGDclf = SGDClassifier(loss='modified_huber')\n",
    "SGDclf.fit(X_train,y_train) "
   ]
  },
  {
   "cell_type": "code",
   "execution_count": 135,
   "metadata": {},
   "outputs": [],
   "source": [
    "# SGDClassifier.predict_proba(X_test)"
   ]
  },
  {
   "cell_type": "code",
   "execution_count": 136,
   "metadata": {},
   "outputs": [
    {
     "name": "stdout",
     "output_type": "stream",
     "text": [
      "Accuracy Score:  0.7714848484848484\n"
     ]
    }
   ],
   "source": [
    "SGDpred = SGDclf.predict(X_test)\n",
    "print(\"Accuracy Score: \", accuracy_score(y_test, SGDpred))"
   ]
  },
  {
   "cell_type": "code",
   "execution_count": 137,
   "metadata": {},
   "outputs": [],
   "source": [
    "SGD = [[] for i in range(len(indexes))]\n",
    "for i in range(len(indexes)):\n",
    "    SGD[i] = (indexes[i], SGDpred[i])"
   ]
  },
  {
   "cell_type": "code",
   "execution_count": 138,
   "metadata": {},
   "outputs": [
    {
     "data": {
      "text/plain": [
       "0.24990909090909091"
      ]
     },
     "execution_count": 138,
     "metadata": {},
     "output_type": "execute_result"
    }
   ],
   "source": [
    "# Calculate the ECE value of SGD classifier\n",
    "pycalib.metrics.ECE(y_true, SGD, normalize=False, bins=15, ece_full=True)"
   ]
  },
  {
   "cell_type": "code",
   "execution_count": 139,
   "metadata": {},
   "outputs": [
    {
     "data": {
      "text/plain": [
       "0.2285151515151515"
      ]
     },
     "execution_count": 139,
     "metadata": {},
     "output_type": "execute_result"
    }
   ],
   "source": [
    "# brier score\n",
    "pycalib.metrics.brier_score(y_test.values, SGDpred)"
   ]
  },
  {
   "cell_type": "code",
   "execution_count": 140,
   "metadata": {},
   "outputs": [
    {
     "data": {
      "text/plain": [
       "7.8928162230868395"
      ]
     },
     "execution_count": 140,
     "metadata": {},
     "output_type": "execute_result"
    }
   ],
   "source": [
    "# cross-entropy (log loss)\n",
    "pycalib.metrics.cross_entropy(y_test.values, SGDpred)"
   ]
  },
  {
   "cell_type": "code",
   "execution_count": 141,
   "metadata": {},
   "outputs": [
    {
     "name": "stdout",
     "output_type": "stream",
     "text": [
      "2 7532 9 25457\n"
     ]
    }
   ],
   "source": [
    "tneg, fpos, fneg, tpos = confusion_matrix(y_test, SGDpred).ravel()\n",
    "print(tneg,fpos,fneg,tpos)"
   ]
  },
  {
   "cell_type": "code",
   "execution_count": 142,
   "metadata": {},
   "outputs": [
    {
     "data": {
      "text/plain": [
       "array([0.81818182, 0.77168147])"
      ]
     },
     "execution_count": 142,
     "metadata": {},
     "output_type": "execute_result"
    }
   ],
   "source": [
    "sgd_true, sgd_pred = calibration_curve(y_test.values, SGDpred)\n",
    "sgd_true"
   ]
  },
  {
   "cell_type": "code",
   "execution_count": 143,
   "metadata": {},
   "outputs": [
    {
     "data": {
      "text/plain": [
       "array([0., 1.])"
      ]
     },
     "execution_count": 143,
     "metadata": {},
     "output_type": "execute_result"
    }
   ],
   "source": [
    "sgd_pred"
   ]
  },
  {
   "cell_type": "code",
   "execution_count": 144,
   "metadata": {},
   "outputs": [],
   "source": [
    "# pycalib.visualisations.plot_reliability_diagram(y_test,\n",
    "#                                                 [scores_sgd, ],\n",
    "#                                                 legend=None,\n",
    "#                                                 show_histogram=True,\n",
    "#                                                 bins=10,\n",
    "#                                                 class_names=None,\n",
    "#                                                 fig=None,\n",
    "#                                                 show_counts=False,\n",
    "#                                                 errorbar_interval=None,\n",
    "#                                                 interval_method='beta',\n",
    "#                                                 fmt='s-',\n",
    "#                                                 show_correction=False,\n",
    "#                                                 show_gaps=True,\n",
    "#                                                 sample_proportion=0,\n",
    "#                                                 hist_per_class=False,\n",
    "#                                                 color_list=None,\n",
    "#                                                 show_bars=False,\n",
    "#                                                 invert_histogram=False,\n",
    "#                                                 color_gaps='lightcoral',\n",
    "#                                                 confidence=False)"
   ]
  },
  {
   "cell_type": "markdown",
   "metadata": {},
   "source": [
    "# Plots"
   ]
  },
  {
   "cell_type": "code",
   "execution_count": 145,
   "metadata": {},
   "outputs": [],
   "source": [
    "acc = []\n",
    "ece = []\n",
    "brier = []\n",
    "log = []\n",
    "acc = [accuracy_score(y_test, prediction),\n",
    "       lregclassifier.score(X_test, y_test),\n",
    "       accuracy_score(y_test, svcprediction),\n",
    "       accuracy_score(y_test, XGBpred),\n",
    "       accuracy_score(y_test, SGDpred)]\n",
    "ece = [pycalib.metrics.ECE(y_true, pred, normalize=False, bins=15, ece_full=True),\n",
    "       pycalib.metrics.ECE(y_true, lregpred, normalize=False, bins=15, ece_full=True),\n",
    "       pycalib.metrics.ECE(y_true, svcpred, normalize=False, bins=15, ece_full=True),\n",
    "       pycalib.metrics.ECE(y_true, XGB, normalize=False, bins=15, ece_full=True),\n",
    "       pycalib.metrics.ECE(y_true, SGD, normalize=False, bins=15, ece_full=True)]\n",
    "brier = [pycalib.metrics.brier_score(y_test.values, prediction),\n",
    "         pycalib.metrics.brier_score(y_test.values, lregprediction),\n",
    "         pycalib.metrics.brier_score(y_test.values, svcprediction),\n",
    "         pycalib.metrics.brier_score(y_test.values, XGBpred),\n",
    "         pycalib.metrics.brier_score(y_test.values, SGDpred)]\n",
    "log = [pycalib.metrics.cross_entropy(y_test.values, prediction),\n",
    "       pycalib.metrics.cross_entropy(y_test.values, lregprediction),\n",
    "       pycalib.metrics.cross_entropy(y_test.values, svcprediction),\n",
    "       pycalib.metrics.cross_entropy(y_test.values, XGBpred),\n",
    "       pycalib.metrics.cross_entropy(y_test.values, SGDpred)]"
   ]
  },
  {
   "cell_type": "code",
   "execution_count": 146,
   "metadata": {},
   "outputs": [
    {
     "data": {
      "text/plain": [
       "[0.7507575757575757,\n",
       " 0.7717575757575758,\n",
       " 0.7716969696969697,\n",
       " 0.7701212121212121,\n",
       " 0.7714848484848484]"
      ]
     },
     "execution_count": 146,
     "metadata": {},
     "output_type": "execute_result"
    }
   ],
   "source": [
    "acc"
   ]
  },
  {
   "cell_type": "code",
   "execution_count": 147,
   "metadata": {},
   "outputs": [
    {
     "data": {
      "text/plain": [
       "[0.23454545454545456,\n",
       " 0.24996969696969698,\n",
       " 0.25,\n",
       " 0.24831818181818183,\n",
       " 0.24990909090909091]"
      ]
     },
     "execution_count": 147,
     "metadata": {},
     "output_type": "execute_result"
    }
   ],
   "source": [
    "ece"
   ]
  },
  {
   "cell_type": "code",
   "execution_count": 148,
   "metadata": {},
   "outputs": [
    {
     "data": {
      "text/plain": [
       "[0.24924242424242424,\n",
       " 0.22824242424242425,\n",
       " 0.2283030303030303,\n",
       " 0.22987878787878788,\n",
       " 0.2285151515151515]"
      ]
     },
     "execution_count": 148,
     "metadata": {},
     "output_type": "execute_result"
    }
   ],
   "source": [
    "brier"
   ]
  },
  {
   "cell_type": "code",
   "execution_count": 149,
   "metadata": {},
   "outputs": [
    {
     "data": {
      "text/plain": [
       "[8.608694675300038,\n",
       " 7.883396484106643,\n",
       " 7.885489864433218,\n",
       " 7.939912640346658,\n",
       " 7.8928162230868395]"
      ]
     },
     "execution_count": 149,
     "metadata": {},
     "output_type": "execute_result"
    }
   ],
   "source": [
    "log"
   ]
  },
  {
   "cell_type": "code",
   "execution_count": 150,
   "metadata": {},
   "outputs": [
    {
     "data": {
      "image/png": "[encoded data removed]",
      "text/plain": [
       "<Figure size 432x288 with 1 Axes>"
      ]
     },
     "metadata": {
      "needs_background": "light"
     },
     "output_type": "display_data"
    }
   ],
   "source": [
    "#------------------------------\n",
    "# bar plot\n",
    "\n",
    "estimates = [\"Accuarcy\", \"ECE\", \"Brier score\", \"Log-loss\"]\n",
    "model = [\"KNN\", \"LR\", \"SVC\", \"XGB\", \"SGD\"]\n",
    "total_width = 1\n",
    "n = 5\n",
    "width = total_width / n\n",
    "q = list(range(len(acc)))\n",
    "plt.bar(q, acc, fc = \"r\", label = 'Accuary', width = width)\n",
    "for i in range(len(q)):\n",
    "    q[i] = q[i] + width\n",
    "plt.bar(q, ece, fc = \"b\", label = 'ECE', width = width)\n",
    "for i in range(len(q)):\n",
    "    q[i] = q[i] + width\n",
    "plt.bar(q, brier, fc = \"g\", label = 'Brier Score', width = width)\n",
    "for i in range(len(q)):\n",
    "    q[i] = q[i] + width\n",
    "plt.bar(q, log, fc = \"m\", label = 'Log-loss', tick_label = model, width = width)\n",
    "scale = range(5)\n",
    "# plt.xticks(scale, model)\n",
    "plt.legend()\n",
    "plt.show()"
   ]
  },
  {
   "cell_type": "code",
   "execution_count": 151,
   "metadata": {},
   "outputs": [
    {
     "data": {
      "image/png": "[encoded data removed]",
      "text/plain": [
       "<Figure size 432x288 with 1 Axes>"
      ]
     },
     "metadata": {
      "needs_background": "light"
     },
     "output_type": "display_data"
    }
   ],
   "source": [
    "plt.bar(np.arange(5), acc, fc = \"r\")\n",
    "plt.ylabel('Accuarcy')\n",
    "plt.xticks(scale, model)\n",
    "plt.show()"
   ]
  },
  {
   "cell_type": "code",
   "execution_count": 152,
   "metadata": {},
   "outputs": [
    {
     "data": {
      "image/png": "[encoded data removed]",
      "text/plain": [
       "<Figure size 432x288 with 1 Axes>"
      ]
     },
     "metadata": {
      "needs_background": "light"
     },
     "output_type": "display_data"
    }
   ],
   "source": [
    "plt.bar(np.arange(5), ece, fc = \"b\")\n",
    "plt.ylabel('ECE')\n",
    "plt.xticks(scale, model)\n",
    "plt.show()"
   ]
  },
  {
   "cell_type": "code",
   "execution_count": 153,
   "metadata": {},
   "outputs": [
    {
     "data": {
      "image/png": "[encoded data removed]",
      "text/plain": [
       "<Figure size 432x288 with 1 Axes>"
      ]
     },
     "metadata": {
      "needs_background": "light"
     },
     "output_type": "display_data"
    }
   ],
   "source": [
    "plt.bar(np.arange(5), brier, fc = \"g\")\n",
    "plt.ylabel('Brier Score')\n",
    "plt.xticks(scale, model)\n",
    "plt.show()"
   ]
  },
  {
   "cell_type": "code",
   "execution_count": 154,
   "metadata": {},
   "outputs": [
    {
     "data": {
      "image/png": "[encoded data removed]",
      "text/plain": [
       "<Figure size 432x288 with 1 Axes>"
      ]
     },
     "metadata": {
      "needs_background": "light"
     },
     "output_type": "display_data"
    }
   ],
   "source": [
    "plt.bar(np.arange(5), log, fc = \"m\")\n",
    "plt.ylabel('Log-loss')\n",
    "plt.xticks(scale, model)\n",
    "plt.show()"
   ]
  },
  {
   "cell_type": "code",
   "execution_count": 155,
   "metadata": {},
   "outputs": [],
   "source": [
    "# import matplotlib.lines as mlines\n",
    "# import matplotlib.transforms as mtransforms\n",
    "\n",
    "# fig, ax = plt.subplots()\n",
    "# plt.plot(knn_pred, knn_true, marker='o', linewidth=1, label='KNN')\n",
    "# plt.plot(lreg_pred, lreg_true, marker='o', linewidth=1, label='LR')\n",
    "# plt.plot(svc_pred, svc_true, marker='o', linewidth=1, label='SVC')\n",
    "# plt.plot(xgb_pred, xgb_true, marker='o', linewidth=1, label='XGB')\n",
    "# plt.plot(sgd_pred, sgd_true, marker='o', linewidth=1, label='SGD')\n",
    "\n",
    "# # reference line, legends, and axis labels\n",
    "# line = mlines.Line2D([0, 1], [0, 1], color = 'black', linestyle = '--')\n",
    "# transform = ax.transAxes\n",
    "# line.set_transform(transform)\n",
    "# ax.add_line(line)\n",
    "# fig.suptitle('Reliability diagram')\n",
    "# ax.set_xlabel('Predicted probability')\n",
    "# ax.set_ylabel('True probability in each bin')\n",
    "# plt.legend()\n",
    "# plt.show()"
   ]
  },
  {
   "cell_type": "code",
   "execution_count": 156,
   "metadata": {},
   "outputs": [],
   "source": [
    "classifiers = {\"KNN\": knnclassifier,\n",
    "               \"Logistic regression\": lregclassifier,\n",
    "               \"SVC\": svc,\n",
    "               \"XGB\": XGBclf}\n",
    "#                \"SGD\": SGDclf}"
   ]
  },
  {
   "cell_type": "code",
   "execution_count": 157,
   "metadata": {},
   "outputs": [
    {
     "data": {
      "image/png": "[encoded data removed]",
      "text/plain": [
       "<Figure size 576x432 with 1 Axes>"
      ]
     },
     "metadata": {
      "needs_background": "light"
     },
     "output_type": "display_data"
    }
   ],
   "source": [
    "from sklearn.datasets import make_classification as mc\n",
    "from sklearn.metrics import brier_score_loss # 导入布里尔分数\n",
    "from sklearn.calibration import calibration_curve # 对概率类模型进行校准，方法是分箱\n",
    "\n",
    "model2 = [\"KNN\", \"LR\", \"SVC\", \"XGB\"]\n",
    "#开始画图\n",
    "fig,ax1 = plt.subplots(figsize = (8,6))\n",
    "ax1.plot([0,1],[0,1],label = \"Perfectly calibrated\") # 绘制对角线，把（0，0），（1，1）连起来\n",
    "for clf,name_ in zip([knnclassifier, lregclassifier, svc, XGBclf],model):\n",
    "    clf.fit(X_train,y_train)\n",
    "    y_pred = clf.predict(X_test)\n",
    "    if hasattr(clf,\"predict_proba\"): #对象里如果有这个接口\n",
    "        prob_pos = clf.predict_proba(X_test)[:,1]\n",
    "    else: #就是针对SVM\n",
    "        prob_pos = clf.decision_function(X_test)\n",
    "        prob_pos = (prob_pos-prob_pos.min())/(prob_pos.max()-prob_pos.min())  #手动归一化\n",
    "    clf_score = brier_score_loss(y_test,prob_pos,pos_label=y.max())\n",
    "    #对只有0，1的标签值进行分箱后才能画图\n",
    "    trueproba, predproba = calibration_curve(y_test, prob_pos, n_bins=10)\n",
    "    ax1.plot(predproba,trueproba,\"s-\",label = \"%s(%1.3f)\"%(name_,clf_score))\n",
    "    ax1.set_ylabel(\"True probability for class 1\")\n",
    "    ax1.set_xlabel(\"Mean Predcited probability\")\n",
    "    ax1.set_ylim([-0.05,1.05])\n",
    "    ax1.legend()\n",
    "plt.show()"
   ]
  },
  {
   "cell_type": "markdown",
   "metadata": {},
   "source": [
    "# Hypothesis test"
   ]
  },
  {
   "cell_type": "code",
   "execution_count": 158,
   "metadata": {},
   "outputs": [],
   "source": [
    "from scipy.stats import percentileofscore\n",
    "from sklearn.preprocessing import label_binarize\n",
    "import numpy as np\n",
    "\n",
    "def label_resampling(probs):\n",
    "    return np.random.binomial(1, probs)\n",
    "\n",
    "def score_sampling(probs, samples = 10000, ece_function = None):\n",
    "    probs = np.array(probs)\n",
    "    return np.array(\n",
    "        [\n",
    "            ece_function(label_resampling(probs), probs) for sample in range(samples)\n",
    "        ]\n",
    "    )\n",
    "\n",
    "def pECE(y_true, probs, samples = 10000, ece_function = pycalib.metrics.binary_ECE):\n",
    "    probs = np.array(probs)\n",
    "    return 1 - (\n",
    "        percentileofscore(\n",
    "            score_sampling(\n",
    "                probs,\n",
    "                samples=samples,\n",
    "                ece_function=ece_function\n",
    "            ),\n",
    "            ece_function(y_true, probs)\n",
    "        ) / 100\n",
    "    )"
   ]
  },
  {
   "cell_type": "code",
   "execution_count": 159,
   "metadata": {},
   "outputs": [
    {
     "data": {
      "text/plain": [
       "0.0"
      ]
     },
     "execution_count": 159,
     "metadata": {},
     "output_type": "execute_result"
    }
   ],
   "source": [
    "pECE(y_test, scores_knn[:,1])"
   ]
  },
  {
   "cell_type": "code",
   "execution_count": 160,
   "metadata": {},
   "outputs": [
    {
     "data": {
      "text/plain": [
       "0.0"
      ]
     },
     "execution_count": 160,
     "metadata": {},
     "output_type": "execute_result"
    }
   ],
   "source": [
    "pECE(y_test.values, scores_lreg[:,1])"
   ]
  },
  {
   "cell_type": "code",
   "execution_count": 161,
   "metadata": {},
   "outputs": [
    {
     "data": {
      "text/plain": [
       "0.0030999999999999917"
      ]
     },
     "execution_count": 161,
     "metadata": {},
     "output_type": "execute_result"
    }
   ],
   "source": [
    "pECE(y_test.values, scores_svc[:,1])"
   ]
  },
  {
   "cell_type": "code",
   "execution_count": 162,
   "metadata": {},
   "outputs": [
    {
     "data": {
      "text/plain": [
       "0.0"
      ]
     },
     "execution_count": 162,
     "metadata": {},
     "output_type": "execute_result"
    }
   ],
   "source": [
    "pECE(y_test.values, scores_xgb[:,1])"
   ]
  },
  {
   "cell_type": "markdown",
   "metadata": {},
   "source": [
    "# Calibration"
   ]
  },
  {
   "cell_type": "code",
   "execution_count": 163,
   "metadata": {},
   "outputs": [],
   "source": [
    "from __future__ import division\n",
    "import numpy as np\n",
    "\n",
    "from scipy.special import expit\n",
    "\n",
    "from sklearn.base import clone\n",
    "from sklearn.utils import check_X_y, indexable\n",
    "from sklearn.linear_model import LogisticRegression\n",
    "from sklearn.calibration import _SigmoidCalibration\n",
    "from sklearn.metrics import log_loss\n",
    "\n",
    "import warnings\n",
    "\n",
    "from sklearn.base import BaseEstimator, ClassifierMixin, RegressorMixin\n",
    "from sklearn.preprocessing import LabelBinarizer\n",
    "from sklearn.utils import check_array\n",
    "from sklearn.utils.validation import check_is_fitted\n",
    "from inspect import signature\n",
    "from sklearn.isotonic import IsotonicRegression\n",
    "from sklearn.svm import LinearSVC\n",
    "from sklearn.model_selection import check_cv\n",
    "\n",
    "\n",
    "from betacal import BetaCalibration\n",
    "\n",
    "\n",
    "class _DummyCalibration(BaseEstimator, RegressorMixin):\n",
    "    \"\"\"Dummy Calibration model. The purpose of this class is to give\n",
    "    the CalibratedClassifierCV class the option to just return the\n",
    "    probabilities of the base classifier.\n",
    "    \"\"\"\n",
    "    def fit(self, *args, **kwargs):\n",
    "        \"\"\"Does nothing\"\"\"\n",
    "        return self\n",
    "\n",
    "    def predict_proba(self, T):\n",
    "        \"\"\"Return the probabilities of the base classifier\"\"\"\n",
    "        return T\n",
    "\n",
    "    def predict(self, scores, *args, **kwargs):\n",
    "        proba = self.predict_proba(scores, *args, **kwargs)\n",
    "        return proba.argmax(axis=1)\n",
    "\n",
    "\n",
    "class IsotonicCalibration(IsotonicRegression):\n",
    "    def __init__(self):\n",
    "        super(IsotonicCalibration, self).__init__(y_min=0.0, y_max=1.0,\n",
    "                                                  increasing=True,\n",
    "                                                  out_of_bounds='clip')\n",
    "\n",
    "    def fit(self, scores, y, *args, **kwargs):\n",
    "        '''\n",
    "        Score=0 corresponds to y=0, and score=1 to y=1\n",
    "        Parameters\n",
    "        ----------\n",
    "        scores : array-like, shape = [n_samples,]\n",
    "            Data.\n",
    "        y : array-like, shape = [n_samples, ]\n",
    "            Labels.\n",
    "        Returns\n",
    "        -------\n",
    "        self\n",
    "        '''\n",
    "        if len(scores.shape) > 1:\n",
    "            scores = scores[:, 1]\n",
    "        return super(IsotonicCalibration, self).fit(scores, y, *args, **kwargs)\n",
    "\n",
    "    def predict_proba(self, scores, *args, **kwargs):\n",
    "        if len(scores.shape) > 1:\n",
    "            scores = scores[:, 1]\n",
    "        transformed = self.transform(scores, *args, **kwargs)\n",
    "        if len(transformed.shape) == 1:\n",
    "            transformed = np.vstack((1 - transformed, transformed)).T\n",
    "        return transformed\n",
    "\n",
    "    def predict(self, scores, *args, **kwargs):\n",
    "        proba = self.predict_proba(scores, *args, **kwargs)\n",
    "        return proba.argmax(axis=1)\n",
    "\n",
    "\n",
    "def logit(x):\n",
    "    eps = np.finfo(x.dtype).eps\n",
    "    x = np.clip(x, eps, 1-eps)\n",
    "    return np.log(x/(1 - x))\n",
    "\n",
    "\n",
    "def log_encode(x):\n",
    "    eps = np.finfo(x.dtype).eps\n",
    "    x = np.clip(x, eps, 1)\n",
    "    return np.log(x)\n",
    "\n",
    "\n",
    "class LogisticCalibration(LogisticRegression):\n",
    "    def __init__(self, C=1.0, solver='lbfgs', multi_class='multinomial',\n",
    "                 log_transform=True):\n",
    "        self.C_grid = C\n",
    "        self.C = C if isinstance(C, float) else C[0]\n",
    "        self.solver = solver\n",
    "        self.log_transform = log_transform\n",
    "        self.encode = log_encode if log_transform else logit\n",
    "        self.multiclass = multi_class\n",
    "        super(LogisticCalibration, self).__init__(C=C, solver=solver,\n",
    "                                                  multi_class=multi_class)\n",
    "\n",
    "    def fit(self, scores, y, X_val=None, y_val=None, *args, **kwargs):\n",
    "        if isinstance(self.C_grid, list):\n",
    "            calibrators = []\n",
    "            losses = np.zeros(len(self.C_grid))\n",
    "            for i, C in enumerate(self.C_grid):\n",
    "                cal = LogisticCalibration(C=C, solver=self.solver,\n",
    "                                          multi_class=self.multi_class,\n",
    "                                          log_transform=self.log_transform)\n",
    "                cal.fit(scores, y)\n",
    "                losses[i] = log_loss(y_val, cal.predict_proba(X_val))\n",
    "                calibrators.append(cal)\n",
    "            best_idx = losses.argmin()\n",
    "            self.C = calibrators[best_idx].C\n",
    "        return super(LogisticCalibration, self).fit(self.encode(scores), y,\n",
    "                                                    *args, **kwargs)\n",
    "\n",
    "    def predict_proba(self, scores, *args, **kwargs):\n",
    "        return super(LogisticCalibration,\n",
    "                     self).predict_proba(self.encode(scores), *args, **kwargs)\n",
    "\n",
    "    def predict(self, scores, *args, **kwargs):\n",
    "        return super(LogisticCalibration, self).predict(self.encode(scores),\n",
    "                                                        *args, **kwargs)\n",
    "\n",
    "\n",
    "class SigmoidCalibration(_SigmoidCalibration):\n",
    "    def fit(self, scores, y, *args, **kwargs):\n",
    "        if len(scores.shape) > 1:\n",
    "            scores = scores[:, 1]\n",
    "        return super(SigmoidCalibration, self).fit(scores, y, *args, **kwargs)\n",
    "\n",
    "    def predict_proba(self, scores, *args, **kwargs):\n",
    "        if len(scores.shape) > 1:\n",
    "            scores = scores[:, 1]\n",
    "        transformed = super(SigmoidCalibration, self).predict(scores, *args, **kwargs)\n",
    "        return np.vstack((1 - transformed, transformed)).T\n",
    "\n",
    "    def predict(self, *args, **kwargs):\n",
    "        proba = self.predict_proba(*args, **kwargs)\n",
    "        return proba.argmax(axis=1)\n",
    "\n",
    "\n",
    "class BinningCalibration(BaseEstimator, RegressorMixin):\n",
    "    def __init__(self, n_bins=10, strategy='uniform', alpha=1.0):\n",
    "        '''\n",
    "        alpha : Laplace smoothing (x + a)/(N + 2a)\n",
    "        n_bins: Number of bins\n",
    "        stragegy:\n",
    "                - uniform: for equal width bins\n",
    "                - quantile: for equal frequency bins\n",
    "                - kmeans: for each bin with same nearest center to a 1D k-means\n",
    "        '''\n",
    "        self.strategy = strategy\n",
    "        self.n_bins = n_bins\n",
    "        self.n_bins_grid = n_bins\n",
    "        self.alpha = alpha\n",
    "\n",
    "    def fit(self, scores, y, X_val=None, y_val=None, *args, **kwargs):\n",
    "        '''\n",
    "        Score=0 corresponds to y=0, and score=1 to y=1\n",
    "        Parameters\n",
    "        ----------\n",
    "        scores : array-like, shape = [n_samples,]\n",
    "            Data.\n",
    "        y : array-like, shape = [n_samples, ]\n",
    "            Labels.\n",
    "        Returns\n",
    "        -------\n",
    "        self\n",
    "        '''\n",
    "        if isinstance(self.n_bins, list):\n",
    "            if X_val is None or y_val is None:\n",
    "                raise ValueError(('If n_bins is a list, scores_val and y_val'\n",
    "                                  'are required during fit'))\n",
    "            calibrators = []\n",
    "            losses = []\n",
    "            for n_bins in self.n_bins:\n",
    "                cal = BinningCalibration(n_bins=n_bins, strategy=self.strategy,\n",
    "                                         alpha=self.alpha)\n",
    "                cal.fit(scores, y)\n",
    "                predict = cal.predict_proba(X_val)\n",
    "                losses.append(log_loss(y_val, predict))\n",
    "                calibrators.append(cal)\n",
    "            best_idx = np.argmin(losses)\n",
    "            self.n_bins = calibrators[best_idx].n_bins\n",
    "            self.bins = calibrators[best_idx].bins\n",
    "            self.predictions = calibrators[best_idx].predictions\n",
    "            return self\n",
    "\n",
    "        if len(np.shape(scores)) > 1:\n",
    "            scores = scores[:, 1]\n",
    "        # TODO check that this code is correct:\n",
    "        if self.strategy == 'quantile':\n",
    "            self.bins = np.sort(scores)[::int(np.ceil(len(scores)\n",
    "                                                      / self.n_bins))]\n",
    "            self.bins = np.hstack([self.bins, scores[-1]])\n",
    "        elif self.strategy == 'uniform':\n",
    "            self.bins = np.linspace(scores.min(), scores.max(), self.n_bins+1)\n",
    "        else:\n",
    "            raise ValueError('Strategy {} not implemented'.format(\n",
    "                                 self.strategy))\n",
    "        self.bins[0] = - np.inf\n",
    "        self.bins[-1] = np.inf\n",
    "        s_binned = np.digitize(scores, self.bins) - 1\n",
    "        self.predictions = np.zeros(self.n_bins)\n",
    "        for i in range(self.n_bins):\n",
    "            self.predictions[i] = ((np.sum(y[s_binned == i]) + self.alpha)\n",
    "                                   / (np.sum(s_binned == i) + self.alpha*2))\n",
    "\n",
    "        return self\n",
    "\n",
    "    def predict_proba(self, scores, *args, **kwargs):\n",
    "        if len(np.shape(scores)) > 1:\n",
    "            scores = scores[:, 1]\n",
    "        s_binned = np.digitize(scores, self.bins) - 1\n",
    "        transformed = self.predictions[s_binned]\n",
    "        return np.vstack((1 - transformed, transformed)).T\n",
    "\n",
    "    def predict(self, scores, *args, **kwargs):\n",
    "        proba = self.predict_proba(scores, *args, **kwargs)\n",
    "        return proba.argmax(axis=1)\n",
    "\n",
    "\n",
    "class CalibratedModel(BaseEstimator, ClassifierMixin):\n",
    "    def __init__(self, base_estimator=None, calibrator=None,\n",
    "                 fit_estimator=True):\n",
    "        ''' Initialize a Calibrated model (classifier + calibrator)\n",
    "        Parameters\n",
    "        ----------\n",
    "        base_estimator : estimator\n",
    "            Classifier instance\n",
    "        calibrator : estimator\n",
    "            Calibrator instance\n",
    "        '''\n",
    "        self.calibrator = clone(calibrator)\n",
    "        self.base_estimator = clone(base_estimator)\n",
    "        self.fit_estimator = fit_estimator\n",
    "        self.binary = False\n",
    "\n",
    "    def fit(self, X, y, X_val=None, y_val=None, *args, **kwargs):\n",
    "        \"\"\"Fit the calibrated model\n",
    "        Parameters\n",
    "        ----------\n",
    "        X : array-like, shape (n_samples, n_features)\n",
    "            Training data.\n",
    "        y : array-like, shape (n_samples, n_classes)\n",
    "            Target values.\n",
    "        Returns\n",
    "        -------\n",
    "        self : object\n",
    "            Returns an instance of self.\n",
    "        \"\"\"\n",
    "\n",
    "        X, y = check_X_y(X, y, accept_sparse=['csc', 'csr', 'coo'],\n",
    "                         multi_output=True)\n",
    "        X, y = indexable(X, y)\n",
    "\n",
    "        if self.fit_estimator:\n",
    "            self.base_estimator.fit(X, y)\n",
    "\n",
    "        scores = self.base_estimator.predict_proba(X)\n",
    "\n",
    "        if scores.shape[1] == 2:\n",
    "            self.binary = True\n",
    "\n",
    "        if self.binary:\n",
    "            try:\n",
    "                self.calibrator.fit(scores, y, *args, **kwargs)\n",
    "            except ValueError:\n",
    "                self.calibrator.fit(scores[:, 1], y, *args, **kwargs)\n",
    "        else:\n",
    "            self.calibrator.fit(scores, y, *args, **kwargs)\n",
    "\n",
    "        return self\n",
    "\n",
    "    def predict_proba(self, X):\n",
    "        \"\"\"Posterior probabilities of classification\n",
    "        This function returns posterior probabilities of classification\n",
    "        according to each class on an array of test vectors X.\n",
    "        Parameters\n",
    "        ----------\n",
    "        X : array-like, shape (n_samples, n_features)\n",
    "            The samples.\n",
    "        Returns\n",
    "        -------\n",
    "        C : array, shape (n_samples, n_classes)\n",
    "            The predicted probas. Can be exact zeros.\n",
    "        \"\"\"\n",
    "\n",
    "        scores = self.base_estimator.predict_proba(X)\n",
    "\n",
    "        if self.binary:\n",
    "            try:\n",
    "                predictions = self.calibrator.predict_proba(scores)\n",
    "            except ValueError:\n",
    "                predictions = self.calibrator.predict_proba(scores[:, 1])\n",
    "\n",
    "            if (len(predictions.shape) == 1) or (predictions.shape[1] == 1):\n",
    "                predictions = np.vstack((1 - predictions, predictions)).T\n",
    "        else:\n",
    "            predictions = self.calibrator.predict_proba(scores)\n",
    "\n",
    "        return predictions\n",
    "\n",
    "    def predict(self, X):\n",
    "        \"\"\"Predict the target of new samples. Can be different from the\n",
    "        prediction of the uncalibrated classifier.\n",
    "        Parameters\n",
    "        ----------\n",
    "        X : array-like, shape (n_samples, n_features)\n",
    "            The samples.\n",
    "        Returns\n",
    "        -------\n",
    "        C : array, shape (n_samples,)\n",
    "            The predicted class.\n",
    "        \"\"\"\n",
    "        check_is_fitted(self, [\"calibrator\"])\n",
    "\n",
    "        return np.argmax(self.predict_proba(X), axis=1)\n",
    "\n",
    "\n",
    "class CalibratedClassifierCV(BaseEstimator, ClassifierMixin):\n",
    "    \"\"\"Probability calibration with isotonic regression, sigmoid or beta.\n",
    "    With this class, the base_estimator is fit on the train set of the\n",
    "    cross-validation generator and the test set is used for calibration.\n",
    "    The probabilities for each of the folds are then averaged\n",
    "    for prediction. In case cv=\"prefit\" is passed to __init__,\n",
    "    it is assumed that base_estimator has been\n",
    "    fitted already and all data is used for calibration. Note that\n",
    "    data for fitting the classifier and for calibrating it must be disjoint.\n",
    "    Read more in the :ref:`User Guide <calibration>`.\n",
    "    Parameters\n",
    "    ----------\n",
    "    base_estimator : instance BaseEstimator\n",
    "        The classifier whose output decision function needs to be calibrated\n",
    "        to offer more accurate predict_proba outputs. If cv=prefit, the\n",
    "        classifier must have been fit already on data.\n",
    "    method : None, 'sigmoid', 'isotonic', 'beta', 'beta_am' or 'beta_ab'\n",
    "        The method to use for calibration. Can be 'sigmoid' which\n",
    "        corresponds to Platt's method, 'isotonic' which is a\n",
    "        non-parameteric approach or 'beta', 'beta_am' or 'beta_ab' which\n",
    "        correspond to three different beta calibration methods. It is\n",
    "        not advised to use  isotonic  calibration with too few calibration\n",
    "        samples ``(<<1000)`` since it tends to overfit.\n",
    "        Use beta models in this case.\n",
    "    cv : integer, cross-validation generator, iterable or \"prefit\", optional\n",
    "        Determines the cross-validation splitting strategy.\n",
    "        Possible inputs for cv are:\n",
    "        - None, to use the default 3-fold cross-validation,\n",
    "        - integer, to specify the number of folds.\n",
    "        - An object to be used as a cross-validation generator.\n",
    "        - An iterable yielding train/test splits.\n",
    "        For integer/None inputs, if ``y`` is binary or multiclass,\n",
    "        :class:`StratifiedKFold` used. If ``y`` is neither binary nor\n",
    "        multiclass, :class:`KFold` is used.\n",
    "        Refer :ref:`User Guide <cross_validation>` for the various\n",
    "        cross-validation strategies that can be used here.\n",
    "        If \"prefit\" is passed, it is assumed that base_estimator has been\n",
    "        fitted already and all data is used for calibration.\n",
    "    Attributes\n",
    "    ----------\n",
    "    classes_ : array, shape (n_classes)\n",
    "        The class labels.\n",
    "    calibrated_classifiers_: list (len() equal to cv or 1 if cv == \"prefit\")\n",
    "        The list of calibrated classifiers, one for each cross-validation fold,\n",
    "        which has been fitted on all but the validation fold and calibrated\n",
    "        on the validation fold.\n",
    "    References\n",
    "    ----------\n",
    "    .. [1] Obtaining calibrated probability estimates from decision trees\n",
    "           and naive Bayesian classifiers, B. Zadrozny & C. Elkan, ICML 2001\n",
    "    .. [2] Transforming Classifier Scores into Accurate Multiclass\n",
    "           Probability Estimates, B. Zadrozny & C. Elkan, (KDD 2002)\n",
    "    .. [3] Probabilistic Outputs for Support Vector Machines and Comparisons to\n",
    "           Regularized Likelihood Methods, J. Platt, (1999)\n",
    "    .. [4] Predicting Good Probabilities with Supervised Learning,\n",
    "           A. Niculescu-Mizil & R. Caruana, ICML 2005\n",
    "    \"\"\"\n",
    "    def __init__(self, base_estimator=None, method=None, cv=3,\n",
    "                 score_type=None):\n",
    "        self.base_estimator = base_estimator\n",
    "        self.method = method\n",
    "        self.cv = cv\n",
    "        self.score_type = score_type\n",
    "\n",
    "    def fit(self, X, y, sample_weight=None):\n",
    "        \"\"\"Fit the calibrated model\n",
    "        Parameters\n",
    "        ----------\n",
    "        X : array-like, shape (n_samples, n_features)\n",
    "            Training data.\n",
    "        y : array-like, shape (n_samples,)\n",
    "            Target values.\n",
    "        sample_weight : array-like, shape = [n_samples] or None\n",
    "            Sample weights. If None, then samples are equally weighted.\n",
    "        Returns\n",
    "        -------\n",
    "        self : object\n",
    "            Returns an instance of self.\n",
    "        \"\"\"\n",
    "        X, y = check_X_y(X, y, accept_sparse=['csc', 'csr', 'coo'],\n",
    "                         force_all_finite=False)\n",
    "        X, y = indexable(X, y)\n",
    "        lb = LabelBinarizer().fit(y)\n",
    "        self.classes_ = lb.classes_\n",
    "\n",
    "        # Check that each cross-validation fold can have at least one\n",
    "        # example per class\n",
    "        n_folds = self.cv if isinstance(self.cv, int) \\\n",
    "            else self.cv.n_folds if hasattr(self.cv, \"n_folds\") else None\n",
    "        if n_folds and \\\n",
    "           np.any([np.sum(y == class_) < n_folds for class_ in self.classes_]):\n",
    "            raise ValueError(\"Requesting %d-fold cross-validation but provided\"\n",
    "                             \" less than %d examples for at least one class.\"\n",
    "                             % (n_folds, n_folds))\n",
    "\n",
    "        self.calibrated_classifiers_ = []\n",
    "        if self.base_estimator is None:\n",
    "            # we want all classifiers that don't expose a random_state\n",
    "            # to be deterministic (and we don't want to expose this one).\n",
    "            base_estimator = LinearSVC(random_state=0)\n",
    "        else:\n",
    "            base_estimator = self.base_estimator\n",
    "\n",
    "        if self.cv == \"prefit\":\n",
    "            calibrated_classifier = _CalibratedClassifier(\n",
    "                base_estimator, method=self.method, score_type=self.score_type)\n",
    "            if sample_weight is not None:\n",
    "                calibrated_classifier.fit(X, y, sample_weight)\n",
    "            else:\n",
    "                calibrated_classifier.fit(X, y)\n",
    "            self.calibrated_classifiers_.append(calibrated_classifier)\n",
    "        else:\n",
    "            cv = check_cv(self.cv, y, classifier=True)\n",
    "            fit_parameters = signature(base_estimator.fit).parameters\n",
    "            estimator_name = type(base_estimator).__name__\n",
    "            if (sample_weight is not None\n",
    "                    and \"sample_weight\" not in fit_parameters):\n",
    "                warnings.warn(\"%s does not support sample_weight. Samples\"\n",
    "                              \" weights are only used for the calibration\"\n",
    "                              \" itself.\" % estimator_name)\n",
    "                base_estimator_sample_weight = None\n",
    "            else:\n",
    "                base_estimator_sample_weight = sample_weight\n",
    "            for train, test in cv.split(X, y):\n",
    "                this_estimator = clone(base_estimator)\n",
    "                if base_estimator_sample_weight is not None:\n",
    "                    this_estimator.fit(\n",
    "                        X[train], y[train],\n",
    "                        sample_weight=base_estimator_sample_weight[train])\n",
    "                else:\n",
    "                    this_estimator.fit(X[train], y[train])\n",
    "\n",
    "                calibrated_classifier = _CalibratedClassifier(\n",
    "                    this_estimator, method=self.method,\n",
    "                    score_type=self.score_type)\n",
    "                if sample_weight is not None:\n",
    "                    calibrated_classifier.fit(X[test], y[test],\n",
    "                                              sample_weight[test])\n",
    "                else:\n",
    "                    calibrated_classifier.fit(X[test], y[test])\n",
    "                self.calibrated_classifiers_.append(calibrated_classifier)\n",
    "\n",
    "        return self\n",
    "\n",
    "    def predict_proba(self, X):\n",
    "        \"\"\"Posterior probabilities of classification\n",
    "        This function returns posterior probabilities of classification\n",
    "        according to each class on an array of test vectors X.\n",
    "        Parameters\n",
    "        ----------\n",
    "        X : array-like, shape (n_samples, n_features)\n",
    "            The samples.\n",
    "        Returns\n",
    "        -------\n",
    "        C : array, shape (n_samples, n_classes)\n",
    "            The predicted probas.\n",
    "        \"\"\"\n",
    "        check_is_fitted(self, [\"classes_\", \"calibrated_classifiers_\"])\n",
    "        X = check_array(X, accept_sparse=['csc', 'csr', 'coo'],\n",
    "                        force_all_finite=False)\n",
    "        # Compute the arithmetic mean of the predictions of the calibrated\n",
    "        # classfiers\n",
    "        mean_proba = np.zeros((X.shape[0], len(self.classes_)))\n",
    "        for calibrated_classifier in self.calibrated_classifiers_:\n",
    "            proba = calibrated_classifier.predict_proba(X)\n",
    "            mean_proba += proba\n",
    "\n",
    "        mean_proba /= len(self.calibrated_classifiers_)\n",
    "\n",
    "        return mean_proba\n",
    "\n",
    "    def calibrate_scores(self, df):\n",
    "        \"\"\"Posterior probabilities of classification\n",
    "        This function returns posterior probabilities of classification\n",
    "        according to each class on an array of test vectors X.\n",
    "        Parameters\n",
    "        ----------\n",
    "        X : array-like, shape (n_samples, n_features)\n",
    "            The samples.\n",
    "        Returns\n",
    "        -------\n",
    "        C : array, shape (n_samples, n_classes)\n",
    "            The predicted probas.\n",
    "        \"\"\"\n",
    "        check_is_fitted(self, [\"classes_\", \"calibrated_classifiers_\"])\n",
    "        # Compute the arithmetic mean of the predictions of the calibrated\n",
    "        # classifiers\n",
    "        df = df.reshape(-1, 1)\n",
    "        mean_proba = np.zeros((len(df), len(self.classes_)))\n",
    "        for calibrated_classifier in self.calibrated_classifiers_:\n",
    "            proba = calibrated_classifier.calibrate_scores(df)\n",
    "            mean_proba += proba\n",
    "\n",
    "        mean_proba /= len(self.calibrated_classifiers_)\n",
    "\n",
    "        return mean_proba\n",
    "\n",
    "    def predict(self, X):\n",
    "        \"\"\"Predict the target of new samples. Can be different from the\n",
    "        prediction of the uncalibrated classifier.\n",
    "        Parameters\n",
    "        ----------\n",
    "        X : array-like, shape (n_samples, n_features)\n",
    "            The samples.\n",
    "        Returns\n",
    "        -------\n",
    "        C : array, shape (n_samples,)\n",
    "            The predicted class.\n",
    "        \"\"\"\n",
    "        check_is_fitted(self, [\"classes_\", \"calibrated_classifiers_\"])\n",
    "        return self.classes_[np.argmax(self.predict_proba(X), axis=1)]\n",
    "\n",
    "\n",
    "class _CalibratedClassifier(object):\n",
    "    \"\"\"Probability calibration with isotonic regression or sigmoid.\n",
    "    It assumes that base_estimator has already been fit, and trains the\n",
    "    calibration on the input set of the fit function. Note that this class\n",
    "    should not be used as an estimator directly. Use CalibratedClassifierCV\n",
    "    with cv=\"prefit\" instead.\n",
    "    Parameters\n",
    "    ----------\n",
    "    base_estimator : instance BaseEstimator\n",
    "        The classifier whose output decision function needs to be calibrated\n",
    "        to offer more accurate predict_proba outputs. No default value since\n",
    "        it has to be an already fitted estimator.\n",
    "    method : 'sigmoid' | 'isotonic' | 'beta' | 'beta_am' | 'beta_ab'\n",
    "        The method to use for calibration. Can be 'sigmoid' which\n",
    "        corresponds to Platt's method, 'isotonic' which is a\n",
    "        non-parameteric approach based on isotonic regression or 'beta',\n",
    "        'beta_am' or 'beta_ab' which correspond to beta calibration methods.\n",
    "    References\n",
    "    ----------\n",
    "    .. [1] Obtaining calibrated probability estimates from decision trees\n",
    "           and naive Bayesian classifiers, B. Zadrozny & C. Elkan, ICML 2001\n",
    "    .. [2] Transforming Classifier Scores into Accurate Multiclass\n",
    "           Probability Estimates, B. Zadrozny & C. Elkan, (KDD 2002)\n",
    "    .. [3] Probabilistic Outputs for Support Vector Machines and Comparisons to\n",
    "           Regularized Likelihood Methods, J. Platt, (1999)\n",
    "    .. [4] Predicting Good Probabilities with Supervised Learning,\n",
    "           A. Niculescu-Mizil & R. Caruana, ICML 2005\n",
    "    \"\"\"\n",
    "    def __init__(self, base_estimator, method='beta',\n",
    "                 score_type=None):\n",
    "        self.base_estimator = base_estimator\n",
    "        self.method = method\n",
    "        self.score_type = score_type\n",
    "\n",
    "    def _preproc(self, X):\n",
    "        n_classes = len(self.classes_)\n",
    "        if self.score_type is None:\n",
    "            if hasattr(self.base_estimator, \"decision_function\"):\n",
    "                df = self.base_estimator.decision_function(X)\n",
    "                if df.ndim == 1:\n",
    "                    df = df[:, np.newaxis]\n",
    "            elif hasattr(self.base_estimator, \"predict_proba\"):\n",
    "                df = self.base_estimator.predict_proba(X)\n",
    "                if n_classes == 2:\n",
    "                    df = df[:, 1:]\n",
    "            else:\n",
    "                raise RuntimeError('classifier has no decision_function or '\n",
    "                                   'predict_proba method.')\n",
    "        else:\n",
    "            if self.score_type == \"sigmoid\":\n",
    "                df = self.base_estimator.decision_function(X)\n",
    "                df = expit(df)\n",
    "                if df.ndim == 1:\n",
    "                    df = df[:, np.newaxis]\n",
    "            else:\n",
    "                if hasattr(self.base_estimator, self.score_type):\n",
    "                    df = getattr(self.base_estimator, self.score_type)(X)\n",
    "                    if self.score_type == \"decision_function\":\n",
    "                        if df.ndim == 1:\n",
    "                            df = df[:, np.newaxis]\n",
    "                    elif self.score_type == \"predict_proba\":\n",
    "                        if n_classes == 2:\n",
    "                            df = df[:, 1:]\n",
    "                else:\n",
    "                    raise RuntimeError('classifier has no ' + self.score_type\n",
    "                                       + 'method.')\n",
    "\n",
    "        idx_pos_class = np.arange(df.shape[1])\n",
    "\n",
    "        return df, idx_pos_class\n",
    "\n",
    "    def fit(self, X, y, sample_weight=None):\n",
    "        \"\"\"Calibrate the fitted model\n",
    "        Parameters\n",
    "        ----------\n",
    "        X : array-like, shape (n_samples, n_features)\n",
    "            Training data.\n",
    "        y : array-like, shape (n_samples,)\n",
    "            Target values.\n",
    "        sample_weight : array-like, shape = [n_samples] or None\n",
    "            Sample weights. If None, then samples are equally weighted.\n",
    "        Returns\n",
    "        -------\n",
    "        self : object\n",
    "            Returns an instance of self.\n",
    "        \"\"\"\n",
    "        lb = LabelBinarizer()\n",
    "        Y = lb.fit_transform(y)\n",
    "        self.classes_ = lb.classes_\n",
    "\n",
    "        df, idx_pos_class = self._preproc(X)\n",
    "        self.calibrators_ = []\n",
    "\n",
    "        for k, this_df in zip(idx_pos_class, df.T):\n",
    "            if self.method is None:\n",
    "                calibrator = _DummyCalibration()\n",
    "            elif self.method == 'isotonic':\n",
    "                calibrator = IsotonicRegression(out_of_bounds='clip')\n",
    "            elif self.method == 'sigmoid':\n",
    "                calibrator = _SigmoidCalibration()\n",
    "            # TODO Remove BetaCalibration\n",
    "            elif self.method == 'beta':\n",
    "                calibrator = BetaCalibration(parameters=\"abm\")\n",
    "            elif self.method == 'beta_am':\n",
    "                calibrator = BetaCalibration(parameters=\"am\")\n",
    "            elif self.method == 'beta_ab':\n",
    "                calibrator = BetaCalibration(parameters=\"ab\")\n",
    "            else:\n",
    "                raise ValueError('method should be None, \"sigmoid\", '\n",
    "                                 '\"isotonic\", \"beta\", \"beta2\" or \"beta05\". '\n",
    "                                 'Got %s.' % self.method)\n",
    "            calibrator.fit(this_df, Y[:, k], sample_weight)\n",
    "            self.calibrators_.append(calibrator)\n",
    "\n",
    "        return self\n",
    "\n",
    "    def predict_proba(self, X):\n",
    "        \"\"\"Posterior probabilities of classification\n",
    "        This function returns posterior probabilities of classification\n",
    "        according to each class on an array of test vectors X.\n",
    "        Parameters\n",
    "        ----------\n",
    "        X : array-like, shape (n_samples, n_features)\n",
    "            The samples.\n",
    "        Returns\n",
    "        -------\n",
    "        C : array, shape (n_samples, n_classes)\n",
    "            The predicted probas. Can be exact zeros.\n",
    "        \"\"\"\n",
    "        n_classes = len(self.classes_)\n",
    "        proba = np.zeros((X.shape[0], n_classes))\n",
    "\n",
    "        df, idx_pos_class = self._preproc(X)\n",
    "        for k, this_df, calibrator in \\\n",
    "                zip(idx_pos_class, df.T, self.calibrators_):\n",
    "            if n_classes == 2:\n",
    "                k += 1\n",
    "            proba[:, k] = calibrator.predict(this_df)\n",
    "\n",
    "        # Normalize the probabilities\n",
    "        if n_classes == 2:\n",
    "            proba[:, 0] = 1. - proba[:, 1]\n",
    "        else:\n",
    "            proba /= np.sum(proba, axis=1)[:, np.newaxis]\n",
    "\n",
    "        # XXX : for some reason all probas can be 0\n",
    "        proba[np.isnan(proba)] = 1. / n_classes\n",
    "\n",
    "        # Deal with cases where the predicted probability minimally exceeds 1.0\n",
    "        proba[(1.0 < proba) & (proba <= 1.0 + 1e-5)] = 1.0\n",
    "\n",
    "        return proba\n",
    "\n",
    "    def calibrate_scores(self, df):\n",
    "        \"\"\"Posterior probabilities of classification\n",
    "        This function returns posterior probabilities of classification\n",
    "        according to each class on an array of test vectors X.\n",
    "        Parameters\n",
    "        ----------\n",
    "        X : array-like, shape (n_samples, n_features)\n",
    "            The samples.\n",
    "        Returns\n",
    "        -------\n",
    "        C : array, shape (n_samples, n_classes)\n",
    "            The predicted probas. Can be exact zeros.\n",
    "        \"\"\"\n",
    "        n_classes = len(self.classes_)\n",
    "        proba = np.zeros((len(df), n_classes))\n",
    "        idx_pos_class = [0]\n",
    "\n",
    "        for k, this_df, calibrator in \\\n",
    "                zip(idx_pos_class, df.T, self.calibrators_):\n",
    "            if n_classes == 2:\n",
    "                k += 1\n",
    "            pro = calibrator.predict(this_df)\n",
    "            if np.any(np.isnan(pro)):\n",
    "                pro[np.isnan(pro)] = calibrator.predict(this_df[np.isnan(\n",
    "                    pro)] + 1e-300)\n",
    "            proba[:, k] = pro\n",
    "\n",
    "        # Normalize the probabilities\n",
    "        if n_classes == 2:\n",
    "            proba[:, 0] = 1. - proba[:, 1]\n",
    "        else:\n",
    "            proba /= np.sum(proba, axis=1)[:, np.newaxis]\n",
    "\n",
    "        # XXX : for some reason all probas can be 0\n",
    "        proba[np.isnan(proba)] = 1. / n_classes\n",
    "\n",
    "        # Deal with cases where the predicted probability minimally exceeds 1.0\n",
    "        proba[(1.0 < proba) & (proba <= 1.0 + 1e-5)] = 1.0\n",
    "        return proba"
   ]
  },
  {
   "cell_type": "code",
   "execution_count": 164,
   "metadata": {},
   "outputs": [],
   "source": [
    "def plot_calibration_curve(y_true, y_prob, n_bins=5, ax=None, hist=True, normalize=False):\n",
    "    prob_true, prob_pred = calibration_curve(y_true, y_prob, n_bins=n_bins, normalize=normalize)\n",
    "    if ax is None:\n",
    "        ax = plt.gca()\n",
    "    if hist:\n",
    "        ax.hist(y_prob, weights=np.ones_like(y_prob) / len(y_prob), alpha=.4,\n",
    "               bins=np.maximum(10, n_bins))\n",
    "    ax.plot([0, 1], [0, 1], ':', c='k')\n",
    "    curve = ax.plot(prob_pred, prob_true, marker=\"o\")\n",
    "\n",
    "    ax.set_xlabel(\"predicted probability\")\n",
    "    ax.set_ylabel(\"fraction of positive samples\")\n",
    "\n",
    "    ax.set(aspect='equal')\n",
    "    return curve"
   ]
  },
  {
   "cell_type": "markdown",
   "metadata": {},
   "source": [
    "## 1. KNN"
   ]
  },
  {
   "cell_type": "code",
   "execution_count": 165,
   "metadata": {},
   "outputs": [
    {
     "name": "stderr",
     "output_type": "stream",
     "text": [
      "/Users/jacinth/miniforge3/lib/python3.9/site-packages/sklearn/base.py:450: UserWarning: X does not have valid feature names, but KNeighborsClassifier was fitted with feature names\n",
      "  warnings.warn(\n",
      "/Users/jacinth/miniforge3/lib/python3.9/site-packages/sklearn/base.py:450: UserWarning: X does not have valid feature names, but KNeighborsClassifier was fitted with feature names\n",
      "  warnings.warn(\n",
      "/Users/jacinth/miniforge3/lib/python3.9/site-packages/sklearn/base.py:450: UserWarning: X does not have valid feature names, but KNeighborsClassifier was fitted with feature names\n",
      "  warnings.warn(\n",
      "/Users/jacinth/miniforge3/lib/python3.9/site-packages/sklearn/base.py:450: UserWarning: X does not have valid feature names, but KNeighborsClassifier was fitted with feature names\n",
      "  warnings.warn(\n"
     ]
    }
   ],
   "source": [
    "# sigmoid\n",
    "cal_knn_sigm = CalibratedClassifierCV(knnclassifier, cv=\"prefit\", method='sigmoid')\n",
    "cal_knn_sigm.fit(X_test, y_test)\n",
    "scores_knn_sigm = cal_knn_sigm.predict_proba(X_test)\n",
    "\n",
    "# Cross-validated Calibration\n",
    "cal_knn_sigm_cv = CalibratedClassifierCV(knnclassifier, method='sigmoid')\n",
    "cal_knn_sigm_cv.fit(X_train, y_train)\n",
    "scores_knn_sigm_cv = cal_knn_sigm_cv.predict_proba(X_test)\n",
    "\n",
    "# isotonic\n",
    "cal_knn_iso = CalibratedClassifierCV(knnclassifier, cv=\"prefit\", method='isotonic')\n",
    "cal_knn_iso.fit(X_test, y_test)\n",
    "scores_knn_iso = cal_knn_iso.predict_proba(X_test)\n",
    "\n",
    "# Cross-validated Calibration\n",
    "cal_knn_iso_cv = CalibratedClassifierCV(knnclassifier, method='isotonic')\n",
    "cal_knn_iso_cv.fit(X_train, y_train)\n",
    "scores_knn_iso_cv = cal_knn_iso_cv.predict_proba(X_test)\n",
    "\n",
    "# beta\n",
    "cal_knn_beta = CalibratedClassifierCV(knnclassifier, method='beta')\n",
    "cal_knn_beta.fit(X_train, y_train)\n",
    "scores_knn_beta = cal_knn_beta.predict_proba(X_test)\n",
    "\n",
    "# Cross-validated Calibration\n",
    "cal_knn_beta_cv = CalibratedClassifierCV(knnclassifier, cv=\"prefit\", method='beta')\n",
    "cal_knn_beta_cv.fit(X_test, y_test)\n",
    "scores_knn_beta_cv = cal_knn_beta_cv.predict_proba(X_test)"
   ]
  },
  {
   "cell_type": "code",
   "execution_count": 166,
   "metadata": {},
   "outputs": [
    {
     "data": {
      "image/png": "[encoded data removed]",
      "text/plain": [
       "<Figure size 720x288 with 4 Axes>"
      ]
     },
     "metadata": {
      "needs_background": "light"
     },
     "output_type": "display_data"
    }
   ],
   "source": [
    "fig, axes = plt.subplots(1, 4, figsize=(10, 4))\n",
    "\n",
    "for name, s, ax in zip(['no calibration', 'sigmoid', 'isotonic', 'beta'],\n",
    "                       [scores_knn[:, 1], scores_knn_sigm[:, 1], scores_knn_iso[:, 1], scores_knn_beta[:, 1]], axes):\n",
    "    plot_calibration_curve(y_test, s, n_bins=20, ax=ax)\n",
    "    ax.set_title(\"{}: {:.3f}\".format(name, brier_score_loss(y_test, s)))\n",
    "plt.tight_layout()"
   ]
  },
  {
   "cell_type": "code",
   "execution_count": 167,
   "metadata": {},
   "outputs": [
    {
     "data": {
      "image/png": "[encoded data removed]",
      "text/plain": [
       "<Figure size 720x288 with 4 Axes>"
      ]
     },
     "metadata": {
      "needs_background": "light"
     },
     "output_type": "display_data"
    }
   ],
   "source": [
    "fig, axes = plt.subplots(1, 4, figsize=(10, 4))\n",
    "\n",
    "for name, s, ax in zip(['no calibration', 'sigmoid cv', 'isotonic cv', 'beta cv'],\n",
    "                       [scores_knn[:, 1], scores_knn_sigm_cv[:, 1], scores_knn_iso_cv[:, 1], scores_knn_beta_cv[:, 1]], axes):\n",
    "    plot_calibration_curve(y_test, s, n_bins=20, ax=ax)\n",
    "    ax.set_title(\"{}: {:.3f}\".format(name, brier_score_loss(y_test, s)))\n",
    "plt.tight_layout()"
   ]
  },
  {
   "cell_type": "code",
   "execution_count": 168,
   "metadata": {},
   "outputs": [
    {
     "data": {
      "text/plain": [
       "0.7883"
      ]
     },
     "execution_count": 168,
     "metadata": {},
     "output_type": "execute_result"
    }
   ],
   "source": [
    "pECE(y_test.values, scores_knn_sigm[:,1])"
   ]
  },
  {
   "cell_type": "code",
   "execution_count": 169,
   "metadata": {},
   "outputs": [
    {
     "data": {
      "text/plain": [
       "0.0"
      ]
     },
     "execution_count": 169,
     "metadata": {},
     "output_type": "execute_result"
    }
   ],
   "source": [
    "pECE(y_test.values, scores_knn_sigm_cv[:,1])"
   ]
  },
  {
   "cell_type": "code",
   "execution_count": 170,
   "metadata": {},
   "outputs": [
    {
     "data": {
      "text/plain": [
       "1.0"
      ]
     },
     "execution_count": 170,
     "metadata": {},
     "output_type": "execute_result"
    }
   ],
   "source": [
    "pECE(y_test.values, scores_knn_iso[:,1])"
   ]
  },
  {
   "cell_type": "code",
   "execution_count": 171,
   "metadata": {},
   "outputs": [
    {
     "data": {
      "text/plain": [
       "0.0"
      ]
     },
     "execution_count": 171,
     "metadata": {},
     "output_type": "execute_result"
    }
   ],
   "source": [
    "pECE(y_test.values, scores_knn_iso_cv[:,1])"
   ]
  },
  {
   "cell_type": "code",
   "execution_count": 172,
   "metadata": {},
   "outputs": [
    {
     "data": {
      "text/plain": [
       "0.0"
      ]
     },
     "execution_count": 172,
     "metadata": {},
     "output_type": "execute_result"
    }
   ],
   "source": [
    "pECE(y_test.values, scores_knn_beta[:,1])"
   ]
  },
  {
   "cell_type": "code",
   "execution_count": 173,
   "metadata": {},
   "outputs": [
    {
     "data": {
      "text/plain": [
       "0.1501"
      ]
     },
     "execution_count": 173,
     "metadata": {},
     "output_type": "execute_result"
    }
   ],
   "source": [
    "pECE(y_test.values, scores_knn_beta_cv[:,1])"
   ]
  },
  {
   "cell_type": "markdown",
   "metadata": {},
   "source": [
    "## 2. LR"
   ]
  },
  {
   "cell_type": "code",
   "execution_count": 174,
   "metadata": {},
   "outputs": [],
   "source": [
    "# sigmoid\n",
    "cal_lr_sigm = CalibratedClassifierCV(lregclassifier, cv=\"prefit\", method='sigmoid')\n",
    "cal_lr_sigm.fit(X_test, y_test)\n",
    "scores_lr_sigm = cal_lr_sigm.predict_proba(X_test)\n",
    "\n",
    "# Cross-validated Calibration\n",
    "cal_lr_sigm_cv = CalibratedClassifierCV(lregclassifier, method='sigmoid')\n",
    "cal_lr_sigm_cv.fit(X_train, y_train)\n",
    "scores_lr_sigm_cv = cal_lr_sigm_cv.predict_proba(X_test)\n",
    "\n",
    "# isotonic\n",
    "cal_lr_iso = CalibratedClassifierCV(lregclassifier, cv=\"prefit\", method='isotonic')\n",
    "cal_lr_iso.fit(X_test, y_test)\n",
    "scores_lr_iso = cal_lr_iso.predict_proba(X_test)\n",
    "\n",
    "# Cross-validated Calibration\n",
    "cal_lr_iso_cv = CalibratedClassifierCV(lregclassifier, method='isotonic')\n",
    "cal_lr_iso_cv.fit(X_train, y_train)\n",
    "scores_lr_iso_cv = cal_lr_iso_cv.predict_proba(X_test)\n",
    "\n",
    "# beta\n",
    "cal_lr_beta = CalibratedClassifierCV(lregclassifier, method='beta')\n",
    "cal_lr_beta.fit(X_train, y_train)\n",
    "scores_lr_beta = cal_lr_beta.predict_proba(X_test)\n",
    "\n",
    "# Cross-validated Calibration\n",
    "cal_lr_beta_cv = CalibratedClassifierCV(lregclassifier, cv=\"prefit\", method='beta')\n",
    "cal_lr_beta_cv.fit(X_test, y_test)\n",
    "scores_lr_beta_cv = cal_lr_beta_cv.predict_proba(X_test)"
   ]
  },
  {
   "cell_type": "code",
   "execution_count": 175,
   "metadata": {},
   "outputs": [
    {
     "data": {
      "image/png": "[encoded data removed]",
      "text/plain": [
       "<Figure size 720x288 with 4 Axes>"
      ]
     },
     "metadata": {
      "needs_background": "light"
     },
     "output_type": "display_data"
    }
   ],
   "source": [
    "fig, axes = plt.subplots(1, 4, figsize=(10, 4))\n",
    "\n",
    "for name, s, ax in zip(['no calibration', 'sigmoid', 'isotonic', 'beta'],\n",
    "                       [scores_lreg[:, 1], scores_lr_sigm[:, 1], scores_lr_iso[:, 1], scores_lr_beta[:, 1]], axes):\n",
    "    plot_calibration_curve(y_test, s, n_bins=20, ax=ax)\n",
    "    ax.set_title(\"{}: {:.3f}\".format(name, brier_score_loss(y_test, s)))\n",
    "plt.tight_layout()"
   ]
  },
  {
   "cell_type": "code",
   "execution_count": 176,
   "metadata": {},
   "outputs": [
    {
     "data": {
      "image/png": "[encoded data removed]",
      "text/plain": [
       "<Figure size 720x288 with 4 Axes>"
      ]
     },
     "metadata": {
      "needs_background": "light"
     },
     "output_type": "display_data"
    }
   ],
   "source": [
    "fig, axes = plt.subplots(1, 4, figsize=(10, 4))\n",
    "\n",
    "for name, s, ax in zip(['no calibration','sigmoid cv', 'isotonic cv','beta cv'],\n",
    "                       [scores_lreg[:, 1], scores_lr_sigm_cv[:, 1], scores_lr_iso_cv[:, 1], scores_lr_beta_cv[:, 1]], axes):\n",
    "    plot_calibration_curve(y_test, s, n_bins=20, ax=ax)\n",
    "    ax.set_title(\"{}: {:.3f}\".format(name, brier_score_loss(y_test, s)))\n",
    "plt.tight_layout()"
   ]
  },
  {
   "cell_type": "code",
   "execution_count": 177,
   "metadata": {},
   "outputs": [
    {
     "data": {
      "text/plain": [
       "0.0"
      ]
     },
     "execution_count": 177,
     "metadata": {},
     "output_type": "execute_result"
    }
   ],
   "source": [
    "pECE(y_test.values, scores_lr_sigm[:,1])"
   ]
  },
  {
   "cell_type": "code",
   "execution_count": 178,
   "metadata": {},
   "outputs": [
    {
     "data": {
      "text/plain": [
       "0.0"
      ]
     },
     "execution_count": 178,
     "metadata": {},
     "output_type": "execute_result"
    }
   ],
   "source": [
    "pECE(y_test.values, scores_lr_sigm_cv[:,1])"
   ]
  },
  {
   "cell_type": "code",
   "execution_count": 179,
   "metadata": {},
   "outputs": [
    {
     "data": {
      "text/plain": [
       "1.0"
      ]
     },
     "execution_count": 179,
     "metadata": {},
     "output_type": "execute_result"
    }
   ],
   "source": [
    "pECE(y_test.values, scores_lr_iso[:,1])"
   ]
  },
  {
   "cell_type": "code",
   "execution_count": 180,
   "metadata": {},
   "outputs": [
    {
     "data": {
      "text/plain": [
       "0.7282"
      ]
     },
     "execution_count": 180,
     "metadata": {},
     "output_type": "execute_result"
    }
   ],
   "source": [
    "pECE(y_test.values, scores_lr_iso_cv[:,1])"
   ]
  },
  {
   "cell_type": "code",
   "execution_count": 181,
   "metadata": {},
   "outputs": [
    {
     "data": {
      "text/plain": [
       "0.005499999999999949"
      ]
     },
     "execution_count": 181,
     "metadata": {},
     "output_type": "execute_result"
    }
   ],
   "source": [
    "pECE(y_test.values, scores_lr_beta[:,1])"
   ]
  },
  {
   "cell_type": "code",
   "execution_count": 182,
   "metadata": {},
   "outputs": [
    {
     "data": {
      "text/plain": [
       "0.008299999999999974"
      ]
     },
     "execution_count": 182,
     "metadata": {},
     "output_type": "execute_result"
    }
   ],
   "source": [
    "pECE(y_test.values, scores_lr_beta_cv[:,1])"
   ]
  },
  {
   "cell_type": "markdown",
   "metadata": {},
   "source": [
    "## 3. SVC"
   ]
  },
  {
   "cell_type": "code",
   "execution_count": 183,
   "metadata": {},
   "outputs": [],
   "source": [
    "# sigmoid\n",
    "cal_svc_sigm = CalibratedClassifierCV(svc, cv=\"prefit\", method='sigmoid')\n",
    "cal_svc_sigm.fit(X_test, y_test)\n",
    "scores_svc_sigm = cal_svc_sigm.predict_proba(X_test)\n",
    "\n",
    "# Cross-validated Calibration\n",
    "cal_svc_sigm_cv = CalibratedClassifierCV(svc, method='sigmoid')\n",
    "cal_svc_sigm_cv.fit(X_train, y_train)\n",
    "scores_svc_sigm_cv = cal_svc_sigm_cv.predict_proba(X_test)\n",
    "\n",
    "# isotonic\n",
    "cal_svc_iso = CalibratedClassifierCV(svc, cv=\"prefit\", method='isotonic')\n",
    "cal_svc_iso.fit(X_test, y_test)\n",
    "scores_svc_iso = cal_svc_iso.predict_proba(X_test)\n",
    "\n",
    "# Cross-validated Calibration\n",
    "cal_svc_iso_cv = CalibratedClassifierCV(svc, method='isotonic')\n",
    "cal_svc_iso_cv.fit(X_train, y_train)\n",
    "scores_svc_iso_cv = cal_svc_iso_cv.predict_proba(X_test)\n",
    "\n",
    "# beta\n",
    "cal_svc_beta = CalibratedClassifierCV(svc, method='beta')\n",
    "cal_svc_beta.fit(X_train, y_train)\n",
    "scores_svc_beta = cal_svc_beta.predict_proba(X_test)\n",
    "\n",
    "# Cross-validated Calibration\n",
    "cal_svc_beta_cv = CalibratedClassifierCV(svc, cv=\"prefit\", method='beta')\n",
    "cal_svc_beta_cv.fit(X_test, y_test)\n",
    "scores_svc_beta_cv = cal_svc_beta_cv.predict_proba(X_test)"
   ]
  },
  {
   "cell_type": "code",
   "execution_count": 184,
   "metadata": {},
   "outputs": [
    {
     "data": {
      "image/png": "[encoded data removed]",
      "text/plain": [
       "<Figure size 720x288 with 4 Axes>"
      ]
     },
     "metadata": {
      "needs_background": "light"
     },
     "output_type": "display_data"
    }
   ],
   "source": [
    "fig, axes = plt.subplots(1, 4, figsize=(10, 4))\n",
    "\n",
    "for name, s, ax in zip(['no calibration', 'sigmoid', 'isotonic', 'beta'],\n",
    "                       [scores_svc[:, 1], scores_svc_sigm[:, 1], scores_svc_iso[:, 1], scores_svc_beta[:, 1]], axes):\n",
    "    plot_calibration_curve(y_test, s, n_bins=20, ax=ax)\n",
    "    ax.set_title(\"{}: {:.3f}\".format(name, brier_score_loss(y_test, s)))\n",
    "plt.tight_layout()"
   ]
  },
  {
   "cell_type": "code",
   "execution_count": 185,
   "metadata": {},
   "outputs": [
    {
     "data": {
      "image/png": "[encoded data removed]",
      "text/plain": [
       "<Figure size 720x288 with 4 Axes>"
      ]
     },
     "metadata": {
      "needs_background": "light"
     },
     "output_type": "display_data"
    }
   ],
   "source": [
    "fig, axes = plt.subplots(1, 4, figsize=(10, 4))\n",
    "\n",
    "for name, s, ax in zip(['no calibration', 'sigmoid cv', 'isotonic cv', 'beta cv'],\n",
    "                       [scores_svc[:, 1], scores_svc_sigm_cv[:, 1], scores_svc_iso_cv[:, 1], scores_svc_beta_cv[:, 1]], axes):\n",
    "    plot_calibration_curve(y_test, s, n_bins=20, ax=ax)\n",
    "    ax.set_title(\"{}: {:.3f}\".format(name, brier_score_loss(y_test, s)))\n",
    "plt.tight_layout()"
   ]
  },
  {
   "cell_type": "code",
   "execution_count": 186,
   "metadata": {},
   "outputs": [
    {
     "data": {
      "text/plain": [
       "0.8591"
      ]
     },
     "execution_count": 186,
     "metadata": {},
     "output_type": "execute_result"
    }
   ],
   "source": [
    "pECE(y_test.values, scores_svc_sigm[:,1])"
   ]
  },
  {
   "cell_type": "code",
   "execution_count": 187,
   "metadata": {},
   "outputs": [
    {
     "data": {
      "text/plain": [
       "0.03959999999999997"
      ]
     },
     "execution_count": 187,
     "metadata": {},
     "output_type": "execute_result"
    }
   ],
   "source": [
    "pECE(y_test.values, scores_svc_sigm_cv[:,1])"
   ]
  },
  {
   "cell_type": "code",
   "execution_count": 188,
   "metadata": {},
   "outputs": [
    {
     "data": {
      "text/plain": [
       "1.0"
      ]
     },
     "execution_count": 188,
     "metadata": {},
     "output_type": "execute_result"
    }
   ],
   "source": [
    "pECE(y_test.values, scores_svc_iso[:,1])"
   ]
  },
  {
   "cell_type": "code",
   "execution_count": 189,
   "metadata": {},
   "outputs": [
    {
     "data": {
      "text/plain": [
       "0.0"
      ]
     },
     "execution_count": 189,
     "metadata": {},
     "output_type": "execute_result"
    }
   ],
   "source": [
    "pECE(y_test.values, scores_svc_iso_cv[:,1])"
   ]
  },
  {
   "cell_type": "code",
   "execution_count": 190,
   "metadata": {},
   "outputs": [
    {
     "data": {
      "text/plain": [
       "0.20599999999999996"
      ]
     },
     "execution_count": 190,
     "metadata": {},
     "output_type": "execute_result"
    }
   ],
   "source": [
    "pECE(y_test.values, scores_svc_beta[:,1])"
   ]
  },
  {
   "cell_type": "code",
   "execution_count": 191,
   "metadata": {},
   "outputs": [
    {
     "data": {
      "text/plain": [
       "0.9948"
      ]
     },
     "execution_count": 191,
     "metadata": {},
     "output_type": "execute_result"
    }
   ],
   "source": [
    "pECE(y_test.values, scores_svc_beta_cv[:,1])"
   ]
  },
  {
   "cell_type": "markdown",
   "metadata": {},
   "source": [
    "## 4. XGB"
   ]
  },
  {
   "cell_type": "code",
   "execution_count": 192,
   "metadata": {},
   "outputs": [],
   "source": [
    "# sigmoid\n",
    "cal_xgb_sigm = CalibratedClassifierCV(XGBclf, cv=\"prefit\", method='sigmoid')\n",
    "cal_xgb_sigm.fit(X_test, y_test)\n",
    "scores_xgb_sigm = cal_xgb_sigm.predict_proba(X_test)\n",
    "\n",
    "# Cross-validated Calibration\n",
    "cal_xgb_sigm_cv = CalibratedClassifierCV(XGBclf, method='sigmoid')\n",
    "cal_xgb_sigm_cv.fit(X_train, y_train)\n",
    "scores_xgb_sigm_cv = cal_xgb_sigm_cv.predict_proba(X_test)\n",
    "\n",
    "# isotonic\n",
    "cal_xgb_iso = CalibratedClassifierCV(XGBclf, cv=\"prefit\", method='isotonic')\n",
    "cal_xgb_iso.fit(X_test, y_test)\n",
    "scores_xgb_iso = cal_xgb_iso.predict_proba(X_test)\n",
    "\n",
    "# Cross-validated Calibration\n",
    "cal_xgb_iso_cv = CalibratedClassifierCV(XGBclf, method='isotonic')\n",
    "cal_xgb_iso_cv.fit(X_train, y_train)\n",
    "scores_xgb_iso_cv = cal_xgb_iso_cv.predict_proba(X_test)\n",
    "\n",
    "# beta\n",
    "cal_xgb_beta = CalibratedClassifierCV(XGBclf, method='beta')\n",
    "cal_xgb_beta.fit(X_train, y_train)\n",
    "scores_xgb_beta = cal_xgb_beta.predict_proba(X_test)\n",
    "\n",
    "# Cross-validated Calibration\n",
    "cal_xgb_beta_cv = CalibratedClassifierCV(XGBclf, cv=\"prefit\", method='beta')\n",
    "cal_xgb_beta_cv.fit(X_test, y_test)\n",
    "scores_xgb_beta_cv = cal_xgb_beta_cv.predict_proba(X_test)"
   ]
  },
  {
   "cell_type": "code",
   "execution_count": 193,
   "metadata": {},
   "outputs": [
    {
     "data": {
      "image/png": "[encoded data removed]",
      "text/plain": [
       "<Figure size 720x288 with 4 Axes>"
      ]
     },
     "metadata": {
      "needs_background": "light"
     },
     "output_type": "display_data"
    }
   ],
   "source": [
    "fig, axes = plt.subplots(1, 4, figsize=(10, 4))\n",
    "\n",
    "for name, s, ax in zip(['no calibration', 'sigmoid', 'isotonic', 'beta'],\n",
    "                       [scores_xgb[:, 1], scores_xgb_sigm[:, 1], scores_xgb_iso[:, 1], scores_xgb_beta[:, 1]], axes):\n",
    "    plot_calibration_curve(y_test, s, n_bins=20, ax=ax)\n",
    "    ax.set_title(\"{}: {:.3f}\".format(name, brier_score_loss(y_test, s)))\n",
    "plt.tight_layout()"
   ]
  },
  {
   "cell_type": "code",
   "execution_count": 194,
   "metadata": {},
   "outputs": [
    {
     "data": {
      "image/png": "[encoded data removed]",
      "text/plain": [
       "<Figure size 720x288 with 4 Axes>"
      ]
     },
     "metadata": {
      "needs_background": "light"
     },
     "output_type": "display_data"
    }
   ],
   "source": [
    "fig, axes = plt.subplots(1, 4, figsize=(10, 4))\n",
    "\n",
    "for name, s, ax in zip(['no calibration', 'sigmoid cv', 'isotonic cv', 'beta cv'],\n",
    "                       [scores_xgb[:, 1], scores_xgb_sigm_cv[:, 1], scores_xgb_iso_cv[:, 1], scores_xgb_beta_cv[:, 1]], axes):\n",
    "    plot_calibration_curve(y_test, s, n_bins=20, ax=ax)\n",
    "    ax.set_title(\"{}: {:.3f}\".format(name, brier_score_loss(y_test, s)))\n",
    "plt.tight_layout()"
   ]
  },
  {
   "cell_type": "code",
   "execution_count": 195,
   "metadata": {},
   "outputs": [
    {
     "data": {
      "text/plain": [
       "0.0"
      ]
     },
     "execution_count": 195,
     "metadata": {},
     "output_type": "execute_result"
    }
   ],
   "source": [
    "pECE(y_test.values, scores_xgb_sigm[:,1])"
   ]
  },
  {
   "cell_type": "code",
   "execution_count": 196,
   "metadata": {},
   "outputs": [
    {
     "data": {
      "text/plain": [
       "0.0"
      ]
     },
     "execution_count": 196,
     "metadata": {},
     "output_type": "execute_result"
    }
   ],
   "source": [
    "pECE(y_test.values, scores_xgb_sigm_cv[:,1])"
   ]
  },
  {
   "cell_type": "code",
   "execution_count": 197,
   "metadata": {},
   "outputs": [
    {
     "data": {
      "text/plain": [
       "1.0"
      ]
     },
     "execution_count": 197,
     "metadata": {},
     "output_type": "execute_result"
    }
   ],
   "source": [
    "pECE(y_test.values, scores_xgb_iso[:,1])"
   ]
  },
  {
   "cell_type": "code",
   "execution_count": 198,
   "metadata": {},
   "outputs": [
    {
     "data": {
      "text/plain": [
       "0.12950000000000006"
      ]
     },
     "execution_count": 198,
     "metadata": {},
     "output_type": "execute_result"
    }
   ],
   "source": [
    "pECE(y_test.values, scores_xgb_iso_cv[:,1])"
   ]
  },
  {
   "cell_type": "code",
   "execution_count": 199,
   "metadata": {},
   "outputs": [
    {
     "data": {
      "text/plain": [
       "0.06530000000000002"
      ]
     },
     "execution_count": 199,
     "metadata": {},
     "output_type": "execute_result"
    }
   ],
   "source": [
    "pECE(y_test.values, scores_xgb_beta[:,1])"
   ]
  },
  {
   "cell_type": "code",
   "execution_count": 200,
   "metadata": {},
   "outputs": [
    {
     "data": {
      "text/plain": [
       "0.7656"
      ]
     },
     "execution_count": 200,
     "metadata": {},
     "output_type": "execute_result"
    }
   ],
   "source": [
    "pECE(y_test.values, scores_xgb_beta_cv[:,1])"
   ]
  }
 ],
 "metadata": {
  "kernelspec": {
   "display_name": "Python 3 (ipykernel)",
   "language": "python",
   "name": "python3"
  },
  "language_info": {
   "codemirror_mode": {
    "name": "ipython",
    "version": 3
   },
   "file_extension": ".py",
   "mimetype": "text/x-python",
   "name": "python",
   "nbconvert_exporter": "python",
   "pygments_lexer": "ipython3",
   "version": "3.9.7"
  }
 },
 "nbformat": 4,
 "nbformat_minor": 1
}
