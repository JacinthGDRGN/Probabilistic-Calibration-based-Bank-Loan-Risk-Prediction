{
 "cells": [
  {
   "cell_type": "code",
   "execution_count": 1,
   "metadata": {
    "_cell_guid": "b1076dfc-b9ad-4769-8c92-a6c4dae69d19",
    "_uuid": "8f2839f25d086af736a60e9eeb907d3b93b6e0e5",
    "execution": {
     "iopub.execute_input": "2022-07-18T17:05:03.138781Z",
     "iopub.status.busy": "2022-07-18T17:05:03.138257Z",
     "iopub.status.idle": "2022-07-18T17:05:03.154666Z",
     "shell.execute_reply": "2022-07-18T17:05:03.153534Z",
     "shell.execute_reply.started": "2022-07-18T17:05:03.138748Z"
    }
   },
   "outputs": [],
   "source": [
    "# This Python 3 environment comes with many helpful analytics libraries installed\n",
    "# It is defined by the kaggle/python Docker image: https://github.com/kaggle/docker-python\n",
    "# For example, here's several helpful packages to load\n",
    "\n",
    "import numpy as np # linear algebra\n",
    "import pandas as pd # data processing, CSV file I/O (e.g. pd.read_csv)\n",
    "import matplotlib.pyplot as plt\n",
    "import seaborn as sns\n",
    "\n",
    "# Input data files are available in the read-only \"../input/\" directory\n",
    "# For example, running this (by clicking run or pressing Shift+Enter) will list all files under the input directory\n",
    "\n",
    "import os\n",
    "for dirname, _, filenames in os.walk('/kaggle/input'):\n",
    "    for filename in filenames:\n",
    "        print(os.path.join(dirname, filename))\n",
    "\n",
    "# You can write up to 20GB to the current directory (/kaggle/working/) that gets preserved as output when you create a version using \"Save & Run All\" \n",
    "# You can also write temporary files to /kaggle/temp/, but they won't be saved outside of the current session"
   ]
  },
  {
   "cell_type": "code",
   "execution_count": 2,
   "metadata": {
    "execution": {
     "iopub.execute_input": "2022-07-18T17:05:09.185676Z",
     "iopub.status.busy": "2022-07-18T17:05:09.185292Z",
     "iopub.status.idle": "2022-07-18T17:05:09.215907Z",
     "shell.execute_reply": "2022-07-18T17:05:09.214254Z",
     "shell.execute_reply.started": "2022-07-18T17:05:09.185646Z"
    }
   },
   "outputs": [
    {
     "data": {
      "text/html": [
       "<div>\n",
       "<style scoped>\n",
       "    .dataframe tbody tr th:only-of-type {\n",
       "        vertical-align: middle;\n",
       "    }\n",
       "\n",
       "    .dataframe tbody tr th {\n",
       "        vertical-align: top;\n",
       "    }\n",
       "\n",
       "    .dataframe thead th {\n",
       "        text-align: right;\n",
       "    }\n",
       "</style>\n",
       "<table border=\"1\" class=\"dataframe\">\n",
       "  <thead>\n",
       "    <tr style=\"text-align: right;\">\n",
       "      <th></th>\n",
       "      <th>Index</th>\n",
       "      <th>Employed</th>\n",
       "      <th>Bank Balance</th>\n",
       "      <th>Annual Salary</th>\n",
       "      <th>Defaulted?</th>\n",
       "    </tr>\n",
       "  </thead>\n",
       "  <tbody>\n",
       "    <tr>\n",
       "      <th>0</th>\n",
       "      <td>1</td>\n",
       "      <td>1</td>\n",
       "      <td>8754.36</td>\n",
       "      <td>532339.56</td>\n",
       "      <td>0</td>\n",
       "    </tr>\n",
       "    <tr>\n",
       "      <th>1</th>\n",
       "      <td>2</td>\n",
       "      <td>0</td>\n",
       "      <td>9806.16</td>\n",
       "      <td>145273.56</td>\n",
       "      <td>0</td>\n",
       "    </tr>\n",
       "    <tr>\n",
       "      <th>2</th>\n",
       "      <td>3</td>\n",
       "      <td>1</td>\n",
       "      <td>12882.60</td>\n",
       "      <td>381205.68</td>\n",
       "      <td>0</td>\n",
       "    </tr>\n",
       "    <tr>\n",
       "      <th>3</th>\n",
       "      <td>4</td>\n",
       "      <td>1</td>\n",
       "      <td>6351.00</td>\n",
       "      <td>428453.88</td>\n",
       "      <td>0</td>\n",
       "    </tr>\n",
       "    <tr>\n",
       "      <th>4</th>\n",
       "      <td>5</td>\n",
       "      <td>1</td>\n",
       "      <td>9427.92</td>\n",
       "      <td>461562.00</td>\n",
       "      <td>0</td>\n",
       "    </tr>\n",
       "  </tbody>\n",
       "</table>\n",
       "</div>"
      ],
      "text/plain": [
       "   Index  Employed  Bank Balance  Annual Salary  Defaulted?\n",
       "0      1         1       8754.36      532339.56           0\n",
       "1      2         0       9806.16      145273.56           0\n",
       "2      3         1      12882.60      381205.68           0\n",
       "3      4         1       6351.00      428453.88           0\n",
       "4      5         1       9427.92      461562.00           0"
      ]
     },
     "execution_count": 2,
     "metadata": {},
     "output_type": "execute_result"
    }
   ],
   "source": [
    "data = pd.read_csv('Default_Fin.csv')\n",
    "data.head()"
   ]
  },
  {
   "cell_type": "code",
   "execution_count": 3,
   "metadata": {},
   "outputs": [
    {
     "data": {
      "text/plain": [
       "10000"
      ]
     },
     "execution_count": 3,
     "metadata": {},
     "output_type": "execute_result"
    }
   ],
   "source": [
    "len(data)"
   ]
  },
  {
   "cell_type": "markdown",
   "metadata": {},
   "source": [
    "## Understanding Data Distribution"
   ]
  },
  {
   "cell_type": "code",
   "execution_count": 4,
   "metadata": {
    "execution": {
     "iopub.execute_input": "2022-07-18T17:05:15.489302Z",
     "iopub.status.busy": "2022-07-18T17:05:15.488788Z",
     "iopub.status.idle": "2022-07-18T17:05:15.573232Z",
     "shell.execute_reply": "2022-07-18T17:05:15.572138Z",
     "shell.execute_reply.started": "2022-07-18T17:05:15.489269Z"
    }
   },
   "outputs": [
    {
     "name": "stdout",
     "output_type": "stream",
     "text": [
      "                    Bank Balance                                       \\\n",
      "                           count          mean          std       min   \n",
      "Defaulted? Employed                                                     \n",
      "0          0              2817.0  11381.762386  5406.643098      0.00   \n",
      "           1              6850.0   8934.053396  5346.181753      0.00   \n",
      "1          0               127.0  22324.546772  3944.821339  12158.64   \n",
      "           1               206.0  20141.152427  3970.966677   7828.80   \n",
      "\n",
      "                                                            Annual Salary  \\\n",
      "                          25%       50%       75%       max         count   \n",
      "Defaulted? Employed                                                         \n",
      "0          0          7684.32  11437.56  15125.88  28658.04        2817.0   \n",
      "           1          4893.51   8904.78  12734.43  28692.12        6850.0   \n",
      "1          0         19651.08  22671.96  25323.36  31851.84         127.0   \n",
      "           1         17768.49  20518.98  22949.13  29988.24         206.0   \n",
      "\n",
      "                                                                         \\\n",
      "                              mean            std        min        25%   \n",
      "Defaulted? Employed                                                       \n",
      "0          0         215244.105218   54519.841499    9263.64  178310.88   \n",
      "           1         479922.182050  120034.879178   96211.68  400750.20   \n",
      "1          0         218922.098268   51654.155063  115965.48  182895.18   \n",
      "           1         487500.603495  123104.751380  175969.68  416664.90   \n",
      "\n",
      "                                                      \n",
      "                           50%        75%        max  \n",
      "Defaulted? Employed                                   \n",
      "0          0         215907.84  252311.16  396041.04  \n",
      "           1         478626.12  561345.96  882650.76  \n",
      "1          0         216253.32  249707.40  393132.60  \n",
      "           1         483368.70  586460.25  797597.52  \n"
     ]
    },
    {
     "data": {
      "text/html": [
       "<div>\n",
       "<style scoped>\n",
       "    .dataframe tbody tr th:only-of-type {\n",
       "        vertical-align: middle;\n",
       "    }\n",
       "\n",
       "    .dataframe tbody tr th {\n",
       "        vertical-align: top;\n",
       "    }\n",
       "\n",
       "    .dataframe thead th {\n",
       "        text-align: right;\n",
       "    }\n",
       "</style>\n",
       "<table border=\"1\" class=\"dataframe\">\n",
       "  <thead>\n",
       "    <tr style=\"text-align: right;\">\n",
       "      <th>Defaulted?</th>\n",
       "      <th>0</th>\n",
       "      <th>1</th>\n",
       "    </tr>\n",
       "    <tr>\n",
       "      <th>Employed</th>\n",
       "      <th></th>\n",
       "      <th></th>\n",
       "    </tr>\n",
       "  </thead>\n",
       "  <tbody>\n",
       "    <tr>\n",
       "      <th>0</th>\n",
       "      <td>0.96</td>\n",
       "      <td>0.04</td>\n",
       "    </tr>\n",
       "    <tr>\n",
       "      <th>1</th>\n",
       "      <td>0.97</td>\n",
       "      <td>0.03</td>\n",
       "    </tr>\n",
       "  </tbody>\n",
       "</table>\n",
       "</div>"
      ],
      "text/plain": [
       "Defaulted?     0     1\n",
       "Employed              \n",
       "0           0.96  0.04\n",
       "1           0.97  0.03"
      ]
     },
     "execution_count": 4,
     "metadata": {},
     "output_type": "execute_result"
    }
   ],
   "source": [
    "print(data.groupby(['Defaulted?', 'Employed'])[['Bank Balance', 'Annual Salary']].describe())\n",
    "pd.crosstab(data['Employed'], data['Defaulted?'], normalize = 'index').round(2)"
   ]
  },
  {
   "cell_type": "markdown",
   "metadata": {},
   "source": [
    "3% are defaulters in Employed<br>\n",
    "4.5% are defaulters in Unemployed"
   ]
  },
  {
   "cell_type": "code",
   "execution_count": 5,
   "metadata": {
    "execution": {
     "iopub.execute_input": "2022-07-18T17:05:20.359523Z",
     "iopub.status.busy": "2022-07-18T17:05:20.358846Z",
     "iopub.status.idle": "2022-07-18T17:05:20.638487Z",
     "shell.execute_reply": "2022-07-18T17:05:20.637278Z",
     "shell.execute_reply.started": "2022-07-18T17:05:20.359485Z"
    }
   },
   "outputs": [
    {
     "data": {
      "image/png": "[encoded data removed]",
      "text/plain": [
       "<Figure size 720x432 with 1 Axes>"
      ]
     },
     "metadata": {
      "needs_background": "light"
     },
     "output_type": "display_data"
    }
   ],
   "source": [
    "# defaulters vs bank balance distributions\n",
    "fig = plt.figure(figsize=(10,6))\n",
    "\n",
    "sns.kdeplot(data[data['Defaulted?']==1]['Bank Balance'])\n",
    "sns.kdeplot(data[data['Defaulted?']==0]['Bank Balance'])\n",
    "\n",
    "fig.legend(labels=['Defaulted', 'Not Defaulted'])\n",
    "plt.title('Based on Bank Balance')\n",
    "plt.show()"
   ]
  },
  {
   "cell_type": "markdown",
   "metadata": {},
   "source": [
    "On average, defaulters have higher bank balance than non-defaulters."
   ]
  },
  {
   "cell_type": "code",
   "execution_count": 6,
   "metadata": {
    "execution": {
     "iopub.execute_input": "2022-07-18T17:05:29.593000Z",
     "iopub.status.busy": "2022-07-18T17:05:29.592258Z",
     "iopub.status.idle": "2022-07-18T17:05:29.890074Z",
     "shell.execute_reply": "2022-07-18T17:05:29.888734Z",
     "shell.execute_reply.started": "2022-07-18T17:05:29.592944Z"
    }
   },
   "outputs": [
    {
     "data": {
      "image/png": "[encoded data removed]",
      "text/plain": [
       "<Figure size 720x432 with 1 Axes>"
      ]
     },
     "metadata": {
      "needs_background": "light"
     },
     "output_type": "display_data"
    }
   ],
   "source": [
    "# defaulters vs bank balance distributions\n",
    "fig = plt.figure(figsize=(10,6))\n",
    "\n",
    "sns.kdeplot(data[data['Defaulted?']==1]['Annual Salary'])\n",
    "sns.kdeplot(data[data['Defaulted?']==0]['Annual Salary'])\n",
    "\n",
    "fig.legend(labels=['Defaulted', 'Not Defaulted'])\n",
    "plt.title('Based on Annual Salary')\n",
    "plt.show()"
   ]
  },
  {
   "cell_type": "markdown",
   "metadata": {},
   "source": [
    "On average, number of defaulters with higher salary are lesser than lower annual salary"
   ]
  },
  {
   "cell_type": "code",
   "execution_count": 7,
   "metadata": {
    "execution": {
     "iopub.execute_input": "2022-07-18T17:05:34.328102Z",
     "iopub.status.busy": "2022-07-18T17:05:34.327410Z",
     "iopub.status.idle": "2022-07-18T17:05:34.541025Z",
     "shell.execute_reply": "2022-07-18T17:05:34.539641Z",
     "shell.execute_reply.started": "2022-07-18T17:05:34.328017Z"
    }
   },
   "outputs": [
    {
     "data": {
      "image/png": "[encoded data removed]",
      "text/plain": [
       "<Figure size 432x288 with 1 Axes>"
      ]
     },
     "metadata": {},
     "output_type": "display_data"
    },
    {
     "data": {
      "image/png": "[encoded data removed]",
      "text/plain": [
       "<Figure size 432x288 with 1 Axes>"
      ]
     },
     "metadata": {},
     "output_type": "display_data"
    }
   ],
   "source": [
    "data.groupby('Defaulted?').size().plot.pie(autopct='%1.1f%%', title='Defaulted?');\n",
    "plt.show()\n",
    "label=[1,0]\n",
    "plt.pie(data['Employed'].value_counts(), autopct='%1.1f%%',labels=label);\n",
    "plt.title('Employed?');"
   ]
  },
  {
   "cell_type": "markdown",
   "metadata": {},
   "source": [
    "# correlation between features or with target"
   ]
  },
  {
   "cell_type": "code",
   "execution_count": 8,
   "metadata": {
    "execution": {
     "iopub.execute_input": "2022-07-18T16:28:39.979770Z",
     "iopub.status.busy": "2022-07-18T16:28:39.979368Z",
     "iopub.status.idle": "2022-07-18T16:28:39.999529Z",
     "shell.execute_reply": "2022-07-18T16:28:39.997522Z",
     "shell.execute_reply.started": "2022-07-18T16:28:39.979737Z"
    }
   },
   "outputs": [
    {
     "name": "stdout",
     "output_type": "stream",
     "text": [
      "KstestResult(statistic=0.9997, pvalue=0.0)\n"
     ]
    }
   ],
   "source": [
    "import scipy.stats as st\n",
    "print(st.ks_2samp(data['Annual Salary'], data['Bank Balance']))\n",
    "# based on the pvalue we may say that these two features are highly correlated\n",
    "# as the number of features are already small we are ignoring it"
   ]
  },
  {
   "cell_type": "markdown",
   "metadata": {},
   "source": [
    "# Training Model"
   ]
  },
  {
   "cell_type": "code",
   "execution_count": 9,
   "metadata": {
    "execution": {
     "iopub.execute_input": "2022-07-18T16:28:46.065053Z",
     "iopub.status.busy": "2022-07-18T16:28:46.064632Z",
     "iopub.status.idle": "2022-07-18T16:28:46.574926Z",
     "shell.execute_reply": "2022-07-18T16:28:46.573548Z",
     "shell.execute_reply.started": "2022-07-18T16:28:46.065017Z"
    }
   },
   "outputs": [],
   "source": [
    "from sklearn.model_selection import train_test_split, cross_val_score\n",
    "from sklearn.linear_model import LogisticRegression\n",
    "from sklearn import metrics, preprocessing\n",
    "from sklearn.metrics import classification_report\n",
    "from sklearn.metrics import confusion_matrix\n",
    "from sklearn.metrics import accuracy_score\n",
    "from sklearn.preprocessing import MinMaxScaler\n",
    "from sklearn.svm import SVC"
   ]
  },
  {
   "cell_type": "code",
   "execution_count": 10,
   "metadata": {
    "execution": {
     "iopub.execute_input": "2022-07-18T16:28:57.689250Z",
     "iopub.status.busy": "2022-07-18T16:28:57.688902Z",
     "iopub.status.idle": "2022-07-18T16:28:57.710791Z",
     "shell.execute_reply": "2022-07-18T16:28:57.709542Z",
     "shell.execute_reply.started": "2022-07-18T16:28:57.689221Z"
    }
   },
   "outputs": [],
   "source": [
    "feature_cols = ['Employed', 'Bank Balance', 'Annual Salary']\n",
    "\n",
    "''' Rescaling to [0,1] '''\n",
    "scaler = MinMaxScaler()\n",
    "data[feature_cols] = scaler.fit_transform(data[feature_cols])"
   ]
  },
  {
   "cell_type": "code",
   "execution_count": 11,
   "metadata": {
    "execution": {
     "iopub.execute_input": "2022-07-18T16:29:05.392084Z",
     "iopub.status.busy": "2022-07-18T16:29:05.391454Z",
     "iopub.status.idle": "2022-07-18T16:29:05.409642Z",
     "shell.execute_reply": "2022-07-18T16:29:05.408452Z",
     "shell.execute_reply.started": "2022-07-18T16:29:05.392045Z"
    }
   },
   "outputs": [],
   "source": [
    "X = data[feature_cols]\n",
    "y = data['Defaulted?']\n",
    "\n",
    "validation_size = 0.20\n",
    "X_train, X_test, y_train, y_test = train_test_split(X, y, test_size=validation_size, \n",
    "                                                    random_state=4, stratify=y)"
   ]
  },
  {
   "cell_type": "markdown",
   "metadata": {},
   "source": [
    "# Model 1: Logistic Regression"
   ]
  },
  {
   "cell_type": "code",
   "execution_count": 12,
   "metadata": {
    "execution": {
     "iopub.execute_input": "2022-07-18T16:29:08.263223Z",
     "iopub.status.busy": "2022-07-18T16:29:08.262562Z",
     "iopub.status.idle": "2022-07-18T16:29:08.326536Z",
     "shell.execute_reply": "2022-07-18T16:29:08.325055Z",
     "shell.execute_reply.started": "2022-07-18T16:29:08.263044Z"
    }
   },
   "outputs": [
    {
     "name": "stdout",
     "output_type": "stream",
     "text": [
      "[[ 0.37752533 13.74108117  0.39631967]]\n"
     ]
    }
   ],
   "source": [
    "model = LogisticRegression(class_weight='balanced')\n",
    "model.fit(X_train, y_train)\n",
    "print(model.coef_)"
   ]
  },
  {
   "cell_type": "code",
   "execution_count": 13,
   "metadata": {
    "execution": {
     "iopub.execute_input": "2022-07-18T16:29:10.847382Z",
     "iopub.status.busy": "2022-07-18T16:29:10.846813Z",
     "iopub.status.idle": "2022-07-18T16:29:10.959693Z",
     "shell.execute_reply": "2022-07-18T16:29:10.958353Z",
     "shell.execute_reply.started": "2022-07-18T16:29:10.847342Z"
    }
   },
   "outputs": [
    {
     "name": "stdout",
     "output_type": "stream",
     "text": [
      "Train metrics...\n",
      "[[6651 1083]\n",
      " [  26  240]]\n",
      "              precision    recall  f1-score   support\n",
      "\n",
      "           0       1.00      0.86      0.92      7734\n",
      "           1       0.18      0.90      0.30       266\n",
      "\n",
      "    accuracy                           0.86      8000\n",
      "   macro avg       0.59      0.88      0.61      8000\n",
      "weighted avg       0.97      0.86      0.90      8000\n",
      "\n",
      "Test metrics...\n",
      "[[1684  249]\n",
      " [   7   60]]\n",
      "              precision    recall  f1-score   support\n",
      "\n",
      "           0       1.00      0.87      0.93      1933\n",
      "           1       0.19      0.90      0.32        67\n",
      "\n",
      "    accuracy                           0.87      2000\n",
      "   macro avg       0.60      0.88      0.62      2000\n",
      "weighted avg       0.97      0.87      0.91      2000\n",
      "\n"
     ]
    }
   ],
   "source": [
    "y_pred = model.predict(X_train)\n",
    "\n",
    "print('Train metrics...')\n",
    "print(confusion_matrix(y_train, y_pred))\n",
    "print(classification_report(y_train, y_pred))\n",
    "\n",
    "y_pred = model.predict(X_test)\n",
    "\n",
    "print('Test metrics...')\n",
    "print(confusion_matrix(y_test, y_pred))\n",
    "print(classification_report(y_test, y_pred))"
   ]
  },
  {
   "cell_type": "code",
   "execution_count": 14,
   "metadata": {
    "execution": {
     "iopub.execute_input": "2022-07-18T16:29:14.531110Z",
     "iopub.status.busy": "2022-07-18T16:29:14.530633Z",
     "iopub.status.idle": "2022-07-18T16:29:14.641834Z",
     "shell.execute_reply": "2022-07-18T16:29:14.640472Z",
     "shell.execute_reply.started": "2022-07-18T16:29:14.531074Z"
    }
   },
   "outputs": [
    {
     "data": {
      "text/html": [
       "<div>\n",
       "<style scoped>\n",
       "    .dataframe tbody tr th:only-of-type {\n",
       "        vertical-align: middle;\n",
       "    }\n",
       "\n",
       "    .dataframe tbody tr th {\n",
       "        vertical-align: top;\n",
       "    }\n",
       "\n",
       "    .dataframe thead tr th {\n",
       "        text-align: left;\n",
       "    }\n",
       "</style>\n",
       "<table border=\"1\" class=\"dataframe\">\n",
       "  <thead>\n",
       "    <tr>\n",
       "      <th></th>\n",
       "      <th></th>\n",
       "      <th colspan=\"2\" halign=\"left\">prediction defaulted ?</th>\n",
       "    </tr>\n",
       "    <tr>\n",
       "      <th></th>\n",
       "      <th></th>\n",
       "      <th>No</th>\n",
       "      <th>Yes</th>\n",
       "    </tr>\n",
       "  </thead>\n",
       "  <tbody>\n",
       "    <tr>\n",
       "      <th rowspan=\"2\" valign=\"top\">actual defaulted?</th>\n",
       "      <th>No</th>\n",
       "      <td>8335</td>\n",
       "      <td>1332</td>\n",
       "    </tr>\n",
       "    <tr>\n",
       "      <th>Yes</th>\n",
       "      <td>33</td>\n",
       "      <td>300</td>\n",
       "    </tr>\n",
       "  </tbody>\n",
       "</table>\n",
       "</div>"
      ],
      "text/plain": [
       "                      prediction defaulted ?      \n",
       "                                          No   Yes\n",
       "actual defaulted? No                    8335  1332\n",
       "                  Yes                     33   300"
      ]
     },
     "metadata": {},
     "output_type": "display_data"
    },
    {
     "name": "stdout",
     "output_type": "stream",
     "text": [
      "              precision    recall  f1-score   support\n",
      "\n",
      "           0       1.00      0.86      0.92      9667\n",
      "           1       0.18      0.90      0.31       333\n",
      "\n",
      "    accuracy                           0.86     10000\n",
      "   macro avg       0.59      0.88      0.61     10000\n",
      "weighted avg       0.97      0.86      0.90     10000\n",
      "\n"
     ]
    }
   ],
   "source": [
    "''' metrics on original data '''\n",
    "y_pred = model.predict(data[feature_cols])\n",
    "\n",
    "def make_cm(matrix, columns):\n",
    "    n = len(columns)\n",
    "    act = ['actual defaulted?'] * n\n",
    "    pred = ['prediction defaulted ?'] * n\n",
    "\n",
    "    cm = pd.DataFrame(matrix, \n",
    "        columns=[pred, columns], index=[act, columns])\n",
    "    return cm\n",
    "\n",
    "df_matrix=make_cm(\n",
    "    confusion_matrix(data['Defaulted?'], y_pred),['No','Yes'])\n",
    "\n",
    "display(df_matrix)\n",
    "print(classification_report(data['Defaulted?'], y_pred))"
   ]
  },
  {
   "cell_type": "code",
   "execution_count": 15,
   "metadata": {},
   "outputs": [
    {
     "name": "stdout",
     "output_type": "stream",
     "text": [
      "Score:  0.872\n"
     ]
    }
   ],
   "source": [
    "lregprediction = model.predict(X_test)\n",
    "print(\"Score: \",model.score(X_test, y_test))"
   ]
  },
  {
   "cell_type": "code",
   "execution_count": 16,
   "metadata": {},
   "outputs": [],
   "source": [
    "import pycalib\n",
    "from pycalib import metrics\n",
    "from sklearn.calibration import calibration_curve"
   ]
  },
  {
   "cell_type": "code",
   "execution_count": 17,
   "metadata": {},
   "outputs": [
    {
     "data": {
      "text/plain": [
       "array([0, 0, 0, ..., 0, 1, 0])"
      ]
     },
     "execution_count": 17,
     "metadata": {},
     "output_type": "execute_result"
    }
   ],
   "source": [
    "y_pred"
   ]
  },
  {
   "cell_type": "code",
   "execution_count": 18,
   "metadata": {},
   "outputs": [
    {
     "data": {
      "text/plain": [
       "array([0, 0, 0, ..., 0, 0, 0])"
      ]
     },
     "execution_count": 18,
     "metadata": {},
     "output_type": "execute_result"
    }
   ],
   "source": [
    "y_test.values"
   ]
  },
  {
   "cell_type": "code",
   "execution_count": 19,
   "metadata": {},
   "outputs": [
    {
     "data": {
      "text/plain": [
       "array([[0.93885193, 0.06114807],\n",
       "       [0.95289675, 0.04710325],\n",
       "       [0.99047119, 0.00952881],\n",
       "       ...,\n",
       "       [0.96578879, 0.03421121],\n",
       "       [0.9965395 , 0.0034605 ],\n",
       "       [0.77074757, 0.22925243]])"
      ]
     },
     "execution_count": 19,
     "metadata": {},
     "output_type": "execute_result"
    }
   ],
   "source": [
    "scores_lreg = model.predict_proba(X_test)\n",
    "scores_lreg"
   ]
  },
  {
   "cell_type": "code",
   "execution_count": 20,
   "metadata": {},
   "outputs": [],
   "source": [
    "indexes = y_test.index.values\n",
    "indexes = indexes.tolist()"
   ]
  },
  {
   "cell_type": "code",
   "execution_count": 21,
   "metadata": {},
   "outputs": [],
   "source": [
    "lregpred = [[] for i in range(len(indexes))]\n",
    "for i in range(len(indexes)):\n",
    "    lregpred[i] = (indexes[i], lregprediction[i])\n",
    "# lregpred"
   ]
  },
  {
   "cell_type": "code",
   "execution_count": 22,
   "metadata": {},
   "outputs": [
    {
     "data": {
      "text/plain": [
       "0.04525"
      ]
     },
     "execution_count": 22,
     "metadata": {},
     "output_type": "execute_result"
    }
   ],
   "source": [
    "# Calculate the ECE value of lregclassifier\n",
    "pycalib.metrics.ECE(y_test, lregpred, normalize=False, bins=15, ece_full=True)"
   ]
  },
  {
   "cell_type": "code",
   "execution_count": 23,
   "metadata": {},
   "outputs": [
    {
     "data": {
      "text/plain": [
       "0.128"
      ]
     },
     "execution_count": 23,
     "metadata": {},
     "output_type": "execute_result"
    }
   ],
   "source": [
    "# brier score\n",
    "pycalib.metrics.brier_score(y_test.values, lregprediction)"
   ]
  },
  {
   "cell_type": "code",
   "execution_count": 24,
   "metadata": {},
   "outputs": [
    {
     "data": {
      "text/plain": [
       "4.421062928428627"
      ]
     },
     "execution_count": 24,
     "metadata": {},
     "output_type": "execute_result"
    }
   ],
   "source": [
    "# cross-entropy (log loss)\n",
    "pycalib.metrics.cross_entropy(y_test.values, lregprediction)"
   ]
  },
  {
   "cell_type": "code",
   "execution_count": 25,
   "metadata": {},
   "outputs": [
    {
     "data": {
      "image/png": "[encoded data removed]",
      "text/plain": [
       "<Figure size 288x288 with 2 Axes>"
      ]
     },
     "metadata": {
      "needs_background": "light"
     },
     "output_type": "display_data"
    }
   ],
   "source": [
    "from pycalib.visualisations import plot_reliability_diagram\n",
    "fig = pycalib.visualisations.plot_reliability_diagram(y_test,\n",
    "                                                [scores_lreg, ],\n",
    "                                                legend=None,\n",
    "                                                show_histogram=True,\n",
    "                                                bins=10,\n",
    "                                                class_names=[\"0\",\"1\"],\n",
    "                                                fig=None,\n",
    "                                                show_counts=False,\n",
    "                                                errorbar_interval=None,\n",
    "                                                interval_method='beta',\n",
    "                                                fmt='s-',\n",
    "                                                show_correction=False,\n",
    "                                                show_gaps=True,\n",
    "                                                sample_proportion=0,\n",
    "                                                hist_per_class=False,\n",
    "                                                color_list=None,\n",
    "                                                show_bars=False,\n",
    "                                                invert_histogram=False,\n",
    "                                                color_gaps='lightcoral',\n",
    "                                                confidence=False)"
   ]
  },
  {
   "cell_type": "markdown",
   "metadata": {},
   "source": [
    "# Model 2: SVM"
   ]
  },
  {
   "cell_type": "code",
   "execution_count": 26,
   "metadata": {
    "execution": {
     "iopub.execute_input": "2022-07-14T12:51:12.861535Z",
     "iopub.status.busy": "2022-07-14T12:51:12.860963Z",
     "iopub.status.idle": "2022-07-14T12:51:14.660470Z",
     "shell.execute_reply": "2022-07-14T12:51:14.659703Z",
     "shell.execute_reply.started": "2022-07-14T12:51:12.861492Z"
    }
   },
   "outputs": [
    {
     "data": {
      "text/html": [
       "<style>#sk-container-id-1 {color: black;background-color: white;}#sk-container-id-1 pre{padding: 0;}#sk-container-id-1 div.sk-toggleable {background-color: white;}#sk-container-id-1 label.sk-toggleable__label {cursor: pointer;display: block;width: 100%;margin-bottom: 0;padding: 0.3em;box-sizing: border-box;text-align: center;}#sk-container-id-1 label.sk-toggleable__label-arrow:before {content: \"▸\";float: left;margin-right: 0.25em;color: #696969;}#sk-container-id-1 label.sk-toggleable__label-arrow:hover:before {color: black;}#sk-container-id-1 div.sk-estimator:hover label.sk-toggleable__label-arrow:before {color: black;}#sk-container-id-1 div.sk-toggleable__content {max-height: 0;max-width: 0;overflow: hidden;text-align: left;background-color: #f0f8ff;}#sk-container-id-1 div.sk-toggleable__content pre {margin: 0.2em;color: black;border-radius: 0.25em;background-color: #f0f8ff;}#sk-container-id-1 input.sk-toggleable__control:checked~div.sk-toggleable__content {max-height: 200px;max-width: 100%;overflow: auto;}#sk-container-id-1 input.sk-toggleable__control:checked~label.sk-toggleable__label-arrow:before {content: \"▾\";}#sk-container-id-1 div.sk-estimator input.sk-toggleable__control:checked~label.sk-toggleable__label {background-color: #d4ebff;}#sk-container-id-1 div.sk-label input.sk-toggleable__control:checked~label.sk-toggleable__label {background-color: #d4ebff;}#sk-container-id-1 input.sk-hidden--visually {border: 0;clip: rect(1px 1px 1px 1px);clip: rect(1px, 1px, 1px, 1px);height: 1px;margin: -1px;overflow: hidden;padding: 0;position: absolute;width: 1px;}#sk-container-id-1 div.sk-estimator {font-family: monospace;background-color: #f0f8ff;border: 1px dotted black;border-radius: 0.25em;box-sizing: border-box;margin-bottom: 0.5em;}#sk-container-id-1 div.sk-estimator:hover {background-color: #d4ebff;}#sk-container-id-1 div.sk-parallel-item::after {content: \"\";width: 100%;border-bottom: 1px solid gray;flex-grow: 1;}#sk-container-id-1 div.sk-label:hover label.sk-toggleable__label {background-color: #d4ebff;}#sk-container-id-1 div.sk-serial::before {content: \"\";position: absolute;border-left: 1px solid gray;box-sizing: border-box;top: 0;bottom: 0;left: 50%;z-index: 0;}#sk-container-id-1 div.sk-serial {display: flex;flex-direction: column;align-items: center;background-color: white;padding-right: 0.2em;padding-left: 0.2em;position: relative;}#sk-container-id-1 div.sk-item {position: relative;z-index: 1;}#sk-container-id-1 div.sk-parallel {display: flex;align-items: stretch;justify-content: center;background-color: white;position: relative;}#sk-container-id-1 div.sk-item::before, #sk-container-id-1 div.sk-parallel-item::before {content: \"\";position: absolute;border-left: 1px solid gray;box-sizing: border-box;top: 0;bottom: 0;left: 50%;z-index: -1;}#sk-container-id-1 div.sk-parallel-item {display: flex;flex-direction: column;z-index: 1;position: relative;background-color: white;}#sk-container-id-1 div.sk-parallel-item:first-child::after {align-self: flex-end;width: 50%;}#sk-container-id-1 div.sk-parallel-item:last-child::after {align-self: flex-start;width: 50%;}#sk-container-id-1 div.sk-parallel-item:only-child::after {width: 0;}#sk-container-id-1 div.sk-dashed-wrapped {border: 1px dashed gray;margin: 0 0.4em 0.5em 0.4em;box-sizing: border-box;padding-bottom: 0.4em;background-color: white;}#sk-container-id-1 div.sk-label label {font-family: monospace;font-weight: bold;display: inline-block;line-height: 1.2em;}#sk-container-id-1 div.sk-label-container {text-align: center;}#sk-container-id-1 div.sk-container {/* jupyter's `normalize.less` sets `[hidden] { display: none; }` but bootstrap.min.css set `[hidden] { display: none !important; }` so we also need the `!important` here to be able to override the default hidden behavior on the sphinx rendered scikit-learn.org. See: https://github.com/scikit-learn/scikit-learn/issues/21755 */display: inline-block !important;position: relative;}#sk-container-id-1 div.sk-text-repr-fallback {display: none;}</style><div id=\"sk-container-id-1\" class=\"sk-top-container\"><div class=\"sk-text-repr-fallback\"><pre>SVC(class_weight={0: 1, 1: 100}, probability=True)</pre><b>In a Jupyter environment, please rerun this cell to show the HTML representation or trust the notebook. <br />On GitHub, the HTML representation is unable to render, please try loading this page with nbviewer.org.</b></div><div class=\"sk-container\" hidden><div class=\"sk-item\"><div class=\"sk-estimator sk-toggleable\"><input class=\"sk-toggleable__control sk-hidden--visually\" id=\"sk-estimator-id-1\" type=\"checkbox\" checked><label for=\"sk-estimator-id-1\" class=\"sk-toggleable__label sk-toggleable__label-arrow\">SVC</label><div class=\"sk-toggleable__content\"><pre>SVC(class_weight={0: 1, 1: 100}, probability=True)</pre></div></div></div></div></div>"
      ],
      "text/plain": [
       "SVC(class_weight={0: 1, 1: 100}, probability=True)"
      ]
     },
     "execution_count": 26,
     "metadata": {},
     "output_type": "execute_result"
    }
   ],
   "source": [
    "model2 = SVC(class_weight={0: 1, 1: 100}, probability=True)\n",
    "model2.fit(X_train, y_train)"
   ]
  },
  {
   "cell_type": "code",
   "execution_count": 27,
   "metadata": {},
   "outputs": [
    {
     "name": "stdout",
     "output_type": "stream",
     "text": [
      "Score:  0.712\n"
     ]
    }
   ],
   "source": [
    "svmprediction = model2.predict(X_test)\n",
    "print(\"Score: \",model2.score(X_test, y_test))"
   ]
  },
  {
   "cell_type": "code",
   "execution_count": 28,
   "metadata": {
    "execution": {
     "iopub.execute_input": "2022-07-14T12:51:14.662394Z",
     "iopub.status.busy": "2022-07-14T12:51:14.661782Z",
     "iopub.status.idle": "2022-07-14T12:51:16.802788Z",
     "shell.execute_reply": "2022-07-14T12:51:16.801807Z",
     "shell.execute_reply.started": "2022-07-14T12:51:14.662351Z"
    }
   },
   "outputs": [
    {
     "name": "stdout",
     "output_type": "stream",
     "text": [
      "Train metrics...\n",
      "[[5378 2356]\n",
      " [   6  260]]\n",
      "              precision    recall  f1-score   support\n",
      "\n",
      "           0       1.00      0.70      0.82      7734\n",
      "           1       0.10      0.98      0.18       266\n",
      "\n",
      "    accuracy                           0.70      8000\n",
      "   macro avg       0.55      0.84      0.50      8000\n",
      "weighted avg       0.97      0.70      0.80      8000\n",
      "\n",
      "Test metrics...\n",
      "[[1684  249]\n",
      " [   7   60]]\n",
      "              precision    recall  f1-score   support\n",
      "\n",
      "           0       1.00      0.87      0.93      1933\n",
      "           1       0.19      0.90      0.32        67\n",
      "\n",
      "    accuracy                           0.87      2000\n",
      "   macro avg       0.60      0.88      0.62      2000\n",
      "weighted avg       0.97      0.87      0.91      2000\n",
      "\n"
     ]
    }
   ],
   "source": [
    "y_pred2 = model2.predict(X_train)\n",
    "\n",
    "print('Train metrics...')\n",
    "print(confusion_matrix(y_train, y_pred2))\n",
    "print(classification_report(y_train, y_pred2))\n",
    "\n",
    "y_pred2 = model.predict(X_test)\n",
    "\n",
    "print('Test metrics...')\n",
    "print(confusion_matrix(y_test, y_pred2))\n",
    "print(classification_report(y_test, y_pred2))"
   ]
  },
  {
   "cell_type": "code",
   "execution_count": 29,
   "metadata": {
    "execution": {
     "iopub.execute_input": "2022-07-14T12:51:16.804679Z",
     "iopub.status.busy": "2022-07-14T12:51:16.804267Z",
     "iopub.status.idle": "2022-07-14T12:51:18.951348Z",
     "shell.execute_reply": "2022-07-14T12:51:18.950172Z",
     "shell.execute_reply.started": "2022-07-14T12:51:16.804635Z"
    }
   },
   "outputs": [
    {
     "data": {
      "text/html": [
       "<div>\n",
       "<style scoped>\n",
       "    .dataframe tbody tr th:only-of-type {\n",
       "        vertical-align: middle;\n",
       "    }\n",
       "\n",
       "    .dataframe tbody tr th {\n",
       "        vertical-align: top;\n",
       "    }\n",
       "\n",
       "    .dataframe thead tr th {\n",
       "        text-align: left;\n",
       "    }\n",
       "</style>\n",
       "<table border=\"1\" class=\"dataframe\">\n",
       "  <thead>\n",
       "    <tr>\n",
       "      <th></th>\n",
       "      <th></th>\n",
       "      <th colspan=\"2\" halign=\"left\">prediction defaulted ?</th>\n",
       "    </tr>\n",
       "    <tr>\n",
       "      <th></th>\n",
       "      <th></th>\n",
       "      <th>No</th>\n",
       "      <th>Yes</th>\n",
       "    </tr>\n",
       "  </thead>\n",
       "  <tbody>\n",
       "    <tr>\n",
       "      <th rowspan=\"2\" valign=\"top\">actual defaulted?</th>\n",
       "      <th>No</th>\n",
       "      <td>6736</td>\n",
       "      <td>2931</td>\n",
       "    </tr>\n",
       "    <tr>\n",
       "      <th>Yes</th>\n",
       "      <td>7</td>\n",
       "      <td>326</td>\n",
       "    </tr>\n",
       "  </tbody>\n",
       "</table>\n",
       "</div>"
      ],
      "text/plain": [
       "                      prediction defaulted ?      \n",
       "                                          No   Yes\n",
       "actual defaulted? No                    6736  2931\n",
       "                  Yes                      7   326"
      ]
     },
     "metadata": {},
     "output_type": "display_data"
    },
    {
     "name": "stdout",
     "output_type": "stream",
     "text": [
      "              precision    recall  f1-score   support\n",
      "\n",
      "           0       1.00      0.70      0.82      9667\n",
      "           1       0.10      0.98      0.18       333\n",
      "\n",
      "    accuracy                           0.71     10000\n",
      "   macro avg       0.55      0.84      0.50     10000\n",
      "weighted avg       0.97      0.71      0.80     10000\n",
      "\n"
     ]
    }
   ],
   "source": [
    "''' metrics on original data '''\n",
    "y_pred2 = model2.predict(data[feature_cols])\n",
    "\n",
    "df_matrix2=make_cm(\n",
    "    confusion_matrix(data['Defaulted?'], y_pred2),['No','Yes'])\n",
    "\n",
    "display(df_matrix2)\n",
    "print(classification_report(data['Defaulted?'], y_pred2))"
   ]
  },
  {
   "cell_type": "code",
   "execution_count": 30,
   "metadata": {},
   "outputs": [
    {
     "data": {
      "text/plain": [
       "array([[9.99757506e-01, 2.42494409e-04],\n",
       "       [9.99766353e-01, 2.33647248e-04],\n",
       "       [9.99991481e-01, 8.51873999e-06],\n",
       "       ...,\n",
       "       [9.99957143e-01, 4.28572802e-05],\n",
       "       [9.99999614e-01, 3.86459676e-07],\n",
       "       [9.86682857e-01, 1.33171433e-02]])"
      ]
     },
     "execution_count": 30,
     "metadata": {},
     "output_type": "execute_result"
    }
   ],
   "source": [
    "scores_svm = model2.predict_proba(X_test)\n",
    "scores_svm"
   ]
  },
  {
   "cell_type": "code",
   "execution_count": 31,
   "metadata": {},
   "outputs": [],
   "source": [
    "svmpred = [[] for i in range(len(indexes))]\n",
    "for i in range(len(indexes)):\n",
    "    svmpred[i] = (indexes[i], svmprediction[i])\n",
    "# svmpred"
   ]
  },
  {
   "cell_type": "code",
   "execution_count": 32,
   "metadata": {},
   "outputs": [
    {
     "data": {
      "text/plain": [
       "0.084"
      ]
     },
     "execution_count": 32,
     "metadata": {},
     "output_type": "execute_result"
    }
   ],
   "source": [
    "pycalib.metrics.ECE(y_test, svmpred, normalize=False, bins=15, ece_full=True)"
   ]
  },
  {
   "cell_type": "code",
   "execution_count": 33,
   "metadata": {},
   "outputs": [
    {
     "data": {
      "text/plain": [
       "array([0, 0, 0, ..., 0, 0, 1])"
      ]
     },
     "execution_count": 33,
     "metadata": {},
     "output_type": "execute_result"
    }
   ],
   "source": [
    "svmprediction"
   ]
  },
  {
   "cell_type": "code",
   "execution_count": 34,
   "metadata": {},
   "outputs": [
    {
     "data": {
      "text/plain": [
       "0.288"
      ]
     },
     "execution_count": 34,
     "metadata": {},
     "output_type": "execute_result"
    }
   ],
   "source": [
    "pycalib.metrics.brier_score(y_test.values, svmprediction)"
   ]
  },
  {
   "cell_type": "code",
   "execution_count": 35,
   "metadata": {},
   "outputs": [
    {
     "data": {
      "text/plain": [
       "9.947397485995458"
      ]
     },
     "execution_count": 35,
     "metadata": {},
     "output_type": "execute_result"
    }
   ],
   "source": [
    "pycalib.metrics.cross_entropy(y_test.values, svmprediction)"
   ]
  },
  {
   "cell_type": "code",
   "execution_count": 36,
   "metadata": {},
   "outputs": [
    {
     "data": {
      "image/png": "[encoded data removed]",
      "text/plain": [
       "<Figure size 288x288 with 2 Axes>"
      ]
     },
     "metadata": {
      "needs_background": "light"
     },
     "output_type": "display_data"
    }
   ],
   "source": [
    "fig = pycalib.visualisations.plot_reliability_diagram(y_test,\n",
    "                                                [scores_svm, ],\n",
    "                                                legend=None,\n",
    "                                                show_histogram=True,\n",
    "                                                bins=10,\n",
    "                                                class_names=[\"0\",\"1\"],\n",
    "                                                fig=None,\n",
    "                                                show_counts=False,\n",
    "                                                errorbar_interval=None,\n",
    "                                                interval_method='beta',\n",
    "                                                fmt='s-',\n",
    "                                                show_correction=False,\n",
    "                                                show_gaps=True,\n",
    "                                                sample_proportion=0,\n",
    "                                                hist_per_class=False,\n",
    "                                                color_list=None,\n",
    "                                                show_bars=False,\n",
    "                                                invert_histogram=False,\n",
    "                                                color_gaps='lightcoral',\n",
    "                                                confidence=False)"
   ]
  },
  {
   "cell_type": "markdown",
   "metadata": {},
   "source": [
    "# Reliability Diagram"
   ]
  },
  {
   "cell_type": "code",
   "execution_count": 37,
   "metadata": {},
   "outputs": [],
   "source": [
    "classifiers = {\"Logistic regression\": model,\n",
    "               \"SVM\": model2}"
   ]
  },
  {
   "cell_type": "code",
   "execution_count": 38,
   "metadata": {},
   "outputs": [
    {
     "data": {
      "image/png": "[encoded data removed]",
      "text/plain": [
       "<Figure size 576x432 with 1 Axes>"
      ]
     },
     "metadata": {
      "needs_background": "light"
     },
     "output_type": "display_data"
    }
   ],
   "source": [
    "from sklearn.datasets import make_classification as mc\n",
    "from sklearn.metrics import brier_score_loss # 导入布里尔分数\n",
    "from sklearn.calibration import calibration_curve # 对概率类模型进行校准，方法是分箱\n",
    "\n",
    "models = [\"LR\", \"SVM\"]\n",
    "#开始画图\n",
    "fig,ax1 = plt.subplots(figsize = (8,6))\n",
    "ax1.plot([0,1],[0,1],label = \"Perfectly calibrated\") # 绘制对角线，把（0，0），（1，1）连起来\n",
    "for clf,name_ in zip([model, model2],models):\n",
    "    clf.fit(X_train,y_train)\n",
    "    y_pred = clf.predict(X_test)\n",
    "    if hasattr(clf,\"predict_proba\"): #对象里如果有这个接口\n",
    "        prob_pos = clf.predict_proba(X_test)[:,1]\n",
    "    else: #就是针对SVM\n",
    "        prob_pos = clf.decision_function(X_test)\n",
    "        prob_pos = (prob_pos-prob_pos.min())/(prob_pos.max()-prob_pos.min())  #手动归一化\n",
    "    clf_score = brier_score_loss(y_test,prob_pos,pos_label=y.max())\n",
    "    #对只有0，1的标签值进行分箱后才能画图\n",
    "    trueproba, predproba = calibration_curve(y_test, prob_pos, n_bins=10)\n",
    "    ax1.plot(predproba,trueproba,\"s-\",label = \"%s(%1.3f)\"%(name_,clf_score))\n",
    "    ax1.set_ylabel(\"True probability for class 1\")\n",
    "    ax1.set_xlabel(\"Mean Predcited probability\")\n",
    "    ax1.set_ylim([-0.05,1.05])\n",
    "    ax1.legend()\n",
    "plt.title('Synthetic dataset')\n",
    "plt.savefig('rd2.png')\n",
    "plt.show()"
   ]
  },
  {
   "cell_type": "markdown",
   "metadata": {},
   "source": [
    "# Hypothesis Testing"
   ]
  },
  {
   "cell_type": "code",
   "execution_count": 39,
   "metadata": {},
   "outputs": [],
   "source": [
    "from scipy.stats import percentileofscore\n",
    "from sklearn.preprocessing import label_binarize\n",
    "import numpy as np\n",
    "\n",
    "def label_resampling(probs):\n",
    "    return np.random.binomial(1, probs)\n",
    "\n",
    "def score_sampling(probs, samples = 10000, ece_function = None):\n",
    "    probs = np.array(probs)\n",
    "    return np.array(\n",
    "        [\n",
    "            ece_function(label_resampling(probs), probs) for sample in range(samples)\n",
    "        ]\n",
    "    )\n",
    "\n",
    "def pECE(y_true, probs, samples = 10000, ece_function = pycalib.metrics.binary_ECE):\n",
    "    probs = np.array(probs)\n",
    "    return 1 - (\n",
    "        percentileofscore(\n",
    "            score_sampling(\n",
    "                probs,\n",
    "                samples=samples,\n",
    "                ece_function=ece_function\n",
    "            ),\n",
    "            ece_function(y_true, probs)\n",
    "        ) / 100\n",
    "    )"
   ]
  },
  {
   "cell_type": "code",
   "execution_count": 40,
   "metadata": {},
   "outputs": [
    {
     "data": {
      "text/plain": [
       "0.0"
      ]
     },
     "execution_count": 40,
     "metadata": {},
     "output_type": "execute_result"
    }
   ],
   "source": [
    "pECE(y_test, scores_lreg[:,1])"
   ]
  },
  {
   "cell_type": "code",
   "execution_count": 41,
   "metadata": {},
   "outputs": [
    {
     "data": {
      "text/plain": [
       "0.08450000000000002"
      ]
     },
     "execution_count": 41,
     "metadata": {},
     "output_type": "execute_result"
    }
   ],
   "source": [
    "pECE(y_test, scores_svm[:,1])"
   ]
  },
  {
   "cell_type": "markdown",
   "metadata": {},
   "source": [
    "# Calibration"
   ]
  },
  {
   "cell_type": "code",
   "execution_count": 42,
   "metadata": {},
   "outputs": [],
   "source": [
    "from __future__ import division\n",
    "import numpy as np\n",
    "\n",
    "from scipy.special import expit\n",
    "\n",
    "from sklearn.base import clone\n",
    "from sklearn.utils import check_X_y, indexable\n",
    "from sklearn.linear_model import LogisticRegression\n",
    "from sklearn.calibration import _SigmoidCalibration\n",
    "from sklearn.metrics import log_loss\n",
    "\n",
    "import warnings\n",
    "\n",
    "from sklearn.base import BaseEstimator, ClassifierMixin, RegressorMixin\n",
    "from sklearn.preprocessing import LabelBinarizer\n",
    "from sklearn.utils import check_array\n",
    "from sklearn.utils.validation import check_is_fitted\n",
    "from inspect import signature\n",
    "from sklearn.isotonic import IsotonicRegression\n",
    "from sklearn.svm import LinearSVC\n",
    "from sklearn.model_selection import check_cv\n",
    "\n",
    "\n",
    "from betacal import BetaCalibration\n",
    "\n",
    "\n",
    "class _DummyCalibration(BaseEstimator, RegressorMixin):\n",
    "    \"\"\"Dummy Calibration model. The purpose of this class is to give\n",
    "    the CalibratedClassifierCV class the option to just return the\n",
    "    probabilities of the base classifier.\n",
    "    \"\"\"\n",
    "    def fit(self, *args, **kwargs):\n",
    "        \"\"\"Does nothing\"\"\"\n",
    "        return self\n",
    "\n",
    "    def predict_proba(self, T):\n",
    "        \"\"\"Return the probabilities of the base classifier\"\"\"\n",
    "        return T\n",
    "\n",
    "    def predict(self, scores, *args, **kwargs):\n",
    "        proba = self.predict_proba(scores, *args, **kwargs)\n",
    "        return proba.argmax(axis=1)\n",
    "\n",
    "\n",
    "class IsotonicCalibration(IsotonicRegression):\n",
    "    def __init__(self):\n",
    "        super(IsotonicCalibration, self).__init__(y_min=0.0, y_max=1.0,\n",
    "                                                  increasing=True,\n",
    "                                                  out_of_bounds='clip')\n",
    "\n",
    "    def fit(self, scores, y, *args, **kwargs):\n",
    "        '''\n",
    "        Score=0 corresponds to y=0, and score=1 to y=1\n",
    "        Parameters\n",
    "        ----------\n",
    "        scores : array-like, shape = [n_samples,]\n",
    "            Data.\n",
    "        y : array-like, shape = [n_samples, ]\n",
    "            Labels.\n",
    "        Returns\n",
    "        -------\n",
    "        self\n",
    "        '''\n",
    "        if len(scores.shape) > 1:\n",
    "            scores = scores[:, 1]\n",
    "        return super(IsotonicCalibration, self).fit(scores, y, *args, **kwargs)\n",
    "\n",
    "    def predict_proba(self, scores, *args, **kwargs):\n",
    "        if len(scores.shape) > 1:\n",
    "            scores = scores[:, 1]\n",
    "        transformed = self.transform(scores, *args, **kwargs)\n",
    "        if len(transformed.shape) == 1:\n",
    "            transformed = np.vstack((1 - transformed, transformed)).T\n",
    "        return transformed\n",
    "\n",
    "    def predict(self, scores, *args, **kwargs):\n",
    "        proba = self.predict_proba(scores, *args, **kwargs)\n",
    "        return proba.argmax(axis=1)\n",
    "\n",
    "\n",
    "def logit(x):\n",
    "    eps = np.finfo(x.dtype).eps\n",
    "    x = np.clip(x, eps, 1-eps)\n",
    "    return np.log(x/(1 - x))\n",
    "\n",
    "\n",
    "def log_encode(x):\n",
    "    eps = np.finfo(x.dtype).eps\n",
    "    x = np.clip(x, eps, 1)\n",
    "    return np.log(x)\n",
    "\n",
    "\n",
    "class LogisticCalibration(LogisticRegression):\n",
    "    def __init__(self, C=1.0, solver='lbfgs', multi_class='multinomial',\n",
    "                 log_transform=True):\n",
    "        self.C_grid = C\n",
    "        self.C = C if isinstance(C, float) else C[0]\n",
    "        self.solver = solver\n",
    "        self.log_transform = log_transform\n",
    "        self.encode = log_encode if log_transform else logit\n",
    "        self.multiclass = multi_class\n",
    "        super(LogisticCalibration, self).__init__(C=C, solver=solver,\n",
    "                                                  multi_class=multi_class)\n",
    "\n",
    "    def fit(self, scores, y, X_val=None, y_val=None, *args, **kwargs):\n",
    "        if isinstance(self.C_grid, list):\n",
    "            calibrators = []\n",
    "            losses = np.zeros(len(self.C_grid))\n",
    "            for i, C in enumerate(self.C_grid):\n",
    "                cal = LogisticCalibration(C=C, solver=self.solver,\n",
    "                                          multi_class=self.multi_class,\n",
    "                                          log_transform=self.log_transform)\n",
    "                cal.fit(scores, y)\n",
    "                losses[i] = log_loss(y_val, cal.predict_proba(X_val))\n",
    "                calibrators.append(cal)\n",
    "            best_idx = losses.argmin()\n",
    "            self.C = calibrators[best_idx].C\n",
    "        return super(LogisticCalibration, self).fit(self.encode(scores), y,\n",
    "                                                    *args, **kwargs)\n",
    "\n",
    "    def predict_proba(self, scores, *args, **kwargs):\n",
    "        return super(LogisticCalibration,\n",
    "                     self).predict_proba(self.encode(scores), *args, **kwargs)\n",
    "\n",
    "    def predict(self, scores, *args, **kwargs):\n",
    "        return super(LogisticCalibration, self).predict(self.encode(scores),\n",
    "                                                        *args, **kwargs)\n",
    "\n",
    "\n",
    "class SigmoidCalibration(_SigmoidCalibration):\n",
    "    def fit(self, scores, y, *args, **kwargs):\n",
    "        if len(scores.shape) > 1:\n",
    "            scores = scores[:, 1]\n",
    "        return super(SigmoidCalibration, self).fit(scores, y, *args, **kwargs)\n",
    "\n",
    "    def predict_proba(self, scores, *args, **kwargs):\n",
    "        if len(scores.shape) > 1:\n",
    "            scores = scores[:, 1]\n",
    "        transformed = super(SigmoidCalibration, self).predict(scores, *args, **kwargs)\n",
    "        return np.vstack((1 - transformed, transformed)).T\n",
    "\n",
    "    def predict(self, *args, **kwargs):\n",
    "        proba = self.predict_proba(*args, **kwargs)\n",
    "        return proba.argmax(axis=1)\n",
    "\n",
    "\n",
    "class BinningCalibration(BaseEstimator, RegressorMixin):\n",
    "    def __init__(self, n_bins=10, strategy='uniform', alpha=1.0):\n",
    "        '''\n",
    "        alpha : Laplace smoothing (x + a)/(N + 2a)\n",
    "        n_bins: Number of bins\n",
    "        stragegy:\n",
    "                - uniform: for equal width bins\n",
    "                - quantile: for equal frequency bins\n",
    "                - kmeans: for each bin with same nearest center to a 1D k-means\n",
    "        '''\n",
    "        self.strategy = strategy\n",
    "        self.n_bins = n_bins\n",
    "        self.n_bins_grid = n_bins\n",
    "        self.alpha = alpha\n",
    "\n",
    "    def fit(self, scores, y, X_val=None, y_val=None, *args, **kwargs):\n",
    "        '''\n",
    "        Score=0 corresponds to y=0, and score=1 to y=1\n",
    "        Parameters\n",
    "        ----------\n",
    "        scores : array-like, shape = [n_samples,]\n",
    "            Data.\n",
    "        y : array-like, shape = [n_samples, ]\n",
    "            Labels.\n",
    "        Returns\n",
    "        -------\n",
    "        self\n",
    "        '''\n",
    "        if isinstance(self.n_bins, list):\n",
    "            if X_val is None or y_val is None:\n",
    "                raise ValueError(('If n_bins is a list, scores_val and y_val'\n",
    "                                  'are required during fit'))\n",
    "            calibrators = []\n",
    "            losses = []\n",
    "            for n_bins in self.n_bins:\n",
    "                cal = BinningCalibration(n_bins=n_bins, strategy=self.strategy,\n",
    "                                         alpha=self.alpha)\n",
    "                cal.fit(scores, y)\n",
    "                predict = cal.predict_proba(X_val)\n",
    "                losses.append(log_loss(y_val, predict))\n",
    "                calibrators.append(cal)\n",
    "            best_idx = np.argmin(losses)\n",
    "            self.n_bins = calibrators[best_idx].n_bins\n",
    "            self.bins = calibrators[best_idx].bins\n",
    "            self.predictions = calibrators[best_idx].predictions\n",
    "            return self\n",
    "\n",
    "        if len(np.shape(scores)) > 1:\n",
    "            scores = scores[:, 1]\n",
    "        # TODO check that this code is correct:\n",
    "        if self.strategy == 'quantile':\n",
    "            self.bins = np.sort(scores)[::int(np.ceil(len(scores)\n",
    "                                                      / self.n_bins))]\n",
    "            self.bins = np.hstack([self.bins, scores[-1]])\n",
    "        elif self.strategy == 'uniform':\n",
    "            self.bins = np.linspace(scores.min(), scores.max(), self.n_bins+1)\n",
    "        else:\n",
    "            raise ValueError('Strategy {} not implemented'.format(\n",
    "                                 self.strategy))\n",
    "        self.bins[0] = - np.inf\n",
    "        self.bins[-1] = np.inf\n",
    "        s_binned = np.digitize(scores, self.bins) - 1\n",
    "        self.predictions = np.zeros(self.n_bins)\n",
    "        for i in range(self.n_bins):\n",
    "            self.predictions[i] = ((np.sum(y[s_binned == i]) + self.alpha)\n",
    "                                   / (np.sum(s_binned == i) + self.alpha*2))\n",
    "\n",
    "        return self\n",
    "\n",
    "    def predict_proba(self, scores, *args, **kwargs):\n",
    "        if len(np.shape(scores)) > 1:\n",
    "            scores = scores[:, 1]\n",
    "        s_binned = np.digitize(scores, self.bins) - 1\n",
    "        transformed = self.predictions[s_binned]\n",
    "        return np.vstack((1 - transformed, transformed)).T\n",
    "\n",
    "    def predict(self, scores, *args, **kwargs):\n",
    "        proba = self.predict_proba(scores, *args, **kwargs)\n",
    "        return proba.argmax(axis=1)\n",
    "\n",
    "\n",
    "class CalibratedModel(BaseEstimator, ClassifierMixin):\n",
    "    def __init__(self, base_estimator=None, calibrator=None,\n",
    "                 fit_estimator=True):\n",
    "        ''' Initialize a Calibrated model (classifier + calibrator)\n",
    "        Parameters\n",
    "        ----------\n",
    "        base_estimator : estimator\n",
    "            Classifier instance\n",
    "        calibrator : estimator\n",
    "            Calibrator instance\n",
    "        '''\n",
    "        self.calibrator = clone(calibrator)\n",
    "        self.base_estimator = clone(base_estimator)\n",
    "        self.fit_estimator = fit_estimator\n",
    "        self.binary = False\n",
    "\n",
    "    def fit(self, X, y, X_val=None, y_val=None, *args, **kwargs):\n",
    "        \"\"\"Fit the calibrated model\n",
    "        Parameters\n",
    "        ----------\n",
    "        X : array-like, shape (n_samples, n_features)\n",
    "            Training data.\n",
    "        y : array-like, shape (n_samples, n_classes)\n",
    "            Target values.\n",
    "        Returns\n",
    "        -------\n",
    "        self : object\n",
    "            Returns an instance of self.\n",
    "        \"\"\"\n",
    "\n",
    "        X, y = check_X_y(X, y, accept_sparse=['csc', 'csr', 'coo'],\n",
    "                         multi_output=True)\n",
    "        X, y = indexable(X, y)\n",
    "\n",
    "        if self.fit_estimator:\n",
    "            self.base_estimator.fit(X, y)\n",
    "\n",
    "        scores = self.base_estimator.predict_proba(X)\n",
    "\n",
    "        if scores.shape[1] == 2:\n",
    "            self.binary = True\n",
    "\n",
    "        if self.binary:\n",
    "            try:\n",
    "                self.calibrator.fit(scores, y, *args, **kwargs)\n",
    "            except ValueError:\n",
    "                self.calibrator.fit(scores[:, 1], y, *args, **kwargs)\n",
    "        else:\n",
    "            self.calibrator.fit(scores, y, *args, **kwargs)\n",
    "\n",
    "        return self\n",
    "\n",
    "    def predict_proba(self, X):\n",
    "        \"\"\"Posterior probabilities of classification\n",
    "        This function returns posterior probabilities of classification\n",
    "        according to each class on an array of test vectors X.\n",
    "        Parameters\n",
    "        ----------\n",
    "        X : array-like, shape (n_samples, n_features)\n",
    "            The samples.\n",
    "        Returns\n",
    "        -------\n",
    "        C : array, shape (n_samples, n_classes)\n",
    "            The predicted probas. Can be exact zeros.\n",
    "        \"\"\"\n",
    "\n",
    "        scores = self.base_estimator.predict_proba(X)\n",
    "\n",
    "        if self.binary:\n",
    "            try:\n",
    "                predictions = self.calibrator.predict_proba(scores)\n",
    "            except ValueError:\n",
    "                predictions = self.calibrator.predict_proba(scores[:, 1])\n",
    "\n",
    "            if (len(predictions.shape) == 1) or (predictions.shape[1] == 1):\n",
    "                predictions = np.vstack((1 - predictions, predictions)).T\n",
    "        else:\n",
    "            predictions = self.calibrator.predict_proba(scores)\n",
    "\n",
    "        return predictions\n",
    "\n",
    "    def predict(self, X):\n",
    "        \"\"\"Predict the target of new samples. Can be different from the\n",
    "        prediction of the uncalibrated classifier.\n",
    "        Parameters\n",
    "        ----------\n",
    "        X : array-like, shape (n_samples, n_features)\n",
    "            The samples.\n",
    "        Returns\n",
    "        -------\n",
    "        C : array, shape (n_samples,)\n",
    "            The predicted class.\n",
    "        \"\"\"\n",
    "        check_is_fitted(self, [\"calibrator\"])\n",
    "\n",
    "        return np.argmax(self.predict_proba(X), axis=1)\n",
    "\n",
    "\n",
    "class CalibratedClassifierCV(BaseEstimator, ClassifierMixin):\n",
    "    \"\"\"Probability calibration with isotonic regression, sigmoid or beta.\n",
    "    With this class, the base_estimator is fit on the train set of the\n",
    "    cross-validation generator and the test set is used for calibration.\n",
    "    The probabilities for each of the folds are then averaged\n",
    "    for prediction. In case cv=\"prefit\" is passed to __init__,\n",
    "    it is assumed that base_estimator has been\n",
    "    fitted already and all data is used for calibration. Note that\n",
    "    data for fitting the classifier and for calibrating it must be disjoint.\n",
    "    Read more in the :ref:`User Guide <calibration>`.\n",
    "    Parameters\n",
    "    ----------\n",
    "    base_estimator : instance BaseEstimator\n",
    "        The classifier whose output decision function needs to be calibrated\n",
    "        to offer more accurate predict_proba outputs. If cv=prefit, the\n",
    "        classifier must have been fit already on data.\n",
    "    method : None, 'sigmoid', 'isotonic', 'beta', 'beta_am' or 'beta_ab'\n",
    "        The method to use for calibration. Can be 'sigmoid' which\n",
    "        corresponds to Platt's method, 'isotonic' which is a\n",
    "        non-parameteric approach or 'beta', 'beta_am' or 'beta_ab' which\n",
    "        correspond to three different beta calibration methods. It is\n",
    "        not advised to use  isotonic  calibration with too few calibration\n",
    "        samples ``(<<1000)`` since it tends to overfit.\n",
    "        Use beta models in this case.\n",
    "    cv : integer, cross-validation generator, iterable or \"prefit\", optional\n",
    "        Determines the cross-validation splitting strategy.\n",
    "        Possible inputs for cv are:\n",
    "        - None, to use the default 3-fold cross-validation,\n",
    "        - integer, to specify the number of folds.\n",
    "        - An object to be used as a cross-validation generator.\n",
    "        - An iterable yielding train/test splits.\n",
    "        For integer/None inputs, if ``y`` is binary or multiclass,\n",
    "        :class:`StratifiedKFold` used. If ``y`` is neither binary nor\n",
    "        multiclass, :class:`KFold` is used.\n",
    "        Refer :ref:`User Guide <cross_validation>` for the various\n",
    "        cross-validation strategies that can be used here.\n",
    "        If \"prefit\" is passed, it is assumed that base_estimator has been\n",
    "        fitted already and all data is used for calibration.\n",
    "    Attributes\n",
    "    ----------\n",
    "    classes_ : array, shape (n_classes)\n",
    "        The class labels.\n",
    "    calibrated_classifiers_: list (len() equal to cv or 1 if cv == \"prefit\")\n",
    "        The list of calibrated classifiers, one for each cross-validation fold,\n",
    "        which has been fitted on all but the validation fold and calibrated\n",
    "        on the validation fold.\n",
    "    References\n",
    "    ----------\n",
    "    .. [1] Obtaining calibrated probability estimates from decision trees\n",
    "           and naive Bayesian classifiers, B. Zadrozny & C. Elkan, ICML 2001\n",
    "    .. [2] Transforming Classifier Scores into Accurate Multiclass\n",
    "           Probability Estimates, B. Zadrozny & C. Elkan, (KDD 2002)\n",
    "    .. [3] Probabilistic Outputs for Support Vector Machines and Comparisons to\n",
    "           Regularized Likelihood Methods, J. Platt, (1999)\n",
    "    .. [4] Predicting Good Probabilities with Supervised Learning,\n",
    "           A. Niculescu-Mizil & R. Caruana, ICML 2005\n",
    "    \"\"\"\n",
    "    def __init__(self, base_estimator=None, method=None, cv=3,\n",
    "                 score_type=None):\n",
    "        self.base_estimator = base_estimator\n",
    "        self.method = method\n",
    "        self.cv = cv\n",
    "        self.score_type = score_type\n",
    "\n",
    "    def fit(self, X, y, sample_weight=None):\n",
    "        \"\"\"Fit the calibrated model\n",
    "        Parameters\n",
    "        ----------\n",
    "        X : array-like, shape (n_samples, n_features)\n",
    "            Training data.\n",
    "        y : array-like, shape (n_samples,)\n",
    "            Target values.\n",
    "        sample_weight : array-like, shape = [n_samples] or None\n",
    "            Sample weights. If None, then samples are equally weighted.\n",
    "        Returns\n",
    "        -------\n",
    "        self : object\n",
    "            Returns an instance of self.\n",
    "        \"\"\"\n",
    "        X, y = check_X_y(X, y, accept_sparse=['csc', 'csr', 'coo'],\n",
    "                         force_all_finite=False)\n",
    "        X, y = indexable(X, y)\n",
    "        lb = LabelBinarizer().fit(y)\n",
    "        self.classes_ = lb.classes_\n",
    "\n",
    "        # Check that each cross-validation fold can have at least one\n",
    "        # example per class\n",
    "        n_folds = self.cv if isinstance(self.cv, int) \\\n",
    "            else self.cv.n_folds if hasattr(self.cv, \"n_folds\") else None\n",
    "        if n_folds and \\\n",
    "           np.any([np.sum(y == class_) < n_folds for class_ in self.classes_]):\n",
    "            raise ValueError(\"Requesting %d-fold cross-validation but provided\"\n",
    "                             \" less than %d examples for at least one class.\"\n",
    "                             % (n_folds, n_folds))\n",
    "\n",
    "        self.calibrated_classifiers_ = []\n",
    "        if self.base_estimator is None:\n",
    "            # we want all classifiers that don't expose a random_state\n",
    "            # to be deterministic (and we don't want to expose this one).\n",
    "            base_estimator = LinearSVC(random_state=0)\n",
    "        else:\n",
    "            base_estimator = self.base_estimator\n",
    "\n",
    "        if self.cv == \"prefit\":\n",
    "            calibrated_classifier = _CalibratedClassifier(\n",
    "                base_estimator, method=self.method, score_type=self.score_type)\n",
    "            if sample_weight is not None:\n",
    "                calibrated_classifier.fit(X, y, sample_weight)\n",
    "            else:\n",
    "                calibrated_classifier.fit(X, y)\n",
    "            self.calibrated_classifiers_.append(calibrated_classifier)\n",
    "        else:\n",
    "            cv = check_cv(self.cv, y, classifier=True)\n",
    "            fit_parameters = signature(base_estimator.fit).parameters\n",
    "            estimator_name = type(base_estimator).__name__\n",
    "            if (sample_weight is not None\n",
    "                    and \"sample_weight\" not in fit_parameters):\n",
    "                warnings.warn(\"%s does not support sample_weight. Samples\"\n",
    "                              \" weights are only used for the calibration\"\n",
    "                              \" itself.\" % estimator_name)\n",
    "                base_estimator_sample_weight = None\n",
    "            else:\n",
    "                base_estimator_sample_weight = sample_weight\n",
    "            for train, test in cv.split(X, y):\n",
    "                this_estimator = clone(base_estimator)\n",
    "                if base_estimator_sample_weight is not None:\n",
    "                    this_estimator.fit(\n",
    "                        X[train], y[train],\n",
    "                        sample_weight=base_estimator_sample_weight[train])\n",
    "                else:\n",
    "                    this_estimator.fit(X[train], y[train])\n",
    "\n",
    "                calibrated_classifier = _CalibratedClassifier(\n",
    "                    this_estimator, method=self.method,\n",
    "                    score_type=self.score_type)\n",
    "                if sample_weight is not None:\n",
    "                    calibrated_classifier.fit(X[test], y[test],\n",
    "                                              sample_weight[test])\n",
    "                else:\n",
    "                    calibrated_classifier.fit(X[test], y[test])\n",
    "                self.calibrated_classifiers_.append(calibrated_classifier)\n",
    "\n",
    "        return self\n",
    "\n",
    "    def predict_proba(self, X):\n",
    "        \"\"\"Posterior probabilities of classification\n",
    "        This function returns posterior probabilities of classification\n",
    "        according to each class on an array of test vectors X.\n",
    "        Parameters\n",
    "        ----------\n",
    "        X : array-like, shape (n_samples, n_features)\n",
    "            The samples.\n",
    "        Returns\n",
    "        -------\n",
    "        C : array, shape (n_samples, n_classes)\n",
    "            The predicted probas.\n",
    "        \"\"\"\n",
    "        check_is_fitted(self, [\"classes_\", \"calibrated_classifiers_\"])\n",
    "        X = check_array(X, accept_sparse=['csc', 'csr', 'coo'],\n",
    "                        force_all_finite=False)\n",
    "        # Compute the arithmetic mean of the predictions of the calibrated\n",
    "        # classfiers\n",
    "        mean_proba = np.zeros((X.shape[0], len(self.classes_)))\n",
    "        for calibrated_classifier in self.calibrated_classifiers_:\n",
    "            proba = calibrated_classifier.predict_proba(X)\n",
    "            mean_proba += proba\n",
    "\n",
    "        mean_proba /= len(self.calibrated_classifiers_)\n",
    "\n",
    "        return mean_proba\n",
    "\n",
    "    def calibrate_scores(self, df):\n",
    "        \"\"\"Posterior probabilities of classification\n",
    "        This function returns posterior probabilities of classification\n",
    "        according to each class on an array of test vectors X.\n",
    "        Parameters\n",
    "        ----------\n",
    "        X : array-like, shape (n_samples, n_features)\n",
    "            The samples.\n",
    "        Returns\n",
    "        -------\n",
    "        C : array, shape (n_samples, n_classes)\n",
    "            The predicted probas.\n",
    "        \"\"\"\n",
    "        check_is_fitted(self, [\"classes_\", \"calibrated_classifiers_\"])\n",
    "        # Compute the arithmetic mean of the predictions of the calibrated\n",
    "        # classifiers\n",
    "        df = df.reshape(-1, 1)\n",
    "        mean_proba = np.zeros((len(df), len(self.classes_)))\n",
    "        for calibrated_classifier in self.calibrated_classifiers_:\n",
    "            proba = calibrated_classifier.calibrate_scores(df)\n",
    "            mean_proba += proba\n",
    "\n",
    "        mean_proba /= len(self.calibrated_classifiers_)\n",
    "\n",
    "        return mean_proba\n",
    "\n",
    "    def predict(self, X):\n",
    "        \"\"\"Predict the target of new samples. Can be different from the\n",
    "        prediction of the uncalibrated classifier.\n",
    "        Parameters\n",
    "        ----------\n",
    "        X : array-like, shape (n_samples, n_features)\n",
    "            The samples.\n",
    "        Returns\n",
    "        -------\n",
    "        C : array, shape (n_samples,)\n",
    "            The predicted class.\n",
    "        \"\"\"\n",
    "        check_is_fitted(self, [\"classes_\", \"calibrated_classifiers_\"])\n",
    "        return self.classes_[np.argmax(self.predict_proba(X), axis=1)]\n",
    "\n",
    "\n",
    "class _CalibratedClassifier(object):\n",
    "    \"\"\"Probability calibration with isotonic regression or sigmoid.\n",
    "    It assumes that base_estimator has already been fit, and trains the\n",
    "    calibration on the input set of the fit function. Note that this class\n",
    "    should not be used as an estimator directly. Use CalibratedClassifierCV\n",
    "    with cv=\"prefit\" instead.\n",
    "    Parameters\n",
    "    ----------\n",
    "    base_estimator : instance BaseEstimator\n",
    "        The classifier whose output decision function needs to be calibrated\n",
    "        to offer more accurate predict_proba outputs. No default value since\n",
    "        it has to be an already fitted estimator.\n",
    "    method : 'sigmoid' | 'isotonic' | 'beta' | 'beta_am' | 'beta_ab'\n",
    "        The method to use for calibration. Can be 'sigmoid' which\n",
    "        corresponds to Platt's method, 'isotonic' which is a\n",
    "        non-parameteric approach based on isotonic regression or 'beta',\n",
    "        'beta_am' or 'beta_ab' which correspond to beta calibration methods.\n",
    "    References\n",
    "    ----------\n",
    "    .. [1] Obtaining calibrated probability estimates from decision trees\n",
    "           and naive Bayesian classifiers, B. Zadrozny & C. Elkan, ICML 2001\n",
    "    .. [2] Transforming Classifier Scores into Accurate Multiclass\n",
    "           Probability Estimates, B. Zadrozny & C. Elkan, (KDD 2002)\n",
    "    .. [3] Probabilistic Outputs for Support Vector Machines and Comparisons to\n",
    "           Regularized Likelihood Methods, J. Platt, (1999)\n",
    "    .. [4] Predicting Good Probabilities with Supervised Learning,\n",
    "           A. Niculescu-Mizil & R. Caruana, ICML 2005\n",
    "    \"\"\"\n",
    "    def __init__(self, base_estimator, method='beta',\n",
    "                 score_type=None):\n",
    "        self.base_estimator = base_estimator\n",
    "        self.method = method\n",
    "        self.score_type = score_type\n",
    "\n",
    "    def _preproc(self, X):\n",
    "        n_classes = len(self.classes_)\n",
    "        if self.score_type is None:\n",
    "            if hasattr(self.base_estimator, \"decision_function\"):\n",
    "                df = self.base_estimator.decision_function(X)\n",
    "                if df.ndim == 1:\n",
    "                    df = df[:, np.newaxis]\n",
    "            elif hasattr(self.base_estimator, \"predict_proba\"):\n",
    "                df = self.base_estimator.predict_proba(X)\n",
    "                if n_classes == 2:\n",
    "                    df = df[:, 1:]\n",
    "            else:\n",
    "                raise RuntimeError('classifier has no decision_function or '\n",
    "                                   'predict_proba method.')\n",
    "        else:\n",
    "            if self.score_type == \"sigmoid\":\n",
    "                df = self.base_estimator.decision_function(X)\n",
    "                df = expit(df)\n",
    "                if df.ndim == 1:\n",
    "                    df = df[:, np.newaxis]\n",
    "            else:\n",
    "                if hasattr(self.base_estimator, self.score_type):\n",
    "                    df = getattr(self.base_estimator, self.score_type)(X)\n",
    "                    if self.score_type == \"decision_function\":\n",
    "                        if df.ndim == 1:\n",
    "                            df = df[:, np.newaxis]\n",
    "                    elif self.score_type == \"predict_proba\":\n",
    "                        if n_classes == 2:\n",
    "                            df = df[:, 1:]\n",
    "                else:\n",
    "                    raise RuntimeError('classifier has no ' + self.score_type\n",
    "                                       + 'method.')\n",
    "\n",
    "        idx_pos_class = np.arange(df.shape[1])\n",
    "\n",
    "        return df, idx_pos_class\n",
    "\n",
    "    def fit(self, X, y, sample_weight=None):\n",
    "        \"\"\"Calibrate the fitted model\n",
    "        Parameters\n",
    "        ----------\n",
    "        X : array-like, shape (n_samples, n_features)\n",
    "            Training data.\n",
    "        y : array-like, shape (n_samples,)\n",
    "            Target values.\n",
    "        sample_weight : array-like, shape = [n_samples] or None\n",
    "            Sample weights. If None, then samples are equally weighted.\n",
    "        Returns\n",
    "        -------\n",
    "        self : object\n",
    "            Returns an instance of self.\n",
    "        \"\"\"\n",
    "        lb = LabelBinarizer()\n",
    "        Y = lb.fit_transform(y)\n",
    "        self.classes_ = lb.classes_\n",
    "\n",
    "        df, idx_pos_class = self._preproc(X)\n",
    "        self.calibrators_ = []\n",
    "\n",
    "        for k, this_df in zip(idx_pos_class, df.T):\n",
    "            if self.method is None:\n",
    "                calibrator = _DummyCalibration()\n",
    "            elif self.method == 'isotonic':\n",
    "                calibrator = IsotonicRegression(out_of_bounds='clip')\n",
    "            elif self.method == 'sigmoid':\n",
    "                calibrator = _SigmoidCalibration()\n",
    "            # TODO Remove BetaCalibration\n",
    "            elif self.method == 'beta':\n",
    "                calibrator = BetaCalibration(parameters=\"abm\")\n",
    "            elif self.method == 'beta_am':\n",
    "                calibrator = BetaCalibration(parameters=\"am\")\n",
    "            elif self.method == 'beta_ab':\n",
    "                calibrator = BetaCalibration(parameters=\"ab\")\n",
    "            else:\n",
    "                raise ValueError('method should be None, \"sigmoid\", '\n",
    "                                 '\"isotonic\", \"beta\", \"beta2\" or \"beta05\". '\n",
    "                                 'Got %s.' % self.method)\n",
    "            calibrator.fit(this_df, Y[:, k], sample_weight)\n",
    "            self.calibrators_.append(calibrator)\n",
    "\n",
    "        return self\n",
    "\n",
    "    def predict_proba(self, X):\n",
    "        \"\"\"Posterior probabilities of classification\n",
    "        This function returns posterior probabilities of classification\n",
    "        according to each class on an array of test vectors X.\n",
    "        Parameters\n",
    "        ----------\n",
    "        X : array-like, shape (n_samples, n_features)\n",
    "            The samples.\n",
    "        Returns\n",
    "        -------\n",
    "        C : array, shape (n_samples, n_classes)\n",
    "            The predicted probas. Can be exact zeros.\n",
    "        \"\"\"\n",
    "        n_classes = len(self.classes_)\n",
    "        proba = np.zeros((X.shape[0], n_classes))\n",
    "\n",
    "        df, idx_pos_class = self._preproc(X)\n",
    "        for k, this_df, calibrator in \\\n",
    "                zip(idx_pos_class, df.T, self.calibrators_):\n",
    "            if n_classes == 2:\n",
    "                k += 1\n",
    "            proba[:, k] = calibrator.predict(this_df)\n",
    "\n",
    "        # Normalize the probabilities\n",
    "        if n_classes == 2:\n",
    "            proba[:, 0] = 1. - proba[:, 1]\n",
    "        else:\n",
    "            proba /= np.sum(proba, axis=1)[:, np.newaxis]\n",
    "\n",
    "        # XXX : for some reason all probas can be 0\n",
    "        proba[np.isnan(proba)] = 1. / n_classes\n",
    "\n",
    "        # Deal with cases where the predicted probability minimally exceeds 1.0\n",
    "        proba[(1.0 < proba) & (proba <= 1.0 + 1e-5)] = 1.0\n",
    "\n",
    "        return proba\n",
    "\n",
    "    def calibrate_scores(self, df):\n",
    "        \"\"\"Posterior probabilities of classification\n",
    "        This function returns posterior probabilities of classification\n",
    "        according to each class on an array of test vectors X.\n",
    "        Parameters\n",
    "        ----------\n",
    "        X : array-like, shape (n_samples, n_features)\n",
    "            The samples.\n",
    "        Returns\n",
    "        -------\n",
    "        C : array, shape (n_samples, n_classes)\n",
    "            The predicted probas. Can be exact zeros.\n",
    "        \"\"\"\n",
    "        n_classes = len(self.classes_)\n",
    "        proba = np.zeros((len(df), n_classes))\n",
    "        idx_pos_class = [0]\n",
    "\n",
    "        for k, this_df, calibrator in \\\n",
    "                zip(idx_pos_class, df.T, self.calibrators_):\n",
    "            if n_classes == 2:\n",
    "                k += 1\n",
    "            pro = calibrator.predict(this_df)\n",
    "            if np.any(np.isnan(pro)):\n",
    "                pro[np.isnan(pro)] = calibrator.predict(this_df[np.isnan(\n",
    "                    pro)] + 1e-300)\n",
    "            proba[:, k] = pro\n",
    "\n",
    "        # Normalize the probabilities\n",
    "        if n_classes == 2:\n",
    "            proba[:, 0] = 1. - proba[:, 1]\n",
    "        else:\n",
    "            proba /= np.sum(proba, axis=1)[:, np.newaxis]\n",
    "\n",
    "        # XXX : for some reason all probas can be 0\n",
    "        proba[np.isnan(proba)] = 1. / n_classes\n",
    "\n",
    "        # Deal with cases where the predicted probability minimally exceeds 1.0\n",
    "        proba[(1.0 < proba) & (proba <= 1.0 + 1e-5)] = 1.0\n",
    "        return proba"
   ]
  },
  {
   "cell_type": "code",
   "execution_count": 43,
   "metadata": {},
   "outputs": [],
   "source": [
    "def plot_calibration_curve(y_true, y_prob, n_bins=5, ax=None, hist=True, normalize=False):\n",
    "    prob_true, prob_pred = calibration_curve(y_true, y_prob, n_bins=n_bins, normalize=normalize)\n",
    "    if ax is None:\n",
    "        ax = plt.gca()\n",
    "    if hist:\n",
    "        ax.hist(y_prob, weights=np.ones_like(y_prob) / len(y_prob), alpha=.4,\n",
    "               bins=np.maximum(10, n_bins))\n",
    "    ax.plot([0, 1], [0, 1], ':', c='k')\n",
    "    curve = ax.plot(prob_pred, prob_true, marker=\"o\")\n",
    "\n",
    "    ax.set_xlabel(\"predicted probability\")\n",
    "    ax.set_ylabel(\"fraction of positive samples\")\n",
    "\n",
    "    ax.set(aspect='equal')\n",
    "    return curve"
   ]
  },
  {
   "cell_type": "markdown",
   "metadata": {},
   "source": [
    "## 1. LR"
   ]
  },
  {
   "cell_type": "code",
   "execution_count": 44,
   "metadata": {},
   "outputs": [
    {
     "name": "stderr",
     "output_type": "stream",
     "text": [
      "/Users/jacinth/miniforge3/lib/python3.9/site-packages/sklearn/base.py:450: UserWarning: X does not have valid feature names, but LogisticRegression was fitted with feature names\n",
      "  warnings.warn(\n",
      "/Users/jacinth/miniforge3/lib/python3.9/site-packages/sklearn/base.py:450: UserWarning: X does not have valid feature names, but LogisticRegression was fitted with feature names\n",
      "  warnings.warn(\n",
      "/Users/jacinth/miniforge3/lib/python3.9/site-packages/sklearn/base.py:450: UserWarning: X does not have valid feature names, but LogisticRegression was fitted with feature names\n",
      "  warnings.warn(\n",
      "/Users/jacinth/miniforge3/lib/python3.9/site-packages/sklearn/base.py:450: UserWarning: X does not have valid feature names, but LogisticRegression was fitted with feature names\n",
      "  warnings.warn(\n"
     ]
    }
   ],
   "source": [
    "# sigmoid\n",
    "cal_lr_sigm = CalibratedClassifierCV(model, cv=\"prefit\", method='sigmoid')\n",
    "cal_lr_sigm.fit(X_test, y_test)\n",
    "scores_lr_sigm = cal_lr_sigm.predict_proba(X_test)\n",
    "\n",
    "# Cross-validated Calibration\n",
    "cal_lr_sigm_cv = CalibratedClassifierCV(model, method='sigmoid')\n",
    "cal_lr_sigm_cv.fit(X_train, y_train)\n",
    "scores_lr_sigm_cv = cal_lr_sigm_cv.predict_proba(X_test)\n",
    "\n",
    "# isotonic\n",
    "cal_lr_iso = CalibratedClassifierCV(model, cv=\"prefit\", method='isotonic')\n",
    "cal_lr_iso.fit(X_test, y_test)\n",
    "scores_lr_iso = cal_lr_iso.predict_proba(X_test)\n",
    "\n",
    "# Cross-validated Calibration\n",
    "cal_lr_iso_cv = CalibratedClassifierCV(model, method='isotonic')\n",
    "cal_lr_iso_cv.fit(X_train, y_train)\n",
    "scores_lr_iso_cv = cal_lr_iso_cv.predict_proba(X_test)\n",
    "\n",
    "# beta\n",
    "cal_lr_beta = CalibratedClassifierCV(model, method='beta')\n",
    "cal_lr_beta.fit(X_train, y_train)\n",
    "scores_lr_beta = cal_lr_beta.predict_proba(X_test)\n",
    "\n",
    "# Cross-validated Calibration\n",
    "cal_lr_beta_cv = CalibratedClassifierCV(model, cv=\"prefit\", method='beta')\n",
    "cal_lr_beta_cv.fit(X_test, y_test)\n",
    "scores_lr_beta_cv = cal_lr_beta_cv.predict_proba(X_test)"
   ]
  },
  {
   "cell_type": "code",
   "execution_count": 45,
   "metadata": {},
   "outputs": [
    {
     "data": {
      "image/png": "[encoded data removed]",
      "text/plain": [
       "<Figure size 720x288 with 4 Axes>"
      ]
     },
     "metadata": {
      "needs_background": "light"
     },
     "output_type": "display_data"
    }
   ],
   "source": [
    "fig, axes = plt.subplots(1, 4, figsize=(10, 4))\n",
    "\n",
    "for name, s, ax in zip(['no calibration', 'sigmoid', 'isotonic', 'beta'],\n",
    "                       [scores_lreg[:, 1], scores_lr_sigm[:, 1], scores_lr_iso[:, 1], scores_lr_beta[:, 1]], axes):\n",
    "    plot_calibration_curve(y_test, s, n_bins=20, ax=ax)\n",
    "    ax.set_title(\"{}: {:.3f}\".format(name, brier_score_loss(y_test, s)))\n",
    "plt.tight_layout()"
   ]
  },
  {
   "cell_type": "code",
   "execution_count": 46,
   "metadata": {},
   "outputs": [
    {
     "data": {
      "image/png": "[encoded data removed]",
      "text/plain": [
       "<Figure size 720x288 with 4 Axes>"
      ]
     },
     "metadata": {
      "needs_background": "light"
     },
     "output_type": "display_data"
    }
   ],
   "source": [
    "fig, axes = plt.subplots(1, 4, figsize=(10, 4))\n",
    "\n",
    "for name, s, ax in zip(['no calibration','sigmoid cv', 'isotonic cv','beta cv'],\n",
    "                       [scores_lreg[:, 1], scores_lr_sigm_cv[:, 1], scores_lr_iso_cv[:, 1], scores_lr_beta_cv[:, 1]], axes):\n",
    "    plot_calibration_curve(y_test, s, n_bins=20, ax=ax)\n",
    "    ax.set_title(\"{}: {:.3f}\".format(name, brier_score_loss(y_test, s)))\n",
    "plt.tight_layout()"
   ]
  },
  {
   "cell_type": "code",
   "execution_count": 47,
   "metadata": {},
   "outputs": [
    {
     "data": {
      "text/plain": [
       "0.9667"
      ]
     },
     "execution_count": 47,
     "metadata": {},
     "output_type": "execute_result"
    }
   ],
   "source": [
    "pECE(y_test, scores_lr_sigm[:,1])"
   ]
  },
  {
   "cell_type": "code",
   "execution_count": 48,
   "metadata": {},
   "outputs": [
    {
     "data": {
      "text/plain": [
       "0.8814"
      ]
     },
     "execution_count": 48,
     "metadata": {},
     "output_type": "execute_result"
    }
   ],
   "source": [
    "pECE(y_test, scores_lr_sigm_cv[:,1])"
   ]
  },
  {
   "cell_type": "code",
   "execution_count": 49,
   "metadata": {},
   "outputs": [
    {
     "data": {
      "text/plain": [
       "1.0"
      ]
     },
     "execution_count": 49,
     "metadata": {},
     "output_type": "execute_result"
    }
   ],
   "source": [
    "pECE(y_test, scores_lr_iso[:,1])"
   ]
  },
  {
   "cell_type": "code",
   "execution_count": 50,
   "metadata": {},
   "outputs": [
    {
     "data": {
      "text/plain": [
       "0.857"
      ]
     },
     "execution_count": 50,
     "metadata": {},
     "output_type": "execute_result"
    }
   ],
   "source": [
    "pECE(y_test, scores_lr_iso_cv[:,1])"
   ]
  },
  {
   "cell_type": "code",
   "execution_count": 51,
   "metadata": {},
   "outputs": [
    {
     "data": {
      "text/plain": [
       "0.49534999999999996"
      ]
     },
     "execution_count": 51,
     "metadata": {},
     "output_type": "execute_result"
    }
   ],
   "source": [
    "pECE(y_test, scores_lr_beta[:,1])"
   ]
  },
  {
   "cell_type": "code",
   "execution_count": 52,
   "metadata": {},
   "outputs": [
    {
     "data": {
      "text/plain": [
       "0.99695"
      ]
     },
     "execution_count": 52,
     "metadata": {},
     "output_type": "execute_result"
    }
   ],
   "source": [
    "pECE(y_test, scores_lr_beta_cv[:,1])"
   ]
  },
  {
   "cell_type": "code",
   "execution_count": 53,
   "metadata": {},
   "outputs": [
    {
     "data": {
      "image/png": "[encoded data removed]",
      "text/plain": [
       "<Figure size 288x288 with 2 Axes>"
      ]
     },
     "metadata": {
      "needs_background": "light"
     },
     "output_type": "display_data"
    }
   ],
   "source": [
    "fig = pycalib.visualisations.plot_reliability_diagram(y_test.values,\n",
    "                                                [scores_lr_beta, ],\n",
    "                                                legend=None,\n",
    "                                                show_histogram=True,\n",
    "                                                bins=10,\n",
    "                                                class_names=[\"0\",\"1\"],\n",
    "                                                fig=None,\n",
    "                                                show_counts=False,\n",
    "                                                errorbar_interval=None,\n",
    "                                                interval_method='beta',\n",
    "                                                fmt='s-',\n",
    "                                                show_correction=False,\n",
    "                                                show_gaps=True,\n",
    "                                                sample_proportion=0,\n",
    "                                                hist_per_class=False,\n",
    "                                                color_list=None,\n",
    "                                                show_bars=True,\n",
    "                                                invert_histogram=False,\n",
    "                                                color_gaps='lightcoral',\n",
    "                                                confidence=False)"
   ]
  },
  {
   "cell_type": "code",
   "execution_count": 54,
   "metadata": {},
   "outputs": [
    {
     "data": {
      "image/png": "[encoded data removed]",
      "text/plain": [
       "<Figure size 288x288 with 2 Axes>"
      ]
     },
     "metadata": {
      "needs_background": "light"
     },
     "output_type": "display_data"
    }
   ],
   "source": [
    "fig = pycalib.visualisations.plot_reliability_diagram(y_test.values,\n",
    "                                                [scores_lr_beta_cv, ],\n",
    "                                                legend=None,\n",
    "                                                show_histogram=True,\n",
    "                                                bins=10,\n",
    "                                                class_names=[\"0\",\"1\"],\n",
    "                                                fig=None,\n",
    "                                                show_counts=False,\n",
    "                                                errorbar_interval=None,\n",
    "                                                interval_method='beta',\n",
    "                                                fmt='s-',\n",
    "                                                show_correction=False,\n",
    "                                                show_gaps=True,\n",
    "                                                sample_proportion=0,\n",
    "                                                hist_per_class=False,\n",
    "                                                color_list=None,\n",
    "                                                show_bars=True,\n",
    "                                                invert_histogram=False,\n",
    "                                                color_gaps='lightcoral',\n",
    "                                                confidence=False)"
   ]
  },
  {
   "cell_type": "code",
   "execution_count": 55,
   "metadata": {},
   "outputs": [
    {
     "data": {
      "image/png": "[encoded data removed]",
      "text/plain": [
       "<Figure size 288x288 with 2 Axes>"
      ]
     },
     "metadata": {
      "needs_background": "light"
     },
     "output_type": "display_data"
    }
   ],
   "source": [
    "fig = pycalib.visualisations.plot_reliability_diagram(y_test.values,\n",
    "                                                [scores_lr_iso, ],\n",
    "                                                legend=None,\n",
    "                                                show_histogram=True,\n",
    "                                                bins=10,\n",
    "                                                class_names=[\"0\",\"1\"],\n",
    "                                                fig=None,\n",
    "                                                show_counts=False,\n",
    "                                                errorbar_interval=None,\n",
    "                                                interval_method='beta',\n",
    "                                                fmt='s-',\n",
    "                                                show_correction=False,\n",
    "                                                show_gaps=True,\n",
    "                                                sample_proportion=0,\n",
    "                                                hist_per_class=False,\n",
    "                                                color_list=None,\n",
    "                                                show_bars=True,\n",
    "                                                invert_histogram=False,\n",
    "                                                color_gaps='lightcoral',\n",
    "                                                confidence=False)"
   ]
  },
  {
   "cell_type": "code",
   "execution_count": 56,
   "metadata": {},
   "outputs": [
    {
     "data": {
      "image/png": "[encoded data removed]",
      "text/plain": [
       "<Figure size 288x288 with 2 Axes>"
      ]
     },
     "metadata": {
      "needs_background": "light"
     },
     "output_type": "display_data"
    }
   ],
   "source": [
    "fig = pycalib.visualisations.plot_reliability_diagram(y_test.values,\n",
    "                                                [scores_lr_iso_cv, ],\n",
    "                                                legend=None,\n",
    "                                                show_histogram=True,\n",
    "                                                bins=10,\n",
    "                                                class_names=[\"0\",\"1\"],\n",
    "                                                fig=None,\n",
    "                                                show_counts=False,\n",
    "                                                errorbar_interval=None,\n",
    "                                                interval_method='beta',\n",
    "                                                fmt='s-',\n",
    "                                                show_correction=False,\n",
    "                                                show_gaps=True,\n",
    "                                                sample_proportion=0,\n",
    "                                                hist_per_class=False,\n",
    "                                                color_list=None,\n",
    "                                                show_bars=True,\n",
    "                                                invert_histogram=False,\n",
    "                                                color_gaps='lightcoral',\n",
    "                                                confidence=False)"
   ]
  },
  {
   "cell_type": "code",
   "execution_count": 57,
   "metadata": {},
   "outputs": [
    {
     "data": {
      "image/png": "[encoded data removed]",
      "text/plain": [
       "<Figure size 288x288 with 2 Axes>"
      ]
     },
     "metadata": {
      "needs_background": "light"
     },
     "output_type": "display_data"
    }
   ],
   "source": [
    "fig = pycalib.visualisations.plot_reliability_diagram(y_test.values,\n",
    "                                                [scores_lr_sigm, ],\n",
    "                                                legend=None,\n",
    "                                                show_histogram=True,\n",
    "                                                bins=10,\n",
    "                                                class_names=[\"0\",\"1\"],\n",
    "                                                fig=None,\n",
    "                                                show_counts=False,\n",
    "                                                errorbar_interval=None,\n",
    "                                                interval_method='beta',\n",
    "                                                fmt='s-',\n",
    "                                                show_correction=False,\n",
    "                                                show_gaps=True,\n",
    "                                                sample_proportion=0,\n",
    "                                                hist_per_class=False,\n",
    "                                                color_list=None,\n",
    "                                                show_bars=True,\n",
    "                                                invert_histogram=False,\n",
    "                                                color_gaps='lightcoral',\n",
    "                                                confidence=False)"
   ]
  },
  {
   "cell_type": "code",
   "execution_count": 58,
   "metadata": {},
   "outputs": [
    {
     "data": {
      "image/png": "[encoded data removed]",
      "text/plain": [
       "<Figure size 288x288 with 2 Axes>"
      ]
     },
     "metadata": {
      "needs_background": "light"
     },
     "output_type": "display_data"
    }
   ],
   "source": [
    "fig = pycalib.visualisations.plot_reliability_diagram(y_test.values,\n",
    "                                                [scores_lr_sigm_cv, ],\n",
    "                                                legend=None,\n",
    "                                                show_histogram=True,\n",
    "                                                bins=10,\n",
    "                                                class_names=[\"0\",\"1\"],\n",
    "                                                fig=None,\n",
    "                                                show_counts=False,\n",
    "                                                errorbar_interval=None,\n",
    "                                                interval_method='beta',\n",
    "                                                fmt='s-',\n",
    "                                                show_correction=False,\n",
    "                                                show_gaps=True,\n",
    "                                                sample_proportion=0,\n",
    "                                                hist_per_class=False,\n",
    "                                                color_list=None,\n",
    "                                                show_bars=True,\n",
    "                                                invert_histogram=False,\n",
    "                                                color_gaps='lightcoral',\n",
    "                                                confidence=False)"
   ]
  },
  {
   "cell_type": "markdown",
   "metadata": {},
   "source": [
    "## 2. SVM"
   ]
  },
  {
   "cell_type": "code",
   "execution_count": 59,
   "metadata": {},
   "outputs": [],
   "source": [
    "# sigmoid\n",
    "cal_svm_sigm = CalibratedClassifierCV(model2, cv=\"prefit\", method='sigmoid')\n",
    "cal_svm_sigm.fit(X_test, y_test)\n",
    "scores_svm_sigm = cal_svm_sigm.predict_proba(X_test)\n",
    "\n",
    "# Cross-validated Calibration\n",
    "cal_svm_sigm_cv = CalibratedClassifierCV(model2, method='sigmoid')\n",
    "cal_svm_sigm_cv.fit(X_train, y_train)\n",
    "scores_svm_sigm_cv = cal_svm_sigm_cv.predict_proba(X_test)\n",
    "\n",
    "# isotonic\n",
    "cal_svm_iso = CalibratedClassifierCV(model2, cv=\"prefit\", method='isotonic')\n",
    "cal_svm_iso.fit(X_test, y_test)\n",
    "scores_svm_iso = cal_svm_iso.predict_proba(X_test)\n",
    "\n",
    "# Cross-validated Calibration\n",
    "cal_svm_iso_cv = CalibratedClassifierCV(model2, method='isotonic')\n",
    "cal_svm_iso_cv.fit(X_train, y_train)\n",
    "scores_svm_iso_cv = cal_svm_iso_cv.predict_proba(X_test)\n",
    "\n",
    "# beta\n",
    "cal_svm_beta = CalibratedClassifierCV(model2, method='beta')\n",
    "cal_svm_beta.fit(X_train, y_train)\n",
    "scores_svm_beta = cal_svm_beta.predict_proba(X_test)\n",
    "\n",
    "# Cross-validated Calibration\n",
    "cal_svm_beta_cv = CalibratedClassifierCV(model2, cv=\"prefit\", method='beta')\n",
    "cal_svm_beta_cv.fit(X_test, y_test)\n",
    "scores_svm_beta_cv = cal_svm_beta_cv.predict_proba(X_test)"
   ]
  },
  {
   "cell_type": "code",
   "execution_count": 60,
   "metadata": {},
   "outputs": [
    {
     "data": {
      "image/png": "[encoded data removed]",
      "text/plain": [
       "<Figure size 720x288 with 4 Axes>"
      ]
     },
     "metadata": {
      "needs_background": "light"
     },
     "output_type": "display_data"
    }
   ],
   "source": [
    "fig, axes = plt.subplots(1, 4, figsize=(10, 4))\n",
    "\n",
    "for name, s, ax in zip(['no calibration', 'sigmoid', 'isotonic', 'beta'],\n",
    "                       [scores_svm[:, 1], scores_svm_sigm[:, 1], scores_svm_iso[:, 1], scores_svm_beta[:, 1]], axes):\n",
    "    plot_calibration_curve(y_test, s, n_bins=20, ax=ax)\n",
    "    ax.set_title(\"{}: {:.3f}\".format(name, brier_score_loss(y_test, s)))\n",
    "plt.tight_layout()"
   ]
  },
  {
   "cell_type": "code",
   "execution_count": 61,
   "metadata": {},
   "outputs": [
    {
     "data": {
      "image/png": "[encoded data removed]",
      "text/plain": [
       "<Figure size 720x288 with 4 Axes>"
      ]
     },
     "metadata": {
      "needs_background": "light"
     },
     "output_type": "display_data"
    }
   ],
   "source": [
    "fig, axes = plt.subplots(1, 4, figsize=(10, 4))\n",
    "\n",
    "for name, s, ax in zip(['no calibration', 'sigmoid cv', 'isotonic cv', 'beta cv'],\n",
    "                       [scores_svm[:, 1], scores_svm_sigm_cv[:, 1], scores_svm_iso_cv[:, 1], scores_svm_beta_cv[:, 1]], axes):\n",
    "    plot_calibration_curve(y_test, s, n_bins=20, ax=ax)\n",
    "    ax.set_title(\"{}: {:.3f}\".format(name, brier_score_loss(y_test, s)))\n",
    "plt.tight_layout()"
   ]
  },
  {
   "cell_type": "code",
   "execution_count": 62,
   "metadata": {},
   "outputs": [
    {
     "data": {
      "text/plain": [
       "0.6087"
      ]
     },
     "execution_count": 62,
     "metadata": {},
     "output_type": "execute_result"
    }
   ],
   "source": [
    "pECE(y_test, scores_svm_sigm[:,1])"
   ]
  },
  {
   "cell_type": "code",
   "execution_count": 63,
   "metadata": {},
   "outputs": [
    {
     "data": {
      "text/plain": [
       "0.09284999999999999"
      ]
     },
     "execution_count": 63,
     "metadata": {},
     "output_type": "execute_result"
    }
   ],
   "source": [
    "pECE(y_test, scores_svm_sigm_cv[:,1])"
   ]
  },
  {
   "cell_type": "code",
   "execution_count": 64,
   "metadata": {},
   "outputs": [
    {
     "data": {
      "text/plain": [
       "0.9998"
      ]
     },
     "execution_count": 64,
     "metadata": {},
     "output_type": "execute_result"
    }
   ],
   "source": [
    "pECE(y_test, scores_svm_iso[:,1])"
   ]
  },
  {
   "cell_type": "code",
   "execution_count": 65,
   "metadata": {},
   "outputs": [
    {
     "data": {
      "text/plain": [
       "0.84865"
      ]
     },
     "execution_count": 65,
     "metadata": {},
     "output_type": "execute_result"
    }
   ],
   "source": [
    "pECE(y_test, scores_svm_iso_cv[:,1])"
   ]
  },
  {
   "cell_type": "code",
   "execution_count": 66,
   "metadata": {},
   "outputs": [
    {
     "data": {
      "text/plain": [
       "0.5392"
      ]
     },
     "execution_count": 66,
     "metadata": {},
     "output_type": "execute_result"
    }
   ],
   "source": [
    "pECE(y_test, scores_svm_beta[:,1])"
   ]
  },
  {
   "cell_type": "code",
   "execution_count": 67,
   "metadata": {},
   "outputs": [
    {
     "data": {
      "text/plain": [
       "0.99625"
      ]
     },
     "execution_count": 67,
     "metadata": {},
     "output_type": "execute_result"
    }
   ],
   "source": [
    "pECE(y_test, scores_svm_beta_cv[:,1])"
   ]
  },
  {
   "cell_type": "code",
   "execution_count": 68,
   "metadata": {},
   "outputs": [
    {
     "data": {
      "image/png": "[encoded data removed]",
      "text/plain": [
       "<Figure size 288x288 with 2 Axes>"
      ]
     },
     "metadata": {
      "needs_background": "light"
     },
     "output_type": "display_data"
    }
   ],
   "source": [
    "fig = pycalib.visualisations.plot_reliability_diagram(y_test.values,\n",
    "                                                [scores_svm_beta, ],\n",
    "                                                legend=None,\n",
    "                                                show_histogram=True,\n",
    "                                                bins=10,\n",
    "                                                class_names=[\"0\",\"1\"],\n",
    "                                                fig=None,\n",
    "                                                show_counts=False,\n",
    "                                                errorbar_interval=None,\n",
    "                                                interval_method='beta',\n",
    "                                                fmt='s-',\n",
    "                                                show_correction=False,\n",
    "                                                show_gaps=True,\n",
    "                                                sample_proportion=0,\n",
    "                                                hist_per_class=False,\n",
    "                                                color_list=None,\n",
    "                                                show_bars=True,\n",
    "                                                invert_histogram=False,\n",
    "                                                color_gaps='lightcoral',\n",
    "                                                confidence=False)"
   ]
  },
  {
   "cell_type": "code",
   "execution_count": 69,
   "metadata": {},
   "outputs": [
    {
     "data": {
      "image/png": "[encoded data removed]",
      "text/plain": [
       "<Figure size 288x288 with 2 Axes>"
      ]
     },
     "metadata": {
      "needs_background": "light"
     },
     "output_type": "display_data"
    }
   ],
   "source": [
    "fig = pycalib.visualisations.plot_reliability_diagram(y_test.values,\n",
    "                                                [scores_svm_beta_cv, ],\n",
    "                                                legend=None,\n",
    "                                                show_histogram=True,\n",
    "                                                bins=10,\n",
    "                                                class_names=[\"0\",\"1\"],\n",
    "                                                fig=None,\n",
    "                                                show_counts=False,\n",
    "                                                errorbar_interval=None,\n",
    "                                                interval_method='beta',\n",
    "                                                fmt='s-',\n",
    "                                                show_correction=False,\n",
    "                                                show_gaps=True,\n",
    "                                                sample_proportion=0,\n",
    "                                                hist_per_class=False,\n",
    "                                                color_list=None,\n",
    "                                                show_bars=True,\n",
    "                                                invert_histogram=False,\n",
    "                                                color_gaps='lightcoral',\n",
    "                                                confidence=False)"
   ]
  },
  {
   "cell_type": "code",
   "execution_count": 70,
   "metadata": {},
   "outputs": [
    {
     "data": {
      "image/png": "[encoded data removed]",
      "text/plain": [
       "<Figure size 288x288 with 2 Axes>"
      ]
     },
     "metadata": {
      "needs_background": "light"
     },
     "output_type": "display_data"
    }
   ],
   "source": [
    "fig = pycalib.visualisations.plot_reliability_diagram(y_test.values,\n",
    "                                                [scores_svm_iso, ],\n",
    "                                                legend=None,\n",
    "                                                show_histogram=True,\n",
    "                                                bins=10,\n",
    "                                                class_names=[\"0\",\"1\"],\n",
    "                                                fig=None,\n",
    "                                                show_counts=False,\n",
    "                                                errorbar_interval=None,\n",
    "                                                interval_method='beta',\n",
    "                                                fmt='s-',\n",
    "                                                show_correction=False,\n",
    "                                                show_gaps=True,\n",
    "                                                sample_proportion=0,\n",
    "                                                hist_per_class=False,\n",
    "                                                color_list=None,\n",
    "                                                show_bars=True,\n",
    "                                                invert_histogram=False,\n",
    "                                                color_gaps='lightcoral',\n",
    "                                                confidence=False)"
   ]
  },
  {
   "cell_type": "code",
   "execution_count": 71,
   "metadata": {},
   "outputs": [
    {
     "data": {
      "image/png": "[encoded data removed]",
      "text/plain": [
       "<Figure size 288x288 with 2 Axes>"
      ]
     },
     "metadata": {
      "needs_background": "light"
     },
     "output_type": "display_data"
    }
   ],
   "source": [
    "fig = pycalib.visualisations.plot_reliability_diagram(y_test.values,\n",
    "                                                [scores_svm_iso_cv, ],\n",
    "                                                legend=None,\n",
    "                                                show_histogram=True,\n",
    "                                                bins=10,\n",
    "                                                class_names=[\"0\",\"1\"],\n",
    "                                                fig=None,\n",
    "                                                show_counts=False,\n",
    "                                                errorbar_interval=None,\n",
    "                                                interval_method='beta',\n",
    "                                                fmt='s-',\n",
    "                                                show_correction=False,\n",
    "                                                show_gaps=True,\n",
    "                                                sample_proportion=0,\n",
    "                                                hist_per_class=False,\n",
    "                                                color_list=None,\n",
    "                                                show_bars=True,\n",
    "                                                invert_histogram=False,\n",
    "                                                color_gaps='lightcoral',\n",
    "                                                confidence=False)"
   ]
  },
  {
   "cell_type": "code",
   "execution_count": 72,
   "metadata": {},
   "outputs": [
    {
     "data": {
      "image/png": "[encoded data removed]",
      "text/plain": [
       "<Figure size 288x288 with 2 Axes>"
      ]
     },
     "metadata": {
      "needs_background": "light"
     },
     "output_type": "display_data"
    }
   ],
   "source": [
    "fig = pycalib.visualisations.plot_reliability_diagram(y_test.values,\n",
    "                                                [scores_svm_sigm, ],\n",
    "                                                legend=None,\n",
    "                                                show_histogram=True,\n",
    "                                                bins=10,\n",
    "                                                class_names=[\"0\",\"1\"],\n",
    "                                                fig=None,\n",
    "                                                show_counts=False,\n",
    "                                                errorbar_interval=None,\n",
    "                                                interval_method='beta',\n",
    "                                                fmt='s-',\n",
    "                                                show_correction=False,\n",
    "                                                show_gaps=True,\n",
    "                                                sample_proportion=0,\n",
    "                                                hist_per_class=False,\n",
    "                                                color_list=None,\n",
    "                                                show_bars=True,\n",
    "                                                invert_histogram=False,\n",
    "                                                color_gaps='lightcoral',\n",
    "                                                confidence=False)"
   ]
  },
  {
   "cell_type": "code",
   "execution_count": 73,
   "metadata": {},
   "outputs": [
    {
     "data": {
      "image/png": "[encoded data removed]",
      "text/plain": [
       "<Figure size 288x288 with 2 Axes>"
      ]
     },
     "metadata": {
      "needs_background": "light"
     },
     "output_type": "display_data"
    }
   ],
   "source": [
    "fig = pycalib.visualisations.plot_reliability_diagram(y_test.values,\n",
    "                                                [scores_svm_sigm_cv, ],\n",
    "                                                legend=None,\n",
    "                                                show_histogram=True,\n",
    "                                                bins=10,\n",
    "                                                class_names=[\"0\",\"1\"],\n",
    "                                                fig=None,\n",
    "                                                show_counts=False,\n",
    "                                                errorbar_interval=None,\n",
    "                                                interval_method='beta',\n",
    "                                                fmt='s-',\n",
    "                                                show_correction=False,\n",
    "                                                show_gaps=True,\n",
    "                                                sample_proportion=0,\n",
    "                                                hist_per_class=False,\n",
    "                                                color_list=None,\n",
    "                                                show_bars=True,\n",
    "                                                invert_histogram=False,\n",
    "                                                color_gaps='lightcoral',\n",
    "                                                confidence=False)"
   ]
  }
 ],
 "metadata": {
  "kernelspec": {
   "display_name": "Python 3 (ipykernel)",
   "language": "python",
   "name": "python3"
  },
  "language_info": {
   "codemirror_mode": {
    "name": "ipython",
    "version": 3
   },
   "file_extension": ".py",
   "mimetype": "text/x-python",
   "name": "python",
   "nbconvert_exporter": "python",
   "pygments_lexer": "ipython3",
   "version": "3.9.7"
  }
 },
 "nbformat": 4,
 "nbformat_minor": 4
}
